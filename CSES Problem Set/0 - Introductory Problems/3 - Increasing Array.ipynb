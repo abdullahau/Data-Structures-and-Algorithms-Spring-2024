{
 "cells": [
  {
   "cell_type": "markdown",
   "metadata": {},
   "source": [
    "# Increasing Array"
   ]
  },
  {
   "cell_type": "markdown",
   "metadata": {},
   "source": [
    "-   **Time limit:** 1.00 s\n",
    "-   **Memory limit:** 512 MB\n",
    "\n",
    "You are given an array of $n$ integers. You want to modify the array so that it is increasing, i.e., every element is at least as large as the previous element.\n",
    "\n",
    "On each move, you may increase the value of any element by one. What is the minimum number of moves required?\n",
    "\n",
    "## Input\n",
    "\n",
    "The first input line contains an integer $n$: the size of the array.\n",
    "\n",
    "Then, the second line contains $n$ integers $x_1,x_2,\\ldots,x_n$: the contents of the array.\n",
    "\n",
    "## Output\n",
    "\n",
    "Print the minimum number of moves.\n",
    "\n",
    "## Constraints\n",
    "\n",
    "-   $1 \\le n \\le 2 \\cdot 10^5$\n",
    "-   $1 \\le x_i \\le 10^9$\n",
    "\n",
    "## Example\n",
    "\n",
    "Input:\n",
    "\n",
    "```\n",
    "5\n",
    "3 2 5 1 7\n",
    "```\n",
    "\n",
    "Output:\n",
    "\n",
    "```\n",
    "5\n",
    "```"
   ]
  },
  {
   "cell_type": "markdown",
   "metadata": {},
   "source": [
    "## Attempt 1"
   ]
  },
  {
   "cell_type": "code",
   "execution_count": null,
   "metadata": {},
   "outputs": [],
   "source": [
    "n = int(input())\n",
    "l = list(map(int, input().split(\" \")))\n",
    " \n",
    "move = 0\n",
    "for i in range(1, n):\n",
    "    if l[i] < l[i-1]:\n",
    "        move += l[i-1] - l[i]\n",
    "        l[i] += l[i-1] - l[i]\n",
    " \n",
    "print(move)"
   ]
  },
  {
   "cell_type": "code",
   "execution_count": null,
   "metadata": {},
   "outputs": [],
   "source": [
    "n = int(input())\n",
    "l = input().split(\" \")\n",
    " \n",
    "move = 0\n",
    "l[0] = int(l[0])\n",
    "for i in range(1, n):\n",
    "    l[i] = int(l[i])\n",
    "    if l[i] < l[i-1]:\n",
    "        move += l[i-1] - l[i]\n",
    "        l[i] += l[i-1] - l[i]\n",
    " \n",
    "print(move)"
   ]
  },
  {
   "cell_type": "code",
   "execution_count": null,
   "metadata": {},
   "outputs": [],
   "source": [
    "n = int(input())\n",
    "l = list(map(int, input().split(\" \")))\n",
    " \n",
    "m = 0\n",
    "for i in range(1, n):\n",
    "    if l[i] < l[i-1]:\n",
    "        d = l[i-1] - l[i]\n",
    "        m += d\n",
    "        l[i] += d\n",
    " \n",
    "print(m)"
   ]
  },
  {
   "cell_type": "markdown",
   "metadata": {},
   "source": [
    "## Other Implementation"
   ]
  },
  {
   "cell_type": "code",
   "execution_count": null,
   "metadata": {},
   "outputs": [],
   "source": [
    "input()\n",
    "mov, cur = 0, 0\n",
    "for val in input().split(' '):\n",
    "    val = int(val)\n",
    "    if val < cur:\n",
    "        mov += cur - val\n",
    "    else:\n",
    "        cur = val\n",
    "print(mov)"
   ]
  }
 ],
 "metadata": {
  "language_info": {
   "name": "python"
  }
 },
 "nbformat": 4,
 "nbformat_minor": 2
}
