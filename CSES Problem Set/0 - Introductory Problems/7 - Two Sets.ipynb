{
 "cells": [
  {
   "cell_type": "markdown",
   "metadata": {},
   "source": [
    "# Two Sets"
   ]
  },
  {
   "cell_type": "markdown",
   "metadata": {},
   "source": [
    "-   **Time limit:** 1.00 s\n",
    "-   **Memory limit:** 512 MB\n",
    "\n",
    "Your task is to divide the numbers $1,2,\\ldots,n$ into two sets of equal sum.\n",
    "\n",
    "## Input\n",
    "\n",
    "The only input line contains an integer $n$.\n",
    "\n",
    "## Output\n",
    "\n",
    "Print \"YES\", if the division is possible, and \"NO\" otherwise.\n",
    "\n",
    "After this, if the division is possible, print an example of how to create the sets. First, print the number of elements in the first set followed by the elements themselves in a separate line, and then, print the second set in a similar way.\n",
    "\n",
    "## Constraints\n",
    "\n",
    "-   $1 \\le n \\le 10^6$\n",
    "\n",
    "## Example 1\n",
    "\n",
    "Input:\n",
    "\n",
    "```\n",
    "7\n",
    "```\n",
    "\n",
    "Output:\n",
    "\n",
    "```\n",
    "YES\n",
    "4\n",
    "1 2 4 7\n",
    "3\n",
    "3 5 6\n",
    "```\n",
    "\n",
    "## Example 2\n",
    "\n",
    "Input:\n",
    "\n",
    "```\n",
    "6\n",
    "```\n",
    "\n",
    "Output:\n",
    "\n",
    "```\n",
    "NO\n",
    "```"
   ]
  },
  {
   "cell_type": "markdown",
   "metadata": {},
   "source": [
    "## Attempt 1"
   ]
  },
  {
   "cell_type": "code",
   "execution_count": 107,
   "metadata": {},
   "outputs": [
    {
     "name": "stdout",
     "output_type": "stream",
     "text": [
      "YES\n",
      "4\n",
      "1 2 4 7\n",
      "3\n",
      "3 5 6\n"
     ]
    }
   ],
   "source": [
    "n = int(input())\n",
    "s = n*(n+1)//2\n",
    "\n",
    "if s % 2 == 0:\n",
    "    print(\"YES\")\n",
    "    ss = s//2\n",
    "    balance = ss - (1 + n)\n",
    "    d = 1-(4*(-balance*2 - 2))\n",
    "    i = (-1+(d**(1/2)))/(2)\n",
    "    if i > float(int(i)):\n",
    "        s1 = set(range(1,int(i)))\n",
    "        s1.add(int(i)+1)\n",
    "        s1.add(n)\n",
    "        print(len(s1))\n",
    "        print(*s1)\n",
    "    else:\n",
    "        s1 = set(range(1,int(i)+1))\n",
    "        s1.add(n)\n",
    "        print(len(s1))\n",
    "        print(*s1)\n",
    "    s2 = set(range(1,n+1)) - s1\n",
    "    print(len(s2))\n",
    "    print(*s2)\n",
    "else:\n",
    "    print(\"NO\")"
   ]
  },
  {
   "cell_type": "code",
   "execution_count": 110,
   "metadata": {},
   "outputs": [
    {
     "name": "stdout",
     "output_type": "stream",
     "text": [
      "YES\n",
      "462177.5736580328\n",
      "462178\n",
      "106804674374\n",
      "191442\n",
      "106805204636\n"
     ]
    }
   ],
   "source": [
    "n = int(input())\n",
    "s = n*(n+1)//2\n",
    "\n",
    "if s % 2 == 0:\n",
    "    print(\"YES\")\n",
    "    ss = s//2\n",
    "    balance = ss - (1 + n)\n",
    "    d = 1-(4*(-balance*2 - 2))\n",
    "    i = (-1+(d**(1/2)))/(2)\n",
    "    print(i)\n",
    "    if i > float(int(i)):\n",
    "        s1 = set(range(1,int(i)))\n",
    "        s1.add(int(i)+1)\n",
    "        s1.add(n)\n",
    "        print(len(s1))\n",
    "        print(sum(s1))\n",
    "    else:\n",
    "        s1 = set(range(1,int(i)+1))\n",
    "        s1.add(n)\n",
    "        print(len(s1))\n",
    "        print(sum(s1))\n",
    "    s2 = set(range(1,n+1)) - s1\n",
    "    print(len(s2))\n",
    "    print(sum(s2))\n",
    "else:\n",
    "    print(\"NO\")"
   ]
  },
  {
   "cell_type": "code",
   "execution_count": 14,
   "metadata": {},
   "outputs": [
    {
     "name": "stdout",
     "output_type": "stream",
     "text": [
      "YES\n",
      "6\n",
      "1 2 3 4 5 12\n",
      "6\n",
      "6 7 8 9 10 11\n"
     ]
    }
   ],
   "source": [
    "n = int(input())\n",
    "s = n*(n+1)//2\n",
    "\n",
    "if s % 2 == 0:\n",
    "    print(\"YES\")\n",
    "    ss = s//2\n",
    "    balance = ss - (1 + n)\n",
    "    d = 1-(4*(-balance*2 - 2))\n",
    "    i = (-1+(d**(1/2)))/(2)\n",
    "    s1 = set(range(1,int(i)))\n",
    "    s1.add(n)\n",
    "    s1.add(ss - sum(s1))\n",
    "    print(len(s1))\n",
    "    print(*s1)\n",
    "    s2 = set(range(1,n+1)) - s1\n",
    "    print(len(s2))\n",
    "    print(*s2)\n",
    "else:\n",
    "    print(\"NO\")"
   ]
  }
 ],
 "metadata": {
  "kernelspec": {
   "display_name": "Python 3",
   "language": "python",
   "name": "python3"
  },
  "language_info": {
   "codemirror_mode": {
    "name": "ipython",
    "version": 3
   },
   "file_extension": ".py",
   "mimetype": "text/x-python",
   "name": "python",
   "nbconvert_exporter": "python",
   "pygments_lexer": "ipython3",
   "version": "3.12.4"
  }
 },
 "nbformat": 4,
 "nbformat_minor": 2
}
