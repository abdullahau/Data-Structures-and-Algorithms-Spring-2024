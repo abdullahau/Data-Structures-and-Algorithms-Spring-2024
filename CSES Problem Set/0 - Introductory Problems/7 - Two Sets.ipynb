{
 "cells": [
  {
   "cell_type": "markdown",
   "metadata": {},
   "source": [
    "# Two Sets"
   ]
  },
  {
   "cell_type": "markdown",
   "metadata": {},
   "source": [
    "-   **Time limit:** 1.00 s\n",
    "-   **Memory limit:** 512 MB\n",
    "\n",
    "Your task is to divide the numbers $1,2,\\ldots,n$ into two sets of equal sum.\n",
    "\n",
    "## Input\n",
    "\n",
    "The only input line contains an integer $n$.\n",
    "\n",
    "## Output\n",
    "\n",
    "Print \"YES\", if the division is possible, and \"NO\" otherwise.\n",
    "\n",
    "After this, if the division is possible, print an example of how to create the sets. First, print the number of elements in the first set followed by the elements themselves in a separate line, and then, print the second set in a similar way.\n",
    "\n",
    "## Constraints\n",
    "\n",
    "-   $1 \\le n \\le 10^6$\n",
    "\n",
    "## Example 1\n",
    "\n",
    "Input:\n",
    "\n",
    "```\n",
    "7\n",
    "```\n",
    "\n",
    "Output:\n",
    "\n",
    "```\n",
    "YES\n",
    "4\n",
    "1 2 4 7\n",
    "3\n",
    "3 5 6\n",
    "```\n",
    "\n",
    "## Example 2\n",
    "\n",
    "Input:\n",
    "\n",
    "```\n",
    "6\n",
    "```\n",
    "\n",
    "Output:\n",
    "\n",
    "```\n",
    "NO\n",
    "```"
   ]
  },
  {
   "cell_type": "markdown",
   "metadata": {},
   "source": [
    "## Attempt 1"
   ]
  },
  {
   "cell_type": "code",
   "execution_count": null,
   "metadata": {},
   "outputs": [],
   "source": []
  }
 ],
 "metadata": {
  "language_info": {
   "name": "python"
  }
 },
 "nbformat": 4,
 "nbformat_minor": 2
}
