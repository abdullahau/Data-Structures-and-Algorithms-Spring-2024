{
 "cells": [
  {
   "cell_type": "markdown",
   "metadata": {},
   "source": [
    "# Apple Division"
   ]
  },
  {
   "cell_type": "markdown",
   "metadata": {},
   "source": [
    "-   **Time limit:** 1.00 s\n",
    "-   **Memory limit:** 512 MB\n",
    "\n",
    "There are $n$ apples with known weights. Your task is to divide the apples into two groups so that the difference between the weights of the groups is minimal.\n",
    "\n",
    "## Input\n",
    "\n",
    "The first input line has an integer $n$: the number of apples.\n",
    "\n",
    "The next line has $n$ integers $p_1,p_2,\\dots,p_n$: the weight of each apple.\n",
    "\n",
    "## Output\n",
    "\n",
    "Print one integer: the minimum difference between the weights of the groups.\n",
    "\n",
    "## Constraints\n",
    "\n",
    "-   $1 \\le n \\le 20$\n",
    "-   $1 \\le p_i \\le 10^9$\n",
    "\n",
    "## Example\n",
    "\n",
    "Input:\n",
    "\n",
    "```\n",
    "5\n",
    "3 2 7 4 1\n",
    "```\n",
    "\n",
    "Output:\n",
    "\n",
    "```\n",
    "1\n",
    "```\n",
    "\n",
    "Explanation: Group 1 has weights 2, 3 and 4 (total weight 9), and group 2 has weights 1 and 7 (total weight 8)."
   ]
  },
  {
   "cell_type": "markdown",
   "metadata": {},
   "source": [
    "## Attempt 1"
   ]
  },
  {
   "cell_type": "code",
   "execution_count": 9,
   "metadata": {},
   "outputs": [
    {
     "name": "stdout",
     "output_type": "stream",
     "text": [
      "10\n",
      "[603, 324, 573, 493, 659, 521, 654, 70, 718, 257]\n"
     ]
    }
   ],
   "source": [
    "n = int(input())\n",
    "p = list(map(int, input().split()))\n",
    "\n",
    "print(n)\n",
    "print(p)"
   ]
  }
 ],
 "metadata": {
  "kernelspec": {
   "display_name": "Python 3",
   "language": "python",
   "name": "python3"
  },
  "language_info": {
   "codemirror_mode": {
    "name": "ipython",
    "version": 3
   },
   "file_extension": ".py",
   "mimetype": "text/x-python",
   "name": "python",
   "nbconvert_exporter": "python",
   "pygments_lexer": "ipython3",
   "version": "3.12.4"
  }
 },
 "nbformat": 4,
 "nbformat_minor": 2
}
