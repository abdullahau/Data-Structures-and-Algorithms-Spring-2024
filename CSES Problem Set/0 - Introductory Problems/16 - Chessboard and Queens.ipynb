{
 "cells": [
  {
   "cell_type": "markdown",
   "metadata": {},
   "source": [
    "# Chessboard and Queens"
   ]
  },
  {
   "cell_type": "markdown",
   "metadata": {},
   "source": [
    "-   **Time limit:** 1.00 s\n",
    "-   **Memory limit:** 512 MB\n",
    "\n",
    "Your task is to place eight queens on a chessboard so that no two queens are attacking each other. As an additional challenge, each square is either free or reserved, and you can only place queens on the free squares. However, the reserved squares do not prevent queens from attacking each other.\n",
    "\n",
    "How many possible ways are there to place the queens?\n",
    "\n",
    "## Input\n",
    "\n",
    "The input has eight lines, and each of them has eight characters. Each square is either free (`.`) or reserved (`*`).\n",
    "\n",
    "## Output\n",
    "\n",
    "Print one integer: the number of ways you can place the queens.\n",
    "\n",
    "## Example\n",
    "\n",
    "Input:\n",
    "\n",
    "```\n",
    "........\n",
    "........\n",
    "..*.....\n",
    "........\n",
    "........\n",
    ".....**.\n",
    "...*....\n",
    "........\n",
    "```\n",
    "\n",
    "Output:\n",
    "\n",
    "```\n",
    "65\n",
    "```"
   ]
  },
  {
   "cell_type": "code",
   "execution_count": null,
   "metadata": {},
   "outputs": [],
   "source": []
  }
 ],
 "metadata": {
  "language_info": {
   "name": "python"
  }
 },
 "nbformat": 4,
 "nbformat_minor": 2
}
