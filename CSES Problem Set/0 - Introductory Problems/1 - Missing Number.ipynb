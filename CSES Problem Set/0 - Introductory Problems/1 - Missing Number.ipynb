{
 "cells": [
  {
   "cell_type": "markdown",
   "metadata": {},
   "source": [
    "# Missing Number"
   ]
  },
  {
   "cell_type": "markdown",
   "metadata": {},
   "source": [
    "-   **Time limit:** 1.00 s\n",
    "-   **Memory limit:** 512 MB\n",
    "\n",
    "You are given all numbers between $1,2,\\ldots,n$ except one. Your task is to find the missing number.\n",
    "\n",
    "## Input\n",
    "\n",
    "The first input line contains an integer $n$.\n",
    "\n",
    "The second line contains $n-1$ numbers. Each number is distinct and between $1$ and $n$ (inclusive).\n",
    "\n",
    "## Output\n",
    "\n",
    "Print the missing number.\n",
    "\n",
    "## Constraints\n",
    "\n",
    "-   $2 \\le n \\le 2 \\cdot 10^5$\n",
    "\n",
    "## Example\n",
    "\n",
    "Input:\n",
    "\n",
    "```\n",
    "5\n",
    "2 3 1 5\n",
    "```\n",
    "\n",
    "Output:\n",
    "\n",
    "```\n",
    "4\n",
    "```"
   ]
  },
  {
   "cell_type": "markdown",
   "metadata": {},
   "source": [
    "## Attempt 1"
   ]
  },
  {
   "cell_type": "code",
   "execution_count": 15,
   "metadata": {},
   "outputs": [
    {
     "name": "stdout",
     "output_type": "stream",
     "text": [
      "200000\n"
     ]
    }
   ],
   "source": [
    "n = int(input())\n",
    "l = input()\n",
    "l = set(map(int, l.split(\" \")))\n",
    "\n",
    "r = set(range(1,n+1))\n",
    "for i in (r - l):\n",
    "    print(i)"
   ]
  },
  {
   "cell_type": "code",
   "execution_count": 18,
   "metadata": {},
   "outputs": [
    {
     "name": "stdout",
     "output_type": "stream",
     "text": [
      "200000\n",
      "Peak Memory Usage (MB) 30.271\n"
     ]
    }
   ],
   "source": [
    "import tracemalloc\n",
    "\n",
    "tracemalloc.start()\n",
    "\n",
    "n = int(input())\n",
    "l = input()\n",
    "l = set(map(int, l.split(\" \")))\n",
    "\n",
    "r = set(range(1,n+1))\n",
    "for i in (r - l):\n",
    "    print(i)\n",
    "\n",
    "current, peak = tracemalloc.get_traced_memory()\n",
    "print(\"Peak Memory Usage (MB)\", round(peak/(1024**2), 3))\n",
    "tracemalloc.stop()"
   ]
  },
  {
   "cell_type": "markdown",
   "metadata": {},
   "source": [
    "## Attempt 2"
   ]
  },
  {
   "cell_type": "code",
   "execution_count": null,
   "metadata": {},
   "outputs": [],
   "source": [
    "n = int(input())\n",
    "l = input().split(\" \")\n",
    "l = set(map(int, l))\n",
    " \n",
    "for i in range(1, n+1):\n",
    "    if i not in l:\n",
    "        print(i)\n",
    "        break"
   ]
  },
  {
   "cell_type": "markdown",
   "metadata": {},
   "source": [
    "## Attempt 3"
   ]
  },
  {
   "cell_type": "code",
   "execution_count": 24,
   "metadata": {},
   "outputs": [
    {
     "name": "stdout",
     "output_type": "stream",
     "text": [
      "4\n"
     ]
    }
   ],
   "source": [
    "n = int(input())\n",
    "l = input().split(\" \")\n",
    "l = set(map(int, l))\n",
    "\n",
    "print(int((n/2)*(n+1) - sum(l)))"
   ]
  },
  {
   "cell_type": "code",
   "execution_count": null,
   "metadata": {},
   "outputs": [],
   "source": [
    "n = int(input())\n",
    "l = map(int,input().split(\" \"))\n",
    "print(n*(n+1)//2-sum(l))"
   ]
  },
  {
   "cell_type": "code",
   "execution_count": 30,
   "metadata": {},
   "outputs": [
    {
     "name": "stdout",
     "output_type": "stream",
     "text": [
      "2\n"
     ]
    }
   ],
   "source": [
    "from functools import reduce\n",
    " \n",
    "n = int(input())\n",
    "l = reduce(lambda x, y: int(x)+int(y), input().split(\" \"))\n",
    " \n",
    "print(int((n/2)*(n+1)) - int(l))"
   ]
  },
  {
   "cell_type": "code",
   "execution_count": 29,
   "metadata": {},
   "outputs": [
    {
     "name": "stdout",
     "output_type": "stream",
     "text": [
      "2\n"
     ]
    }
   ],
   "source": [
    "n = int(input())\n",
    "r = lambda x, y: x+int(y)\n",
    "x = 0\n",
    "for i in input().split(\" \"):\n",
    "    x = r(x, i)\n",
    "\n",
    "print(int((n/2)*(n+1)) - x)"
   ]
  }
 ],
 "metadata": {
  "kernelspec": {
   "display_name": "Python 3",
   "language": "python",
   "name": "python3"
  },
  "language_info": {
   "codemirror_mode": {
    "name": "ipython",
    "version": 3
   },
   "file_extension": ".py",
   "mimetype": "text/x-python",
   "name": "python",
   "nbconvert_exporter": "python",
   "pygments_lexer": "ipython3",
   "version": "3.12.3"
  }
 },
 "nbformat": 4,
 "nbformat_minor": 2
}
