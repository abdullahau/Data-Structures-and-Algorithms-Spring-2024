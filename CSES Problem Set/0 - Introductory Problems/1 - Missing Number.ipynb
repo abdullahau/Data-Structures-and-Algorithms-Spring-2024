{
 "cells": [
  {
   "cell_type": "markdown",
   "metadata": {},
   "source": [
    "# Missing Number"
   ]
  },
  {
   "cell_type": "markdown",
   "metadata": {},
   "source": [
    "-   **Time limit:** 1.00 s\n",
    "-   **Memory limit:** 512 MB\n",
    "\n",
    "You are given all numbers between $1,2,\\ldots,n$ except one. Your task is to find the missing number.\n",
    "\n",
    "## Input\n",
    "\n",
    "The first input line contains an integer $n$.\n",
    "\n",
    "The second line contains $n-1$ numbers. Each number is distinct and between $1$ and $n$ (inclusive).\n",
    "\n",
    "## Output\n",
    "\n",
    "Print the missing number.\n",
    "\n",
    "## Constraints\n",
    "\n",
    "-   $2 \\le n \\le 2 \\cdot 10^5$\n",
    "\n",
    "## Example\n",
    "\n",
    "Input:\n",
    "\n",
    "```\n",
    "5\n",
    "2 3 1 5\n",
    "```\n",
    "\n",
    "Output:\n",
    "\n",
    "```\n",
    "4\n",
    "```"
   ]
  },
  {
   "cell_type": "markdown",
   "metadata": {},
   "source": [
    "## Attempt 1"
   ]
  },
  {
   "cell_type": "code",
   "execution_count": null,
   "metadata": {},
   "outputs": [],
   "source": []
  },
  {
   "cell_type": "code",
   "execution_count": null,
   "metadata": {},
   "outputs": [],
   "source": []
  }
 ],
 "metadata": {
  "language_info": {
   "name": "python"
  }
 },
 "nbformat": 4,
 "nbformat_minor": 2
}
