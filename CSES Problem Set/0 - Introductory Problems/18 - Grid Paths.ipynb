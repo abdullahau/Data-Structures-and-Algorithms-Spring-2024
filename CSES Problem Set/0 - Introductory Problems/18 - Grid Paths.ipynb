{
 "cells": [
  {
   "cell_type": "markdown",
   "metadata": {},
   "source": [
    "# Grid Paths"
   ]
  },
  {
   "cell_type": "markdown",
   "metadata": {},
   "source": [
    "-   **Time limit:** 1.00 s\n",
    "-   **Memory limit:** 512 MB\n",
    "\n",
    "There are $88418$ paths in a $7 \\times 7$ grid from the upper-left square to the lower-left square. Each path corresponds to a $48$\\-character description consisting of characters `D` (down), `U` (up), `L` (left) and `R` (right).\n",
    "\n",
    "For example, the path\n",
    "\n",
    "![](https://cses.fi/file/3624b569007eb03818b6611755f1bdbe4cdbd0a8334baf9fedc5365914bdd661)\n",
    "\n",
    "corresponds to the description `DRURRRRRDDDLUULDDDLDRRURDDLLLLLURULURRUULDLLDDDD`.\n",
    "\n",
    "You are given a description of a path which may also contain characters `?` (any direction). Your task is to calculate the number of paths that match the description.\n",
    "\n",
    "## Input\n",
    "\n",
    "The only input line has a $48$\\-character string of characters `?`, `D`, `U`, `L` and `R`.\n",
    "\n",
    "## Output\n",
    "\n",
    "Print one integer: the total number of paths.\n",
    "\n",
    "## Example\n",
    "\n",
    "Input:\n",
    "\n",
    "```\n",
    "??????R??????U??????????????????????????LD????D?\n",
    "```\n",
    "\n",
    "Output:\n",
    "\n",
    "```\n",
    "201\n",
    "```"
   ]
  },
  {
   "cell_type": "markdown",
   "metadata": {},
   "source": [
    "## Attempt 1"
   ]
  },
  {
   "cell_type": "code",
   "execution_count": 5,
   "metadata": {},
   "outputs": [
    {
     "name": "stdout",
     "output_type": "stream",
     "text": [
      "(5, 4)\n"
     ]
    }
   ],
   "source": [
    "# Total 48-step paths from (0,0) to (0,6) in a 7 x 7 grid.\n",
    "\n",
    "# x-range -> (0,0) to (6,0)\n",
    "# y-range -> (0,0) to (0,6)\n",
    "# total range -> (0,0) to (6,6)\n",
    "\n",
    "U = (0, -1)\n",
    "D = (0, 1)\n",
    "L = (-1, 0)\n",
    "R = (1, 0)\n",
    "\n",
    "pos = (4,4)\n",
    "pos = (pos[0] + R[0], pos[1] + R[1]) \n",
    "print(pos)"
   ]
  }
 ],
 "metadata": {
  "kernelspec": {
   "display_name": "Python 3",
   "language": "python",
   "name": "python3"
  },
  "language_info": {
   "codemirror_mode": {
    "name": "ipython",
    "version": 3
   },
   "file_extension": ".py",
   "mimetype": "text/x-python",
   "name": "python",
   "nbconvert_exporter": "python",
   "pygments_lexer": "ipython3",
   "version": "3.12.4"
  }
 },
 "nbformat": 4,
 "nbformat_minor": 2
}
