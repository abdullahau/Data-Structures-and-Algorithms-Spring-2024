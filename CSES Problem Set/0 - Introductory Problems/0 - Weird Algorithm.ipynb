{
 "cells": [
  {
   "cell_type": "markdown",
   "metadata": {},
   "source": [
    "# Weird Algorithm"
   ]
  },
  {
   "cell_type": "markdown",
   "metadata": {},
   "source": [
    "-   **Time limit:** 1.00 s\n",
    "-   **Memory limit:** 512 MB\n",
    "\n",
    "Consider an algorithm that takes as input a positive integer $n$. If $n$ is even, the algorithm divides it by two, and if $n$ is odd, the algorithm multiplies it by three and adds one. The algorithm repeats this, until $n$ is one. For example, the sequence for $n=3$ is as follows: $$3 \\rightarrow 10 \\rightarrow 5 \\rightarrow 16 \\rightarrow 8 \\rightarrow 4 \\rightarrow 2 \\rightarrow 1$$ Your task is to simulate the execution of the algorithm for a given value of $n$.\n",
    "\n",
    "## Input\n",
    "\n",
    "The only input line contains an integer $n$.\n",
    "\n",
    "## Output\n",
    "\n",
    "Print a line that contains all values of $n$ during the algorithm.\n",
    "\n",
    "## Constraints\n",
    "\n",
    "-   $1 \\le n \\le 10^6$\n",
    "\n",
    "## Example\n",
    "\n",
    "Input:\n",
    "\n",
    "```\n",
    "3\n",
    "```\n",
    "\n",
    "Output:\n",
    "\n",
    "```\n",
    "3 10 5 16 8 4 2 1\n",
    "```"
   ]
  },
  {
   "cell_type": "markdown",
   "metadata": {},
   "source": [
    "## Attempt 1"
   ]
  },
  {
   "cell_type": "code",
   "execution_count": 43,
   "metadata": {},
   "outputs": [
    {
     "name": "stdout",
     "output_type": "stream",
     "text": [
      "7 22 11 34 17 52 26 13 40 20 10 5 16 8 4 2 1 "
     ]
    }
   ],
   "source": [
    "def one(n):\n",
    "    print(n, end=\" \")\n",
    "    while n != 1:\n",
    "        n = n // 2 if n % 2 == 0 else n*3 + 1\n",
    "        print(n, end=\" \")\n",
    "\n",
    "n = int(input())\n",
    "one(n)"
   ]
  },
  {
   "cell_type": "code",
   "execution_count": 44,
   "metadata": {},
   "outputs": [
    {
     "name": "stdout",
     "output_type": "stream",
     "text": [
      "7 22 11 34 17 52 26 13 40 20 10 5 16 8 4 2 1 "
     ]
    }
   ],
   "source": [
    "def one(n):\n",
    "    yield n\n",
    "    while n != 1:\n",
    "        n = n // 2 if n % 2 == 0 else n*3 + 1\n",
    "        yield n\n",
    "\n",
    "n = int(input())\n",
    "result = one(n)\n",
    "for i in result:\n",
    "    print(i,end=\" \")"
   ]
  },
  {
   "cell_type": "markdown",
   "metadata": {},
   "source": [
    "## Other Solutions"
   ]
  },
  {
   "cell_type": "code",
   "execution_count": 40,
   "metadata": {},
   "outputs": [
    {
     "name": "stdout",
     "output_type": "stream",
     "text": [
      "7 22 11 34 17 52 26 13 40 20 10 5 16 8 4 2 1 "
     ]
    }
   ],
   "source": [
    "n=int(input())\n",
    "print(n,end=\" \")\n",
    "while n!=1:\n",
    "    if n%2==0:\n",
    "        n=n//2\n",
    "        print(n,end=\" \")\n",
    "    else:\n",
    "        n=(n*3)+1\n",
    "        print(n,end=\" \")"
   ]
  },
  {
   "cell_type": "code",
   "execution_count": 45,
   "metadata": {},
   "outputs": [
    {
     "name": "stdout",
     "output_type": "stream",
     "text": [
      "7 22 11 34 17 52 26 13 40 20 10 5 16 8 4 2 1\n"
     ]
    }
   ],
   "source": [
    "n = int(input())\n",
    "s = str(n) + ' ' \n",
    "while n > 1:\n",
    "    \n",
    "    if n % 2 == 1:\n",
    "        n = n*3 + 1\n",
    "    else:\n",
    "        n = n // 2\n",
    "    s += str(n) + ' '\n",
    " \n",
    "print(s.rstrip())"
   ]
  }
 ],
 "metadata": {
  "kernelspec": {
   "display_name": "Python 3",
   "language": "python",
   "name": "python3"
  },
  "language_info": {
   "codemirror_mode": {
    "name": "ipython",
    "version": 3
   },
   "file_extension": ".py",
   "mimetype": "text/x-python",
   "name": "python",
   "nbconvert_exporter": "python",
   "pygments_lexer": "ipython3",
   "version": "3.12.3"
  }
 },
 "nbformat": 4,
 "nbformat_minor": 2
}
