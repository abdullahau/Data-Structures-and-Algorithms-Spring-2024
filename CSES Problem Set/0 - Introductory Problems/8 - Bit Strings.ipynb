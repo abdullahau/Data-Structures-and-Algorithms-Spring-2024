{
 "cells": [
  {
   "cell_type": "markdown",
   "metadata": {},
   "source": [
    "# Bit Strings"
   ]
  },
  {
   "cell_type": "markdown",
   "metadata": {},
   "source": [
    "-   **Time limit:** 1.00 s\n",
    "-   **Memory limit:** 512 MB\n",
    "\n",
    "Your task is to calculate the number of bit strings of length $n$.\n",
    "\n",
    "For example, if $n=3$, the correct answer is $8$, because the possible bit strings are 000, 001, 010, 011, 100, 101, 110, and 111.\n",
    "\n",
    "## Input\n",
    "\n",
    "The only input line has an integer $n$.\n",
    "\n",
    "## Output\n",
    "\n",
    "Print the result modulo $10^9+7$.\n",
    "\n",
    "## Constraints\n",
    "\n",
    "-   $1 \\le n \\le 10^6$\n",
    "\n",
    "## Example\n",
    "\n",
    "Input:\n",
    "\n",
    "```\n",
    "3\n",
    "```\n",
    "\n",
    "Output:\n",
    "\n",
    "```\n",
    "8\n",
    "```"
   ]
  },
  {
   "cell_type": "markdown",
   "metadata": {},
   "source": [
    "## Attempt 1"
   ]
  },
  {
   "cell_type": "code",
   "execution_count": null,
   "metadata": {},
   "outputs": [],
   "source": [
    "n = int(input())\n",
    "print(2**n % (10**9 +7))"
   ]
  },
  {
   "cell_type": "code",
   "execution_count": null,
   "metadata": {},
   "outputs": [],
   "source": [
    "from sys import stdin, stdout\n",
    "input, print = stdin.readline, stdout.write\n",
    " \n",
    "n = int(input())\n",
    "print(str(2**n % (10**9 +7)))"
   ]
  }
 ],
 "metadata": {
  "language_info": {
   "name": "python"
  }
 },
 "nbformat": 4,
 "nbformat_minor": 2
}
