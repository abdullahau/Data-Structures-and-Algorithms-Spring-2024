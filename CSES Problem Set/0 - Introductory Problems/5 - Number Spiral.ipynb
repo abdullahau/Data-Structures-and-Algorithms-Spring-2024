{
 "cells": [
  {
   "cell_type": "markdown",
   "metadata": {},
   "source": [
    "# Number Spiral"
   ]
  },
  {
   "attachments": {
    "image.png": {
     "image/png": "[encoded data removed]"
    }
   },
   "cell_type": "markdown",
   "metadata": {},
   "source": [
    "-   **Time limit:** 1.00 s\n",
    "-   **Memory limit:** 512 MB\n",
    "\n",
    "A number spiral is an infinite grid whose upper-left square has number 1. Here are the first five layers of the spiral:\n",
    "\n",
    "![image.png](attachment:image.png)\n",
    "\n",
    "Your task is to find out the number in row $y$ and column $x$.\n",
    "\n",
    "## Input\n",
    "\n",
    "The first input line contains an integer $t$: the number of tests.\n",
    "\n",
    "After this, there are $t$ lines, each containing integers $y$ and $x$.\n",
    "\n",
    "## Output\n",
    "\n",
    "For each test, print the number in row $y$ and column $x$.\n",
    "\n",
    "## Constraints\n",
    "\n",
    "-   $1 \\le t \\le 10^5$\n",
    "-   $1 \\le y,x \\le 10^9$\n",
    "\n",
    "## Example\n",
    "\n",
    "Input:\n",
    "\n",
    "```\n",
    "3\n",
    "2 3\n",
    "1 1\n",
    "4 2\n",
    "```\n",
    "\n",
    "Output:\n",
    "\n",
    "```\n",
    "8\n",
    "1\n",
    "15\n",
    "```"
   ]
  },
  {
   "cell_type": "code",
   "execution_count": null,
   "metadata": {},
   "outputs": [],
   "source": []
  }
 ],
 "metadata": {
  "language_info": {
   "name": "python"
  }
 },
 "nbformat": 4,
 "nbformat_minor": 2
}
