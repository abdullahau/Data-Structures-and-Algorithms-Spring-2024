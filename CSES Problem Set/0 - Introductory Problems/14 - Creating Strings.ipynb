{
 "cells": [
  {
   "cell_type": "markdown",
   "metadata": {},
   "source": [
    "# Creating Strings"
   ]
  },
  {
   "cell_type": "markdown",
   "metadata": {},
   "source": [
    "-   **Time limit:** 1.00 s\n",
    "-   **Memory limit:** 512 MB\n",
    "\n",
    "Given a string, your task is to generate all different strings that can be created using its characters.\n",
    "\n",
    "## Input\n",
    "\n",
    "The only input line has a string of length $n$. Each character is between a–z.\n",
    "\n",
    "## Output\n",
    "\n",
    "First print an integer $k$: the number of strings. Then print $k$ lines: the strings in alphabetical order.\n",
    "\n",
    "## Constraints\n",
    "\n",
    "-   $1 \\le n \\le 8$\n",
    "\n",
    "## Example\n",
    "\n",
    "Input:\n",
    "\n",
    "```\n",
    "aabac\n",
    "```\n",
    "\n",
    "Output:\n",
    "\n",
    "```\n",
    "20\n",
    "aaabc\n",
    "aaacb\n",
    "aabac\n",
    "aabca\n",
    "aacab\n",
    "aacba\n",
    "abaac\n",
    "abaca\n",
    "abcaa\n",
    "acaab\n",
    "acaba\n",
    "acbaa\n",
    "baaac\n",
    "baaca\n",
    "bacaa\n",
    "bcaaa\n",
    "caaab\n",
    "caaba\n",
    "cabaa\n",
    "cbaaa\n",
    "```"
   ]
  },
  {
   "cell_type": "markdown",
   "metadata": {},
   "source": [
    "## Attempt 1"
   ]
  },
  {
   "cell_type": "code",
   "execution_count": 56,
   "metadata": {},
   "outputs": [
    {
     "name": "stdout",
     "output_type": "stream",
     "text": [
      "{'a': 3, 'b': 1, 'c': 1}\n",
      "20\n"
     ]
    }
   ],
   "source": [
    "from math import factorial\n",
    "n = \"aabac\"\n",
    "d = {}\n",
    "for i in n: d[i] = d.get(i, 0)+1\n",
    "\n",
    "f = 1\n",
    "for i in d: f *= factorial(d[i])\n",
    "\n",
    "print(d)\n",
    "print(factorial(len(n))//f)"
   ]
  },
  {
   "cell_type": "code",
   "execution_count": 74,
   "metadata": {},
   "outputs": [
    {
     "name": "stdout",
     "output_type": "stream",
     "text": [
      "20\n",
      "aabac\n",
      "aabca\n",
      "aaabc\n",
      "aaacb\n",
      "aacba\n",
      "aacab\n",
      "abaac\n",
      "abaca\n",
      "abcaa\n",
      "acaba\n",
      "acaab\n",
      "acbaa\n",
      "baaac\n",
      "baaca\n",
      "bacaa\n",
      "bcaaa\n",
      "caaba\n",
      "caaab\n",
      "cabaa\n",
      "cbaaa\n"
     ]
    }
   ],
   "source": [
    "def permutations(array: list) -> list:\n",
    "    result = []\n",
    "    \n",
    "    def permute(array, path, result):\n",
    "        if not array:\n",
    "            if \"\".join(path[:]) not in result:\n",
    "                result.append(\"\".join(path[:]))\n",
    "            return\n",
    "        \n",
    "        for i in range(len(array)):\n",
    "            path.append(array[i])\n",
    "            permute(array[:i] + array[i+1:], path, result)\n",
    "            path.pop()\n",
    "        return result\n",
    "    \n",
    "    print(len(permute(array, [], result)))\n",
    "    return \"\\n\".join(permute(array, [], result))\n",
    "\n",
    "\n",
    "n = input()\n",
    "print(permutations(n))"
   ]
  }
 ],
 "metadata": {
  "kernelspec": {
   "display_name": "Python 3",
   "language": "python",
   "name": "python3"
  },
  "language_info": {
   "codemirror_mode": {
    "name": "ipython",
    "version": 3
   },
   "file_extension": ".py",
   "mimetype": "text/x-python",
   "name": "python",
   "nbconvert_exporter": "python",
   "pygments_lexer": "ipython3",
   "version": "3.12.4"
  }
 },
 "nbformat": 4,
 "nbformat_minor": 2
}
