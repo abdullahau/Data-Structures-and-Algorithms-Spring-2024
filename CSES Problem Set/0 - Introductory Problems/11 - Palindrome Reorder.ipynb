{
 "cells": [
  {
   "cell_type": "markdown",
   "metadata": {},
   "source": [
    "# Palindrome Reorder"
   ]
  },
  {
   "cell_type": "markdown",
   "metadata": {},
   "source": [
    "-   **Time limit:** 1.00 s\n",
    "-   **Memory limit:** 512 MB\n",
    "\n",
    "Given a string, your task is to reorder its letters in such a way that it becomes a palindrome (i.e., it reads the same forwards and backwards).\n",
    "\n",
    "## Input\n",
    "\n",
    "The only input line has a string of length $n$ consisting of characters A–Z.\n",
    "\n",
    "## Output\n",
    "\n",
    "Print a palindrome consisting of the characters of the original string. You may print any valid solution. If there are no solutions, print \"NO SOLUTION\".\n",
    "\n",
    "## Constraints\n",
    "\n",
    "-   $1 \\le n \\le 10^6$\n",
    "\n",
    "## Example\n",
    "\n",
    "Input:\n",
    "\n",
    "```\n",
    "AAAACACBA\n",
    "```\n",
    "\n",
    "Output:\n",
    "\n",
    "```\n",
    "AACABACAA\n",
    "```"
   ]
  },
  {
   "cell_type": "markdown",
   "metadata": {},
   "source": [
    "## Attempt 1"
   ]
  },
  {
   "cell_type": "code",
   "execution_count": 2,
   "metadata": {},
   "outputs": [
    {
     "name": "stdout",
     "output_type": "stream",
     "text": [
      "ACDDDCA\n"
     ]
    }
   ],
   "source": [
    "n = input()\n",
    "d = {}\n",
    "\n",
    "for i in n:\n",
    "    if i not in d: d[i] = 0\n",
    "    d[i] += 1\n",
    "\n",
    "def palindrome(d, n):\n",
    "    r = \"\"\n",
    "    if len(n) % 2 == 0:\n",
    "        for l,v in d.items():\n",
    "            if v % 2 != 0:\n",
    "                return \"NO SOLUTION\"\n",
    "            else:\n",
    "                r += l*(v//2)\n",
    "        return r+r[::-1]\n",
    "    else:\n",
    "        odd = 0\n",
    "        for l,v in d.items():\n",
    "            if v % 2 != 0:\n",
    "                odd += 1\n",
    "                index = l\n",
    "            else:\n",
    "                r += l*(v//2)\n",
    "        if odd > 1:\n",
    "            return \"NO SOLUTION\"\n",
    "        return r + index*d[index] + r[::-1]\n",
    "\n",
    "print(palindrome(d, n))"
   ]
  },
  {
   "cell_type": "code",
   "execution_count": 16,
   "metadata": {},
   "outputs": [
    {
     "data": {
      "text/plain": [
       "'AAACBCAAA'"
      ]
     },
     "execution_count": 16,
     "metadata": {},
     "output_type": "execute_result"
    }
   ],
   "source": [
    "def main():\n",
    "    n = input()\n",
    "    d = {}\n",
    "\n",
    "    for i in n:\n",
    "        d[ord(i)-65] = d.get(ord(i)-65, 0) + 1\n",
    "\n",
    "    r = []\n",
    "    if len(n) % 2 == 0:\n",
    "        for l,v in d.items():\n",
    "            if v % 2 != 0:\n",
    "                return \"NO SOLUTION\"\n",
    "            else:\n",
    "                r.append(chr(l+65)*(v//2))\n",
    "        return \"\".join(r+r[::-1])\n",
    "    else:\n",
    "        odd = 0\n",
    "        for l,v in d.items():\n",
    "            if v % 2 != 0:\n",
    "                odd += 1\n",
    "                index = l\n",
    "            else:\n",
    "                r.append(chr(l+65)*(v//2))\n",
    "        if odd > 1:\n",
    "            return \"NO SOLUTION\"\n",
    "        return \"\".join(r+[chr(index+65)]*d[index]+r[::-1])\n",
    "\n",
    "print(main())"
   ]
  },
  {
   "cell_type": "code",
   "execution_count": 12,
   "metadata": {},
   "outputs": [
    {
     "name": "stdout",
     "output_type": "stream",
     "text": [
      "{'A': 1, 'B': 1, 'D': 3}\n"
     ]
    }
   ],
   "source": [
    "n = \"ABDDD\"\n",
    "h = {}\n",
    "\n",
    "for i in n:\n",
    "    # The get() method returns the value of the item with the specified key.\n",
    "    # dictionary.get(keyname, value)\n",
    "    # keyname -> Required. The keyname of the item you want to return the value from\n",
    "    # value ->\tOptional. A value to return if the specified key does not exist. Default value None\n",
    "    h[i] = h.get(i,0)+1\n",
    "    \n",
    "print(h)"
   ]
  },
  {
   "cell_type": "markdown",
   "metadata": {},
   "source": [
    "## Other Implementations"
   ]
  },
  {
   "cell_type": "code",
   "execution_count": 14,
   "metadata": {},
   "outputs": [
    {
     "name": "stdout",
     "output_type": "stream",
     "text": [
      "68\n",
      "D\n",
      "52\n"
     ]
    }
   ],
   "source": [
    "print(ord(\"D\"))\n",
    "print(chr(68))\n",
    "\n",
    "from string import ascii_letters\n",
    "print(len(ascii_letters))"
   ]
  },
  {
   "cell_type": "code",
   "execution_count": null,
   "metadata": {},
   "outputs": [],
   "source": [
    "def main():\n",
    "    s=input()\n",
    "    l=[0 for i in range(26)]\n",
    "    for i in s:\n",
    "        l[ord(i)-65]+=1\n",
    "    odd=0\n",
    "    m=[]\n",
    "    for i in range(26):\n",
    "        if l[i]%2!=0:\n",
    "            if odd!=1:\n",
    "                odd=1\n",
    "                index=i\n",
    "            else:\n",
    "                print(\"NO SOLUTION\")\n",
    "                return \n",
    "        else:\n",
    "            m.append(chr(65+i)*(l[i]//2))\n",
    "    print(\"\".join(m),end=\"\")\n",
    "    if odd==1:\n",
    "        print(chr(65+index)*l[index],end=\"\")\n",
    "    print(\"\".join(m[::-1]))\n",
    "main()"
   ]
  },
  {
   "cell_type": "code",
   "execution_count": null,
   "metadata": {},
   "outputs": [],
   "source": [
    "letters, finalstr, odds, i = \"ABCDEFGHIJKLMNOPQRSTUVWXYZ\", \"\", [], input()\n",
    "for x in letters:\n",
    "    if (cnt := i.count(x)) % 2:\n",
    "        odds.append((x, cnt))\n",
    "    else:\n",
    "        finalstr += x*(cnt//2)\n",
    "match len(odds):\n",
    "    case 0:\n",
    "        print(finalstr + finalstr[::-1])\n",
    "    case 1:\n",
    "        print(finalstr + odds[0][0]*odds[0][1] + finalstr[::-1])\n",
    "    case _:\n",
    "        print(\"NO SOLUTION\")"
   ]
  }
 ],
 "metadata": {
  "kernelspec": {
   "display_name": "Python 3",
   "language": "python",
   "name": "python3"
  },
  "language_info": {
   "codemirror_mode": {
    "name": "ipython",
    "version": 3
   },
   "file_extension": ".py",
   "mimetype": "text/x-python",
   "name": "python",
   "nbconvert_exporter": "python",
   "pygments_lexer": "ipython3",
   "version": "3.12.4"
  }
 },
 "nbformat": 4,
 "nbformat_minor": 2
}
