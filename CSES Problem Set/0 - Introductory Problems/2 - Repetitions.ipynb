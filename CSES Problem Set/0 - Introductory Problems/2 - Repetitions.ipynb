{
 "cells": [
  {
   "cell_type": "markdown",
   "metadata": {},
   "source": [
    "# Repetitions"
   ]
  },
  {
   "cell_type": "markdown",
   "metadata": {},
   "source": [
    "-   **Time limit:** 1.00 s\n",
    "-   **Memory limit:** 512 MB\n",
    "\n",
    "You are given a DNA sequence: a string consisting of characters A, C, G, and T. Your task is to find the longest repetition in the sequence. This is a maximum-length substring containing only one type of character.\n",
    "\n",
    "## Input\n",
    "\n",
    "The only input line contains a string of $n$ characters.\n",
    "\n",
    "## Output\n",
    "\n",
    "Print one integer: the length of the longest repetition.\n",
    "\n",
    "## Constraints\n",
    "\n",
    "-   $1 \\le n \\le 10^6$\n",
    "\n",
    "## Example\n",
    "\n",
    "Input:\n",
    "\n",
    "```\n",
    "ATTCGGGA\n",
    "```\n",
    "\n",
    "Output:\n",
    "\n",
    "```\n",
    "3\n",
    "```"
   ]
  },
  {
   "cell_type": "markdown",
   "metadata": {},
   "source": [
    "## Attempt 1"
   ]
  },
  {
   "cell_type": "code",
   "execution_count": 13,
   "metadata": {},
   "outputs": [
    {
     "name": "stdout",
     "output_type": "stream",
     "text": [
      "3\n"
     ]
    }
   ],
   "source": [
    "s = input()\n",
    "m = t = 1\n",
    "for i in range(1, len(s)):\n",
    "    if s[i] == s[i-1]:\n",
    "        t += 1\n",
    "    else:\n",
    "        t = 1\n",
    "    m = max(m, t)\n",
    "\n",
    "print(m)"
   ]
  },
  {
   "cell_type": "markdown",
   "metadata": {},
   "source": [
    "## Attempt 2"
   ]
  },
  {
   "cell_type": "code",
   "execution_count": 18,
   "metadata": {},
   "outputs": [
    {
     "name": "stdout",
     "output_type": "stream",
     "text": [
      "['A', 'T', 'T', 'C', 'G', 'G', 'G', 'A']\n"
     ]
    }
   ],
   "source": [
    "s = list(input())\n",
    "m = t = 1\n",
    "for i in range(1, len(s)):\n",
    "    if s[i] == s[i-1]:\n",
    "        t += 1\n",
    "    else:\n",
    "        t = 1\n",
    "    m = max(m, t)\n",
    "\n",
    "print(s)"
   ]
  }
 ],
 "metadata": {
  "kernelspec": {
   "display_name": "Python 3",
   "language": "python",
   "name": "python3"
  },
  "language_info": {
   "codemirror_mode": {
    "name": "ipython",
    "version": 3
   },
   "file_extension": ".py",
   "mimetype": "text/x-python",
   "name": "python",
   "nbconvert_exporter": "python",
   "pygments_lexer": "ipython3",
   "version": "3.12.3"
  }
 },
 "nbformat": 4,
 "nbformat_minor": 2
}
