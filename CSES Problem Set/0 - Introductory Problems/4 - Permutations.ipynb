{
 "cells": [
  {
   "cell_type": "markdown",
   "metadata": {},
   "source": [
    "# Permutations"
   ]
  },
  {
   "cell_type": "markdown",
   "metadata": {},
   "source": [
    "-   **Time limit:** 1.00 s\n",
    "-   **Memory limit:** 512 MB\n",
    "\n",
    "A permutation of integers $1,2,\\ldots,n$ is called *beautiful* if there are no adjacent elements whose difference is $1$.\n",
    "\n",
    "Given $n$, construct a beautiful permutation if such a permutation exists.\n",
    "\n",
    "## Input\n",
    "\n",
    "The only input line contains an integer $n$.\n",
    "\n",
    "## Output\n",
    "\n",
    "Print a beautiful permutation of integers $1,2,\\ldots,n$. If there are several solutions, you may print any of them. If there are no solutions, print \"NO SOLUTION\".\n",
    "\n",
    "## Constraints\n",
    "\n",
    "-   $1 \\le n \\le 10^6$\n",
    "\n",
    "## Example 1\n",
    "\n",
    "Input:\n",
    "\n",
    "```\n",
    "5\n",
    "```\n",
    "\n",
    "Output:\n",
    "\n",
    "```\n",
    "4 2 5 3 1\n",
    "```\n",
    "\n",
    "## Example 2\n",
    "\n",
    "Input:\n",
    "\n",
    "```\n",
    "3\n",
    "```\n",
    "\n",
    "Output:\n",
    "\n",
    "```\n",
    "NO SOLUTION\n",
    "```"
   ]
  },
  {
   "cell_type": "markdown",
   "metadata": {},
   "source": [
    "## Attempt 1"
   ]
  },
  {
   "cell_type": "code",
   "execution_count": null,
   "metadata": {},
   "outputs": [],
   "source": [
    "n = int(input())\n",
    "i, z = (n, n - 1) if n % 2 == 0 else (n - 1, n)\n",
    " \n",
    "if n == 1: \n",
    "    print(1)\n",
    "elif n > 3:\n",
    "    print(*range(2,i+1,2), *range(1,z+1,2))\n",
    "else:\n",
    "    print(\"NO SOLUTION\")"
   ]
  },
  {
   "cell_type": "code",
   "execution_count": null,
   "metadata": {},
   "outputs": [],
   "source": [
    "n = int(input())\n",
    " \n",
    "if n == 1: \n",
    "    print(1)\n",
    "elif n > 3:\n",
    "    i, z = (n, n - 1) if n % 2 == 0 else (n - 1, n)\n",
    "    print(*range(2,i+1,2), *range(1,z+1,2))\n",
    "else:\n",
    "    print(\"NO SOLUTION\")"
   ]
  },
  {
   "cell_type": "markdown",
   "metadata": {},
   "source": [
    "## Other Implementations"
   ]
  },
  {
   "cell_type": "code",
   "execution_count": null,
   "metadata": {},
   "outputs": [],
   "source": [
    "from sys import stdin,stdout\n",
    "input,print = stdin.readline,stdout.write\n",
    " \n",
    "n=int(input())\n",
    "#s=input()\n",
    "#a,b=map(int,input().split())\n",
    "#arr=list(map(int,input().split()))\n",
    "if n==2 or n==3:\n",
    "    print(\"NO SOLUTION\")\n",
    "else:\n",
    "    for i in range(1,n//2+1):\n",
    "        print(str(n//2+i)+' '+str(i)+' ')\n",
    "    if n%2==1:\n",
    "        print(str(n))"
   ]
  },
  {
   "cell_type": "code",
   "execution_count": null,
   "metadata": {},
   "outputs": [],
   "source": [
    "from itertools import chain\n",
    " \n",
    "def main():\n",
    "    n = int(input())\n",
    "    if n == 1:\n",
    "        print(1)\n",
    "    elif n < 4:\n",
    "        print(\"NO SOLUTION\")\n",
    "    else:\n",
    "        print(\" \".join(map(str, chain(range(2, n + 1, 2), range(1, n + 1, 2)))))\n",
    " \n",
    "if __name__ == '__main__':\n",
    "    main()"
   ]
  }
 ],
 "metadata": {
  "kernelspec": {
   "display_name": "Python 3",
   "language": "python",
   "name": "python3"
  },
  "language_info": {
   "name": "python",
   "version": "3.12.3"
  }
 },
 "nbformat": 4,
 "nbformat_minor": 2
}
