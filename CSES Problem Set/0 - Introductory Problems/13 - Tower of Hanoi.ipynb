{
 "cells": [
  {
   "cell_type": "markdown",
   "metadata": {},
   "source": [
    "# Tower of Hanoi"
   ]
  },
  {
   "cell_type": "markdown",
   "metadata": {},
   "source": [
    "-   **Time limit:** 1.00 s\n",
    "-   **Memory limit:** 512 MB\n",
    "\n",
    "The Tower of Hanoi game consists of three stacks (left, middle and right) and $n$ round disks of different sizes. Initially, the left stack has all the disks, in increasing order of size from top to bottom.\n",
    "\n",
    "The goal is to move all the disks to the right stack using the middle stack. On each move you can move the uppermost disk from a stack to another stack. In addition, it is not allowed to place a larger disk on a smaller disk.\n",
    "\n",
    "Your task is to find a solution that minimizes the number of moves.\n",
    "\n",
    "## Input\n",
    "\n",
    "The only input line has an integer $n$: the number of disks.\n",
    "\n",
    "## Output\n",
    "\n",
    "First print an integer $k$: the minimum number of moves.\n",
    "\n",
    "After this, print $k$ lines that describe the moves. Each line has two integers $a$ and $b$: you move a disk from stack $a$ to stack $b$.\n",
    "\n",
    "## Constraints\n",
    "\n",
    "-   $1 \\le n \\le 16$\n",
    "\n",
    "## Example\n",
    "\n",
    "Input:\n",
    "\n",
    "```\n",
    "2\n",
    "```\n",
    "\n",
    "Output:\n",
    "\n",
    "```\n",
    "3\n",
    "1 2\n",
    "1 3\n",
    "2 3\n",
    "```"
   ]
  },
  {
   "cell_type": "markdown",
   "metadata": {},
   "source": [
    "## Attempt 1"
   ]
  },
  {
   "cell_type": "code",
   "execution_count": 25,
   "metadata": {},
   "outputs": [
    {
     "name": "stdout",
     "output_type": "stream",
     "text": [
      "1 3\n",
      "1 2\n",
      "3 2\n",
      "1 3\n",
      "2 1\n",
      "2 3\n",
      "1 3\n",
      "{1: [], 2: [], 3: [3, 2, 1]}\n"
     ]
    }
   ],
   "source": [
    "n = int(input())\n",
    "r = (2**n)-1\n",
    "\n",
    "d = {1: [_ for _ in range(n, 0, -1)], 2: [], 3: []}\n",
    "\n",
    "ones = [2,0,3,0,1,0] if n % 2 == 0 else [3,0,2,0,1,0]\n",
    "\n",
    "for i in range(r):\n",
    "    if i % 2 == 0:\n",
    "        old_1 = ones[(i-2)%6]\n",
    "        new_1 = ones[i % 6]\n",
    "        d[new_1].append(d[old_1].pop())\n",
    "        print(f\"{old_1} {new_1}\")\n",
    "    else:\n",
    "        target = 0\n",
    "        poss = []\n",
    "        for j in d:\n",
    "            if j == new_1:\n",
    "                continue\n",
    "            elif d[j] == []:\n",
    "                target = j\n",
    "                continue\n",
    "            else:\n",
    "                poss.append(j)\n",
    "        if target > 0:\n",
    "            move = poss.pop()\n",
    "        else:\n",
    "            if d[poss[0]][-1] > d[poss[1]][-1]:\n",
    "                move = poss.pop()\n",
    "                target = poss.pop()\n",
    "            else:\n",
    "                target = poss.pop()\n",
    "                move = poss.pop()\n",
    "\n",
    "        d[target].append(d[move].pop())\n",
    "        print(f\"{move} {target}\")"
   ]
  },
  {
   "cell_type": "code",
   "execution_count": 31,
   "metadata": {},
   "outputs": [
    {
     "name": "stdout",
     "output_type": "stream",
     "text": [
      "15\n",
      "1 2\n",
      "1 3\n",
      "2 3\n",
      "1 2\n",
      "3 1\n",
      "3 2\n",
      "1 2\n",
      "1 3\n",
      "2 3\n",
      "2 1\n",
      "3 1\n",
      "2 3\n",
      "1 2\n",
      "1 3\n",
      "2 3\n"
     ]
    }
   ],
   "source": [
    "n = int(input())\n",
    "r = [str((2**n)-1)]\n",
    "\n",
    "d = {1: [_ for _ in range(n, 0, -1)], 2: [], 3: []}\n",
    "\n",
    "ones = [2,0,3,0,1,0] if n % 2 == 0 else [3,0,2,0,1,0]\n",
    "\n",
    "for i in range(int(r[0])):\n",
    "    if i % 2 == 0:\n",
    "        old_1 = ones[(i-2)%6]\n",
    "        new_1 = ones[i % 6]\n",
    "        d[new_1].append(d[old_1].pop())\n",
    "        r.append(f\"{old_1} {new_1}\")\n",
    "    else:\n",
    "        target = 0\n",
    "        poss = []\n",
    "        for j in d:\n",
    "            if j == new_1:\n",
    "                continue\n",
    "            elif d[j] == []:\n",
    "                target = j\n",
    "                continue\n",
    "            else:\n",
    "                poss.append(j)\n",
    "        if target > 0:\n",
    "            move = poss.pop()\n",
    "        else:\n",
    "            if d[poss[0]][-1] > d[poss[1]][-1]:\n",
    "                move = poss.pop()\n",
    "                target = poss.pop()\n",
    "            else:\n",
    "                target = poss.pop()\n",
    "                move = poss.pop()\n",
    "\n",
    "        d[target].append(d[move].pop())\n",
    "        r.append(f\"{move} {target}\")\n",
    "\n",
    "print(\"\\n\".join(r))"
   ]
  },
  {
   "cell_type": "code",
   "execution_count": 96,
   "metadata": {},
   "outputs": [
    {
     "name": "stdout",
     "output_type": "stream",
     "text": [
      "15\n",
      "1 2\n",
      "1 3\n",
      "2 3\n",
      "1 2\n",
      "3 1\n",
      "3 2\n",
      "1 2\n",
      "1 3\n",
      "2 3\n",
      "2 1\n",
      "3 1\n",
      "2 3\n",
      "1 2\n",
      "1 3\n",
      "2 3\n"
     ]
    }
   ],
   "source": [
    "n = int(input())\n",
    "r = [str((2**n)-1)]\n",
    "\n",
    "d = {1: [_ for _ in range(n, 0, -1)], 2: [], 3: []}\n",
    "\n",
    "ones = [2,0,3,0,1,0] if n % 2 == 0 else [3,0,2,0,1,0]\n",
    "\n",
    "for i in range(int(r[0])):\n",
    "    if i % 2 == 0:\n",
    "        old_1 = ones[(i-2)%6]\n",
    "        new_1 = ones[i % 6]\n",
    "        d[new_1].append(d[old_1].pop())\n",
    "        r.append(f\"{old_1} {new_1}\")\n",
    "    else:\n",
    "        avail = 3 - new_1\n",
    "        if avail == 0:\n",
    "            target = 1 if (d[1][-1:] > d[2][-1:] and d[2] != []) or d[1] == [] else 2\n",
    "            move = 1 if target == 2 else 2\n",
    "        elif avail == 1:\n",
    "            target = 1 if (d[1][-1:] > d[3][-1:] and d[3] != []) or d[1] == [] else 3\n",
    "            move = 1 if target == 3 else 3\n",
    "        else:\n",
    "            target = 2 if (d[2][-1:] > d[3][-1:] and d[3] != []) or d[2] == [] else 3\n",
    "            move = 2 if target == 3 else 3\n",
    "        d[target].append(d[move].pop())\n",
    "        r.append(f\"{move} {target}\")\n",
    "\n",
    "print(\"\\n\".join(r))"
   ]
  },
  {
   "cell_type": "code",
   "execution_count": 98,
   "metadata": {},
   "outputs": [
    {
     "name": "stdout",
     "output_type": "stream",
     "text": [
      "15\n",
      "1 2\n",
      "1 3\n",
      "2 3\n",
      "1 2\n",
      "3 1\n",
      "3 2\n",
      "1 2\n",
      "1 3\n",
      "2 3\n",
      "2 1\n",
      "3 1\n",
      "2 3\n",
      "1 2\n",
      "1 3\n",
      "2 3\n"
     ]
    }
   ],
   "source": [
    "n = int(input())\n",
    "r = [str((2**n)-1)]\n",
    "\n",
    "d = {1: [_ for _ in range(n, 0, -1)], 2: [], 3: []}\n",
    "\n",
    "ones = [2,0,3,0,1,0] if n % 2 == 0 else [3,0,2,0,1,0]\n",
    "\n",
    "for i in range(int(r[0])):\n",
    "    if i % 2 == 0:\n",
    "        old_1, new_1 = ones[(i-2)%6], ones[i % 6]\n",
    "        d[new_1].append(d[old_1].pop())\n",
    "        r.append(f\"{old_1} {new_1}\")\n",
    "    else:\n",
    "        if new_1 == 3:\n",
    "            na, nb = 1, 2\n",
    "        elif new_1 == 2:\n",
    "            na, nb = 1, 3\n",
    "        else:\n",
    "            na, nb = 2, 3\n",
    "        target = na if (d[na][-1:] > d[nb][-1:] and d[nb] != []) or d[na] == [] else nb\n",
    "        move = na if target == nb else nb\n",
    "        d[target].append(d[move].pop())\n",
    "        r.append(f\"{move} {target}\")\n",
    "\n",
    "print(\"\\n\".join(r))"
   ]
  },
  {
   "cell_type": "code",
   "execution_count": 103,
   "metadata": {},
   "outputs": [
    {
     "name": "stdout",
     "output_type": "stream",
     "text": [
      "1\n",
      "1 3\n"
     ]
    }
   ],
   "source": [
    "n = int(input())\n",
    "r = [str((2**n)-1)]\n",
    "\n",
    "d = {1: [_ for _ in range(n, 0, -1)], 2: [], 3: []}\n",
    "\n",
    "ones = [2,0,3,0,1,0] if n % 2 == 0 else [3,0,2,0,1,0]\n",
    "\n",
    "for i in range(int(r[0])):\n",
    "    if i % 2 == 0:\n",
    "        move, target = ones[(i-2)%6], ones[i % 6]\n",
    "    else:\n",
    "        if target == 3:\n",
    "            na, nb = 1, 2\n",
    "        elif target == 2:\n",
    "            na, nb = 1, 3\n",
    "        else:\n",
    "            na, nb = 2, 3\n",
    "        target = na if (d[na][-1:] > d[nb][-1:] and d[nb] != []) or d[na] == [] else nb\n",
    "        move = na if target == nb else nb\n",
    "    \n",
    "    d[target].append(d[move].pop())\n",
    "    r.append(f\"{move} {target}\")\n",
    "\n",
    "print(\"\\n\".join(r))"
   ]
  },
  {
   "cell_type": "markdown",
   "metadata": {},
   "source": [
    "## Other Implementations"
   ]
  },
  {
   "cell_type": "code",
   "execution_count": 102,
   "metadata": {},
   "outputs": [
    {
     "name": "stdout",
     "output_type": "stream",
     "text": [
      "15\n",
      "1 2\n",
      "1 3\n",
      "2 3\n",
      "1 2\n",
      "3 1\n",
      "3 2\n",
      "1 2\n",
      "1 3\n",
      "2 3\n",
      "2 1\n",
      "3 1\n",
      "2 3\n",
      "1 2\n",
      "1 3\n",
      "2 3\n"
     ]
    }
   ],
   "source": [
    "r = \"\"\"1 3\"\"\"\n",
    " \n",
    "for i in range(int(input()) - 1):\n",
    "    a = r.replace('2', '4')\n",
    "    a = a.replace('3', '2')\n",
    "    a = a.replace('4', '3')\n",
    " \n",
    "    b = r.replace('1', '4')\n",
    "    b = b.replace('2', '1')\n",
    "    b = b.replace('4', '2')\n",
    " \n",
    "    r = a + \"\\n1 3\\n\" + b\n",
    " \n",
    "print(r.count('\\n') + 1)\n",
    "print(r)"
   ]
  },
  {
   "cell_type": "code",
   "execution_count": 104,
   "metadata": {},
   "outputs": [
    {
     "name": "stdout",
     "output_type": "stream",
     "text": [
      "15\n",
      "1 2\n",
      "1 3\n",
      "2 3\n",
      "1 2\n",
      "3 1\n",
      "3 2\n",
      "1 2\n",
      "1 3\n",
      "2 3\n",
      "2 1\n",
      "3 1\n",
      "2 3\n",
      "1 2\n",
      "1 3\n",
      "2 3\n"
     ]
    }
   ],
   "source": [
    "def moves(n):\n",
    "    if n==1:\n",
    "        return \"1 3\"\n",
    "    else:\n",
    "        prev=moves(n-1)\n",
    "        a=prev.replace(\"2\", \"4\").replace(\"3\", \"2\").replace(\"4\", \"3\")\n",
    "        b=\"\\n1 3\\n\"\n",
    "        c=prev.replace(\"1\", \"4\").replace(\"2\", \"1\").replace(\"4\", \"2\")\n",
    "        return a+b+c\n",
    " \n",
    "n=int(input())\n",
    "print(2**n-1)\n",
    "print(moves(n))"
   ]
  },
  {
   "cell_type": "code",
   "execution_count": 105,
   "metadata": {},
   "outputs": [
    {
     "name": "stdout",
     "output_type": "stream",
     "text": [
      "3\n",
      "1 2\n",
      "1 3\n",
      "2 3\n",
      "\n"
     ]
    }
   ],
   "source": [
    "totrings = int(input())\n",
    " \n",
    "dp12 = [\"1 2\\n\"]\n",
    "dp21 = [\"2 1\\n\"]\n",
    "dp13 = [\"1 3\\n\"]\n",
    "dp31 = [\"3 1\\n\"]\n",
    "dp23 = [\"2 3\\n\"]\n",
    "dp32 = [\"3 2\\n\"]\n",
    " \n",
    "for i in range(1, totrings):\n",
    "    dp12.append(dp13[i-1] + dp12[0] + dp32[i-1])\n",
    "    dp21.append(dp23[i-1] + dp21[0] + dp31[i-1])\n",
    "    dp13.append(dp12[i-1] + dp13[0] + dp23[i-1])\n",
    "    dp31.append(dp32[i-1] + dp31[0] + dp21[i-1])\n",
    "    dp23.append(dp21[i-1] + dp23[0] + dp13[i-1])\n",
    "    dp32.append(dp31[i-1] + dp32[0] + dp12[i-1])\n",
    " \n",
    "print(2 ** totrings - 1)\n",
    "print(dp13[-1])"
   ]
  }
 ],
 "metadata": {
  "kernelspec": {
   "display_name": "Python 3",
   "language": "python",
   "name": "python3"
  },
  "language_info": {
   "codemirror_mode": {
    "name": "ipython",
    "version": 3
   },
   "file_extension": ".py",
   "mimetype": "text/x-python",
   "name": "python",
   "nbconvert_exporter": "python",
   "pygments_lexer": "ipython3",
   "version": "3.12.4"
  }
 },
 "nbformat": 4,
 "nbformat_minor": 2
}
