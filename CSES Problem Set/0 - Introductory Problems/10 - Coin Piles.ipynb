{
 "cells": [
  {
   "cell_type": "markdown",
   "metadata": {},
   "source": [
    "# Coin Piles"
   ]
  },
  {
   "cell_type": "markdown",
   "metadata": {},
   "source": [
    "-   **Time limit:** 1.00 s\n",
    "-   **Memory limit:** 512 MB\n",
    "\n",
    "You have two coin piles containing $a$ and $b$ coins. On each move, you can either remove one coin from the left pile and two coins from the right pile, or two coins from the left pile and one coin from the right pile.\n",
    "\n",
    "Your task is to efficiently find out if you can empty both the piles.\n",
    "\n",
    "## Input\n",
    "\n",
    "The first input line has an integer $t$: the number of tests.\n",
    "\n",
    "After this, there are $t$ lines, each of which has two integers $a$ and $b$: the numbers of coins in the piles.\n",
    "\n",
    "## Output\n",
    "\n",
    "For each test, print \"YES\" if you can empty the piles and \"NO\" otherwise.\n",
    "\n",
    "## Constraints\n",
    "\n",
    "-   $1 \\le t \\le 10^5$\n",
    "-   $0 \\le a, b \\le 10^9$\n",
    "\n",
    "## Example\n",
    "\n",
    "Input:\n",
    "\n",
    "```\n",
    "3\n",
    "2 1\n",
    "2 2\n",
    "3 3\n",
    "```\n",
    "\n",
    "Output:\n",
    "\n",
    "```\n",
    "YES\n",
    "NO\n",
    "YES\n",
    "```"
   ]
  },
  {
   "cell_type": "markdown",
   "metadata": {},
   "source": [
    "## Attempt 1"
   ]
  },
  {
   "cell_type": "code",
   "execution_count": null,
   "metadata": {},
   "outputs": [],
   "source": []
  }
 ],
 "metadata": {
  "language_info": {
   "name": "python"
  }
 },
 "nbformat": 4,
 "nbformat_minor": 2
}
