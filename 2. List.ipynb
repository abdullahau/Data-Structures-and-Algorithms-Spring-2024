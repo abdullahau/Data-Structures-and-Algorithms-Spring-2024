{
 "cells": [
  {
   "cell_type": "markdown",
   "metadata": {},
   "source": [
    "# List"
   ]
  },
  {
   "cell_type": "markdown",
   "metadata": {},
   "source": [
    "*List* is a versatile data structure and the principal data structure in Python. The data processed by a program is most commonly stored in a list, though there are situations where other data structures are preferable.\n",
    "\n",
    "In this chapter, we take a look at the implementation and properties of the Python list. A particular focus is the time complexity of list operations: What operations are efficient and when you should use a list."
   ]
  },
  {
   "cell_type": "markdown",
   "metadata": {},
   "source": [
    "## List in memory"
   ]
  },
  {
   "cell_type": "markdown",
   "metadata": {},
   "source": [
    "The memory of a computer consists of a sequence of memory locations capable of storing data. Each memory location has an address that can be used for access. When a program is executed, the data it processes is stored in the memory.\n",
    "\n",
    "Consider the following Python program as an example:"
   ]
  },
  {
   "cell_type": "code",
   "execution_count": null,
   "metadata": {},
   "outputs": [],
   "source": [
    "a = 7\n",
    "b = -3\n",
    "c = [1, 2, 3, 1, 2]\n",
    "d = 99"
   ]
  },
  {
   "cell_type": "markdown",
   "metadata": {},
   "source": [
    "Let us assume that the variables and the list defined in the program are stored in the memory starting from the address 100. The following is a simplified illustration of what the contents of the memory might look like in this situation:"
   ]
  },
  {
   "cell_type": "markdown",
   "metadata": {},
   "source": [
    "| 100 | 101 | 102 | 103 | 104 | 105 | 106 | 107 | 108 | 109 | 110 |\n",
    "| --- | --- | --- | --- | --- | --- | --- | --- | --- | --- | --- |\n",
    "| 7   | \\-3 | 1   | 2   | 3   | 1   | 2   | 0   | 0   | 0   | 99  |\n",
    "| `a` | `b` | `c` |     |     |     |     |     |     |     | `d` |"
   ]
  },
  {
   "cell_type": "markdown",
   "metadata": {},
   "source": [
    "Here the contents of the variable `a` are stored in the memory location 100 and the contents of the variable `b` in the location 101. The memory locations 102–109 are reserved for the list `c`, but only the locations 102–106 are currently in use because the list has 5 elements. The contents of the variable `d` are in the location 110.\n",
    "\n",
    "The elements of the list are stored in consecutive memory locations, which makes it easy to determine the location of a given list element. The memory address of an element is obtained by adding the element index to the address of the first element. For example in the above situation, the element `c[2]` is at the address 102 + 2 = 104.\n",
    "\n",
    "As noted above, the list occupies more memory than is needed for its current elements. The reason for the extra memory is to prepare for possible addition of new elements to the list. Thus the list has two sizes: the number of elements (here 5) and the number of memory locations reserved for the list (here 8)."
   ]
  },
  {
   "cell_type": "markdown",
   "metadata": {},
   "source": [
    "## List operations"
   ]
  },
  {
   "cell_type": "markdown",
   "metadata": {},
   "source": [
    "Python has several built-in operations for managing lists. We will next take a look at the efficiency of these operations from the time complexity perspective assuming that the list has $n$ elements.\n",
    "\n",
    "Knowing the time complexities of the list operations is important for algorithm design, because they determine which operations can be used as components of an efficient algorithm. Most list operations have one of the following time complexities:\n",
    "\n",
    "- $O(1)$: the operation is always efficient independent of the size of the list\n",
    "- $O(n)$: the efficiency depends on the size of the list and the operation can be slow for large lists"
   ]
  },
  {
   "cell_type": "markdown",
   "metadata": {},
   "source": [
    "### Indexing"
   ]
  },
  {
   "cell_type": "markdown",
   "metadata": {},
   "source": [
    "The elements of a list can be accessed and modified using the index operator `[]`."
   ]
  },
  {
   "cell_type": "code",
   "execution_count": null,
   "metadata": {},
   "outputs": [],
   "source": [
    "numbers = [4, 3, 7, 3, 2]\n",
    "print(numbers[2]) # 7\n",
    "numbers[2] = 5\n",
    "print(numbers[2]) # 5"
   ]
  },
  {
   "cell_type": "markdown",
   "metadata": {},
   "source": [
    "The access or modification needs $O(1)$ time, because the elements are in consecutive memory locations and the address of an element can be computed quickly."
   ]
  },
  {
   "cell_type": "markdown",
   "metadata": {},
   "source": [
    "### List size"
   ]
  },
  {
   "cell_type": "markdown",
   "metadata": {},
   "source": [
    "The function `len` tells how many elements the list contains:"
   ]
  },
  {
   "cell_type": "code",
   "execution_count": null,
   "metadata": {},
   "outputs": [],
   "source": [
    "numbers = [4, 3, 7, 3, 2]\n",
    "print(len(numbers)) # 5"
   ]
  },
  {
   "cell_type": "markdown",
   "metadata": {},
   "source": [
    "The function needs $O(1)$ time, because the length is stored in memory with the list."
   ]
  },
  {
   "cell_type": "markdown",
   "metadata": {},
   "source": [
    "### Searching"
   ]
  },
  {
   "cell_type": "markdown",
   "metadata": {},
   "source": [
    "The operator `in` tells if a given element is on the list or not. The method `index` returns the index of the first occurrence of the element on the list. The method `count` counts the occurrences of the element on the list."
   ]
  },
  {
   "cell_type": "code",
   "execution_count": null,
   "metadata": {},
   "outputs": [],
   "source": [
    "numbers = [4, 3, 7, 3, 2]\n",
    "\n",
    "print(3 in numbers) # True\n",
    "print(8 in numbers) # False\n",
    "\n",
    "print(numbers.index(3)) # 1\n",
    "print(numbers.count(3)) # 2"
   ]
  },
  {
   "cell_type": "markdown",
   "metadata": {},
   "source": [
    "All of these operations need $O(n)$ time, because they have to scan through the list. For example, the method `count` operates essentially as the following function that uses a loop to go through the elements:"
   ]
  },
  {
   "cell_type": "code",
   "execution_count": null,
   "metadata": {},
   "outputs": [],
   "source": [
    "def count(items, target):\n",
    "    result = 0\n",
    "    for item in items:\n",
    "        if item == target:\n",
    "            result += 1\n",
    "    return result"
   ]
  },
  {
   "cell_type": "markdown",
   "metadata": {},
   "source": [
    "Notice that some of the operations can be fast in some situations. For example, if the element we are searching for is in the beginning of the list, the operator `in` is fast since it can stop immediately after finding the element. However, in the worst case the element is not on the list and the operation has to go through the whole list to verify this."
   ]
  },
  {
   "cell_type": "markdown",
   "metadata": {},
   "source": [
    "### Adding an element"
   ]
  },
  {
   "cell_type": "markdown",
   "metadata": {},
   "source": [
    "The method `append` adds an element to the end of the list, and the method `insert` adds an element to a given position on the list."
   ]
  },
  {
   "cell_type": "code",
   "execution_count": null,
   "metadata": {},
   "outputs": [],
   "source": [
    "numbers = [1, 2, 3, 4]\n",
    "\n",
    "numbers.append(5)\n",
    "print(numbers) # [1, 2, 3, 4, 5]\n",
    "\n",
    "numbers.insert(1, 6)\n",
    "print(numbers) # [1, 6, 2, 3, 4, 5]"
   ]
  },
  {
   "cell_type": "markdown",
   "metadata": {},
   "source": [
    "The time complexities of these operations are affected by the way the elements are stored in memory. In this case, the contents of the memory before additions look something like this:"
   ]
  },
  {
   "cell_type": "markdown",
   "metadata": {},
   "source": [
    "| 100 | 101 | 102 | 103 | 104 | 105 | 106 | 107 |\n",
    "| --- | --- | --- | --- | --- | --- | --- | --- |\n",
    "| 1   | 2   | 3   | 4   | 0   | 0   | 0   | 0   |"
   ]
  },
  {
   "cell_type": "markdown",
   "metadata": {},
   "source": [
    "The method `append` needs $O(1)$ time, because adding an element to the end of a list does not require changes to other memory locations. In the example, the element `5` is stored in the memory location 104:"
   ]
  },
  {
   "cell_type": "markdown",
   "metadata": {},
   "source": [
    "| 100 | 101 | 102 | 103 | 104 | 105 | 106 | 107 |\n",
    "| --- | --- | --- | --- | --- | --- | --- | --- |\n",
    "| 1   | 2   | 3   | 4   | 5   | 0   | 0   | 0   |"
   ]
  },
  {
   "cell_type": "markdown",
   "metadata": {},
   "source": [
    "If the memory area reserved for the list is already full and there is no room for the new element, more work is required. In such a case, a new bigger memory area is reserved for the list and all elements are moved to the new area, which needs $O(n)$ time. However, with a [suitable implementation](/2a.%20Adding%20elements%20to%20list.ipynb) such a situation can be made so rare that the average time complexity of the `append` method is $O(1)$.\n",
    "\n",
    "The method `insert` has time complexity $O(n)$ because, when an element is added to somewhere else than the end of the list, other elements need to be moved forward to make room for the new element. In our example, when the element `6` is inserted to the index `1`, the elements are relocated as follows:"
   ]
  },
  {
   "cell_type": "markdown",
   "metadata": {},
   "source": [
    "| 100 | 101 | 102 | 103 | 104 | 105 | 106 | 107 |\n",
    "| --- | --- | --- | --- | --- | --- | --- | --- |\n",
    "| 1   | 6   | 2   | 3   | 4   | 5   | 0   | 0   |"
   ]
  },
  {
   "cell_type": "markdown",
   "metadata": {},
   "source": [
    "Notice however, that the method `insert` is efficient when the element is inserted somewhere near the end of the list, because only a small number of elements needs to be relocated."
   ]
  },
  {
   "cell_type": "markdown",
   "metadata": {},
   "source": [
    "### Removing an element"
   ]
  },
  {
   "cell_type": "markdown",
   "metadata": {},
   "source": [
    "The method `pop` removes an element from a list. If the method is called without a parameter, it removes the last element. If a parameter is given, the operation removes the element at the specified index."
   ]
  },
  {
   "cell_type": "code",
   "execution_count": 1,
   "metadata": {},
   "outputs": [
    {
     "name": "stdout",
     "output_type": "stream",
     "text": [
      "[1, 2, 3, 4, 5]\n",
      "[1, 3, 4, 5]\n"
     ]
    }
   ],
   "source": [
    "numbers = [1, 2, 3, 4, 5, 6]\n",
    "\n",
    "numbers.pop()\n",
    "print(numbers) # [1, 2, 3, 4, 5]\n",
    "\n",
    "numbers.pop(1)\n",
    "print(numbers) # [1, 3, 4, 5]"
   ]
  },
  {
   "cell_type": "markdown",
   "metadata": {},
   "source": [
    "Let us again consider how removing an element affects the contents of the memory. Before the removes, the contents of the memory look something like this:\n",
    "\n",
    "| 100 | 101 | 102 | 103 | 104 | 105 | 106 | 107 |\n",
    "| --- | --- | --- | --- | --- | --- | --- | --- |\n",
    "| 1   | 2   | 3   | 4   | 5   | 6   | 0   | 0   |\n",
    "\n",
    "As with adding, removing an element at the end of a list takes $O(1)$ time, because the other elements are not affected. After removing the element `6`, the memory might look like this:\n",
    "\n",
    "| 100 | 101 | 102 | 103 | 104 | 105 | 106 | 107 |\n",
    "| --- | --- | --- | --- | --- | --- | --- | --- |\n",
    "| 1   | 2   | 3   | 4   | 5   | 0   | 0   | 0   |\n",
    "\n",
    "Removing an element in the middle of a list needs $O(n)$ time, because now all the following elements have to be relocated in memory. Removing the element `2` has the following effect on the contents of the memory:\n",
    "\n",
    "| 100 | 101 | 102 | 103 | 104 | 105 | 106 | 107 |\n",
    "| --- | --- | --- | --- | --- | --- | --- | --- |\n",
    "| 1   | 3   | 4   | 5   | 0   | 0   | 0   | 0   |\n",
    "\n",
    "Python also has a list method `remove` that removes the first occurrence of a given element:"
   ]
  },
  {
   "cell_type": "code",
   "execution_count": null,
   "metadata": {},
   "outputs": [],
   "source": [
    "numbers = [1, 2, 3, 1, 2, 3]\n",
    "\n",
    "numbers.remove(3)\n",
    "print(numbers) # [1, 2, 1, 2, 3]"
   ]
  },
  {
   "cell_type": "markdown",
   "metadata": {},
   "source": [
    "The time complexity of the method is always $O(n)$, because it first has to find the first occurrence (similarly to the method `index`), and then remove the element and relocate the following elements."
   ]
  },
  {
   "cell_type": "markdown",
   "metadata": {},
   "source": [
    "### Summary"
   ]
  },
  {
   "cell_type": "markdown",
   "metadata": {},
   "source": [
    "The following table summarizes the time complexities of the operations we have seen:\n",
    "\n",
    "| Operation                         | Time Complexity |\n",
    "| --------------------------------- | --------------- |\n",
    "| Indexing (`[]`)                   | $O(1)$          |\n",
    "| Size (`len`)                      | $O(1)$          |\n",
    "| Is element on list? (`in`)        | $O(n)$          |\n",
    "| Searching (`index`)               | $O(n)$          |\n",
    "| Counting (`count`)                | $O(n)$          |\n",
    "| Adding to end (`append`)          | $O(1)$          |\n",
    "| Adding to middle (`insert`)       | $O(n)$          |\n",
    "| Removing from end (`pop`)         | $O(1)$          |\n",
    "| Removing from middle (`pop`)      | $O(n)$          |\n",
    "| Searching and removing (`remove`) | $O(n)$          |"
   ]
  },
  {
   "cell_type": "markdown",
   "metadata": {},
   "source": [
    "Thus the efficient operations are indexing, querying the size, and adding and removing elements at the end of the list. The list is a suitable data structure when most of the operations are among these, and the other more expensive operations are rare."
   ]
  },
  {
   "cell_type": "markdown",
   "metadata": {},
   "source": [
    "## References and copying"
   ]
  },
  {
   "cell_type": "markdown",
   "metadata": {},
   "source": [
    "In Python, lists and other data structures are accessed through references. Assigning a list to a variable only copies the reference, not the contents of the list:"
   ]
  },
  {
   "cell_type": "code",
   "execution_count": null,
   "metadata": {},
   "outputs": [],
   "source": [
    "a = [1, 2, 3, 4]\n",
    "b = a\n",
    "a.append(5)\n",
    "\n",
    "print(a) # [1, 2, 3, 4, 5]\n",
    "print(b) # [1, 2, 3, 4, 5]"
   ]
  },
  {
   "cell_type": "markdown",
   "metadata": {},
   "source": [
    "Here executing the line `b = a` causes the variables `a` and `b` to refer to the same list in memory. When a new element is added to the list `a`, the same addition happens to the list `b`.\n",
    "\n",
    "For copying the contents, we can use the method `copy`:"
   ]
  },
  {
   "cell_type": "code",
   "execution_count": null,
   "metadata": {},
   "outputs": [],
   "source": [
    "a = [1, 2, 3, 4]\n",
    "b = a.copy()\n",
    "a.append(5)\n",
    "\n",
    "print(a) # [1, 2, 3, 4, 5]\n",
    "print(b) # [1, 2, 3, 4]"
   ]
  },
  {
   "cell_type": "markdown",
   "metadata": {},
   "source": [
    "Now the variables `a` and `b` refer to separate lists, and adding an element to the list `a` has no effect on the contents of the list `b`.\n",
    "\n",
    "There is a big difference in the efficiency of the above operations: copying a reference takes $O(1)$ time, while copying the contents needs $O(n)$ time. Thus the line `b = a` takes $O(1)$ time, and the line `b = a.copy()` takes $O(n)$ time."
   ]
  },
  {
   "cell_type": "markdown",
   "metadata": {},
   "source": [
    "### Side effects of functions"
   ]
  },
  {
   "cell_type": "markdown",
   "metadata": {},
   "source": [
    "When a function is given a data structure as a parameter, only a reference is copied. Then the function can cause *side effects*, if it changes the contents of the data structure.\n",
    "\n",
    "Consider the following function `double` that returns a list, where the value of each element has been doubled:"
   ]
  },
  {
   "cell_type": "code",
   "execution_count": null,
   "metadata": {},
   "outputs": [],
   "source": [
    "def double(numbers):\n",
    "    result = numbers\n",
    "    for i in range(len(result)):\n",
    "        result[i] *= 2\n",
    "    return result"
   ]
  },
  {
   "cell_type": "markdown",
   "metadata": {},
   "source": [
    "Since only the reference is copied, the function changes the list it got as a parameter:"
   ]
  },
  {
   "cell_type": "code",
   "execution_count": null,
   "metadata": {},
   "outputs": [],
   "source": [
    "numbers = [1, 2, 3, 4]\n",
    "print(double(numbers)) # [2, 4, 6, 8]\n",
    "print(numbers) # [2, 4, 6, 8]"
   ]
  },
  {
   "cell_type": "markdown",
   "metadata": {},
   "source": [
    "This is not good when the intention is to create a new list without changing the original list. The function can be corrected with the method `copy`:"
   ]
  },
  {
   "cell_type": "code",
   "execution_count": null,
   "metadata": {},
   "outputs": [],
   "source": [
    "def double(numbers):\n",
    "    result = numbers.copy()\n",
    "    for i in range(len(result)):\n",
    "        result[i] *= 2\n",
    "    return result"
   ]
  },
  {
   "cell_type": "markdown",
   "metadata": {},
   "source": [
    "Now the contents of the original list are not changed:"
   ]
  },
  {
   "cell_type": "code",
   "execution_count": null,
   "metadata": {},
   "outputs": [],
   "source": [
    "numbers = [1, 2, 3, 4]\n",
    "print(double(numbers)) # [2, 4, 6, 8]\n",
    "print(numbers) # [1, 2, 3, 4]"
   ]
  },
  {
   "cell_type": "markdown",
   "metadata": {},
   "source": [
    "### Slicing and concatenation"
   ]
  },
  {
   "cell_type": "markdown",
   "metadata": {},
   "source": [
    "The Python slice operator (`[:]`) creates a new list that contains a copy of a segment of the given list:"
   ]
  },
  {
   "cell_type": "code",
   "execution_count": null,
   "metadata": {},
   "outputs": [],
   "source": [
    "numbers = [1, 2, 3, 4, 5, 6, 7, 8]\n",
    "print(numbers[2:6]) # [3, 4, 5, 6]"
   ]
  },
  {
   "cell_type": "markdown",
   "metadata": {},
   "source": [
    "This operator needs $O(n)$ time because it copies the contents from the old list to the new list.\n",
    "\n",
    "Since the slice operator copies the elements, it can be used for copying the contents of the whole list too. The following lines are equivalent:"
   ]
  },
  {
   "cell_type": "code",
   "execution_count": null,
   "metadata": {},
   "outputs": [],
   "source": [
    "result = numbers.copy()"
   ]
  },
  {
   "cell_type": "code",
   "execution_count": null,
   "metadata": {},
   "outputs": [],
   "source": [
    "result = numbers[:]"
   ]
  },
  {
   "cell_type": "markdown",
   "metadata": {},
   "source": [
    "The operator `+` can be used for concatenating lists:"
   ]
  },
  {
   "cell_type": "code",
   "execution_count": null,
   "metadata": {},
   "outputs": [],
   "source": [
    "first = [1, 2, 3, 4]\n",
    "second = [5, 6, 7, 8]\n",
    "print(first + second) # [1, 2, 3, 4, 5, 6, 7, 8]"
   ]
  },
  {
   "cell_type": "markdown",
   "metadata": {},
   "source": [
    "This takes $O(n)$ time, because the operator copies the elements from the original lists to the new list."
   ]
  },
  {
   "cell_type": "markdown",
   "metadata": {},
   "source": [
    "## Lists in other languages"
   ]
  },
  {
   "cell_type": "markdown",
   "metadata": {},
   "source": [
    "The list described in this chapter is more generally known as an *array list* or a *dynamic array*.\n",
    "\n",
    "In low level languages (such as C++ and Java), the basic data structure is usually the *array*. Like a list, an array is a sequence of consecutive elements that can be accessed with indexing. However, an array is assigned a fixed memory area when it is created and its size cannot be changed later. When a variable size is required, these languages have other data structures.\n",
    "\n",
    "In C++ the data structure `std::vector` implements a list:\n",
    "\n",
    "```c++\n",
    "std::vector<int> numbers;\n",
    "\n",
    "numbers.push_back(1);\n",
    "numbers.push_back(2);\n",
    "numbers.push_back(3);\n",
    "```\n",
    "\n",
    "And in Java, the data structure `ArrayList` implements a list:\n",
    "\n",
    "```java\n",
    "ArrayList<Integer> numbers = new ArrayList<>();\n",
    "\n",
    "numbers.add(1);\n",
    "numbers.add(2);\n",
    "numbers.add(3);\n",
    "```\n",
    "\n",
    "In JavaScript, the basic data structure is called `Array`, but it is really a list since its size can be changed:\n",
    "\n",
    "```javascript\n",
    "numbers = [];\n",
    "\n",
    "numbers.push(1);\n",
    "numbers.push(2);\n",
    "numbers.push(3);\n",
    "```"
   ]
  }
 ],
 "metadata": {
  "kernelspec": {
   "display_name": "Python 3",
   "language": "python",
   "name": "python3"
  },
  "language_info": {
   "codemirror_mode": {
    "name": "ipython",
    "version": 3
   },
   "file_extension": ".py",
   "mimetype": "text/x-python",
   "name": "python",
   "nbconvert_exporter": "python",
   "pygments_lexer": "ipython3",
   "version": "3.12.3"
  }
 },
 "nbformat": 4,
 "nbformat_minor": 2
}
