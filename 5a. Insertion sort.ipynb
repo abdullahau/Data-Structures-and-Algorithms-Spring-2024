{
 "cells": [
  {
   "cell_type": "markdown",
   "metadata": {},
   "source": [
    "# Insertion sort"
   ]
  },
  {
   "cell_type": "markdown",
   "metadata": {},
   "source": [
    "*Insertion sort* is a simple sorting algorithm with time complexity $O(n^2)$.\n",
    "\n",
    "The algorithm goes through the list from left to right. At each position, the element at that position is moved to the left so that the beginning of the list up to that position is in the correct order. When the algorithm has processed all positions, the whole list is in order."
   ]
  },
  {
   "cell_type": "markdown",
   "metadata": {},
   "source": [
    "## Example"
   ]
  },
  {
   "attachments": {
    "image.png": {
     "image/png": "[encoded data removed]"
    }
   },
   "cell_type": "markdown",
   "metadata": {},
   "source": [
    "The following picture illustrates the operation of insertion sort when sorting the list $[5,2,4,2,6,1]$.\n",
    "\n",
    "![insertion-sort.png](attachment:image.png)"
   ]
  },
  {
   "cell_type": "markdown",
   "metadata": {},
   "source": [
    "## Implementation"
   ]
  },
  {
   "cell_type": "markdown",
   "metadata": {},
   "source": [
    "Insertion sort can be implemented in Python as follows:"
   ]
  },
  {
   "cell_type": "code",
   "execution_count": 4,
   "metadata": {},
   "outputs": [
    {
     "name": "stdout",
     "output_type": "stream",
     "text": [
      "[1, 2, 2, 4, 5, 6]\n"
     ]
    }
   ],
   "source": [
    "def swap(items, a, b):\n",
    "    temp = items[a]\n",
    "    items[a] = items[b]\n",
    "    items[b] = temp\n",
    "\n",
    "def insertion_sort(items):\n",
    "    for i in range(1, len(items)):\n",
    "        for j in range(i - 1, -1, -1):\n",
    "            if items[j] > items[j + 1]:\n",
    "                swap(items, j, j + 1)\n",
    "            else:\n",
    "                break\n",
    "        \n",
    "numbers = [5, 2, 4, 2, 6, 1]\n",
    "insertion_sort(numbers)\n",
    "print(numbers) # [1, 2, 2, 4, 5, 6]"
   ]
  },
  {
   "cell_type": "code",
   "execution_count": 5,
   "metadata": {},
   "outputs": [
    {
     "name": "stdout",
     "output_type": "stream",
     "text": [
      "[1, 2, 2, 4, 5, 6]\n"
     ]
    }
   ],
   "source": [
    "def swap(items, a, b):\n",
    "    items[a], items[b] = items[b], items[a]\n",
    "\n",
    "def insertion_sort(items):\n",
    "    for i in range(1, len(items)):\n",
    "        for j in range(i - 1, -1, -1):\n",
    "            if items[j] > items[j + 1]:\n",
    "                swap(items, j, j + 1)\n",
    "            else:\n",
    "                break\n",
    "        \n",
    "numbers = [5, 2, 4, 2, 6, 1]\n",
    "insertion_sort(numbers)\n",
    "print(numbers) # [1, 2, 2, 4, 5, 6]"
   ]
  },
  {
   "cell_type": "markdown",
   "metadata": {},
   "source": [
    "The function `insertion_sort` sorts the given list using insertion sort. The function has two nested loops. The first loop goes through the list positions from left to right, and the second loop moves the element in the current position to its correct sorted position among the elements up to that position. The moving of elements is done using the function `swap` that swaps the positions of two elements.\n",
    "\n",
    "Notice that the above function `insertion_sort` is intended for illustrating insertion sort and not as an example of the best way to implement sorting in Python. It is better to use the built-in implementations `sort` and `sorted` in Python."
   ]
  },
  {
   "cell_type": "markdown",
   "metadata": {},
   "source": [
    "## Efficiency"
   ]
  },
  {
   "cell_type": "markdown",
   "metadata": {},
   "source": [
    "The time complexity of insertion sort is $O(n^2)$ because it has two nested loops. The worst case for the algorithm is if the initial list is in reverse order. Then every element has to be moved all the way to the beginning of the list step by step.\n",
    "\n",
    "A more precise measure of the efficiency of insertion sort is the number of *inversions*. A pair of numbers $(a,b)$ is an inversion if $a<b$ and the list elements at the positions $a$ and $b$ are in the wrong order. For example, in the list $[5,2,4,2,6,1]$ the inversions are $(0,1)$, $(0,2)$, $(0,3)$, $(0,5)$, $(1,5)$, $(2,3)$, $(2,5)$, $(3,5)$ and $(4,5)$.\n",
    "\n",
    "Every swap made by the algorithm removes one inversion from the list, and the final sorted list has no inversions. Thus the number of swaps performed by the algorithm is equal to the number of inversions on the original list. When the list is in reverse order, the number of inversions is $n(n-1)/2$ which is of order $O(n^2)$.\n",
    "\n",
    "Any sorting algorithm that operates by swapping adjacents elements cannot have a better time complexity than $O(n^2)$. This is because the number of inversion can be $O(n^2)$ and each swap removes only one inversion. Efficient sorting algorithms move elements more efficiently than by swapping adjacent elements."
   ]
  },
  {
   "cell_type": "code",
   "execution_count": 9,
   "metadata": {},
   "outputs": [
    {
     "name": "stdout",
     "output_type": "stream",
     "text": [
      "9\n",
      "15\n"
     ]
    }
   ],
   "source": [
    "def count_inversion(t):\n",
    "    n = len(t)\n",
    "    result = 0\n",
    "    for i in range(n):\n",
    "        for j in range(i+1, n):\n",
    "            if t[i] > t[j]:\n",
    "                result += 1\n",
    "    return result\n",
    "\n",
    "numbers = [5, 2, 4, 2, 6, 1]\n",
    "print(count_inversion(numbers))\n",
    "numbers_reverse = [6,5,4,3,2,1]\n",
    "print(count_inversion(numbers_reverse))\n"
   ]
  }
 ],
 "metadata": {
  "kernelspec": {
   "display_name": "Python 3",
   "language": "python",
   "name": "python3"
  },
  "language_info": {
   "codemirror_mode": {
    "name": "ipython",
    "version": 3
   },
   "file_extension": ".py",
   "mimetype": "text/x-python",
   "name": "python",
   "nbconvert_exporter": "python",
   "pygments_lexer": "ipython3",
   "version": "3.12.3"
  }
 },
 "nbformat": 4,
 "nbformat_minor": 2
}
