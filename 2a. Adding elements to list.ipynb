{
 "cells": [
  {
   "cell_type": "markdown",
   "metadata": {},
   "source": [
    "# Adding elements to list"
   ]
  },
  {
   "cell_type": "markdown",
   "metadata": {},
   "source": [
    "When an element is added to the end of a list, the time needed is $O(1)$ or $O(n)$ depending on whether the memory area reserved for the list has room for the new element or not. If there is no room, a new, bigger memory area is reserved and all the elements are copied there from the old memory area.\n",
    "\n",
    "Although the worst case time complexity is $O(n)$, it can be shown that the average case time complexity is $O(1)$ with an appropriate method of memory reservation. One such method is to *double* the reserved memory area whenever more memory is needed.\n",
    "\n",
    "Consider a situation, where the list contains $n$ elements and it was just moved to a new memory area. That last relocation moved $n$ elements, the one before that moved $n/2$ elements, the one before that moved $n/4$ elements, etc.. Thus the total number of element moves is:\n",
    "\n",
    "$$n+n/2+n/4+n/8+⋯<2n=O(n)$$\n",
    "\n",
    "Because $n$ elements have been added to the list and the total number of moves is $O(n)$, the number of moves per element addition is $O(1)$ on average.\n",
    "\n",
    "More generally, if the size of the memory area is multiplied by $c$ with each expansion, the number of moves is:\n",
    "\n",
    "$$n+n/c+n/c^{2}+n/c^{3}+⋯=O(n)$$\n",
    "\n",
    "where $c$ is any constant bigger than $1$. The constant $c$ controls a tradeoff between efficiency and memory use. A bigger $c$ means that there is less copying and more memory reserved but unused."
   ]
  },
  {
   "cell_type": "markdown",
   "metadata": {},
   "source": [
    "## Python implementation"
   ]
  },
  {
   "cell_type": "markdown",
   "metadata": {},
   "source": [
    "We can study the memory use of a Python list with the following code:"
   ]
  },
  {
   "cell_type": "code",
   "execution_count": 1,
   "metadata": {},
   "outputs": [
    {
     "name": "stdout",
     "output_type": "stream",
     "text": [
      "0 56\n",
      "1 88\n",
      "5 120\n",
      "9 184\n",
      "17 248\n",
      "25 312\n",
      "33 376\n",
      "41 472\n",
      "53 568\n",
      "65 664\n",
      "77 792\n",
      "93 920\n"
     ]
    }
   ],
   "source": [
    "import sys\n",
    "\n",
    "n = 100\n",
    "\n",
    "numbers = []\n",
    "old_size = 0\n",
    "\n",
    "for i in range(n):\n",
    "    new_size = sys.getsizeof(numbers)\n",
    "\n",
    "    if new_size != old_size:\n",
    "        print(len(numbers), new_size)\n",
    "        old_size = new_size\n",
    "\n",
    "    numbers.append(1)"
   ]
  },
  {
   "cell_type": "markdown",
   "metadata": {},
   "source": [
    "The code uses the function `sys.getsizeof` that returns the memory used by the given object in bytes. The code creates an empty list and then adds elements to the list one at a time. Whenever the memory usage changes, the code prints out the length and memory use of the list.\n",
    "\n",
    "In the test computer (CPython 3.10.6), the code prints:"
   ]
  },
  {
   "cell_type": "markdown",
   "metadata": {},
   "source": [
    "```\n",
    "0 56\n",
    "1 88\n",
    "5 120\n",
    "9 184\n",
    "17 248\n",
    "25 312\n",
    "33 376\n",
    "41 472\n",
    "53 568\n",
    "65 664\n",
    "77 792\n",
    "93 920\n",
    "```"
   ]
  },
  {
   "cell_type": "markdown",
   "metadata": {},
   "source": [
    "This shows that an empty list requires 56 bytes of memory, and that each additional element needs 8 bytes. The memory usage grows when the number of elements grows to 1, 5, 9, 17, 25, etc.. For example, when the element count reaches 17, the new memory usage is 248 bytes and there is room for (248 - 56) / 8 = 24 elements. Thus the next expansion happens when the element count reaches 25.\n",
    "\n",
    "Studying the [list implementation in CPython](https://github.com/python/cpython/blob/0a9b339363a59be1249189c767ed6f46fd71e1c7/Objects/listobject.c#L72) shows that the number of elements that fit in the new memory area is $n+⌊n/8⌋+6$ rounded down to the nearest multiple of 4, where $n$ is the element count that triggered the expansion. For example when $n=17$, the formula evaluates to $17+⌊17/8⌋+6=25$ and the nearest multiple of 4 is 24. This means that the memory size changes approximately by the factor $9/8$ in each expansion."
   ]
  }
 ],
 "metadata": {
  "kernelspec": {
   "display_name": "Python 3",
   "language": "python",
   "name": "python3"
  },
  "language_info": {
   "codemirror_mode": {
    "name": "ipython",
    "version": 3
   },
   "file_extension": ".py",
   "mimetype": "text/x-python",
   "name": "python",
   "nbconvert_exporter": "python",
   "pygments_lexer": "ipython3",
   "version": "3.12.3"
  }
 },
 "nbformat": 4,
 "nbformat_minor": 2
}
