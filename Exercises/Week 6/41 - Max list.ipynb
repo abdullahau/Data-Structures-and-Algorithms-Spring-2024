{
 "cells": [
  {
   "cell_type": "markdown",
   "metadata": {},
   "source": [
    "# Max list"
   ]
  },
  {
   "cell_type": "markdown",
   "metadata": {},
   "source": [
    "Implement a class `MaxList` with the following methods:\n",
    "\n",
    "-   `add(x)`: add the number `x` to the list\n",
    "-   `max()`: return the largest number on the list (or `None` if the list is empty)\n",
    "\n",
    "The time complexity of both methods should be $O(1)$.\n",
    "\n",
    "In a file `maxlist.py`, implement a class `MaxList` according to the following template:"
   ]
  },
  {
   "cell_type": "code",
   "execution_count": null,
   "metadata": {},
   "outputs": [],
   "source": [
    "class MaxList:\n",
    "    def __init__(self):\n",
    "        # TODO\n",
    "\n",
    "    def add(self, x):\n",
    "        # TODO\n",
    "\n",
    "    def max(self):\n",
    "        # TODO\n",
    "\n",
    "if __name__ == \"__main__\":\n",
    "    m = MaxList()\n",
    "    print(m.max()) # None\n",
    "    m.add(1)\n",
    "    m.add(2)\n",
    "    m.add(3)\n",
    "    print(m.max()) # 3\n",
    "    m.add(8)\n",
    "    m.add(5)\n",
    "    print(m.max()) # 8"
   ]
  },
  {
   "cell_type": "markdown",
   "metadata": {},
   "source": [
    "## Attempt 1"
   ]
  },
  {
   "cell_type": "code",
   "execution_count": 1,
   "metadata": {},
   "outputs": [
    {
     "name": "stdout",
     "output_type": "stream",
     "text": [
      "None\n",
      "3\n",
      "8\n"
     ]
    }
   ],
   "source": [
    "class MaxList:\n",
    "    def __init__(self):\n",
    "        self.stack = []\n",
    "        self.maximum = None\n",
    " \n",
    "    def add(self, x):\n",
    "        self.stack.append(x)\n",
    "        if self.maximum != None:\n",
    "            self.maximum = max(self.maximum, x)\n",
    "        else:\n",
    "            self.maximum = x\n",
    "    \n",
    "    def max(self):\n",
    "        if self.maximum != None:\n",
    "            return self.maximum\n",
    "\n",
    "if __name__ == \"__main__\":\n",
    "    m = MaxList()\n",
    "    print(m.max()) # None\n",
    "    m.add(1)\n",
    "    m.add(2)\n",
    "    m.add(3)\n",
    "    print(m.max()) # 3\n",
    "    m.add(8)\n",
    "    m.add(5)\n",
    "    print(m.max()) # 8"
   ]
  },
  {
   "cell_type": "markdown",
   "metadata": {},
   "source": [
    "## Solution"
   ]
  },
  {
   "cell_type": "markdown",
   "metadata": {},
   "source": [
    "The following class stores the maximum list element in the variable `max_value`. Since the method `max` is the only way to access information in the class, there is no need to store the full list."
   ]
  },
  {
   "cell_type": "code",
   "execution_count": null,
   "metadata": {},
   "outputs": [],
   "source": [
    "class MaxList:\n",
    "    def __init__(self):\n",
    "        self.max_value = None\n",
    "\n",
    "    def add(self, x):\n",
    "        if self.max_value is None:\n",
    "            self.max_value = x\n",
    "        self.max_value = max(self.max_value, x)\n",
    "\n",
    "    def max(self):\n",
    "        return self.max_value"
   ]
  }
 ],
 "metadata": {
  "kernelspec": {
   "display_name": "Python 3",
   "language": "python",
   "name": "python3"
  },
  "language_info": {
   "codemirror_mode": {
    "name": "ipython",
    "version": 3
   },
   "file_extension": ".py",
   "mimetype": "text/x-python",
   "name": "python",
   "nbconvert_exporter": "python",
   "pygments_lexer": "ipython3",
   "version": "3.12.3"
  }
 },
 "nbformat": 4,
 "nbformat_minor": 2
}
