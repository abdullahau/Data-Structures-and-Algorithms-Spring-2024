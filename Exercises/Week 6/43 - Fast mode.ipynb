{
 "cells": [
  {
   "cell_type": "markdown",
   "metadata": {},
   "source": [
    "# Fast mode"
   ]
  },
  {
   "cell_type": "markdown",
   "metadata": {},
   "source": [
    "Implement the class `FastMode` with the following methods:\n",
    "\n",
    "-   `add(x, k)`: add the number `x` to the list `k` times\n",
    "-   `mode()`: return the mode of the list, i.e., the most frequent element (if there are multiple modes, return the smallest of them)\n",
    "\n",
    "The time complexity of both methods should be $O(1)$.\n",
    "\n",
    "In a file `fastmode.py`, implement a class `FastMode` according to the following template:"
   ]
  },
  {
   "cell_type": "code",
   "execution_count": null,
   "metadata": {},
   "outputs": [],
   "source": [
    "class FastMode:\n",
    "    def __init__(self):\n",
    "        # TODO\n",
    "\n",
    "    def add(self, x, k):\n",
    "        # TODO\n",
    "\n",
    "    def mode(self):\n",
    "        # TODO\n",
    "\n",
    "if __name__ == \"__main__\":\n",
    "    m = FastMode()\n",
    "    m.add(4, 7)\n",
    "    print(m.mode()) # 4\n",
    "    m.add(8, 5)\n",
    "    print(m.mode()) # 4\n",
    "    m.add(8, 3)\n",
    "    print(m.mode()) # 8\n",
    "    m.add(4, 1)\n",
    "    print(m.mode()) # 4"
   ]
  },
  {
   "cell_type": "markdown",
   "metadata": {},
   "source": [
    "## Attempt 1"
   ]
  },
  {
   "cell_type": "code",
   "execution_count": 10,
   "metadata": {},
   "outputs": [
    {
     "name": "stdout",
     "output_type": "stream",
     "text": [
      "4\n",
      "4\n",
      "8\n",
      "4\n"
     ]
    }
   ],
   "source": [
    "class FastMode:\n",
    "    def __init__(self):\n",
    "        self.collection = {}\n",
    "        self.most = (None, None)\n",
    "\n",
    "    def add(self, x, k):\n",
    "        if x not in self.collection:\n",
    "            self.collection[x] = 0\n",
    "        self.collection[x] += k \n",
    "        \n",
    "        if self.most == (None, None):\n",
    "            self.most = (k, -x)\n",
    "        self.most = max(self.most, (self.collection[x], -x))\n",
    "\n",
    "    def mode(self):\n",
    "        return abs(self.most[1])\n",
    "\n",
    "if __name__ == \"__main__\":\n",
    "    m = FastMode()\n",
    "    m.add(4, 7)\n",
    "    print(m.mode()) # 4\n",
    "    m.add(8, 5)\n",
    "    print(m.mode()) # 4\n",
    "    m.add(8, 3)\n",
    "    print(m.mode()) # 8\n",
    "    m.add(4, 1)\n",
    "    print(m.mode()) # 4"
   ]
  },
  {
   "cell_type": "markdown",
   "metadata": {},
   "source": [
    "## Solution"
   ]
  },
  {
   "cell_type": "markdown",
   "metadata": {},
   "source": [
    "This is a modified version of the example class in the course material. The method add has been modified increment the count by $k$ instead of by one. The variable status now stores the value of the mode negated so that the function `max` chooses the mode with the smallest value when there are multiple modes."
   ]
  },
  {
   "cell_type": "code",
   "execution_count": null,
   "metadata": {},
   "outputs": [],
   "source": [
    "class FastMode:\n",
    "    def __init__(self):\n",
    "        self.count = {}\n",
    "        self.status = (0, 0)\n",
    "\n",
    "    def add(self, x, k):\n",
    "        if x not in self.count:\n",
    "            self.count[x] = 0\n",
    "        self.count[x] += k\n",
    "        self.status = max(self.status, (self.count[x], -x))\n",
    "\n",
    "    def mode(self):\n",
    "        return -self.status[1]"
   ]
  }
 ],
 "metadata": {
  "kernelspec": {
   "display_name": "Python 3",
   "language": "python",
   "name": "python3"
  },
  "language_info": {
   "codemirror_mode": {
    "name": "ipython",
    "version": 3
   },
   "file_extension": ".py",
   "mimetype": "text/x-python",
   "name": "python",
   "nbconvert_exporter": "python",
   "pygments_lexer": "ipython3",
   "version": "3.12.3"
  }
 },
 "nbformat": 4,
 "nbformat_minor": 2
}
