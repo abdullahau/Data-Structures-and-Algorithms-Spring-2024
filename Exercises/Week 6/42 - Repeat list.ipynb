{
 "cells": [
  {
   "cell_type": "markdown",
   "metadata": {},
   "source": [
    "# Repeat list"
   ]
  },
  {
   "cell_type": "markdown",
   "metadata": {},
   "source": [
    "Implement the class `RepeatList` with the following methods:\n",
    "\n",
    "-   `add(x)`: add the number `x` to the list\n",
    "-   `check()`: return `True` if some number repeats on the list, otherwise `False`\n",
    "\n",
    "The time complexity of each method should be $O(1)$.\n",
    "\n",
    "In a file `repeatlist.py`, implement a class `RepeatList` according to the following template:"
   ]
  },
  {
   "cell_type": "code",
   "execution_count": null,
   "metadata": {},
   "outputs": [],
   "source": [
    "class RepeatList:\n",
    "    def __init__(self):\n",
    "        # TODO\n",
    "\n",
    "    def add(self, x):\n",
    "        # TODO\n",
    "\n",
    "    def check(self):\n",
    "        # TODO\n",
    "\n",
    "if __name__ == \"__main__\":\n",
    "    r = RepeatList()\n",
    "    print(r.check()) # False\n",
    "    r.add(1)\n",
    "    r.add(2)\n",
    "    r.add(3)\n",
    "    print(r.check()) # False\n",
    "    r.add(2)\n",
    "    print(r.check()) # True\n",
    "    r.add(5)\n",
    "    print(r.check()) # True"
   ]
  },
  {
   "cell_type": "markdown",
   "metadata": {},
   "source": [
    "## Attempt 1"
   ]
  },
  {
   "cell_type": "code",
   "execution_count": null,
   "metadata": {},
   "outputs": [],
   "source": []
  }
 ],
 "metadata": {
  "kernelspec": {
   "display_name": "Python 3",
   "language": "python",
   "name": "python3"
  },
  "language_info": {
   "name": "python",
   "version": "3.12.3"
  }
 },
 "nbformat": 4,
 "nbformat_minor": 2
}
