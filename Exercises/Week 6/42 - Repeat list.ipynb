{
 "cells": [
  {
   "cell_type": "markdown",
   "metadata": {},
   "source": [
    "# Repeat list"
   ]
  },
  {
   "cell_type": "markdown",
   "metadata": {},
   "source": [
    "Implement the class `RepeatList` with the following methods:\n",
    "\n",
    "-   `add(x)`: add the number `x` to the list\n",
    "-   `check()`: return `True` if some number repeats on the list, otherwise `False`\n",
    "\n",
    "The time complexity of each method should be $O(1)$.\n",
    "\n",
    "In a file `repeatlist.py`, implement a class `RepeatList` according to the following template:"
   ]
  },
  {
   "cell_type": "code",
   "execution_count": null,
   "metadata": {},
   "outputs": [],
   "source": [
    "class RepeatList:\n",
    "    def __init__(self):\n",
    "        # TODO\n",
    "\n",
    "    def add(self, x):\n",
    "        # TODO\n",
    "\n",
    "    def check(self):\n",
    "        # TODO\n",
    "\n",
    "if __name__ == \"__main__\":\n",
    "    r = RepeatList()\n",
    "    print(r.check()) # False\n",
    "    r.add(1)\n",
    "    r.add(2)\n",
    "    r.add(3)\n",
    "    print(r.check()) # False\n",
    "    r.add(2)\n",
    "    print(r.check()) # True\n",
    "    r.add(5)\n",
    "    print(r.check()) # True"
   ]
  },
  {
   "cell_type": "markdown",
   "metadata": {},
   "source": [
    "## Attempt 1"
   ]
  },
  {
   "cell_type": "code",
   "execution_count": 1,
   "metadata": {},
   "outputs": [
    {
     "name": "stdout",
     "output_type": "stream",
     "text": [
      "False\n",
      "False\n",
      "True\n",
      "True\n"
     ]
    }
   ],
   "source": [
    "class RepeatList:\n",
    "    def __init__(self):\n",
    "        self.nums = {}\n",
    "        self.repeat = False\n",
    "\n",
    "    def add(self, x):\n",
    "        if x in self.nums:\n",
    "            self.repeat = True\n",
    "            self.nums[x] += 1\n",
    "        else:\n",
    "            self.nums[x] = 1\n",
    "\n",
    "    def check(self):\n",
    "        return self.repeat\n",
    "\n",
    "if __name__ == \"__main__\":\n",
    "    r = RepeatList()\n",
    "    print(r.check()) # False\n",
    "    r.add(1)\n",
    "    r.add(2)\n",
    "    r.add(3)\n",
    "    print(r.check()) # False\n",
    "    r.add(2)\n",
    "    print(r.check()) # True\n",
    "    r.add(5)\n",
    "    print(r.check()) # True"
   ]
  },
  {
   "cell_type": "markdown",
   "metadata": {},
   "source": [
    "## Solution"
   ]
  },
  {
   "cell_type": "markdown",
   "metadata": {},
   "source": [
    "In the class below, the set `items` stores the elements of the list, and the variable `status` tells if a repeat has occurred. The method `add` checks if the added element is a repeat and changes the status if needed."
   ]
  },
  {
   "cell_type": "code",
   "execution_count": null,
   "metadata": {},
   "outputs": [],
   "source": [
    "class RepeatList:\n",
    "    def __init__(self):\n",
    "        self.items = set()\n",
    "        self.status = False\n",
    "\n",
    "    def add(self, x):\n",
    "        if x in self.items:\n",
    "            self.status = True\n",
    "        self.items.add(x)\n",
    "\n",
    "    def check(self):\n",
    "        return self.status"
   ]
  }
 ],
 "metadata": {
  "kernelspec": {
   "display_name": "Python 3",
   "language": "python",
   "name": "python3"
  },
  "language_info": {
   "codemirror_mode": {
    "name": "ipython",
    "version": 3
   },
   "file_extension": ".py",
   "mimetype": "text/x-python",
   "name": "python",
   "nbconvert_exporter": "python",
   "pygments_lexer": "ipython3",
   "version": "3.12.3"
  }
 },
 "nbformat": 4,
 "nbformat_minor": 2
}
