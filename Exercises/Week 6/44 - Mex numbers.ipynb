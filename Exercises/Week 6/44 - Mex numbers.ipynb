{
 "cells": [
  {
   "cell_type": "markdown",
   "metadata": {},
   "source": [
    "# Mex numbers"
   ]
  },
  {
   "cell_type": "markdown",
   "metadata": {},
   "source": [
    "Implement a class `Mex` with the following method:\n",
    "\n",
    "-   `add(x)`: add the number `x` to the list and return the mex number of the list\n",
    "\n",
    "The mex number of a list is the smallest non-negative integer that does not occur on the list. For example, the mex number of the list $[2,0,3,4,2]$ is $1$.\n",
    "\n",
    "The method `add` should take $O(1)$ time on average. You may assume that all the numbers added to the list are non-negative.\n",
    "\n",
    "In a file `mex.py`, implement a class `Mex` according to the following template:"
   ]
  },
  {
   "cell_type": "code",
   "execution_count": null,
   "metadata": {},
   "outputs": [],
   "source": [
    "class Mex:\n",
    "    def __init__(self):\n",
    "        # TODO\n",
    "\n",
    "    def add(self, x):\n",
    "        # TODO\n",
    "\n",
    "if __name__ == \"__main__\":\n",
    "    m = Mex()\n",
    "    print(m.add(1)) # 0\n",
    "    print(m.add(3)) # 0\n",
    "    print(m.add(4)) # 0\n",
    "    print(m.add(0)) # 2\n",
    "    print(m.add(5)) # 2\n",
    "    print(m.add(2)) # 6"
   ]
  },
  {
   "cell_type": "markdown",
   "metadata": {},
   "source": [
    "## Attempt 1"
   ]
  },
  {
   "cell_type": "code",
   "execution_count": null,
   "metadata": {},
   "outputs": [],
   "source": [
    "class Mex:\n",
    "    def __init__(self):\n",
    "        self.nums = set()\n",
    "        self.min = 0\n",
    "\n",
    "    def add(self, x):\n",
    "        if x == self.min:\n",
    "            self.min += 1\n",
    "\n",
    "if __name__ == \"__main__\":\n",
    "    m = Mex()\n",
    "    print(m.add(1)) # 0\n",
    "    print(m.add(3)) # 0\n",
    "    print(m.add(4)) # 0\n",
    "    print(m.add(0)) # 2\n",
    "    print(m.add(5)) # 2\n",
    "    print(m.add(2)) # 6"
   ]
  }
 ],
 "metadata": {
  "kernelspec": {
   "display_name": "Python 3",
   "language": "python",
   "name": "python3"
  },
  "language_info": {
   "codemirror_mode": {
    "name": "ipython",
    "version": 3
   },
   "file_extension": ".py",
   "mimetype": "text/x-python",
   "name": "python",
   "nbconvert_exporter": "python",
   "pygments_lexer": "ipython3",
   "version": "3.12.3"
  }
 },
 "nbformat": 4,
 "nbformat_minor": 2
}
