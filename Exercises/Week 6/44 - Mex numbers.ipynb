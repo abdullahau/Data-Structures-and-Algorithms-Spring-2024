{
 "cells": [
  {
   "cell_type": "markdown",
   "metadata": {},
   "source": [
    "# Mex numbers"
   ]
  },
  {
   "cell_type": "markdown",
   "metadata": {},
   "source": [
    "Implement a class `Mex` with the following method:\n",
    "\n",
    "-   `add(x)`: add the number `x` to the list and return the mex number of the list\n",
    "\n",
    "The mex number of a list is the smallest non-negative integer that does not occur on the list. For example, the mex number of the list $[2,0,3,4,2]$ is $1$.\n",
    "\n",
    "The method `add` should take $O(1)$ time on average. You may assume that all the numbers added to the list are non-negative.\n",
    "\n",
    "In a file `mex.py`, implement a class `Mex` according to the following template:"
   ]
  },
  {
   "cell_type": "code",
   "execution_count": null,
   "metadata": {},
   "outputs": [],
   "source": [
    "class Mex:\n",
    "    def __init__(self):\n",
    "        # TODO\n",
    "\n",
    "    def add(self, x):\n",
    "        # TODO\n",
    "\n",
    "if __name__ == \"__main__\":\n",
    "    m = Mex()\n",
    "    print(m.add(1)) # 0\n",
    "    print(m.add(3)) # 0\n",
    "    print(m.add(4)) # 0\n",
    "    print(m.add(0)) # 2\n",
    "    print(m.add(5)) # 2\n",
    "    print(m.add(2)) # 6"
   ]
  },
  {
   "cell_type": "markdown",
   "metadata": {},
   "source": [
    "## Attempt 1"
   ]
  },
  {
   "cell_type": "code",
   "execution_count": 34,
   "metadata": {},
   "outputs": [
    {
     "name": "stdout",
     "output_type": "stream",
     "text": [
      "Test 1\n",
      "1\n",
      "2\n",
      "2\n",
      "3\n",
      "3\n",
      "3\n",
      "3\n",
      "3\n",
      "3\n",
      "3\n",
      "Test 2\n",
      "0\n",
      "0\n",
      "0\n",
      "2\n",
      "2\n",
      "6\n"
     ]
    }
   ],
   "source": [
    "class Mex:\n",
    "    def __init__(self):\n",
    "        self.nums = set()\n",
    "        self.mex = 0\n",
    "\n",
    "    def add(self, x):\n",
    "        self.nums.add(x)\n",
    "        \n",
    "        if self.mex in self.nums:\n",
    "            return self.gen()\n",
    "        else:\n",
    "            return self.mex\n",
    "    \n",
    "    def gen(self):\n",
    "        while True:\n",
    "            self.mex += 1\n",
    "            if self.mex not in self.nums:\n",
    "                return self.mex\n",
    "    \n",
    "if __name__ == \"__main__\":\n",
    "    print(\"Test 1\")\n",
    "    m = Mex()\n",
    "    print(m.add(0))\n",
    "    print(m.add(1))\n",
    "    print(m.add(7))\n",
    "    print(m.add(2))\n",
    "    print(m.add(4))\n",
    "    print(m.add(4))\n",
    "    print(m.add(2))\n",
    "    print(m.add(2))\n",
    "    print(m.add(1))\n",
    "    print(m.add(4))\n",
    "    print(\"Test 2\")\n",
    "    m = Mex()\n",
    "    print(m.add(1)) # 0\n",
    "    print(m.add(3)) # 0\n",
    "    print(m.add(4)) # 0\n",
    "    print(m.add(0)) # 2\n",
    "    print(m.add(5)) # 2\n",
    "    print(m.add(2)) # 6"
   ]
  },
  {
   "cell_type": "code",
   "execution_count": 35,
   "metadata": {},
   "outputs": [
    {
     "name": "stdout",
     "output_type": "stream",
     "text": [
      "Test 1\n",
      "1\n",
      "2\n",
      "2\n",
      "3\n",
      "3\n",
      "3\n",
      "3\n",
      "3\n",
      "3\n",
      "3\n",
      "Test 2\n",
      "0\n",
      "0\n",
      "0\n",
      "2\n",
      "2\n",
      "6\n"
     ]
    }
   ],
   "source": [
    "class Mex:\n",
    "    def __init__(self):\n",
    "        self.nums = set()\n",
    "        self.mex = 0\n",
    "\n",
    "    def add(self, x):\n",
    "        self.nums.add(x)\n",
    "        \n",
    "        if self.mex in self.nums:\n",
    "            return self.gen()\n",
    "        else:\n",
    "            return self.mex\n",
    "    \n",
    "    def gen(self):\n",
    "        while self.mex in self.nums:\n",
    "            self.mex += 1\n",
    "        return self.mex\n",
    "    \n",
    "if __name__ == \"__main__\":\n",
    "    print(\"Test 1\")\n",
    "    m = Mex()\n",
    "    print(m.add(0))\n",
    "    print(m.add(1))\n",
    "    print(m.add(7))\n",
    "    print(m.add(2))\n",
    "    print(m.add(4))\n",
    "    print(m.add(4))\n",
    "    print(m.add(2))\n",
    "    print(m.add(2))\n",
    "    print(m.add(1))\n",
    "    print(m.add(4))\n",
    "    print(\"Test 2\")\n",
    "    m = Mex()\n",
    "    print(m.add(1)) # 0\n",
    "    print(m.add(3)) # 0\n",
    "    print(m.add(4)) # 0\n",
    "    print(m.add(0)) # 2\n",
    "    print(m.add(5)) # 2\n",
    "    print(m.add(2)) # 6"
   ]
  },
  {
   "cell_type": "markdown",
   "metadata": {},
   "source": [
    "## Solution"
   ]
  },
  {
   "cell_type": "markdown",
   "metadata": {},
   "source": [
    "The class maintains the set `seen` that stores all the elements on the list, and the variable `mex` that stores the current mex number. When the current mex number is added to the list, the variable `mex` is incremented until it reaches a number that is not on the list.\n",
    "\n",
    "The method `add` contains a loop that could be iterated many times when the mex number changes. Thus the worst case time complexity is not $O(1)$. However, each round in the loop passes a number that has been added to the list earlier. Thus the total number of rounds in the loop can never be more then the number of calls to the method `add`. This means that the average case time complexity of the method is $O(1)$."
   ]
  },
  {
   "cell_type": "code",
   "execution_count": null,
   "metadata": {},
   "outputs": [],
   "source": [
    "class Mex:\n",
    "    def __init__(self):\n",
    "        self.seen = set()\n",
    "        self.mex = 0\n",
    "\n",
    "    def add(self, x):\n",
    "        self.seen.add(x)\n",
    "        while self.mex in self.seen:\n",
    "            self.mex += 1\n",
    "        return self.mex"
   ]
  }
 ],
 "metadata": {
  "kernelspec": {
   "display_name": "Python 3",
   "language": "python",
   "name": "python3"
  },
  "language_info": {
   "codemirror_mode": {
    "name": "ipython",
    "version": 3
   },
   "file_extension": ".py",
   "mimetype": "text/x-python",
   "name": "python",
   "nbconvert_exporter": "python",
   "pygments_lexer": "ipython3",
   "version": "3.12.3"
  }
 },
 "nbformat": 4,
 "nbformat_minor": 2
}
