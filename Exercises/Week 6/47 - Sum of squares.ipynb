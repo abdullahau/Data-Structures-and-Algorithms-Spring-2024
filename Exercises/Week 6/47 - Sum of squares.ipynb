{
 "cells": [
  {
   "cell_type": "markdown",
   "metadata": {},
   "source": [
    "# Sum of squares"
   ]
  },
  {
   "cell_type": "markdown",
   "metadata": {},
   "source": [
    "When the data contains the observations $(x_1,y_1),(x_2,y_2),\\dots,(x_n,y_n)$ and the line $y=ax+b$ is fitted to the data, the error can be computed with the sum of squares formula $$\\sum_{i=1}^{n}(y_i-(ax_i+b))^2.$$ For example, when the data is $(1,1),(3,2),(5,3)$ and the line is $y=x-1$ (i.e., $a=1$ and $b=-1$), the error is $(1-(1-1))^2+(2-(3-1))^2+(3-(5-1))^2=2.$ Implement a class `SquareSum` with the methods\n",
    "\n",
    "-   `add(x, y)`: add an observation to the data\n",
    "-   `calc(a, b)`: return the sum of squares error for the given line parameters\n",
    "\n",
    "The time complexity of both methods should be $O(1)$.\n",
    "\n",
    "In a file `squaresum.py`, implement a class `SquareSum` according to the following template:"
   ]
  },
  {
   "cell_type": "code",
   "execution_count": null,
   "metadata": {},
   "outputs": [],
   "source": [
    "class SquareSum:\n",
    "    def __init__(self):\n",
    "        # TODO\n",
    "\n",
    "    def add(self, x, y):\n",
    "        # TODO\n",
    "\n",
    "    def calc(self, a, b):\n",
    "        # TODO  \n",
    "\n",
    "if __name__ == \"__main__\":\n",
    "    s = SquareSum()\n",
    "    s.add(1, 1)\n",
    "    s.add(3, 2)\n",
    "    s.add(5, 3)\n",
    "    print(s.calc(1, 0)) # 5\n",
    "    print(s.calc(1, -1)) # 2\n",
    "    print(s.calc(0.5, 0.5)) # 0\n",
    "    s.add(4, 2)\n",
    "    print(s.calc(0.5, 0.5)) # 0.25"
   ]
  },
  {
   "cell_type": "markdown",
   "metadata": {},
   "source": [
    "## Attempt 1"
   ]
  },
  {
   "cell_type": "code",
   "execution_count": 5,
   "metadata": {},
   "outputs": [
    {
     "name": "stdout",
     "output_type": "stream",
     "text": [
      "5\n",
      "2\n",
      "0.0\n",
      "0.25\n"
     ]
    }
   ],
   "source": [
    "# Time Complexity of O(n):\n",
    "\n",
    "class SquareSum:\n",
    "    def __init__(self):\n",
    "        self.coord = []\n",
    "\n",
    "    # Time Complexity of O(1)\n",
    "    def add(self, x, y):\n",
    "        self.coord.append((x, y))\n",
    "\n",
    "    # Time Complexity of O(n)\n",
    "    def calc(self, a, b):\n",
    "        total = 0\n",
    "        for i in self.coord:\n",
    "            total += (i[1] - (i[0]*a + b))**2\n",
    "        return total\n",
    "\n",
    "if __name__ == \"__main__\":\n",
    "    s = SquareSum()\n",
    "    s.add(1, 1)\n",
    "    s.add(3, 2)\n",
    "    s.add(5, 3)\n",
    "    print(s.calc(1, 0)) # 5\n",
    "    print(s.calc(1, -1)) # 2\n",
    "    print(s.calc(0.5, 0.5)) # 0\n",
    "    s.add(4, 2)\n",
    "    print(s.calc(0.5, 0.5)) # 0.25"
   ]
  },
  {
   "cell_type": "code",
   "execution_count": 39,
   "metadata": {},
   "outputs": [
    {
     "name": "stdout",
     "output_type": "stream",
     "text": [
      "64\n",
      "64\n",
      "64\n",
      "64\n",
      "64\n",
      "64\n"
     ]
    }
   ],
   "source": [
    "y = 15\n",
    "x = 4\n",
    "a = 5\n",
    "b = 3\n",
    "print((y - (x*a + b))**2)\n",
    "print((y**2 - 2*y*(a*x + b) + (a*x + b)**2))\n",
    "print((y**2 - 2*y*(a*x + b) + (a*x + b) * (a*x + b)))\n",
    "print((y**2 - 2*y*(a*x + b) + (a**2 * x**2)  + 2*a*x*b + b**2 ))\n",
    "print((y**2 - 2*y*a*x - 2*y*b + (a**2 * x**2)  + 2*a*x*b + b**2 ))\n",
    "print((y**2 - (2*x*y)*(a) - 2*y*(b) + x**2*(a**2)  + x*(2*a*b) + b**2 ))"
   ]
  },
  {
   "cell_type": "code",
   "execution_count": 3,
   "metadata": {},
   "outputs": [
    {
     "name": "stdout",
     "output_type": "stream",
     "text": [
      "5\n",
      "2\n",
      "0.0\n",
      "0.25\n"
     ]
    }
   ],
   "source": [
    "# y**2 - (2*x*y)*(a) - 2*y*(b) + x**2*(a**2)  + x*(2*a*b) + b**2\n",
    "class SquareSum:\n",
    "    def __init__(self):\n",
    "        self.coord = []\n",
    "        self.x = 0\n",
    "        self.y = 0\n",
    "        self.xy = 0\n",
    "        self.xsquare = 0\n",
    "        self.ysquare = 0\n",
    "        \n",
    "\n",
    "    def add(self, x, y):\n",
    "        self.coord.append((x, y))\n",
    "        self.x += x\n",
    "        self.y -= 2*y\n",
    "        self.xy -= 2*x*y\n",
    "        self.xsquare += x**2\n",
    "        self.ysquare += y**2\n",
    "\n",
    "    def calc(self, a, b):\n",
    "        return self.ysquare + (self.xy * a) + (self.y * b) + (self.xsquare * (a)**2) + (self.x * 2 * a * b) + (len(self.coord) * b**2)\n",
    "\n",
    "if __name__ == \"__main__\":\n",
    "    s = SquareSum()\n",
    "    s.add(1, 1)\n",
    "    s.add(3, 2)\n",
    "    s.add(5, 3)\n",
    "    print(s.calc(1, 0)) # 5\n",
    "    print(s.calc(1, -1)) # 2\n",
    "    print(s.calc(0.5, 0.5)) # 0\n",
    "    s.add(4, 2)\n",
    "    print(s.calc(0.5, 0.5)) # 0.25"
   ]
  },
  {
   "cell_type": "markdown",
   "metadata": {},
   "source": [
    "## Solution"
   ]
  },
  {
   "cell_type": "markdown",
   "metadata": {},
   "source": [
    "An efficient solution can be found if we expand the sum of squares formula: $$(y_i-(ax_i+b))^2 = a^2 x_i^2 + y_i^2 - 2a x_i y_i + 2ab x_i - 2b y_i + b^2$$ The class stores the sums of the expressions $x_i$, $y_i$, $x_i y_i$, $x_i^2$ and $y_i^2$. Then the sum of squares error can be computed in constant time for any parameters $a$ and $b$."
   ]
  },
  {
   "cell_type": "code",
   "execution_count": null,
   "metadata": {},
   "outputs": [],
   "source": [
    "class SquareSum:\n",
    "    def __init__(self):\n",
    "        self.n = 0\n",
    "        self.xsum = 0\n",
    "        self.ysum = 0\n",
    "        self.xysum = 0\n",
    "        self.x2sum = 0\n",
    "        self.y2sum = 0\n",
    " \n",
    "    def add(self, x, y):\n",
    "        self.n += 1\n",
    "        self.xsum += x\n",
    "        self.ysum += y\n",
    "        self.xysum += x*y\n",
    "        self.x2sum += x*x\n",
    "        self.y2sum += y*y\n",
    " \n",
    "    def calc(self, a, b):\n",
    "        return a*a*self.x2sum + self.y2sum - 2*a*self.xysum + \\\n",
    "               2*a*b*self.xsum - 2*b*self.ysum + self.n*b*b "
   ]
  }
 ],
 "metadata": {
  "kernelspec": {
   "display_name": "Python 3",
   "language": "python",
   "name": "python3"
  },
  "language_info": {
   "codemirror_mode": {
    "name": "ipython",
    "version": 3
   },
   "file_extension": ".py",
   "mimetype": "text/x-python",
   "name": "python",
   "nbconvert_exporter": "python",
   "pygments_lexer": "ipython3",
   "version": "3.12.3"
  }
 },
 "nbformat": 4,
 "nbformat_minor": 2
}
