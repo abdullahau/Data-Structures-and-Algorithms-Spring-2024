{
 "cells": [
  {
   "cell_type": "markdown",
   "metadata": {},
   "source": [
    "# Different repeats"
   ]
  },
  {
   "cell_type": "markdown",
   "metadata": {},
   "source": [
    "Implement a class `TrackRepeat` with the following methods:\n",
    "\n",
    "-   `add(x, k)`: add the number `x` to the list `k` times\n",
    "-   `check()`: return `True` if each number on the list has a different number of occurrences, and otherwise `False`\n",
    "\n",
    "The time complexity of both methods should be $O(1)$.\n",
    "\n",
    "For example, the list $[1,3,1,1,2,3,1]$ contains three distinct numbers $1$, $2$ and $3$. The number $1$ occurs $4$ times, the number $2$ occurs $1$ times, and the number $3$ occurs $2$ times. Thus each number has a different number of occurrences ($4$, $1$ and $2$ occurrences).\n",
    "\n",
    "In a file `trackrepeat.py`, implement a class `TrackRepeat` according to the following template:"
   ]
  },
  {
   "cell_type": "code",
   "execution_count": null,
   "metadata": {},
   "outputs": [],
   "source": [
    "class TrackRepeat:\n",
    "    def __init__(self):\n",
    "        # TODO\n",
    "\n",
    "    def add(self, x, k):\n",
    "        # TODO\n",
    "\n",
    "    def check(self):\n",
    "        # TODO\n",
    "\n",
    "if __name__ == \"__main__\":\n",
    "    t = TrackRepeat()\n",
    "    print(t.check()) # True\n",
    "    t.add(1, 3)\n",
    "    print(t.check()) # True\n",
    "    t.add(2, 3)\n",
    "    print(t.check()) # False\n",
    "    t.add(2, 2)\n",
    "    print(t.check()) # True\n",
    "    t.add(3, 1)\n",
    "    print(t.check()) # True\n",
    "    t.add(3, 4)\n",
    "    print(t.check()) # False"
   ]
  },
  {
   "cell_type": "markdown",
   "metadata": {},
   "source": [
    "## Attempt 1"
   ]
  },
  {
   "cell_type": "code",
   "execution_count": 2,
   "metadata": {},
   "outputs": [
    {
     "name": "stdout",
     "output_type": "stream",
     "text": [
      "True\n",
      "True\n",
      "False\n",
      "False\n",
      "False\n",
      "False\n"
     ]
    }
   ],
   "source": [
    "class TrackRepeat:\n",
    "    def __init__(self):\n",
    "        self.nums = {}\n",
    "        self.repeats = set()\n",
    "        self.nonrepeat = True\n",
    "\n",
    "    def add(self, x, k):\n",
    "        if x not in self.nums:\n",
    "            self.nums[x] = 0\n",
    "        self.nums[x] += k\n",
    "                \n",
    "        if self.nums[x] in self.repeats:\n",
    "            self.nonrepeat = False\n",
    "\n",
    "        self.repeats.add(k)\n",
    "\n",
    "    def check(self):\n",
    "        return self.nonrepeat\n",
    "\n",
    "if __name__ == \"__main__\":\n",
    "    t = TrackRepeat()\n",
    "    print(t.check()) # True\n",
    "    t.add(1, 3)\n",
    "    print(t.check()) # True\n",
    "    t.add(2, 3)\n",
    "    print(t.check()) # False\n",
    "    t.add(2, 2)\n",
    "    print(t.check()) # True\n",
    "    t.add(3, 1)\n",
    "    print(t.check()) # True\n",
    "    t.add(3, 4)\n",
    "    print(t.check()) # False"
   ]
  }
 ],
 "metadata": {
  "kernelspec": {
   "display_name": "Python 3",
   "language": "python",
   "name": "python3"
  },
  "language_info": {
   "codemirror_mode": {
    "name": "ipython",
    "version": 3
   },
   "file_extension": ".py",
   "mimetype": "text/x-python",
   "name": "python",
   "nbconvert_exporter": "python",
   "pygments_lexer": "ipython3",
   "version": "3.12.3"
  }
 },
 "nbformat": 4,
 "nbformat_minor": 2
}
