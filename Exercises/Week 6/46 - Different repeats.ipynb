{
 "cells": [
  {
   "cell_type": "markdown",
   "metadata": {},
   "source": [
    "# Different repeats"
   ]
  },
  {
   "cell_type": "markdown",
   "metadata": {},
   "source": [
    "Implement a class `TrackRepeat` with the following methods:\n",
    "\n",
    "-   `add(x, k)`: add the number `x` to the list `k` times\n",
    "-   `check()`: return `True` if each number on the list has a different number of occurrences, and otherwise `False`\n",
    "\n",
    "The time complexity of both methods should be $O(1)$.\n",
    "\n",
    "For example, the list $[1,3,1,1,2,3,1]$ contains three distinct numbers $1$, $2$ and $3$. The number $1$ occurs $4$ times, the number $2$ occurs $1$ times, and the number $3$ occurs $2$ times. Thus each number has a different number of occurrences ($4$, $1$ and $2$ occurrences).\n",
    "\n",
    "In a file `trackrepeat.py`, implement a class `TrackRepeat` according to the following template:"
   ]
  },
  {
   "cell_type": "code",
   "execution_count": null,
   "metadata": {},
   "outputs": [],
   "source": [
    "class TrackRepeat:\n",
    "    def __init__(self):\n",
    "        # TODO\n",
    "\n",
    "    def add(self, x, k):\n",
    "        # TODO\n",
    "\n",
    "    def check(self):\n",
    "        # TODO\n",
    "\n",
    "if __name__ == \"__main__\":\n",
    "    t = TrackRepeat()\n",
    "    print(t.check()) # True\n",
    "    t.add(1, 3)\n",
    "    print(t.check()) # True\n",
    "    t.add(2, 3)\n",
    "    print(t.check()) # False\n",
    "    t.add(2, 2)\n",
    "    print(t.check()) # True\n",
    "    t.add(3, 1)\n",
    "    print(t.check()) # True\n",
    "    t.add(3, 4)\n",
    "    print(t.check()) # False"
   ]
  },
  {
   "cell_type": "markdown",
   "metadata": {},
   "source": [
    "## Attempt 1"
   ]
  },
  {
   "cell_type": "code",
   "execution_count": 57,
   "metadata": {},
   "outputs": [
    {
     "name": "stdout",
     "output_type": "stream",
     "text": [
      "True\n",
      "True\n",
      "False\n",
      "True\n",
      "True\n",
      "False\n"
     ]
    }
   ],
   "source": [
    "class TrackRepeat:\n",
    "    def __init__(self):\n",
    "        self.nums = {}\n",
    "        self.repeats = {}\n",
    "        self.repeated_nums = 0\n",
    "\n",
    "    def add(self, x, k):\n",
    "        if x in self.nums:\n",
    "            past_count = self.nums[x]\n",
    "        else:\n",
    "            past_count = 0\n",
    "            self.nums[x] = 0\n",
    "        self.nums[x] += k\n",
    "        \n",
    "        new_count = past_count + k\n",
    "        \n",
    "        if past_count > 0:\n",
    "            if past_count in self.repeats:\n",
    "                self.repeats[past_count].pop(self.repeats[past_count].index(x))\n",
    "            if len(self.repeats[past_count]) >= 1:\n",
    "                self.repeated_nums -= 1\n",
    "        \n",
    "        if new_count in self.repeats:        \n",
    "            self.repeats[new_count].append(x)\n",
    "            if len(self.repeats[new_count]) > 1:\n",
    "                self.repeated_nums += 1\n",
    "        else:\n",
    "            self.repeats[new_count] = []\n",
    "            self.repeats[new_count].append(x)\n",
    "        \n",
    "    def check(self):\n",
    "        return False if self.repeated_nums > 0 else True\n",
    "\n",
    "t = TrackRepeat()\n",
    "print(t.check()) # True\n",
    "t.add(1, 3)\n",
    "print(t.check()) # True\n",
    "t.add(2, 3)\n",
    "print(t.check()) # False\n",
    "t.add(2, 2)\n",
    "print(t.check()) # True\n",
    "t.add(3, 1)\n",
    "print(t.check()) # True\n",
    "t.add(3, 4)\n",
    "print(t.check()) # False"
   ]
  },
  {
   "cell_type": "code",
   "execution_count": 60,
   "metadata": {},
   "outputs": [
    {
     "name": "stdout",
     "output_type": "stream",
     "text": [
      "True\n",
      "True\n",
      "False\n",
      "True\n",
      "True\n",
      "False\n"
     ]
    }
   ],
   "source": [
    "class TrackRepeat:\n",
    "    def __init__(self):\n",
    "        self.nums = {}\n",
    "        self.repeats = {}\n",
    "        self.repeated_nums = 0\n",
    "\n",
    "    def add(self, x, k):\n",
    "        past_count = 0\n",
    "        if x in self.nums:\n",
    "            past_count = self.nums[x]\n",
    "        else:\n",
    "            self.nums[x] = 0\n",
    "        self.nums[x] += k\n",
    "        \n",
    "        new_count = past_count + k\n",
    "    \n",
    "        if past_count > 0:\n",
    "            if past_count in self.repeats:\n",
    "                self.repeats[past_count] -= 1\n",
    "            if self.repeats[past_count] >= 1:\n",
    "                self.repeated_nums -= 1\n",
    "        \n",
    "        if new_count in self.repeats:        \n",
    "            self.repeats[new_count] += 1\n",
    "            if self.repeats[new_count] > 1:\n",
    "                self.repeated_nums += 1\n",
    "        else:\n",
    "            self.repeats[new_count] = 1\n",
    "        \n",
    "    def check(self):\n",
    "        return False if self.repeated_nums > 0 else True\n",
    "\n",
    "t = TrackRepeat()\n",
    "print(t.check()) # True\n",
    "t.add(1, 3)\n",
    "print(t.check()) # True\n",
    "t.add(2, 3)\n",
    "print(t.check()) # False\n",
    "t.add(2, 2)\n",
    "print(t.check()) # True\n",
    "t.add(3, 1)\n",
    "print(t.check()) # True\n",
    "t.add(3, 4)\n",
    "print(t.check()) # False"
   ]
  },
  {
   "cell_type": "markdown",
   "metadata": {},
   "source": [
    "## Solution"
   ]
  },
  {
   "cell_type": "markdown",
   "metadata": {},
   "source": [
    "The following class maintains two dictionaries: `item_count` keeps count of the occurrences of each number on the list, and `repeat_count` keeps count of the distinct items that have a given repeat count. In addition, `same_repeat` keeps track of how many repeat counts are shared by multiple items.\n",
    "\n",
    "When the method `add` is called, the state of the object is updated as required. The method `check` just needs to check if `same_repeat` is 0."
   ]
  },
  {
   "cell_type": "code",
   "execution_count": null,
   "metadata": {},
   "outputs": [],
   "source": [
    "class TrackRepeat:\n",
    "    def __init__(self):\n",
    "        self.item_count = {}\n",
    "        self.repeat_count = {}\n",
    "        self.same_repeat = 0\n",
    "\n",
    "    def add(self, x, k):\n",
    "        if x in self.item_count:\n",
    "            count = self.item_count[x]\n",
    "            self.repeat_count[count] -= 1\n",
    "            if self.repeat_count[count] == 1:\n",
    "                self.same_repeat -= 1\n",
    "        else:\n",
    "            self.item_count[x] = 0\n",
    "\n",
    "        self.item_count[x] += k\n",
    "        count = self.item_count[x]\n",
    "        if count in self.repeat_count:\n",
    "            if self.repeat_count[count] == 1:\n",
    "                self.same_repeat += 1\n",
    "            self.repeat_count[count] += 1\n",
    "        else:\n",
    "            self.repeat_count[count] = 1\n",
    "\n",
    "    def check(self):\n",
    "        return self.same_repeat == 0"
   ]
  }
 ],
 "metadata": {
  "kernelspec": {
   "display_name": "Python 3",
   "language": "python",
   "name": "python3"
  },
  "language_info": {
   "codemirror_mode": {
    "name": "ipython",
    "version": 3
   },
   "file_extension": ".py",
   "mimetype": "text/x-python",
   "name": "python",
   "nbconvert_exporter": "python",
   "pygments_lexer": "ipython3",
   "version": "3.12.3"
  }
 },
 "nbformat": 4,
 "nbformat_minor": 2
}
