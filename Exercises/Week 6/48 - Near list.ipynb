{
 "cells": [
  {
   "cell_type": "markdown",
   "metadata": {},
   "source": [
    "# Near list"
   ]
  },
  {
   "cell_type": "markdown",
   "metadata": {},
   "source": [
    "Your task is to implement the class `NearList` that is given a list of numbers in the constructor.\n",
    "\n",
    "The class should have an efficient method `find(x)` that finds the list number that is nearest to the number $x$ by value. If the answer is not unique, the method should return the smaller number.\n",
    "\n",
    "You may assume that all the numbers in the task are integers.\n",
    "\n",
    "In a file `nearlist.py`, implement a class `NearList` according to the following template:"
   ]
  },
  {
   "cell_type": "code",
   "execution_count": null,
   "metadata": {},
   "outputs": [],
   "source": [
    "class NearList:\n",
    "    def __init__(self, t):\n",
    "        # TODO\n",
    "\n",
    "    def find(self, x):\n",
    "        # TODO\n",
    "\n",
    "if __name__ == \"__main__\":\n",
    "    n = NearList([3, 6, 1, 3, 9, 8])\n",
    "    print(n.find(1)) # 1\n",
    "    print(n.find(2)) # 1\n",
    "    print(n.find(3)) # 3\n",
    "    print(n.find(4)) # 3\n",
    "    print(n.find(5)) # 6\n",
    "    print(n.find(6)) # 6\n",
    "    print(n.find(7)) # 6\n",
    "    print(n.find(8)) # 8\n",
    "    print(n.find(9)) # 9"
   ]
  },
  {
   "cell_type": "markdown",
   "metadata": {},
   "source": [
    "## Attempt 1"
   ]
  },
  {
   "cell_type": "code",
   "execution_count": 12,
   "metadata": {},
   "outputs": [
    {
     "name": "stdout",
     "output_type": "stream",
     "text": [
      "1\n",
      "1\n",
      "3\n",
      "3\n",
      "6\n",
      "6\n",
      "6\n",
      "8\n",
      "9\n"
     ]
    }
   ],
   "source": [
    "class NearList:\n",
    "    def __init__(self, t):\n",
    "        self.set = set(t)\n",
    "\n",
    "    def find(self, x):\n",
    "        if x in self.set:\n",
    "            return x\n",
    "        x_plus = x\n",
    "        x_minus = x\n",
    "        while True:\n",
    "            x_minus -= 1\n",
    "            x_plus += 1\n",
    "            if x_minus in self.set:\n",
    "                return x_minus\n",
    "            if x_plus in self.set:\n",
    "                return x_plus       \n",
    "\n",
    "if __name__ == \"__main__\":\n",
    "    n = NearList([3, 6, 1, 3, 9, 8])\n",
    "    print(n.find(1)) # 1\n",
    "    print(n.find(2)) # 1\n",
    "    print(n.find(3)) # 3\n",
    "    print(n.find(4)) # 3\n",
    "    print(n.find(5)) # 6\n",
    "    print(n.find(6)) # 6\n",
    "    print(n.find(7)) # 6\n",
    "    print(n.find(8)) # 8\n",
    "    print(n.find(9)) # 9"
   ]
  },
  {
   "cell_type": "markdown",
   "metadata": {},
   "source": [
    "## Solution"
   ]
  },
  {
   "cell_type": "markdown",
   "metadata": {},
   "source": [
    "The following solution uses binary search on the sorted list to find the last position on the list that contains a number that is smaller than $x$ (or $0$ if there is no such position).\n",
    "\n",
    "Then it is sufficient to check three numbers starting at that position. One of these numbers is certainly the nearest number to $x$.\n",
    "\n",
    "Due to the binary search, the method is efficient with the time complexity $O(\\log n)$."
   ]
  },
  {
   "cell_type": "code",
   "execution_count": null,
   "metadata": {},
   "outputs": [],
   "source": [
    "class NearList:\n",
    "    def __init__(self, t):\n",
    "        self.numbers = list(sorted(set(t)))\n",
    "\n",
    "    def find(self, x):\n",
    "        pos = 0\n",
    "        count = len(self.numbers)\n",
    "        step = count\n",
    "\n",
    "        while step >= 1:\n",
    "            while pos + step < count and self.numbers[pos + step] < x:\n",
    "                pos += step\n",
    "            step = step // 2\n",
    "\n",
    "        result = self.numbers[pos]\n",
    "        for add in range(3):\n",
    "            if pos + add < count:\n",
    "                diff1 = abs(x - result)\n",
    "                diff2 = abs(x - self.numbers[pos + add])\n",
    "                if diff2 < diff1:\n",
    "                    result = self.numbers[pos + add]\n",
    "\n",
    "        return result"
   ]
  }
 ],
 "metadata": {
  "kernelspec": {
   "display_name": "Python 3",
   "language": "python",
   "name": "python3"
  },
  "language_info": {
   "codemirror_mode": {
    "name": "ipython",
    "version": 3
   },
   "file_extension": ".py",
   "mimetype": "text/x-python",
   "name": "python",
   "nbconvert_exporter": "python",
   "pygments_lexer": "ipython3",
   "version": "3.12.3"
  }
 },
 "nbformat": 4,
 "nbformat_minor": 2
}
