{
 "cells": [
  {
   "cell_type": "markdown",
   "metadata": {},
   "source": [
    "# List incrementing"
   ]
  },
  {
   "cell_type": "markdown",
   "metadata": {},
   "source": [
    "You are given a list with integers as elements. Your task is to create a new list where each element has been incremented by the value $x$.\n",
    "\n",
    "You may assume that the list contains at most $100$ integers and that each integer is in the range $1 \\dots 10^9$.\n",
    "\n",
    "In a file `listadd.py`, implement a function `create` that returns the new list.\n",
    "\n",
    "*Note! Implement the function so that it causes no side effects, i.e., it creates a new list and does not modify the old list.*"
   ]
  },
  {
   "cell_type": "code",
   "execution_count": null,
   "metadata": {},
   "outputs": [],
   "source": [
    "def create(t, x):\n",
    "    # TODO\n",
    "\n",
    "if __name__ == \"__main__\":\n",
    "    print(create([1,2,3],1)) # [2,3,4]\n",
    "    print(create([1,1,1,1,1],4)) # [5,5,5,5,5]\n",
    "    print(create([0],10**9)) # [1000000000]"
   ]
  },
  {
   "cell_type": "markdown",
   "metadata": {},
   "source": [
    "### Attempt 1"
   ]
  },
  {
   "cell_type": "code",
   "execution_count": 1,
   "metadata": {},
   "outputs": [
    {
     "name": "stdout",
     "output_type": "stream",
     "text": [
      "[2, 3, 4]\n",
      "[5, 5, 5, 5, 5]\n",
      "[1000000000]\n"
     ]
    }
   ],
   "source": [
    "def create(t, x):\n",
    "    result = []\n",
    "    for i in t:\n",
    "        result.append(i + x)\n",
    "    return result\n",
    "\n",
    "if __name__ == \"__main__\":\n",
    "    print(create([1,2,3],1)) # [2,3,4]\n",
    "    print(create([1,1,1,1,1],4)) # [5,5,5,5,5]\n",
    "    print(create([0],10**9)) # [1000000000]"
   ]
  },
  {
   "cell_type": "markdown",
   "metadata": {},
   "source": [
    "The above function adds the modified elements to the list `result` one at a time"
   ]
  },
  {
   "cell_type": "markdown",
   "metadata": {},
   "source": [
    "### Attempt 2"
   ]
  },
  {
   "cell_type": "code",
   "execution_count": 2,
   "metadata": {},
   "outputs": [
    {
     "name": "stdout",
     "output_type": "stream",
     "text": [
      "[2, 3, 4]\n",
      "[5, 5, 5, 5, 5]\n",
      "[1000000000]\n"
     ]
    }
   ],
   "source": [
    "def create(t, x):\n",
    "    return [i + x for i in t]\n",
    "\n",
    "if __name__ == \"__main__\":\n",
    "    print(create([1,2,3],1)) # [2,3,4]\n",
    "    print(create([1,1,1,1,1],4)) # [5,5,5,5,5]\n",
    "    print(create([0],10**9)) # [1000000000]"
   ]
  },
  {
   "cell_type": "markdown",
   "metadata": {},
   "source": [
    "### Attempt 3"
   ]
  },
  {
   "cell_type": "code",
   "execution_count": 3,
   "metadata": {},
   "outputs": [
    {
     "name": "stdout",
     "output_type": "stream",
     "text": [
      "[2, 3, 4]\n",
      "[5, 5, 5, 5, 5]\n",
      "[1000000000]\n"
     ]
    }
   ],
   "source": [
    "def create(t, x):\n",
    "    return list(map(lambda i: i + x, t))\n",
    "\n",
    "if __name__ == \"__main__\":\n",
    "    print(create([1,2,3],1)) # [2,3,4]\n",
    "    print(create([1,1,1,1,1],4)) # [5,5,5,5,5]\n",
    "    print(create([0],10**9)) # [1000000000]"
   ]
  }
 ],
 "metadata": {
  "kernelspec": {
   "display_name": "Python 3",
   "language": "python",
   "name": "python3"
  },
  "language_info": {
   "codemirror_mode": {
    "name": "ipython",
    "version": 3
   },
   "file_extension": ".py",
   "mimetype": "text/x-python",
   "name": "python",
   "nbconvert_exporter": "python",
   "pygments_lexer": "ipython3",
   "version": "3.12.3"
  }
 },
 "nbformat": 4,
 "nbformat_minor": 2
}
