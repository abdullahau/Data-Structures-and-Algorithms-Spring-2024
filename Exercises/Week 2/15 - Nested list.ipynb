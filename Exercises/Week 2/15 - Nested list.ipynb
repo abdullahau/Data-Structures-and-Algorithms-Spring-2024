{
 "cells": [
  {
   "cell_type": "markdown",
   "metadata": {},
   "source": [
    "# Nested list"
   ]
  },
  {
   "cell_type": "markdown",
   "metadata": {},
   "source": [
    "Your task is to count how many numbers occur on a given list. An element of the list can be a list that may in turn contain other lists, which may contain other lists etc.. In each list, every element is either a list or a number.\n",
    "\n",
    "You may assume that the total count of numbers is at most $100$ and that there are at most $100$ levels of nested lists.\n",
    "\n",
    "In a file `nestedlist.py`, implement a function `count` that returns the desired count."
   ]
  },
  {
   "cell_type": "code",
   "execution_count": null,
   "metadata": {},
   "outputs": [],
   "source": [
    "def count(t):\n",
    "    # TODO\n",
    "\n",
    "if __name__ == \"__main__\":\n",
    "    print(count([1,2,3])) # 3\n",
    "    print(count([1,[2,3],4,5,[6]])) # 6\n",
    "    print(count([1,[1,[1,[1]]]])) # 4\n",
    "    print(count([[1,2,[3,4]],5,[[6,[7],8]]])) # 8"
   ]
  },
  {
   "cell_type": "markdown",
   "metadata": {},
   "source": [
    "### Attempt 1 - Recursive Method"
   ]
  },
  {
   "cell_type": "code",
   "execution_count": 17,
   "metadata": {},
   "outputs": [
    {
     "name": "stdout",
     "output_type": "stream",
     "text": [
      "3\n",
      "6\n",
      "4\n",
      "8\n"
     ]
    }
   ],
   "source": [
    "def count(t):\n",
    "    flattened = []\n",
    "    \n",
    "    def flatten(l):\n",
    "        for j in l:\n",
    "            if type(j) == list:\n",
    "                flatten(j)\n",
    "            else:\n",
    "                flattened.append(j)        \n",
    "        \n",
    "    for i in t:\n",
    "        if type(i) == list:\n",
    "            flatten(i)\n",
    "        else:\n",
    "            flattened.append(i)\n",
    "    \n",
    "    return len(flattened)\n",
    "\n",
    "\n",
    "\n",
    "if __name__ == \"__main__\":\n",
    "    print(count([1,2,3])) # 3\n",
    "    print(count([1,[2,3],4,5,[6]])) # 6\n",
    "    print(count([1,[1,[1,[1]]]])) # 4\n",
    "    print(count([[1,2,[3,4]],5,[[6,[7],8]]])) # 8"
   ]
  },
  {
   "cell_type": "markdown",
   "metadata": {},
   "source": [
    "### Attempt 2"
   ]
  },
  {
   "cell_type": "markdown",
   "metadata": {},
   "source": [
    "A convenient way to implement the function is to use recursion.\n",
    "\n",
    "The following function goes through the elements of the list. If an element is a list, the function calls itself to count the numbers in that nested list, and adds that count to the total count. If an element is a number, the counter is incremented by one."
   ]
  },
  {
   "cell_type": "code",
   "execution_count": 1,
   "metadata": {},
   "outputs": [
    {
     "name": "stdout",
     "output_type": "stream",
     "text": [
      "3\n",
      "6\n",
      "4\n",
      "8\n"
     ]
    }
   ],
   "source": [
    "def count(t):\n",
    "    result = 0\n",
    "    for x in t:\n",
    "        if type(x) == list:\n",
    "            result += count(x)\n",
    "        else:\n",
    "            result += 1\n",
    "    return result\n",
    "\n",
    "if __name__ == \"__main__\":\n",
    "    print(count([1,2,3])) # 3\n",
    "    print(count([1,[2,3],4,5,[6]])) # 6\n",
    "    print(count([1,[1,[1,[1]]]])) # 4\n",
    "    print(count([[1,2,[3,4]],5,[[6,[7],8]]])) # 8"
   ]
  }
 ],
 "metadata": {
  "kernelspec": {
   "display_name": "Python 3",
   "language": "python",
   "name": "python3"
  },
  "language_info": {
   "codemirror_mode": {
    "name": "ipython",
    "version": 3
   },
   "file_extension": ".py",
   "mimetype": "text/x-python",
   "name": "python",
   "nbconvert_exporter": "python",
   "pygments_lexer": "ipython3",
   "version": "3.12.3"
  }
 },
 "nbformat": 4,
 "nbformat_minor": 2
}
