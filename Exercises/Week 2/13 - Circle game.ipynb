{
 "cells": [
  {
   "cell_type": "markdown",
   "metadata": {},
   "source": [
    "# Circle game"
   ]
  },
  {
   "cell_type": "markdown",
   "metadata": {},
   "source": [
    "There is a circle of $n$ players numbered $1,2,\\dots,n$. The players take turns in order around the circle, and every second player leaves the circle until the circle is empty. Your task is to determine the order in which the players leave.\n",
    "\n",
    "You may assume that $n$ is in the range $1 \\dots 100$.\n",
    "\n",
    "In a file `circlegame.py`, implement a function `create` that returns the order."
   ]
  },
  {
   "cell_type": "code",
   "execution_count": null,
   "metadata": {},
   "outputs": [],
   "source": [
    "def create(n):\n",
    "    # TODO\n",
    "\n",
    "if __name__ == \"__main__\":\n",
    "    print(create(1)) # [1]\n",
    "    print(create(3)) # [2,1,3]\n",
    "    print(create(7)) # [2,4,6,1,5,3,7]"
   ]
  },
  {
   "cell_type": "markdown",
   "metadata": {},
   "source": [
    "### Attempt 1"
   ]
  },
  {
   "cell_type": "code",
   "execution_count": 10,
   "metadata": {},
   "outputs": [
    {
     "name": "stdout",
     "output_type": "stream",
     "text": [
      "[1]\n",
      "[2, 1]\n",
      "[2, 1, 3]\n",
      "[2, 4, 6, 1, 5, 3, 7]\n",
      "[2, 4, 6, 8, 3, 7, 5, 1]\n",
      "[2, 4, 6, 8, 10, 3, 7, 1, 9, 5]\n",
      "[2, 4, 6, 8, 10, 12, 14, 16, 18, 20, 3, 7, 11, 15, 19, 5, 13, 1, 17, 9]\n"
     ]
    }
   ],
   "source": [
    "def create(n):\n",
    "    if n == 1:\n",
    "        return [1]\n",
    "    r = list(range(2, n+1, 2))\n",
    "    odd = list(range(1, n+1,2))\n",
    "    last = r[-1] if n % 2 == 0 else None\n",
    "    while True:\n",
    "        if len(r) == n:\n",
    "            break\n",
    "        \n",
    "        if last == r[-1]:\n",
    "            r = r + odd[1::2]\n",
    "            last = r[-1]\n",
    "            if odd[-1] != last:\n",
    "                last = None\n",
    "            odd = odd[0::2]\n",
    "            \n",
    "            if len(odd) < 2:\n",
    "                r.append(odd[0])\n",
    "        else:\n",
    "            r = r + odd[0::2]\n",
    "            last = r[-1]\n",
    "            if odd[-1] != last:\n",
    "                last = None\n",
    "            odd = odd[1::2]\n",
    "    \n",
    "    return r\n",
    "\n",
    "if __name__ == \"__main__\":\n",
    "    print(create(1)) # [1]\n",
    "    print(create(2)) # [2, 1]\n",
    "    print(create(3)) # [2,1,3]\n",
    "    print(create(7)) # [1,2,3,4,5,6,7] -> [1, 3, 5, 7] -> [2,4,6,1,5,3,7]\n",
    "    print(create(8)) # [1,2,3,4,5,6,7,8] -> [2, 4, 6, 8, 3, 7, 5, 1]\n",
    "    print(create(10)) # [2, 4, 6, 8, 10, 3, 7, 1, 9, 5]\n",
    "    print(create(20)) # [2, 4, 6, 8, 10, 12, 14, 16, 18, 20, 3, 7, 11, 15, 19, 5, 13, 1, 17, 9]"
   ]
  },
  {
   "cell_type": "markdown",
   "metadata": {},
   "source": [
    "### Attempt 2"
   ]
  },
  {
   "cell_type": "code",
   "execution_count": 13,
   "metadata": {},
   "outputs": [
    {
     "name": "stdout",
     "output_type": "stream",
     "text": [
      "[1]\n",
      "[2, 1, 3]\n",
      "[2, 4, 6, 1, 5, 3, 7]\n",
      "[2, 4, 6, 8, 3, 7, 5, 1]\n",
      "[2, 4, 6, 8, 10, 3, 7, 1, 9, 5]\n",
      "[2, 4, 6, 8, 10, 12, 14, 16, 18, 20, 3, 7, 11, 15, 19, 5, 13, 1, 17, 9]\n"
     ]
    }
   ],
   "source": [
    "def create(n):\n",
    "    l = list(range(1, n+1))\n",
    "    r = []\n",
    "    i = False\n",
    "    j = 0\n",
    "    while len(l) > 0:\n",
    "        if j > len(l) - 1:\n",
    "            j = 0\n",
    "        \n",
    "        if not i:\n",
    "            i = True \n",
    "            j += 1      \n",
    "\n",
    "        if j > len(l) - 1:\n",
    "            j = 0              \n",
    "        \n",
    "        if i:\n",
    "            r.append(l.pop(j))\n",
    "            i = False\n",
    "            \n",
    "    return r\n",
    "\n",
    "if __name__ == \"__main__\":\n",
    "    print(create(1)) # [1]\n",
    "    print(create(3)) # [2,1,3]\n",
    "    print(create(7)) # [1,2,3,4,5,6,7] -> [1, 3, 5, 7] -> [2,4,6,1,5,3,7]\n",
    "    print(create(8)) # [1,2,3,4,5,6,7,8] -> [2, 4, 6, 8, 3, 7, 5, 1]\n",
    "    print(create(10)) # [2, 4, 6, 8, 10, 3, 7, 1, 9, 5]\n",
    "    print(create(20)) # [2, 4, 6, 8, 10, 12, 14, 16, 18, 20, 3, 7, 11, 15, 19, 5, 13, 1, 17, 9]"
   ]
  },
  {
   "cell_type": "code",
   "execution_count": 17,
   "metadata": {},
   "outputs": [
    {
     "name": "stdout",
     "output_type": "stream",
     "text": [
      "[1]\n",
      "[2, 1, 3]\n",
      "[2, 4, 6, 1, 5, 3, 7]\n",
      "[2, 4, 6, 8, 3, 7, 5, 1]\n",
      "[2, 4, 6, 8, 10, 3, 7, 1, 9, 5]\n",
      "[2, 4, 6, 8, 10, 12, 14, 16, 18, 20, 3, 7, 11, 15, 19, 5, 13, 1, 17, 9]\n"
     ]
    }
   ],
   "source": [
    "def create(n):\n",
    "    l = list(range(1, n+1, 2))\n",
    "    r = [*range(2, n+1, 2)]\n",
    "    i = False if n % 2 == 0 else True\n",
    "    j = 0\n",
    "    while len(l) > 0:\n",
    "        if j > len(l) - 1:\n",
    "            j = 0\n",
    "        \n",
    "        if not i:\n",
    "            i = True \n",
    "            j += 1      \n",
    "\n",
    "        if j > len(l) - 1:\n",
    "            j = 0              \n",
    "        \n",
    "        if i:\n",
    "            r.append(l.pop(j))\n",
    "            i = False\n",
    "            \n",
    "    return r\n",
    "\n",
    "if __name__ == \"__main__\":\n",
    "    print(create(1)) # [1]\n",
    "    print(create(3)) # [2,1,3]\n",
    "    print(create(7)) # [1,2,3,4,5,6,7] -> [1, 3, 5, 7] -> [2,4,6,1,5,3,7]\n",
    "    print(create(8)) # [1,2,3,4,5,6,7,8] -> [2, 4, 6, 8, 3, 7, 5, 1]\n",
    "    print(create(10)) # [2, 4, 6, 8, 10, 3, 7, 1, 9, 5]\n",
    "    print(create(20)) # [2, 4, 6, 8, 10, 12, 14, 16, 18, 20, 3, 7, 11, 15, 19, 5, 13, 1, 17, 9]"
   ]
  },
  {
   "cell_type": "markdown",
   "metadata": {},
   "source": [
    "### Attempt 3"
   ]
  },
  {
   "cell_type": "markdown",
   "metadata": {},
   "source": [
    "The following function maintains two lists: `turns` contains the players in the order they take turns and `order` contains them in the order they leave.\n",
    "\n",
    "Initially, the list `turns` contains the players in order. The function goes through the list `turns` and each player encountered either leaves and is added to the end of the list `order`, or stays and is added to the end of the list 'turns'."
   ]
  },
  {
   "cell_type": "code",
   "execution_count": 8,
   "metadata": {},
   "outputs": [
    {
     "name": "stdout",
     "output_type": "stream",
     "text": [
      "[1]\n",
      "[2, 1, 3]\n",
      "[2, 4, 6, 1, 5, 3, 7]\n",
      "[2, 4, 6, 8, 3, 7, 5, 1]\n",
      "[2, 4, 6, 8, 10, 3, 7, 1, 9, 5]\n",
      "[2, 4, 6, 8, 10, 12, 14, 16, 18, 20, 3, 7, 11, 15, 19, 5, 13, 1, 17, 9]\n"
     ]
    }
   ],
   "source": [
    "def create(n):\n",
    "    turns = list(range(1, n+1))\n",
    "    order = []\n",
    "\n",
    "    i = 0\n",
    "    while i < len(turns):\n",
    "        if i%2 == 0:\n",
    "            turns.append(turns[i])\n",
    "        else:\n",
    "            order.append(turns[i])\n",
    "        i += 1\n",
    "    return order\n",
    "\n",
    "if __name__ == \"__main__\":\n",
    "    print(create(1)) # [1]\n",
    "    print(create(3)) # [2,1,3]\n",
    "    print(create(7)) # [1,2,3,4,5,6,7] -> [1, 3, 5, 7] -> [2,4,6,1,5,3,7]\n",
    "    print(create(8)) # [1,2,3,4,5,6,7,8] -> [2, 4, 6, 8, 3, 7, 5, 1]\n",
    "    print(create(10)) # [2, 4, 6, 8, 10, 3, 7, 1, 9, 5]\n",
    "    print(create(20)) # [2, 4, 6, 8, 10, 12, 14, 16, 18, 20, 3, 7, 11, 15, 19, 5, 13, 1, 17, 9]"
   ]
  },
  {
   "cell_type": "code",
   "execution_count": null,
   "metadata": {},
   "outputs": [
    {
     "name": "stdout",
     "output_type": "stream",
     "text": [
      "[2, 4, 6, 8, 10, 1, 3, 5, 7, 9]\n"
     ]
    }
   ],
   "source": [
    "# Creating a 1D list with two range arguments using list comprehension\n",
    "n = 10\n",
    "l = [*range(2, n+1, 2) , *range(1, n+1, 2)]\n",
    "print(l)"
   ]
  }
 ],
 "metadata": {
  "kernelspec": {
   "display_name": "Python 3",
   "language": "python",
   "name": "python3"
  },
  "language_info": {
   "codemirror_mode": {
    "name": "ipython",
    "version": 3
   },
   "file_extension": ".py",
   "mimetype": "text/x-python",
   "name": "python",
   "nbconvert_exporter": "python",
   "pygments_lexer": "ipython3",
   "version": "3.12.3"
  }
 },
 "nbformat": 4,
 "nbformat_minor": 2
}
