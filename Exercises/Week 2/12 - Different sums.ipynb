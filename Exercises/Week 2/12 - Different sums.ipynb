{
 "cells": [
  {
   "cell_type": "markdown",
   "metadata": {},
   "source": [
    "# Different sums"
   ]
  },
  {
   "cell_type": "markdown",
   "metadata": {},
   "source": [
    "Create a list that contains the numbers $1 \\dots n$ and where each pair of consecutive numbers has a different sum. Any list satisfying the conditions is acceptable.\n",
    "\n",
    "You may assume that n is in the range $1 \\dots 100$.\n",
    "\n",
    "In a file `sumdiff.py`, implement a function create that returns the required list."
   ]
  },
  {
   "cell_type": "code",
   "execution_count": null,
   "metadata": {},
   "outputs": [],
   "source": [
    "def create(n):\n",
    "    # TODO\n",
    "\n",
    "if __name__ == \"__main__\":\n",
    "    print(create(6)) # [3, 1, 6, 2, 4, 5]\n",
    "    print(create(10)) # [7, 10, 3, 1, 5, 4, 8, 6, 9, 2]\n",
    "    print(create(15)) # [9, 4, 6, 14, 15, 13, 12, 11, 5, 2, 3, 8, 1, 7, 10]"
   ]
  },
  {
   "cell_type": "markdown",
   "metadata": {},
   "source": [
    "*Explanation*: In the code template example $[3,1,6,2,4,5]$, the sums of pairs are $4$, $7$, $8$, $6$ and $9$. Since all the sums are different, the solution is valid. For example the solution $[1,5,2,6,4,3]$ would not be valid, because $5+2=7$ and $4+3=7$."
   ]
  },
  {
   "cell_type": "markdown",
   "metadata": {},
   "source": [
    "### Attempt 1"
   ]
  },
  {
   "cell_type": "markdown",
   "metadata": {},
   "source": [
    "One valid solution is to return the the numbers $1 \\dots n$ in increasing order."
   ]
  },
  {
   "cell_type": "code",
   "execution_count": 12,
   "metadata": {},
   "outputs": [
    {
     "name": "stdout",
     "output_type": "stream",
     "text": [
      "Create List:  [1, 2, 3, 4, 5, 6]\n",
      "Sum List:  [3, 5, 7, 9, 11]\n",
      "Create List:  [1, 2, 3, 4, 5, 6, 7, 8, 9, 10]\n",
      "Sum List:  [3, 5, 7, 9, 11, 13, 15, 17, 19]\n",
      "Create list:  [1, 2, 3, 4, 5, 6, 7, 8, 9, 10, 11, 12, 13, 14, 15]\n",
      "Sum List:  [3, 5, 7, 9, 11, 13, 15, 17, 19, 21, 23, 25, 27, 29]\n"
     ]
    }
   ],
   "source": [
    "# Enters into a \n",
    "def create(n):\n",
    "    return [i for i in range(1 , n + 1)]\n",
    "\n",
    "\n",
    "if __name__ == \"__main__\":\n",
    "    six = create(6)\n",
    "    print(\"Create List: \",six)\n",
    "    print(\"Sum List: \", [six[i] + six[i+1] for i in range(len(six)-1)])\n",
    "    ten = create(10)\n",
    "    print(\"Create List: \", ten)\n",
    "    print(\"Sum List: \", [ten[i] + ten[i+1] for i in range(len(ten)-1)])    \n",
    "    fifteen = create(15)\n",
    "    print(\"Create list: \", fifteen)\n",
    "    print(\"Sum List: \",[fifteen[i] + fifteen[i+1] for i in range(len(fifteen)-1)])      "
   ]
  }
 ],
 "metadata": {
  "kernelspec": {
   "display_name": "Python 3",
   "language": "python",
   "name": "python3"
  },
  "language_info": {
   "codemirror_mode": {
    "name": "ipython",
    "version": 3
   },
   "file_extension": ".py",
   "mimetype": "text/x-python",
   "name": "python",
   "nbconvert_exporter": "python",
   "pygments_lexer": "ipython3",
   "version": "3.12.3"
  }
 },
 "nbformat": 4,
 "nbformat_minor": 2
}
