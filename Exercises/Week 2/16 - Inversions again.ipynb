{
 "cells": [
  {
   "cell_type": "markdown",
   "metadata": {},
   "source": [
    "# Inversions again"
   ]
  },
  {
   "cell_type": "markdown",
   "metadata": {},
   "source": [
    "Your task is to create a list containing the numbers $1 \\dots n$ so that the number of inversions is exactly $k$.\n",
    "\n",
    "You may assume that $n \\le 100$ and that $k$ is chosen so that a solution exists. Any valid solution is acceptable.\n",
    "\n",
    "In a file `againinv.py`, implement a function `create` that returns the desired list."
   ]
  },
  {
   "cell_type": "code",
   "execution_count": null,
   "metadata": {},
   "outputs": [],
   "source": [
    "def create(n, k):\n",
    "    # TODO\n",
    "\n",
    "if __name__ == \"__main__\":\n",
    "    print(create(3, 0)) # [1,2,3]\n",
    "    print(create(3, 1)) # esim. [1,3,2]\n",
    "    print(create(3, 2)) # esim. [3,1,2]"
   ]
  },
  {
   "cell_type": "markdown",
   "metadata": {},
   "source": [
    "### Attempt 1"
   ]
  },
  {
   "cell_type": "code",
   "execution_count": 2,
   "metadata": {},
   "outputs": [
    {
     "name": "stdout",
     "output_type": "stream",
     "text": [
      "[1, 2, 3]\n",
      "[1, 3, 2]\n",
      "[3, 1, 2]\n",
      "[8, 1, 7, 2, 3, 4, 5, 6]\n",
      "[8, 1, 2, 3, 7, 4, 5, 6]\n",
      "[7, 6, 5, 1, 2, 3, 4]\n"
     ]
    }
   ],
   "source": [
    "def count(t):\n",
    "    inversions = 0\n",
    "    for i in range(len(t)):\n",
    "        for j in range(i + 1, len(t)):\n",
    "            if t[i] > t[j]:\n",
    "                inversions += 1\n",
    "    return inversions\n",
    "\n",
    "def create(n, k):\n",
    "    l = list(range(1, n+1))\n",
    "    \n",
    "    num = l.pop()\n",
    "    if k < n:\n",
    "        l.insert(len(l)-k, num)\n",
    "    else:\n",
    "        l.insert(0, num)\n",
    "        inversion = len(l) - 1\n",
    "        i = 1\n",
    "        while inversion < k:\n",
    "            num = l.pop()\n",
    "            if len(l) - i < (k - inversion):\n",
    "                l.insert(i, num)\n",
    "            else:\n",
    "                l.insert(-(k - inversion), num)\n",
    "            i += 1\n",
    "            inversion = count(l)\n",
    "            \n",
    "    return l\n",
    "\n",
    "if __name__ == \"__main__\":\n",
    "    print(create(3, 0)) # [1,2,3]\n",
    "    print(create(3, 1)) # esim. [1,3,2]\n",
    "    print(create(3, 2)) # esim. [3,1,2]\n",
    "    print(create(8, 12))\n",
    "    print(create(8, 10))\n",
    "    print(create(7, 15))"
   ]
  },
  {
   "cell_type": "markdown",
   "metadata": {},
   "source": [
    "### Attempt 2"
   ]
  },
  {
   "cell_type": "code",
   "execution_count": 11,
   "metadata": {},
   "outputs": [
    {
     "name": "stdout",
     "output_type": "stream",
     "text": [
      "[1, 2, 3]\n",
      "[1, 3, 2]\n",
      "[3, 1, 2]\n",
      "[8, 1, 7, 2, 3, 4, 5, 6]\n",
      "[8, 1, 2, 3, 7, 4, 5, 6]\n",
      "[7, 6, 5, 1, 2, 3, 4]\n"
     ]
    }
   ],
   "source": [
    "def create(n, k):\n",
    "    l = list(range(1, n+1))\n",
    "    \n",
    "    num = l.pop()\n",
    "    if k < n:\n",
    "        l.insert(len(l)-k, num)\n",
    "    else:\n",
    "        l.insert(0, num)\n",
    "        inversion = len(l) - 1\n",
    "        i = 1\n",
    "        while inversion < k:\n",
    "            num = l.pop()\n",
    "            if len(l) - i < (k - inversion):\n",
    "                l.insert(i, num)\n",
    "            else:\n",
    "                l.insert(-(k - inversion), num)\n",
    "            i += 1\n",
    "            inversion += len(l) - i\n",
    "            \n",
    "    return l\n",
    "\n",
    "if __name__ == \"__main__\":\n",
    "    print(create(3, 0)) # [1,2,3]\n",
    "    print(create(3, 1)) # esim. [1,3,2]\n",
    "    print(create(3, 2)) # esim. [3,1,2]\n",
    "    print(create(8, 12))\n",
    "    print(create(8, 10))\n",
    "    print(create(7, 15))"
   ]
  },
  {
   "cell_type": "markdown",
   "metadata": {},
   "source": [
    "### Attempt 3"
   ]
  },
  {
   "cell_type": "markdown",
   "metadata": {},
   "source": [
    "Assume that the first $n-1$ numbers have already been added to the list. If we now insert $n$ in the beginning, the number of inversion increases by $n-1$. If we add $n$ to the end, there are no additional inversions.\n",
    "\n",
    "With this observation, we can implement a recursive solution. If $n-1$ is at most $k$, $n$ is placed in the beginning of the list and the remaining elements are recursively placed so that they add $k-(n-1)$ inversion. Otherwise, $n$ is placed at the end of the list and the remaining elements are recursively placed so that they add $k$ inversions. Notice that it is always possible to add $k < n-1$ inversions with $n-1$ numbers."
   ]
  },
  {
   "cell_type": "code",
   "execution_count": 12,
   "metadata": {},
   "outputs": [
    {
     "name": "stdout",
     "output_type": "stream",
     "text": [
      "[1, 2, 3]\n",
      "[2, 1, 3]\n",
      "[3, 1, 2]\n",
      "[8, 6, 1, 2, 3, 4, 5, 7]\n",
      "[8, 4, 1, 2, 3, 5, 6, 7]\n",
      "[7, 6, 5, 1, 2, 3, 4]\n"
     ]
    }
   ],
   "source": [
    "def create(n, k):\n",
    "    if n == 0:\n",
    "        return []\n",
    "    if n - 1 <= k:\n",
    "        return [n] + create(n - 1, k - (n - 1))\n",
    "    else:\n",
    "        return create(n - 1, k) + [n]\n",
    "    \n",
    "if __name__ == \"__main__\":\n",
    "    print(create(3, 0)) # [1,2,3]\n",
    "    print(create(3, 1)) # esim. [1,3,2]\n",
    "    print(create(3, 2)) # esim. [3,1,2]\n",
    "    print(create(8, 12))\n",
    "    print(create(8, 10))\n",
    "    print(create(7, 15))"
   ]
  }
 ],
 "metadata": {
  "kernelspec": {
   "display_name": "Python 3",
   "language": "python",
   "name": "python3"
  },
  "language_info": {
   "codemirror_mode": {
    "name": "ipython",
    "version": 3
   },
   "file_extension": ".py",
   "mimetype": "text/x-python",
   "name": "python",
   "nbconvert_exporter": "python",
   "pygments_lexer": "ipython3",
   "version": "3.12.3"
  }
 },
 "nbformat": 4,
 "nbformat_minor": 2
}
