{
 "cells": [
  {
   "cell_type": "markdown",
   "metadata": {},
   "source": [
    "# List efficiency II"
   ]
  },
  {
   "cell_type": "markdown",
   "metadata": {},
   "source": [
    "Implement a test, where the numbers $1,2,\\dots,n$ are added to the end of the list one at a time. Then the **first** element of the list is deleted $n$ times.\n",
    "\n",
    "Implement the test with $n=10^5$. Make two time measurements: How much time it takes to do all the additions, and how much time to do all the deletions.\n",
    "\n",
    "In this task you get a point automatically when you fill in your measurement results and the code used in the test, and press the submit button."
   ]
  },
  {
   "cell_type": "code",
   "execution_count": 5,
   "metadata": {},
   "outputs": [
    {
     "name": "stdout",
     "output_type": "stream",
     "text": [
      "Time for additions:  0.02 seconds\n",
      "Time for deletions:  2.11 seconds\n"
     ]
    }
   ],
   "source": [
    "from time import time\n",
    "\n",
    "n = 100_000\n",
    "l = []\n",
    "\n",
    "add_start = time()\n",
    "\n",
    "for i in range(1, n+1):\n",
    "    l.append(i)\n",
    "\n",
    "add_end = time()\n",
    "\n",
    "print(f\"Time for additions: {add_end - add_start: .2f} seconds\")\n",
    "\n",
    "sub_start = time()\n",
    "\n",
    "for i in range(n):\n",
    "    l.pop(0)\n",
    "\n",
    "sub_end = time()\n",
    "\n",
    "print(f\"Time for deletions: {sub_end - sub_start: .2f} seconds\")"
   ]
  }
 ],
 "metadata": {
  "kernelspec": {
   "display_name": "Python 3",
   "language": "python",
   "name": "python3"
  },
  "language_info": {
   "codemirror_mode": {
    "name": "ipython",
    "version": 3
   },
   "file_extension": ".py",
   "mimetype": "text/x-python",
   "name": "python",
   "nbconvert_exporter": "python",
   "pygments_lexer": "ipython3",
   "version": "3.12.3"
  }
 },
 "nbformat": 4,
 "nbformat_minor": 2
}
