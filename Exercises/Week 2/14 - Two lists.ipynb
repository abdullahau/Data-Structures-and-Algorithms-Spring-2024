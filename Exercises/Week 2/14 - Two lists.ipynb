{
 "cells": [
  {
   "cell_type": "markdown",
   "metadata": {},
   "source": [
    "# Two lists"
   ]
  },
  {
   "cell_type": "markdown",
   "metadata": {},
   "source": [
    "You are given two lists A and B both containing the numbers $1 \\dots n$ in some order. Your task is to count how many of the numbers $1 \\dots n$ occur earlier on the list $A$ than on the list $B$. \n",
    "\n",
    "In this task, n can be large and an efficient algorithm is required. The time complexity should be $O(n)$.\n",
    "\n",
    "In a file `twolists.py`, implement a function `count` that returns the desired count."
   ]
  },
  {
   "cell_type": "code",
   "execution_count": null,
   "metadata": {},
   "outputs": [],
   "source": [
    "def count(a, b):\n",
    "    # TODO\n",
    "\n",
    "if __name__ == \"__main__\":\n",
    "    print(count([2,3,4,1], [1,2,3,4])) # 3\n",
    "    print(count([1,2,3,4], [1,2,3,4])) # 0\n",
    "    print(count([4,7,3,1,6,2,5], [5,6,1,2,4,3,7])) # 3\n",
    "    print(count([5,4,9,1,8,3,2,6,7], [6,2,8,4,9,1,5,7,3])) # 5"
   ]
  },
  {
   "cell_type": "markdown",
   "metadata": {},
   "source": [
    "*Explanation*: In the first test, the numbers 2, 3 and 4 occur earlier on the list $A$ than on the list $B$."
   ]
  },
  {
   "cell_type": "markdown",
   "metadata": {},
   "source": [
    "### Attempt 1"
   ]
  },
  {
   "cell_type": "markdown",
   "metadata": {},
   "source": [
    "The below code has a time complexity of $O(n^{2})$ as traversing through the entire list with the for loop has a time complexity of $O(n)$ and the `index` method has a time complexity of $O(n)$, thus a combined time complexity of $O(n^{2})$."
   ]
  },
  {
   "cell_type": "code",
   "execution_count": null,
   "metadata": {},
   "outputs": [
    {
     "name": "stdout",
     "output_type": "stream",
     "text": [
      "3\n",
      "0\n",
      "3\n",
      "5\n",
      "3\n"
     ]
    }
   ],
   "source": [
    "def count(a, b):\n",
    "    counter = 0\n",
    "    for i in range(len(a)):\n",
    "        if b.index(a[i]) > i:\n",
    "            counter += 1\n",
    "            \n",
    "    return counter\n",
    "        \n",
    "\n",
    "if __name__ == \"__main__\":\n",
    "    print(count([2,3,4,1], [1,2,3,4])) # 3\n",
    "    print(count([1,2,3,4], [1,2,3,4])) # 0\n",
    "    print(count([4,7,3,1,6,2,5], [5,6,1,2,4,3,7])) # 3\n",
    "    print(count([5,4,9,1,8,3,2,6,7], [6,2,8,4,9,1,5,7,3])) # 5\n",
    "    print(count([2, 1, 4, 3, 5], [1, 2, 5, 4, 3])) # 3    "
   ]
  },
  {
   "cell_type": "code",
   "execution_count": 31,
   "metadata": {},
   "outputs": [
    {
     "name": "stdout",
     "output_type": "stream",
     "text": [
      "3\n",
      "0\n",
      "3\n",
      "4\n",
      "2\n"
     ]
    }
   ],
   "source": [
    "def count(a, b):\n",
    "    counter = 0\n",
    "    for i in range(len(a)):\n",
    "        counter += 1 if a[i] - b[i] > 0 else 0\n",
    "\n",
    "    return counter\n",
    "\n",
    "if __name__ == \"__main__\":\n",
    "    print(count([2,3,4,1], [1,2,3,4])) # 3\n",
    "    print(count([1,2,3,4], [1,2,3,4])) # 0\n",
    "    print(count([4,7,3,1,6,2,5], [5,6,1,2,4,3,7])) # 3\n",
    "    print(count([5,4,9,1,8,3,2,6,7], [6,2,8,4,9,1,5,7,3])) # 5\n",
    "    print(count([2, 1, 4, 3, 5], [1, 2, 5, 4, 3])) # 3    "
   ]
  },
  {
   "cell_type": "code",
   "execution_count": 28,
   "metadata": {},
   "outputs": [
    {
     "name": "stdout",
     "output_type": "stream",
     "text": [
      "3\n",
      "0\n",
      "3\n",
      "5\n",
      "3\n"
     ]
    }
   ],
   "source": [
    "def count(a, b):\n",
    "    counter = 0\n",
    "    i = 0\n",
    "    while True: \n",
    "        b_index = b.index(a[0])\n",
    "        if b_index > i:\n",
    "            counter += 1\n",
    "            \n",
    "        a.pop(0)\n",
    "        \n",
    "        i += 1\n",
    "        \n",
    "        if len(a) <= 1 or len(b) <= 1:\n",
    "            break\n",
    "            \n",
    "    return counter\n",
    "        \n",
    "\n",
    "if __name__ == \"__main__\":\n",
    "    print(count([2,3,4,1], [1,2,3,4])) # 3\n",
    "    print(count([1,2,3,4], [1,2,3,4])) # 0\n",
    "    print(count([4,7,3,1,6,2,5], [5,6,1,2,4,3,7])) # 3\n",
    "    print(count([5,4,9,1,8,3,2,6,7], [6,2,8,4,9,1,5,7,3])) # 5\n",
    "    print(count([2, 1, 4, 3, 5], [1, 2, 5, 4, 3])) # 3    "
   ]
  },
  {
   "cell_type": "markdown",
   "metadata": {},
   "source": [
    "### Attempt 2"
   ]
  },
  {
   "cell_type": "markdown",
   "metadata": {},
   "source": [
    "The following attempt uses the enumerate function to unpack index and value of the `b` list and stores the value as key of the dictionary and index as the value. This loop has a time complexity of $O(n)$. Following the `b` list mapping, another loop is initiated which unpacks the index and value of list `a` and compares the index value pair of `b_map` dictionary. The time complexity of searching using keys in a dictionary is on average $O(1)$ (assuming no hash collisions) as dictionaries are implemented using hash tables, which provide fast lookup operations. As these are two sequential loop segments, their combined time complexity is $O(n)$."
   ]
  },
  {
   "cell_type": "code",
   "execution_count": 30,
   "metadata": {},
   "outputs": [
    {
     "name": "stdout",
     "output_type": "stream",
     "text": [
      "3\n",
      "0\n",
      "3\n",
      "5\n",
      "3\n"
     ]
    }
   ],
   "source": [
    "def count(a, b):\n",
    "    b_map = {value: index for index, value in enumerate(b)}\n",
    "    counter = 0\n",
    "    for index, value in enumerate(a):\n",
    "        if b_map[value] > index:\n",
    "            counter += 1\n",
    "    return counter \n",
    "    \n",
    "        \n",
    "\n",
    "if __name__ == \"__main__\":\n",
    "    print(count([2,3,4,1], [1,2,3,4])) # 3\n",
    "    print(count([1,2,3,4], [1,2,3,4])) # 0\n",
    "    print(count([4,7,3,1,6,2,5], [5,6,1,2,4,3,7])) # 3\n",
    "    print(count([5,4,9,1,8,3,2,6,7], [6,2,8,4,9,1,5,7,3])) # 5\n",
    "    print(count([2, 1, 4, 3, 5], [1, 2, 5, 4, 3])) # 3"
   ]
  },
  {
   "cell_type": "markdown",
   "metadata": {},
   "source": [
    "### Attempt 3 - Solution"
   ]
  },
  {
   "cell_type": "markdown",
   "metadata": {},
   "source": [
    "The following solution first computes a list `positions` that stores the position of each number on the list $B$. Then it is enough go through the list $A$ and, for each number encountered, access the list `positions` to find out where that number is in the list $B$.\n",
    "\n",
    "The time complexity is $O(n)$."
   ]
  },
  {
   "cell_type": "code",
   "execution_count": 32,
   "metadata": {},
   "outputs": [
    {
     "name": "stdout",
     "output_type": "stream",
     "text": [
      "3\n",
      "0\n",
      "3\n",
      "5\n",
      "3\n"
     ]
    }
   ],
   "source": [
    "def count(a, b):\n",
    "    n = len(a)\n",
    "    positions = [0] * (n+1)\n",
    "    for i in range(n):\n",
    "        positions[b[i]] = i\n",
    "    result = 0\n",
    "    for i in range(n):\n",
    "        if i < positions[a[i]]:\n",
    "            result += 1\n",
    "    return result\n",
    "\n",
    "if __name__ == \"__main__\":\n",
    "    print(count([2,3,4,1], [1,2,3,4])) # 3\n",
    "    print(count([1,2,3,4], [1,2,3,4])) # 0\n",
    "    print(count([4,7,3,1,6,2,5], [5,6,1,2,4,3,7])) # 3\n",
    "    print(count([5,4,9,1,8,3,2,6,7], [6,2,8,4,9,1,5,7,3])) # 5\n",
    "    print(count([2, 1, 4, 3, 5], [1, 2, 5, 4, 3])) # 3"
   ]
  }
 ],
 "metadata": {
  "kernelspec": {
   "display_name": "Python 3",
   "language": "python",
   "name": "python3"
  },
  "language_info": {
   "codemirror_mode": {
    "name": "ipython",
    "version": 3
   },
   "file_extension": ".py",
   "mimetype": "text/x-python",
   "name": "python",
   "nbconvert_exporter": "python",
   "pygments_lexer": "ipython3",
   "version": "3.12.3"
  }
 },
 "nbformat": 4,
 "nbformat_minor": 2
}
