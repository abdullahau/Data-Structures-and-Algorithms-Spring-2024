{
 "cells": [
  {
   "cell_type": "markdown",
   "metadata": {},
   "source": [
    "# Swap and move"
   ]
  },
  {
   "cell_type": "markdown",
   "metadata": {},
   "source": [
    "You are given a list that contains the numbers $1 \\dots n$ in some order. Your task is to sort the list using two commands:\n",
    "\n",
    "-   `SWAP`: swaps the first two elements of the list\n",
    "-   `MOVE`: moves the first element of the list to the end of the list\n",
    "\n",
    "Design an algorithm that constructs a sequence of commands such that executing the the sequence sorts the list. The algorithm may return any valid solution that contains no more than $n^3$ commands.\n",
    "\n",
    "In a file `swapmove.py`, implement a function `solve` that returns the sequence of commands as a list. Each element of the answer should be either the string `SWAP` or the string `MOVE`."
   ]
  },
  {
   "cell_type": "code",
   "execution_count": null,
   "metadata": {},
   "outputs": [],
   "source": [
    "def solve(t):\n",
    "    # TODO\n",
    "\n",
    "if __name__ == \"__main__\":\n",
    "    print(solve([1, 2])) # e.g. []\n",
    "    print(solve([2, 1])) # e.g. [SWAP]\n",
    "    print(solve([1, 3, 2])) # e.g. [SWAP, MOVE]\n",
    "    print(solve([3, 2, 1])) # e.g. [MOVE, SWAP]\n",
    "    print(solve([2, 3, 4, 1])) # e.g. [MOVE, MOVE, MOVE]"
   ]
  },
  {
   "cell_type": "markdown",
   "metadata": {},
   "source": [
    "*Explanation*: The list $[1,3,2]$ can be sorted by executing first the command `SWAP`, resulting in the list $[3,1,2]$, and then the command `MOVE`, resulting in the list $[1,2,3]$."
   ]
  },
  {
   "cell_type": "markdown",
   "metadata": {},
   "source": [
    "## Attempt 1"
   ]
  },
  {
   "cell_type": "code",
   "execution_count": 1,
   "metadata": {},
   "outputs": [
    {
     "name": "stdout",
     "output_type": "stream",
     "text": [
      "[]\n",
      "['MOVE']\n",
      "['SWAP', 'MOVE']\n",
      "['MOVE', 'SWAP']\n",
      "['MOVE', 'MOVE', 'MOVE']\n"
     ]
    }
   ],
   "source": [
    "def swap(t):\n",
    "    t[0], t[1] = t[1], t[0]\n",
    "    \n",
    "def move(t):\n",
    "    num = t.pop(0)\n",
    "    t.append(num)\n",
    "    \n",
    "def solve(t):\n",
    "    s = sorted(t)\n",
    "    commands = []\n",
    "    while True:\n",
    "        if s == t:\n",
    "            break\n",
    "        if t[0] > t[-1]:\n",
    "            move(t)\n",
    "            commands.append(\"MOVE\")\n",
    "        else:\n",
    "            swap(t)\n",
    "            commands.append(\"SWAP\")\n",
    "    \n",
    "    return commands\n",
    "\n",
    "if __name__ == \"__main__\":\n",
    "    print(solve([1, 2])) # e.g. []\n",
    "    print(solve([2, 1])) # e.g. [SWAP]\n",
    "    print(solve([1, 3, 2])) # e.g. [SWAP, MOVE]\n",
    "    print(solve([3, 2, 1])) # e.g. [MOVE, SWAP]\n",
    "    print(solve([2, 3, 4, 1])) # e.g. [MOVE, MOVE, MOVE]"
   ]
  }
 ],
 "metadata": {
  "kernelspec": {
   "display_name": "Python 3",
   "language": "python",
   "name": "python3"
  },
  "language_info": {
   "codemirror_mode": {
    "name": "ipython",
    "version": 3
   },
   "file_extension": ".py",
   "mimetype": "text/x-python",
   "name": "python",
   "nbconvert_exporter": "python",
   "pygments_lexer": "ipython3",
   "version": "3.12.4"
  }
 },
 "nbformat": 4,
 "nbformat_minor": 2
}
