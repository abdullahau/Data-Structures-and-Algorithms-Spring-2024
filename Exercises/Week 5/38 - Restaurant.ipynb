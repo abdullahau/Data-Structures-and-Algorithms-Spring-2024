{
 "cells": [
  {
   "cell_type": "markdown",
   "metadata": {},
   "source": [
    "# Restaurant"
   ]
  },
  {
   "cell_type": "markdown",
   "metadata": {},
   "source": [
    "You are given data about customers arriving to and departing from a restaurant in the same way as on the course material.\n",
    "\n",
    "Your task is to find out what is the longest time that the restaurant is empty between the departure of a customer and the arrival of another customer.\n",
    "\n",
    "The time complexity of the algorithm should be $O(n \\log n)$.\n",
    "\n",
    "In a file `restaurant.py`, implement a function `find` that returns the longest time."
   ]
  },
  {
   "cell_type": "code",
   "execution_count": null,
   "metadata": {},
   "outputs": [],
   "source": [
    "def find(a, d):\n",
    "    # TODO\n",
    "\n",
    "if __name__ == \"__main__\":\n",
    "    print(find([1, 6], [2, 9])) # 4\n",
    "    print(find([1, 2, 3], [2, 3, 4])) # 0\n",
    "    print(find([1, 4, 6, 8], [5, 5, 9, 9])) # 1\n",
    "    print(find([1, 10**9], [2, 10**9+1])) # 999999998  "
   ]
  },
  {
   "cell_type": "markdown",
   "metadata": {},
   "source": [
    "## Attempt 1"
   ]
  },
  {
   "cell_type": "code",
   "execution_count": 1,
   "metadata": {},
   "outputs": [
    {
     "name": "stdout",
     "output_type": "stream",
     "text": [
      "4\n",
      "0\n",
      "1\n",
      "999999998\n",
      "3\n"
     ]
    }
   ],
   "source": [
    "def find(a, d):\n",
    "    events = []\n",
    "    \n",
    "    for time in a:\n",
    "        events.append((time, 1))\n",
    "    for time in d:\n",
    "        events.append((time, 2))\n",
    "    \n",
    "    events.sort()\n",
    "    \n",
    "    max_vacancy = 0\n",
    "    present = 0\n",
    "    \n",
    "    n = len(events)\n",
    "    for i in range(n):\n",
    "        if present == 0 and i != 0:\n",
    "            vacancy = events[i][0] - events[i-1][0]\n",
    "            max_vacancy = max(max_vacancy, vacancy)\n",
    "            \n",
    "        if events[i][1] == 1:\n",
    "            present += 1\n",
    "        elif events[i][1] == 2:\n",
    "            present -= 1\n",
    "    \n",
    "    return max_vacancy\n",
    "    \n",
    "if __name__ == \"__main__\":\n",
    "    print(find([1, 6], [2, 9])) # 4\n",
    "    print(find([1, 2, 3], [2, 3, 4])) # 0\n",
    "    print(find([1, 4, 6, 8], [5, 5, 9, 9])) # 1\n",
    "    print(find([1, 10**9], [2, 10**9+1])) # 999999998  \n",
    "    print(find([9, 7, 5, 1, 6, 6, 10, 8],[12, 12, 5, 2, 7, 11, 10, 9])) # 3"
   ]
  },
  {
   "cell_type": "markdown",
   "metadata": {},
   "source": [
    "## Solution"
   ]
  },
  {
   "cell_type": "markdown",
   "metadata": {},
   "source": [
    "The following solution is a modification of the code in the course material. It processes the events in the same way and keeps track of the customer count.\n",
    "\n",
    "The difference is that now we are interested in situations where a customer arrives and is the only customer in the restaurant, but is not the first customer of the day. Then the time elapsed since the previous event is the time that the restaurant was empty."
   ]
  },
  {
   "cell_type": "code",
   "execution_count": null,
   "metadata": {},
   "outputs": [],
   "source": [
    "def find(a, d):\n",
    "    events = []\n",
    "\n",
    "    for time in a:\n",
    "        events.append((time, 1))\n",
    "    for time in d:\n",
    "        events.append((time, 2))\n",
    "\n",
    "    events.sort()\n",
    "\n",
    "    counter = 0\n",
    "    result = 0\n",
    "    last = None\n",
    "\n",
    "    for event in events:\n",
    "        if event[1] == 1:\n",
    "            counter += 1\n",
    "        if event[1] == 2:\n",
    "            counter -= 1\n",
    "\n",
    "        if event[1] == 1 and counter == 1 and last:\n",
    "            result = max(result, event[0] - last)\n",
    "\n",
    "        last = event[0]\n",
    "\n",
    "    return result"
   ]
  }
 ],
 "metadata": {
  "kernelspec": {
   "display_name": "Python 3",
   "language": "python",
   "name": "python3"
  },
  "language_info": {
   "codemirror_mode": {
    "name": "ipython",
    "version": 3
   },
   "file_extension": ".py",
   "mimetype": "text/x-python",
   "name": "python",
   "nbconvert_exporter": "python",
   "pygments_lexer": "ipython3",
   "version": "3.12.3"
  }
 },
 "nbformat": 4,
 "nbformat_minor": 2
}
