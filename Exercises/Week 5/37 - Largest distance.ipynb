{
 "cells": [
  {
   "cell_type": "markdown",
   "metadata": {},
   "source": [
    "# Largest distance"
   ]
  },
  {
   "cell_type": "markdown",
   "metadata": {},
   "source": [
    "A list contains $n$ integers in the range $1\\dots k$. We want to add another integer in the range $1\\dots k$ to the list so that the distance of the new number to the nearest old number is as large as possible. What is this distance?\n",
    "\n",
    "The time complexity of the algorithm should be $O(n \\log n)$.\n",
    "\n",
    "In a file `distance.py`, implement a function `find` that returns the maximal distance."
   ]
  },
  {
   "cell_type": "code",
   "execution_count": null,
   "metadata": {},
   "outputs": [],
   "source": [
    "def find(t, k):\n",
    "    # TODO\n",
    "\n",
    "if __name__ == \"__main__\":\n",
    "    print(find([1, 2, 9], 11)) # 3\n",
    "    print(find([2, 1, 3], 3)) # 0\n",
    "    print(find([7, 4, 10, 4], 10)) # 3\n",
    "    print(find([15, 2, 6, 4, 18], 20)) # 4\n",
    "    print(find([41222388, 392676742, 307110407, 775934683, 25076911], 809136843)) # 191628970"
   ]
  },
  {
   "cell_type": "markdown",
   "metadata": {},
   "source": [
    "*Explanation*: In the first case, the result is $3$, because we can add the number $5$ or $6$ so that the distance (to $2$ or $9$) is $3$. It is not possible to add a number so that the distance is $4$ or more."
   ]
  },
  {
   "cell_type": "markdown",
   "metadata": {},
   "source": [
    "## Attempt 1"
   ]
  },
  {
   "cell_type": "code",
   "execution_count": 26,
   "metadata": {},
   "outputs": [
    {
     "name": "stdout",
     "output_type": "stream",
     "text": [
      "3\n",
      "0\n",
      "3\n",
      "4\n",
      "191628970\n",
      "4\n"
     ]
    }
   ],
   "source": [
    "def find(t, k):\n",
    "    t = sorted(t)\n",
    "    largest = t[0] - 1 # distance between the first element of the list & 1\n",
    "\n",
    "    n = len(t)\n",
    "    for i in range(1,n):\n",
    "        largest = max(largest, (t[i] - t[i-1]) // 2)\n",
    "    \n",
    "    largest = max(largest, k - t[-1]) # distance between k and last element of the list\n",
    "    return largest\n",
    "\n",
    "if __name__ == \"__main__\":\n",
    "    print(find([1, 2, 9], 11)) # 3\n",
    "    print(find([2, 1, 3], 3)) # 0\n",
    "    print(find([7, 4, 10, 4], 10)) # 3\n",
    "    print(find([15, 2, 6, 4, 18], 20)) # 4\n",
    "    print(find([41222388, 392676742, 307110407, 775934683, 25076911], 809136843)) # 191628970\n",
    "    print(find([2, 11, 9, 10, 10], 15)) # 4"
   ]
  },
  {
   "cell_type": "markdown",
   "metadata": {},
   "source": [
    "The goal is to find the maximum distance to the nearest old number, considering both ends of the range $1 … k$. The `// 2` ensures that we get the correct distance when the new number is placed exactly in the middle between two existing numbers. The final check for `k - t[-2]` accounts for the distance from the last original number to `k`."
   ]
  },
  {
   "cell_type": "code",
   "execution_count": 14,
   "metadata": {},
   "outputs": [
    {
     "name": "stdout",
     "output_type": "stream",
     "text": [
      "3\n",
      "0\n",
      "3\n",
      "4\n",
      "191628970\n",
      "4\n"
     ]
    }
   ],
   "source": [
    "def find(t, k):\n",
    "    t.append(k + 1)  # Add k+1 to consider the distance to k\n",
    "    t = sorted(t)\n",
    "    largest = t[0] - 1  # Fix the typo here\n",
    "\n",
    "    n = len(t)\n",
    "    for i in range(1, n):\n",
    "        largest = max(largest, (t[i] - t[i-1]) // 2)  # Use integer division for the distance\n",
    "\n",
    "    # Consider the distance from the last element to k\n",
    "    largest = max(largest, k - t[-2])\n",
    "    return largest\n",
    "\n",
    "if __name__ == \"__main__\":\n",
    "    print(find([1, 2, 9], 11)) # 3\n",
    "    print(find([2, 1, 3], 3)) # 0\n",
    "    print(find([7, 4, 10, 4], 10)) # 3\n",
    "    print(find([15, 2, 6, 4, 18], 20)) # 4\n",
    "    print(find([41222388, 392676742, 307110407, 775934683, 25076911], 809136843)) # 191628970\n",
    "    print(find([2, 11, 9, 10, 10], 15)) # 4"
   ]
  },
  {
   "cell_type": "markdown",
   "metadata": {},
   "source": [
    "## Solution"
   ]
  },
  {
   "cell_type": "markdown",
   "metadata": {},
   "source": [
    "Start by sorting the list. Then the best choice for the new number is either at the beginning or the end of the range, or half between two adjacent numbers. The resulting algorithm needs $O(n \\log n)$ time."
   ]
  },
  {
   "cell_type": "code",
   "execution_count": null,
   "metadata": {},
   "outputs": [],
   "source": [
    "def find(t, k):\n",
    "    t = sorted(t)\n",
    "    # add number to beginning or end\n",
    "    result = max(t[0]-1, k-t[-1])\n",
    "    # add number between two numbers\n",
    "    for i in range(len(t)-1):\n",
    "        result = max(result, (t[i+1]-t[i])//2)\n",
    "    return result"
   ]
  }
 ],
 "metadata": {
  "kernelspec": {
   "display_name": "Python 3",
   "language": "python",
   "name": "python3"
  },
  "language_info": {
   "codemirror_mode": {
    "name": "ipython",
    "version": 3
   },
   "file_extension": ".py",
   "mimetype": "text/x-python",
   "name": "python",
   "nbconvert_exporter": "python",
   "pygments_lexer": "ipython3",
   "version": "3.12.3"
  }
 },
 "nbformat": 4,
 "nbformat_minor": 2
}
