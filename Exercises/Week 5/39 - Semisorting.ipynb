{
 "cells": [
  {
   "cell_type": "markdown",
   "metadata": {},
   "source": [
    "# Semisorting"
   ]
  },
  {
   "cell_type": "markdown",
   "metadata": {},
   "source": [
    "A list contains the numbers $1 \\dots n$ in some order. In each step, you can swap two adjacent numbers. Your task to order the list so that all the numbers in the first half are smaller than all the numbers in the last half. What is the smallest number of swaps you need?\n",
    "\n",
    "The time complexity of the algorithm should be $O(n)$. You may assume that $n$ is even.\n",
    "\n",
    "In a file `semisort.py`, implement a function `solve` that returns the smallest number of swaps."
   ]
  },
  {
   "cell_type": "code",
   "execution_count": null,
   "metadata": {},
   "outputs": [],
   "source": [
    "def solve(t):\n",
    "    # TODO\n",
    "\n",
    "if __name__ == \"__main__\":\n",
    "    print(solve([2, 1, 4, 3])) # 0\n",
    "    print(solve([5, 3, 4, 1, 6, 2])) # 6\n",
    "    print(solve([6, 5, 4, 3, 2, 1])) # 9\n",
    "    print(solve([10, 1, 9, 2, 8, 3, 7, 4, 6, 5])) # 15"
   ]
  },
  {
   "cell_type": "markdown",
   "metadata": {},
   "source": [
    "*Explanation*: On the list $[2,1,4,3]$, the numbers in the first half, $2$ and $1$, are already smaller than the numbers $4$ and $3$ in the last half. The list $[5, 3, 4, 1, 6, 2]$ needs at least $6$ swaps. Here is one optimal sequence of swaps: $[5, 3, 4, 1, 6, 2]$ $\\rightarrow$ $[5, 3, 4, 1, 2, 6]$ $\\rightarrow$ $[3, 5, 4, 1, 2, 6]$ $\\rightarrow$ $[3, 5, 1, 4, 2, 6]$ $\\rightarrow$ $[3, 1, 5, 4, 2, 6]$ $\\rightarrow$ $[3, 1, 5, 2, 4, 6]$ $\\rightarrow$ $[3, 1, 2, 5, 4, 6]$"
   ]
  },
  {
   "cell_type": "markdown",
   "metadata": {},
   "source": [
    "## Attempt 1"
   ]
  },
  {
   "cell_type": "code",
   "execution_count": 1,
   "metadata": {},
   "outputs": [
    {
     "name": "stdout",
     "output_type": "stream",
     "text": [
      "4\n",
      "[1, 2]\n",
      "[4, 3]\n",
      "\n",
      "[3, 4]\n",
      "[2, 1]\n",
      "None\n",
      "6\n",
      "[1, 2, 3]\n",
      "[1, 6, 2]\n",
      "\n",
      "[4, 5, 6]\n",
      "[5, 3, 4]\n",
      "None\n",
      "6\n",
      "[1, 2, 3]\n",
      "[3, 2, 1]\n",
      "\n",
      "[4, 5, 6]\n",
      "[6, 5, 4]\n",
      "None\n",
      "10\n",
      "[1, 2, 3, 4, 5]\n",
      "[3, 7, 4, 6, 5]\n",
      "\n",
      "[6, 7, 8, 9, 10]\n",
      "[10, 1, 9, 2, 8]\n",
      "None\n"
     ]
    }
   ],
   "source": [
    "def solve(t):\n",
    "    n = len(t)\n",
    "    print(n)\n",
    "    \n",
    "    print(list(range(1, n//2+1)))\n",
    "    print(t[n//2:])\n",
    "    \n",
    "    print()\n",
    "    \n",
    "    print(list(range(n//2+1, n+1)))\n",
    "    print(t[:n//2])\n",
    "\n",
    "if __name__ == \"__main__\":\n",
    "    print(solve([2, 1, 4, 3])) # 0\n",
    "    print(solve([5, 3, 4, 1, 6, 2])) # 6\n",
    "    print(solve([6, 5, 4, 3, 2, 1])) # 9\n",
    "    print(solve([10, 1, 9, 2, 8, 3, 7, 4, 6, 5])) # 15"
   ]
  },
  {
   "cell_type": "code",
   "execution_count": 2,
   "metadata": {},
   "outputs": [
    {
     "name": "stdout",
     "output_type": "stream",
     "text": [
      "[0, 1]\n",
      "None\n",
      "[1, 3, 5]\n",
      "None\n",
      "[3, 4, 5]\n",
      "None\n",
      "[1, 3, 5, 7, 9]\n",
      "None\n"
     ]
    }
   ],
   "source": [
    "def solve(t):\n",
    "    n = len(t)\n",
    "    first = set(range(1, n//2+1))\n",
    "    first_list = []\n",
    "    for i, n in enumerate(t):\n",
    "        if n in first:\n",
    "            first_list.append(i)\n",
    "            \n",
    "    print(first_list)\n",
    "\n",
    "if __name__ == \"__main__\":\n",
    "    print(solve([2, 1, 4, 3])) # 0\n",
    "    print(solve([5, 3, 4, 1, 6, 2])) # 6\n",
    "    print(solve([6, 5, 4, 3, 2, 1])) # 9\n",
    "    print(solve([10, 1, 9, 2, 8, 3, 7, 4, 6, 5])) # 15"
   ]
  },
  {
   "cell_type": "code",
   "execution_count": 35,
   "metadata": {},
   "outputs": [
    {
     "name": "stdout",
     "output_type": "stream",
     "text": [
      "0\n",
      "6\n",
      "9\n",
      "15\n"
     ]
    }
   ],
   "source": [
    "def solve(t):\n",
    "    n = len(t)\n",
    "    first = set(range(1, n//2+1))\n",
    "    first_index = []\n",
    "    for i, num in enumerate(t):\n",
    "        if num in first:\n",
    "            first_index.append(i)\n",
    "    total = 0\n",
    "    for i in range(n//2):\n",
    "        total += first_index[i] - i\n",
    "        \n",
    "    return total\n",
    "\n",
    "if __name__ == \"__main__\":\n",
    "    print(solve([2, 1, 4, 3])) # 0\n",
    "    print(solve([5, 3, 4, 1, 6, 2])) # 6\n",
    "    print(solve([6, 5, 4, 3, 2, 1])) # 9\n",
    "    print(solve([10, 1, 9, 2, 8, 3, 7, 4, 6, 5])) # 15"
   ]
  },
  {
   "cell_type": "markdown",
   "metadata": {},
   "source": [
    "## Solution"
   ]
  },
  {
   "cell_type": "markdown",
   "metadata": {},
   "source": [
    "We can think of the list as containing just two kinds of numbers: big and small. The big numbers are those that are bigger than $n/2$, i.e., those that belong to the last half. We could replace all the big numbers with ones and all the small numbers with zeros without changing the answer to the problem. With such a replacement, the task becomes equivalent to full sorting.\n",
    "\n",
    "When sorting by swapping adjacent elements, the number of swaps needed is equal to the number of inversions. This equality holds in our task too, if we count only inversions, where one of the elements is big and the other is small. Thus our goal is to count such inversions.\n",
    "\n",
    "This can be done by going through the list from left to right while keeping a counter of the big numbers seen so far. Whenever we encounter a small number, that number forms an inversion with all the preceding big numbers.\n",
    "\n",
    "The time complexity of the algorithm is $O(n)$."
   ]
  },
  {
   "cell_type": "code",
   "execution_count": null,
   "metadata": {},
   "outputs": [],
   "source": [
    "def solve(t):\n",
    "    result = 0\n",
    "    bigs = 0\n",
    "    for x in t:\n",
    "        if x > len(t)//2:\n",
    "            bigs += 1\n",
    "        else:\n",
    "            result += bigs\n",
    "    return result"
   ]
  }
 ],
 "metadata": {
  "kernelspec": {
   "display_name": "Python 3",
   "language": "python",
   "name": "python3"
  },
  "language_info": {
   "codemirror_mode": {
    "name": "ipython",
    "version": 3
   },
   "file_extension": ".py",
   "mimetype": "text/x-python",
   "name": "python",
   "nbconvert_exporter": "python",
   "pygments_lexer": "ipython3",
   "version": "3.12.3"
  }
 },
 "nbformat": 4,
 "nbformat_minor": 2
}
