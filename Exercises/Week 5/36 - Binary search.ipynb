{
 "cells": [
  {
   "cell_type": "markdown",
   "metadata": {},
   "source": [
    "# Binary search"
   ]
  },
  {
   "cell_type": "markdown",
   "metadata": {},
   "source": [
    "Binary search is an efficient algorithm for searching an element in a sorted list. The idea is to start the search in the middle of the list, so that the search area that might contain the element can be immediately reduced to half.\n",
    "\n",
    "Search the internet for information about binary search and study how it works.\n",
    "\n",
    "Implementing binary search correctly is surprisingly difficult. For example, the implementation below is incorrect:"
   ]
  },
  {
   "cell_type": "code",
   "execution_count": 8,
   "metadata": {},
   "outputs": [
    {
     "name": "stdout",
     "output_type": "stream",
     "text": [
      "False\n",
      "True\n",
      "False\n"
     ]
    }
   ],
   "source": [
    "def binary_search(items, x):\n",
    "    left = 0\n",
    "    right = len(items) - 1\n",
    "\n",
    "    while left < right:\n",
    "        middle = (left + right) // 2\n",
    "\n",
    "        if items[middle] == x:\n",
    "            return True\n",
    "\n",
    "        if items[middle] > x:\n",
    "            right = middle - 1\n",
    "        else:\n",
    "            left = middle + 1\n",
    "\n",
    "    return False\n",
    "\n",
    "numbers = [1, 3, 8]\n",
    "\n",
    "print(binary_search(numbers, 2)) # False\n",
    "print(binary_search(numbers, 3)) # True\n",
    "print(binary_search(numbers, 4)) # False"
   ]
  },
  {
   "cell_type": "markdown",
   "metadata": {},
   "source": [
    "Study the above function, and find three examples of inputs that cause the function to produce an incorrect output.\n",
    "\n",
    "In this task, you get a point automatically when you fill in your results and press the submit button.\n",
    "\n",
    "What inputs did you find and how did you find them?"
   ]
  },
  {
   "cell_type": "markdown",
   "metadata": {},
   "source": [
    "## Attempt 1"
   ]
  },
  {
   "cell_type": "code",
   "execution_count": 14,
   "metadata": {},
   "outputs": [
    {
     "name": "stdout",
     "output_type": "stream",
     "text": [
      "False\n",
      "False\n",
      "False\n",
      "False\n"
     ]
    }
   ],
   "source": [
    "def binary_search(items, x):\n",
    "    left = 0\n",
    "    right = len(items) - 1\n",
    "\n",
    "    while left < right:\n",
    "        middle = (left + right) // 2\n",
    "\n",
    "        if items[middle] == x:\n",
    "            return True\n",
    "\n",
    "        if items[middle] > x:\n",
    "            right = middle - 1\n",
    "        else:\n",
    "            left = middle + 1\n",
    "\n",
    "    return False\n",
    "\n",
    "numbers = [1, 2, 3, 4, 5, 6, 7, 8, 9, 10, 11]\n",
    "print(binary_search(numbers, 2)) # True\n",
    "numbers = [1, 2, 4, 5, 7, 8, 11, 13, 14, 18]\n",
    "print(binary_search(numbers, 18)) # True\n",
    "numbers = [1, 3, 8]\n",
    "print(binary_search(numbers, 1)) # True\n",
    "numbers = [1, 3, 8]\n",
    "print(binary_search(numbers, 8)) # True"
   ]
  },
  {
   "cell_type": "markdown",
   "metadata": {},
   "source": [
    "The incorrect function contains a `while` loop that exits before the `middle` index is moved up or down from the far ends of the target list. The `(left + right) // 2` is always rounded down and the `while` loop runs only until the `left` is smaller than the `right` and due to this the algorithm exists the loop before it reaches the target number. Adding a `<=` ensures the `while` loop holds `True` for one additional loop to adjust the middle index."
   ]
  },
  {
   "cell_type": "code",
   "execution_count": 30,
   "metadata": {},
   "outputs": [
    {
     "name": "stdout",
     "output_type": "stream",
     "text": [
      "True\n",
      "True\n",
      "True\n",
      "True\n"
     ]
    }
   ],
   "source": [
    "def binary_search(items, x):\n",
    "    left = 0\n",
    "    right = len(items) - 1\n",
    "\n",
    "    while left <= right:\n",
    "        middle = (left + right) // 2\n",
    "\n",
    "        if items[middle] == x:\n",
    "            return True\n",
    "\n",
    "        if items[middle] > x:\n",
    "            right = middle - 1\n",
    "        else:\n",
    "            left = middle + 1\n",
    "\n",
    "    return False\n",
    "\n",
    "numbers = [1, 2, 3, 4, 5, 6, 7, 8, 9, 10, 11]\n",
    "print(binary_search(numbers, 2)) # True\n",
    "numbers = [1, 2, 4, 5, 7, 8, 11, 13, 14, 18]\n",
    "print(binary_search(numbers, 18)) # True\n",
    "numbers = [1, 3, 8]\n",
    "print(binary_search(numbers, 1)) # True\n",
    "numbers = [1, 3, 8]\n",
    "print(binary_search(numbers, 8)) # True"
   ]
  },
  {
   "cell_type": "code",
   "execution_count": 16,
   "metadata": {},
   "outputs": [
    {
     "name": "stdout",
     "output_type": "stream",
     "text": [
      "1\n",
      "9\n",
      "0\n",
      "2\n"
     ]
    }
   ],
   "source": [
    "def binary_search(arr, x):\n",
    "    l = 0\n",
    "    r = len(arr) - 1\n",
    "    while l <= r:\n",
    "        mid = l + (r - l) // 2\n",
    "        if arr[mid] == x:\n",
    "            return mid\n",
    "        elif arr[mid] < x:\n",
    "            l = mid + 1\n",
    "        else:\n",
    "            r = mid - 1\n",
    "    return -1\n",
    "\n",
    "numbers = [1, 2, 3, 4, 5, 6, 7, 8, 9, 10, 11]\n",
    "print(binary_search(numbers, 2)) # True\n",
    "numbers = [1, 2, 4, 5, 7, 8, 11, 13, 14, 18]\n",
    "print(binary_search(numbers, 18)) # True\n",
    "numbers = [1, 3, 8]\n",
    "print(binary_search(numbers, 1)) # True\n",
    "numbers = [1, 3, 8]\n",
    "print(binary_search(numbers, 8)) # True"
   ]
  }
 ],
 "metadata": {
  "kernelspec": {
   "display_name": "Python 3",
   "language": "python",
   "name": "python3"
  },
  "language_info": {
   "codemirror_mode": {
    "name": "ipython",
    "version": 3
   },
   "file_extension": ".py",
   "mimetype": "text/x-python",
   "name": "python",
   "nbconvert_exporter": "python",
   "pygments_lexer": "ipython3",
   "version": "3.12.3"
  }
 },
 "nbformat": 4,
 "nbformat_minor": 2
}
