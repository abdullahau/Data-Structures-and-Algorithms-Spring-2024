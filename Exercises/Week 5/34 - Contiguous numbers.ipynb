{
 "cells": [
  {
   "cell_type": "markdown",
   "metadata": {},
   "source": [
    "# Contiguous numbers"
   ]
  },
  {
   "cell_type": "markdown",
   "metadata": {},
   "source": [
    "You are given a list containing $n$ integers. Your task is to pick as many integers from the list as possible. The first number picked can be any number on the list. Each of the other numbers must be exactly one larger than the preceding number. How many numbers can you pick?\n",
    "\n",
    "The time complexity of the algorithm should be $O(n \\log n)$.\n",
    "\n",
    "In a file `interval.py`, implement the function `count` that returns the maximum number of integers that can be picked as described."
   ]
  },
  {
   "cell_type": "code",
   "execution_count": null,
   "metadata": {},
   "outputs": [],
   "source": [
    "def count(t):\n",
    "    # TODO\n",
    "\n",
    "if __name__ == \"__main__\":\n",
    "    print(count([1, 1, 1, 1])) # 1\n",
    "    print(count([10, 4, 8])) # 1\n",
    "    print(count([7, 6, 1, 8])) # 3\n",
    "    print(count([1, 2, 1, 2, 1, 2])) # 2\n",
    "    print(count([987654, 12345678, 987653, 999999, 987655])) # 3"
   ]
  },
  {
   "cell_type": "markdown",
   "metadata": {},
   "source": [
    "*Explanation*: From the list $[10, 4, 8]$ we can pick only one number, since no two numbers differ by exactly $1$. From the list $[7, 6, 1, 8]$ we can pick $3$ numbers in the order $6$, $7$ and $8$."
   ]
  },
  {
   "cell_type": "markdown",
   "metadata": {},
   "source": [
    "## Attempt 1"
   ]
  },
  {
   "cell_type": "code",
   "execution_count": 1,
   "metadata": {},
   "outputs": [
    {
     "name": "stdout",
     "output_type": "stream",
     "text": [
      "1\n",
      "1\n",
      "3\n",
      "2\n",
      "3\n",
      "4\n",
      "4\n"
     ]
    }
   ],
   "source": [
    "def count(t):\n",
    "    t = sorted(list(set(t)))\n",
    "    counter = 1\n",
    "    maximum = 1\n",
    "    n = len(t)\n",
    "    for i in range(1, n):\n",
    "        if t[i-1] + 1 != t[i]:\n",
    "            maximum = max(maximum, counter)\n",
    "            counter = 0\n",
    "        counter += 1\n",
    "        if i == n-1:\n",
    "            maximum = max(maximum, counter)\n",
    "            \n",
    "    return maximum\n",
    "\n",
    "if __name__ == \"__main__\":\n",
    "    print(count([1, 1, 1, 1])) # 1\n",
    "    print(count([10, 4, 8])) # 1\n",
    "    print(count([7, 6, 1, 8])) # 3\n",
    "    print(count([1, 2, 1, 2, 1, 2])) # 2\n",
    "    print(count([987654, 12345678, 987653, 999999, 987655])) # 3\n",
    "    print(count([15, 14, 9, 7, 10, 8])) # 4\n",
    "    print(count([14, 15, 16, 15, 13])) # 4"
   ]
  },
  {
   "cell_type": "markdown",
   "metadata": {},
   "source": [
    "## Solution"
   ]
  },
  {
   "cell_type": "markdown",
   "metadata": {},
   "source": [
    "The problem can be solved in $O(n \\log n)$ time by sorting.\n",
    "\n",
    "The solution first sorts the list and then goes through the list from the smallest to the largest. The variable `count` tells that the at most `count` last numbers could be picked. The variable `best` stores the maximum value of `count` seen so far.\n",
    "\n",
    "Notice that the list may contain multiple copies of the same number. The code is designed so that the duplicates are ignored."
   ]
  },
  {
   "cell_type": "code",
   "execution_count": 8,
   "metadata": {},
   "outputs": [
    {
     "name": "stdout",
     "output_type": "stream",
     "text": [
      "1\n",
      "1\n",
      "3\n",
      "2\n",
      "3\n",
      "4\n",
      "4\n"
     ]
    }
   ],
   "source": [
    "def count(t):\n",
    "    n = len(t)\n",
    "    t = sorted(t)\n",
    "    best = 1\n",
    "    count = 1\n",
    "    for i in range(1,n):\n",
    "        if t[i] > t[i-1]+1:\n",
    "            count = 1\n",
    "        elif t[i] == t[i-1]+1:\n",
    "            count += 1\n",
    "        best = max(best, count)\n",
    "    return best\n",
    "\n",
    "if __name__ == \"__main__\":\n",
    "    print(count([1, 1, 1, 1])) # 1\n",
    "    print(count([10, 4, 8])) # 1\n",
    "    print(count([7, 6, 1, 8])) # 3\n",
    "    print(count([1, 2, 1, 2, 1, 2])) # 2\n",
    "    print(count([987654, 12345678, 987653, 999999, 987655])) # 3\n",
    "    print(count([15, 14, 9, 7, 10, 8])) # 4\n",
    "    print(count([14, 15, 16, 15, 13])) # 4"
   ]
  }
 ],
 "metadata": {
  "kernelspec": {
   "display_name": "Python 3",
   "language": "python",
   "name": "python3"
  },
  "language_info": {
   "codemirror_mode": {
    "name": "ipython",
    "version": 3
   },
   "file_extension": ".py",
   "mimetype": "text/x-python",
   "name": "python",
   "nbconvert_exporter": "python",
   "pygments_lexer": "ipython3",
   "version": "3.12.3"
  }
 },
 "nbformat": 4,
 "nbformat_minor": 2
}
