{
 "cells": [
  {
   "cell_type": "markdown",
   "metadata": {},
   "source": [
    "# Packing"
   ]
  },
  {
   "cell_type": "markdown",
   "metadata": {},
   "source": [
    "A warehouse contains $n$ boxes, each with a given weight. How many boxes can be packed into a van, when the maximum load of the van is $x$?\n",
    "\n",
    "The time complexity of the algorithm should be $O(n \\log n)$.\n",
    "\n",
    "In a file `packbox.py`, implement a function `solve` that returns the maximum number of boxes."
   ]
  },
  {
   "cell_type": "code",
   "execution_count": null,
   "metadata": {},
   "outputs": [],
   "source": [
    "def solve(t, x):\n",
    "    # TODO\n",
    "\n",
    "if __name__ == \"__main__\":\n",
    "    print(solve([1, 1, 1, 1], 2)) # 2\n",
    "    print(solve([2, 5, 3, 2, 8, 7], 10)) # 3\n",
    "    print(solve([2, 3, 4, 5], 1)) # 0\n",
    "    print(solve([2, 3, 4, 5], 10**9)) # 4\n",
    "    print(solve([10**9, 1, 10**9], 10**6)) # 1"
   ]
  },
  {
   "cell_type": "markdown",
   "metadata": {},
   "source": [
    "*Explanation*: In the first example, any two boxes fit in the van. In the second example, the three boxes packed into the van could be, for example, the three first boxes with a total weight of $10$. In the third example, no box can be loaded into the van since all of them weigh more than $1$."
   ]
  },
  {
   "cell_type": "markdown",
   "metadata": {},
   "source": [
    "## Attempt 1"
   ]
  },
  {
   "cell_type": "code",
   "execution_count": 8,
   "metadata": {},
   "outputs": [
    {
     "name": "stdout",
     "output_type": "stream",
     "text": [
      "2\n",
      "3\n",
      "0\n",
      "4\n",
      "1\n"
     ]
    }
   ],
   "source": [
    "def solve(t, x):\n",
    "    t = sorted(t)\n",
    "    total = 0\n",
    "    packed = 0\n",
    "    n = len(t)\n",
    "\n",
    "    for i in range(n):\n",
    "        total += t[i]\n",
    "        if total <= x:\n",
    "            packed += 1\n",
    "        else:\n",
    "            break\n",
    "\n",
    "    return packed\n",
    "\n",
    "if __name__ == \"__main__\":\n",
    "    print(solve([1, 1, 1, 1], 2)) # 2\n",
    "    print(solve([2, 5, 3, 2, 8, 7], 10)) # 3\n",
    "    print(solve([2, 3, 4, 5], 1)) # 0\n",
    "    print(solve([2, 3, 4, 5], 10**9)) # 4\n",
    "    print(solve([10**9, 1, 10**9], 10**6)) # 1"
   ]
  },
  {
   "cell_type": "code",
   "execution_count": 9,
   "metadata": {},
   "outputs": [
    {
     "name": "stdout",
     "output_type": "stream",
     "text": [
      "2\n",
      "3\n",
      "0\n",
      "4\n",
      "1\n"
     ]
    }
   ],
   "source": [
    "def solve(t, x):\n",
    "    t = sorted(t)\n",
    "    total = 0\n",
    "    packed = 0\n",
    "\n",
    "    for p in t:\n",
    "        total += p\n",
    "        if total <= x:\n",
    "            packed += 1\n",
    "        else:\n",
    "            break\n",
    "\n",
    "    return packed\n",
    "\n",
    "if __name__ == \"__main__\":\n",
    "    print(solve([1, 1, 1, 1], 2)) # 2\n",
    "    print(solve([2, 5, 3, 2, 8, 7], 10)) # 3\n",
    "    print(solve([2, 3, 4, 5], 1)) # 0\n",
    "    print(solve([2, 3, 4, 5], 10**9)) # 4\n",
    "    print(solve([10**9, 1, 10**9], 10**6)) # 1"
   ]
  },
  {
   "cell_type": "markdown",
   "metadata": {},
   "source": [
    "## Solution"
   ]
  },
  {
   "cell_type": "markdown",
   "metadata": {},
   "source": [
    "We can solve the problem by sorting the boxes according to their weight from the lightest to the heaviest, and filling the van with the lightest boxes. The time complexity of the solution is $O(n \\log n)$ due to sorting."
   ]
  },
  {
   "cell_type": "code",
   "execution_count": null,
   "metadata": {},
   "outputs": [],
   "source": [
    "def solve(t, x):\n",
    "    t = sorted(t)\n",
    "    sum = 0\n",
    "    result = 0\n",
    "    for weight in t:\n",
    "        if sum + weight <= x:\n",
    "            sum += weight\n",
    "            result += 1\n",
    "    return result"
   ]
  }
 ],
 "metadata": {
  "kernelspec": {
   "display_name": "Python 3",
   "language": "python",
   "name": "python3"
  },
  "language_info": {
   "codemirror_mode": {
    "name": "ipython",
    "version": 3
   },
   "file_extension": ".py",
   "mimetype": "text/x-python",
   "name": "python",
   "nbconvert_exporter": "python",
   "pygments_lexer": "ipython3",
   "version": "3.12.3"
  }
 },
 "nbformat": 4,
 "nbformat_minor": 2
}
