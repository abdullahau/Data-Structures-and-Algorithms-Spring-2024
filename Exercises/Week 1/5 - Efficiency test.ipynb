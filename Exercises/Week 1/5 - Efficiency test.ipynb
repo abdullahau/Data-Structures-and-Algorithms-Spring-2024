{
 "cells": [
  {
   "cell_type": "markdown",
   "metadata": {},
   "source": [
    "# Efficiency test"
   ]
  },
  {
   "cell_type": "markdown",
   "metadata": {},
   "source": [
    "The course material includes two different ways to implement the function `count_even`:"
   ]
  },
  {
   "cell_type": "code",
   "execution_count": 1,
   "metadata": {},
   "outputs": [],
   "source": [
    "# implementation 1\n",
    "def count_even(numbers):\n",
    "    result = 0\n",
    "    for x in numbers:\n",
    "        if x % 2 == 0:\n",
    "            result += 1\n",
    "    return result"
   ]
  },
  {
   "cell_type": "code",
   "execution_count": 2,
   "metadata": {},
   "outputs": [],
   "source": [
    "# implementation 2\n",
    "def count_even(numbers):\n",
    "    return sum(x % 2 == 0 for x in numbers)"
   ]
  },
  {
   "cell_type": "markdown",
   "metadata": {},
   "source": [
    "Compare the efficiencies of the two implementations using a list that contains $10^7$ randomly chosen numbers.\n",
    "\n",
    "In this exercise, you get a point automatically when you submit the test results and the code that you used."
   ]
  },
  {
   "cell_type": "markdown",
   "metadata": {},
   "source": [
    "Implementation 1 run time: s"
   ]
  },
  {
   "cell_type": "markdown",
   "metadata": {},
   "source": [
    "Implementation 2 run time: s"
   ]
  },
  {
   "cell_type": "markdown",
   "metadata": {},
   "source": [
    "### Tests"
   ]
  },
  {
   "cell_type": "code",
   "execution_count": 17,
   "metadata": {},
   "outputs": [
    {
     "name": "stdout",
     "output_type": "stream",
     "text": [
      "n: 10000000\n",
      "4998491\n",
      " 1.57 s\n"
     ]
    }
   ],
   "source": [
    "from random import randint, seed\n",
    "from time import time\n",
    "\n",
    "def count_even(numbers):\n",
    "    result = 0\n",
    "    for x in numbers:\n",
    "        if x % 2 == 0:\n",
    "            result += 1\n",
    "    return result\n",
    "\n",
    "seed(1337)\n",
    "\n",
    "n = 10**7\n",
    "print(f\"n: {n}\")\n",
    "test = [randint(0,10**6) for _ in range(n)]\n",
    "\n",
    "start = time()\n",
    "result = count_even(test)\n",
    "end = time()\n",
    "\n",
    "print(result)\n",
    "print(f\"{end - start: .2f} s\")"
   ]
  },
  {
   "cell_type": "code",
   "execution_count": 18,
   "metadata": {},
   "outputs": [
    {
     "name": "stdout",
     "output_type": "stream",
     "text": [
      "n: 10000000\n",
      "4998491\n",
      " 1.52 s\n"
     ]
    }
   ],
   "source": [
    "from random import randint, seed\n",
    "from time import time\n",
    "\n",
    "def count_even(numbers):\n",
    "    return sum(x % 2 == 0 for x in numbers)\n",
    "\n",
    "seed(1337)\n",
    "\n",
    "n = 10**7\n",
    "print(f\"n: {n}\")\n",
    "test = [randint(0,10**6) for _ in range(n)]\n",
    "\n",
    "start = time()\n",
    "result = count_even(test)\n",
    "end = time()\n",
    "\n",
    "print(result)\n",
    "print(f\"{end - start: .2f} s\")"
   ]
  }
 ],
 "metadata": {
  "kernelspec": {
   "display_name": "Python 3",
   "language": "python",
   "name": "python3"
  },
  "language_info": {
   "codemirror_mode": {
    "name": "ipython",
    "version": 3
   },
   "file_extension": ".py",
   "mimetype": "text/x-python",
   "name": "python",
   "nbconvert_exporter": "python",
   "pygments_lexer": "ipython3",
   "version": "3.12.3"
  }
 },
 "nbformat": 4,
 "nbformat_minor": 2
}
