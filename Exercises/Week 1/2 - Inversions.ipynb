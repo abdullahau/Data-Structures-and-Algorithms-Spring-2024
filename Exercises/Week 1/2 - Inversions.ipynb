{
 "cells": [
  {
   "cell_type": "markdown",
   "metadata": {},
   "source": [
    "# Inversions"
   ]
  },
  {
   "cell_type": "markdown",
   "metadata": {},
   "source": [
    "You are given a list that consists of the numbers $1 \\dots n$. A pair of indices $(i,j)$ is an inversion if $i<j$ and the element at index $i$ on the list is greater than the element at index $j$.\n",
    "\n",
    "You may assume that $n$ is at most $100$.\n",
    "\n",
    "In a file `inversions.py`, implement a function `count` that returns the total number of inversions in the list."
   ]
  },
  {
   "cell_type": "code",
   "execution_count": null,
   "metadata": {},
   "outputs": [],
   "source": [
    "def count(t):\n",
    "    # TODO\n",
    "\n",
    "if __name__ == \"__main__\":\n",
    "    print(count([1,3,2])) # 1\n",
    "    print(count([1])) # 0\n",
    "    print(count([4,3,2,1])) # 6\n",
    "    print(count([1,8,2,7,3,6,4,5])) # 12"
   ]
  },
  {
   "cell_type": "markdown",
   "metadata": {},
   "source": [
    "*Explanation*: The list `[4,3,2,1]` contains the inversions $(0,1)$, $(0,2)$, $(0,3)$, $(1,2)$, $(1,3)$ and $(2,3)$."
   ]
  },
  {
   "cell_type": "markdown",
   "metadata": {},
   "source": [
    "### Attempt 1"
   ]
  },
  {
   "cell_type": "code",
   "execution_count": 19,
   "metadata": {},
   "outputs": [
    {
     "name": "stdout",
     "output_type": "stream",
     "text": [
      "1\n",
      "0\n",
      "6\n",
      "12\n"
     ]
    }
   ],
   "source": [
    "def count(t):\n",
    "    w = []\n",
    "    s = 0\n",
    "    for i in t:\n",
    "        s += 1\n",
    "        for j in t[s:]:\n",
    "            w.append((i,j))\n",
    "            \n",
    "    counter = 0\n",
    "    for item in w:\n",
    "        if item[0] > item[1]:\n",
    "            counter += 1\n",
    "    \n",
    "    return counter\n",
    "\n",
    "if __name__ == \"__main__\":\n",
    "    print(count([1,3,2])) # 1\n",
    "    print(count([1])) # 0\n",
    "    print(count([4,3,2,1])) # 6\n",
    "    print(count([1,8,2,7,3,6,4,5])) # 12"
   ]
  },
  {
   "cell_type": "markdown",
   "metadata": {},
   "source": [
    "### Attempt 2"
   ]
  },
  {
   "cell_type": "code",
   "execution_count": 20,
   "metadata": {},
   "outputs": [
    {
     "name": "stdout",
     "output_type": "stream",
     "text": [
      "1\n",
      "0\n",
      "6\n",
      "12\n"
     ]
    }
   ],
   "source": [
    "from itertools import combinations\n",
    "\n",
    "def count(t):\n",
    "    combs = list(combinations(t,2))\n",
    "    return sum(pair[0] > pair[1] for pair in combs)\n",
    "\n",
    "if __name__ == \"__main__\":\n",
    "    print(count([1,3,2])) # 1\n",
    "    print(count([1])) # 0\n",
    "    print(count([4,3,2,1])) # 6\n",
    "    print(count([1,8,2,7,3,6,4,5])) # 12"
   ]
  },
  {
   "cell_type": "markdown",
   "metadata": {},
   "source": [
    "This method builds all possible [combinations](https://docs.python.org/3/library/itertools.html#itertools.combinations) of the input list using the Python's `itertools` module and subsequently loops the entire combination tuple to count instances where the first element is larger than the second element.    "
   ]
  },
  {
   "cell_type": "markdown",
   "metadata": {},
   "source": [
    "### Attempt 3"
   ]
  },
  {
   "cell_type": "code",
   "execution_count": 13,
   "metadata": {},
   "outputs": [
    {
     "name": "stdout",
     "output_type": "stream",
     "text": [
      "1\n",
      "0\n",
      "6\n",
      "12\n",
      "12\n",
      "10\n",
      "15\n"
     ]
    }
   ],
   "source": [
    "def count(t):\n",
    "    inversions = 0\n",
    "    for i in range(len(t)):\n",
    "        for j in range(i + 1, len(t)):\n",
    "            if t[i] > t[j]:\n",
    "                inversions += 1\n",
    "    return inversions\n",
    "\n",
    "if __name__ == \"__main__\":\n",
    "    print(count([1,3,2])) # 1\n",
    "    print(count([1])) # 0\n",
    "    print(count([4,3,2,1])) # 6\n",
    "    print(count([1,8,2,7,3,6,4,5])) # 12\n",
    "    print(count([8, 1, 7, 2, 3, 4, 5, 6]))\n",
    "    print(count([8, 1, 2, 3, 7, 4, 5, 6]))\n",
    "    print(count([7, 6, 5, 1, 2, 3, 4]))"
   ]
  },
  {
   "cell_type": "markdown",
   "metadata": {},
   "source": [
    "This function uses a nested loop to compare each element with every other element that comes after it in the list. If an element is greater than a following element, it counts as an inversion, and the function increments the inversion count. The final count of inversions is then returned.\n",
    "\n",
    "This brute-force approach has a time complexity of $O(n^2)$, where n is the size of the array."
   ]
  },
  {
   "cell_type": "markdown",
   "metadata": {},
   "source": [
    "### Attempt 4"
   ]
  },
  {
   "cell_type": "code",
   "execution_count": 22,
   "metadata": {},
   "outputs": [
    {
     "name": "stdout",
     "output_type": "stream",
     "text": [
      "1\n",
      "0\n",
      "6\n",
      "12\n"
     ]
    }
   ],
   "source": [
    "def merge(arr, left, right):\n",
    "    i, j = 0, 0\n",
    "    count = 0\n",
    "    while i < len(left) or j < len(right):\n",
    "        if i == len(left):\n",
    "            arr[i + j] = right[j]\n",
    "            j += 1\n",
    "        elif j == len(right):\n",
    "            arr[i + j] = left[i]\n",
    "            i += 1\n",
    "        elif left[i] <= right[j]:\n",
    "            arr[i + j] = left[i]\n",
    "            i += 1\n",
    "        else:\n",
    "            arr[i + j] = right[j]\n",
    "            count += len(left) - i\n",
    "            j += 1\n",
    "    return count\n",
    "\n",
    "def invCount(arr):\n",
    "    if len(arr) < 2:\n",
    "        return 0\n",
    "    mid = len(arr) // 2\n",
    "    left = arr[:mid]\n",
    "    right = arr[mid:]\n",
    "    return invCount(left) + invCount(right) + merge(arr, left, right)\n",
    "\n",
    "if __name__ == \"__main__\":\n",
    "    print(invCount([1, 3, 2]))  # Output: 1\n",
    "    print(invCount([1]))  # Output: 0\n",
    "    print(invCount([4, 3, 2, 1]))  # Output: 6\n",
    "    print(invCount([1, 8, 2, 7, 3, 6, 4, 5]))  # Output: 12"
   ]
  },
  {
   "cell_type": "code",
   "execution_count": 23,
   "metadata": {},
   "outputs": [
    {
     "name": "stdout",
     "output_type": "stream",
     "text": [
      "1\n",
      "0\n",
      "6\n",
      "12\n"
     ]
    }
   ],
   "source": [
    "def merge(arr, left, right):\n",
    "    i, j = 0, 0\n",
    "    count = 0\n",
    "    while i < len(left) or j < len(right):\n",
    "        if i == len(left):\n",
    "            arr[i + j] = right[j]\n",
    "            j += 1\n",
    "        elif j == len(right):\n",
    "            arr[i + j] = left[i]\n",
    "            i += 1\n",
    "        elif left[i] <= right[j]:\n",
    "            arr[i + j] = left[i]\n",
    "            i += 1\n",
    "        else:\n",
    "            arr[i + j] = right[j]\n",
    "            count += len(left) - i\n",
    "            j += 1\n",
    "    return count\n",
    "\n",
    "def count(t):\n",
    "    if len(t) < 2:\n",
    "        return 0\n",
    "    mid = len(t) // 2\n",
    "    left = t[:mid]\n",
    "    right = t[mid:]\n",
    "    return count(left) + count(right) + merge(t, left, right)\n",
    "\n",
    "if __name__ == \"__main__\":\n",
    "    print(count([1, 3, 2]))  # Output: 1\n",
    "    print(count([1]))  # Output: 0\n",
    "    print(count([4, 3, 2, 1]))  # Output: 6\n",
    "    print(count([1, 8, 2, 7, 3, 6, 4, 5]))  # Output: 12\n"
   ]
  },
  {
   "cell_type": "markdown",
   "metadata": {},
   "source": [
    "We can achieve a more efficient solution using **merge sort** with a time complexity of $O(n \\log n)$.\n",
    "\n",
    "Here’s how the merge sort-based inversion counting algorithm works:\n",
    "1. **Merge Sort with Inversion Counting**:\n",
    "   - We’ll modify the standard merge sort algorithm to count inversions during the merging step.\n",
    "   - The key idea is that while merging two sorted subarrays, we can efficiently count the inversions by observing the relative positions of elements.\n",
    "   - The number of inversions removed during merging is equal to the number of elements remaining from the left subarray to be merged.\n",
    "2. **Algorithm Steps**:\n",
    "   - Divide the array into two halves.\n",
    "   - Recursively compute the inversion count for both halves.\n",
    "   - Merge the two sorted halves while counting inversions:\n",
    "     - If an element from the right subarray is smaller than an element from the left subarray, increment the inversion count by the number of remaining elements in the left subarray.\n",
    "     - Otherwise, merge the elements as usual.\n",
    "3. **Return the total inversion count**.\n",
    "\n",
    "This implementation uses merge sort to efficiently count inversions. The `merge` function handles the merging step while keeping track of the inversion count.\n",
    "\n",
    "The **divide-and-conquer** approach is a powerful tool for solving complex problems efficiently"
   ]
  },
  {
   "cell_type": "markdown",
   "metadata": {},
   "source": [
    "### Testing"
   ]
  },
  {
   "cell_type": "code",
   "execution_count": 24,
   "metadata": {},
   "outputs": [
    {
     "name": "stdout",
     "output_type": "stream",
     "text": [
      "25077896\n",
      " 0.12 seconds\n"
     ]
    }
   ],
   "source": [
    "from time import time\n",
    "from random import randint, seed\n",
    "\n",
    "seed(362829)\n",
    "\n",
    "test = [randint(1, 101) for _ in range(10_000)]\n",
    "\n",
    "start = time()\n",
    "\n",
    "def merge(arr, left, right):\n",
    "    i, j = 0, 0\n",
    "    count = 0\n",
    "    while i < len(left) or j < len(right):\n",
    "        if i == len(left):\n",
    "            arr[i + j] = right[j]\n",
    "            j += 1\n",
    "        elif j == len(right):\n",
    "            arr[i + j] = left[i]\n",
    "            i += 1\n",
    "        elif left[i] <= right[j]:\n",
    "            arr[i + j] = left[i]\n",
    "            i += 1\n",
    "        else:\n",
    "            arr[i + j] = right[j]\n",
    "            count += len(left) - i\n",
    "            j += 1\n",
    "    return count\n",
    "\n",
    "def count(t):\n",
    "    if len(t) < 2:\n",
    "        return 0\n",
    "    mid = len(t) // 2\n",
    "    left = t[:mid]\n",
    "    right = t[mid:]\n",
    "    return count(left) + count(right) + merge(t, left, right)\n",
    "\n",
    "result = count(test)\n",
    "print(result)\n",
    "\n",
    "end = time()\n",
    "\n",
    "print(f\"{end - start: .2f} seconds\")"
   ]
  },
  {
   "cell_type": "code",
   "execution_count": 26,
   "metadata": {},
   "outputs": [
    {
     "name": "stdout",
     "output_type": "stream",
     "text": [
      "25077896\n",
      " 7.46 seconds\n"
     ]
    }
   ],
   "source": [
    "from time import time\n",
    "from random import randint, seed\n",
    "\n",
    "seed(362829)\n",
    "\n",
    "test = [randint(1, 101) for _ in range(10_000)]\n",
    "\n",
    "start = time()\n",
    "\n",
    "def count(t):\n",
    "    inversions = 0\n",
    "    for i in range(len(t)):\n",
    "        for j in range(i + 1, len(t)):\n",
    "            if t[i] > t[j]:\n",
    "                inversions += 1\n",
    "    return inversions\n",
    "\n",
    "result = count(test)\n",
    "print(result)\n",
    "\n",
    "end = time()\n",
    "\n",
    "print(f\"{end - start: .2f} seconds\")"
   ]
  },
  {
   "cell_type": "code",
   "execution_count": 27,
   "metadata": {},
   "outputs": [
    {
     "name": "stdout",
     "output_type": "stream",
     "text": [
      "25077896\n",
      " 49.39 seconds\n"
     ]
    }
   ],
   "source": [
    "from time import time\n",
    "from random import randint, seed\n",
    "from itertools import combinations\n",
    "\n",
    "seed(362829)\n",
    "\n",
    "test = [randint(1, 101) for _ in range(10_000)]\n",
    "\n",
    "start = time()\n",
    "\n",
    "def count(t):\n",
    "    combs = list(combinations(t,2))\n",
    "    return sum(pair[0] > pair[1] for pair in combs)\n",
    "\n",
    "result = count(test)\n",
    "print(result)\n",
    "\n",
    "end = time()\n",
    "\n",
    "print(f\"{end - start: .2f} seconds\")\n"
   ]
  }
 ],
 "metadata": {
  "kernelspec": {
   "display_name": "Python 3",
   "language": "python",
   "name": "python3"
  },
  "language_info": {
   "codemirror_mode": {
    "name": "ipython",
    "version": 3
   },
   "file_extension": ".py",
   "mimetype": "text/x-python",
   "name": "python",
   "nbconvert_exporter": "python",
   "pygments_lexer": "ipython3",
   "version": "3.12.3"
  }
 },
 "nbformat": 4,
 "nbformat_minor": 2
}
