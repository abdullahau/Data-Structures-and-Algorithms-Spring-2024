{
 "cells": [
  {
   "cell_type": "markdown",
   "metadata": {},
   "source": [
    "# Repeat"
   ]
  },
  {
   "cell_type": "markdown",
   "metadata": {},
   "source": [
    "Your task is to find out how long is the shortest string that forms the given string when repeated. For example, when the input string is `abcabcabcabc`, the shortest repeating string is `abc`.\n",
    "\n",
    "The string consists of the characters `a–z` and contains at most 100 characters.\n",
    "\n",
    "In a file `repeat.py`, implement a function `find` that returns the length of the shortest repeating string."
   ]
  },
  {
   "cell_type": "code",
   "execution_count": null,
   "metadata": {},
   "outputs": [],
   "source": [
    "def find(s):\n",
    "    # TODO\n",
    "\n",
    "if __name__ == \"__main__\":\n",
    "    print(find(\"aaa\")) # 1\n",
    "    print(find(\"abcd\")) # 4\n",
    "    print(find(\"abcabcabcabc\")) # 3\n",
    "    print(find(\"aybabtuaybabtu\")) # 7\n",
    "    print(find(\"abcabca\")) # 7"
   ]
  },
  {
   "cell_type": "markdown",
   "metadata": {},
   "source": [
    "### Attempt 1"
   ]
  },
  {
   "cell_type": "code",
   "execution_count": 18,
   "metadata": {},
   "outputs": [
    {
     "name": "stdout",
     "output_type": "stream",
     "text": [
      "1\n",
      "4\n",
      "3\n",
      "7\n",
      "7\n",
      "4\n"
     ]
    }
   ],
   "source": [
    "def find(s):\n",
    "    length = len(s)\n",
    "    for i in range(length):\n",
    "        if s[:i+1] * (length // len(s[:i+1])) == s:\n",
    "            return i + 1\n",
    "        \n",
    "\n",
    "if __name__ == \"__main__\":\n",
    "    print(find(\"aaa\")) # 1\n",
    "    print(find(\"abcd\")) # 4\n",
    "    print(find(\"abcabcabcabc\")) # 3\n",
    "    print(find(\"aybabtuaybabtu\")) # 7\n",
    "    print(find(\"abcabca\")) # 7\n",
    "    print(find(\"abdsabdsabds\"))"
   ]
  },
  {
   "cell_type": "markdown",
   "metadata": {},
   "source": [
    "### Attempt 2"
   ]
  },
  {
   "cell_type": "code",
   "execution_count": 19,
   "metadata": {},
   "outputs": [
    {
     "name": "stdout",
     "output_type": "stream",
     "text": [
      "1\n",
      "4\n",
      "3\n",
      "7\n",
      "7\n",
      "4\n"
     ]
    }
   ],
   "source": [
    "def find(s):\n",
    "    n = len(s)\n",
    "    for i in range(1, n+1):\n",
    "        if n%i == 0 and s[:i] * (n//i) == s:\n",
    "            return i\n",
    "        \n",
    "if __name__ == \"__main__\":\n",
    "    print(find(\"aaa\")) # 1\n",
    "    print(find(\"abcd\")) # 4\n",
    "    print(find(\"abcabcabcabc\")) # 3\n",
    "    print(find(\"aybabtuaybabtu\")) # 7\n",
    "    print(find(\"abcabca\")) # 7\n",
    "    print(find(\"abdsabdsabds\"))"
   ]
  },
  {
   "cell_type": "markdown",
   "metadata": {},
   "source": [
    "The solution goes through the possible lengths from the shortest to the longest. When a repeating string is found, the solution returns its length."
   ]
  }
 ],
 "metadata": {
  "kernelspec": {
   "display_name": "Python 3",
   "language": "python",
   "name": "python3"
  },
  "language_info": {
   "codemirror_mode": {
    "name": "ipython",
    "version": 3
   },
   "file_extension": ".py",
   "mimetype": "text/x-python",
   "name": "python",
   "nbconvert_exporter": "python",
   "pygments_lexer": "ipython3",
   "version": "3.12.3"
  }
 },
 "nbformat": 4,
 "nbformat_minor": 2
}
