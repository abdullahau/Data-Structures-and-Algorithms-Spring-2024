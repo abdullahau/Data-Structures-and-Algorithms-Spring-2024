{
 "cells": [
  {
   "cell_type": "markdown",
   "metadata": {},
   "source": [
    "# Same bits"
   ]
  },
  {
   "cell_type": "markdown",
   "metadata": {},
   "source": [
    "You are given a string where each character is a bit (0 or 1). Your task is to change the string so that every bit is the same. What is the smallest number of changes needed?\n",
    "\n",
    "You may assume that the string contains at most $100$ characters.\n",
    "\n",
    "In a file `samebits.py` implement a function count that returns the number of changes."
   ]
  },
  {
   "cell_type": "code",
   "execution_count": null,
   "metadata": {},
   "outputs": [],
   "source": [
    "def count(s):\n",
    "    # TODO\n",
    "\n",
    "if __name__ == \"__main__\":\n",
    "    print(count(\"01101\")) # 2\n",
    "    print(count(\"1111\")) # 0\n",
    "    print(count(\"101111\")) # 1\n",
    "    print(count(\"00001111\")) # 4"
   ]
  },
  {
   "cell_type": "markdown",
   "metadata": {},
   "source": [
    "Explanation: When the string is 01101, the best solution is to change both 0-bits into 1-bits. Thus two changes is needed in this case."
   ]
  },
  {
   "cell_type": "markdown",
   "metadata": {},
   "source": [
    "### Attempt 1"
   ]
  },
  {
   "cell_type": "code",
   "execution_count": 2,
   "metadata": {},
   "outputs": [
    {
     "name": "stdout",
     "output_type": "stream",
     "text": [
      "2\n",
      "0\n",
      "1\n",
      "4\n"
     ]
    }
   ],
   "source": [
    "def count(s):\n",
    "    zeros = s.count(\"0\")\n",
    "    length = len(s)\n",
    "    if zeros < -(-length//2):\n",
    "        return zeros\n",
    "    else:\n",
    "        return length - zeros\n",
    "    \n",
    "if __name__ == \"__main__\":\n",
    "    print(count(\"01101\")) # 2\n",
    "    print(count(\"1111\")) # 0\n",
    "    print(count(\"101111\")) # 1\n",
    "    print(count(\"00001111\")) # 4"
   ]
  },
  {
   "cell_type": "markdown",
   "metadata": {},
   "source": [
    "### Attempt 2"
   ]
  },
  {
   "cell_type": "code",
   "execution_count": 4,
   "metadata": {},
   "outputs": [
    {
     "name": "stdout",
     "output_type": "stream",
     "text": [
      "2\n",
      "0\n",
      "1\n",
      "4\n"
     ]
    }
   ],
   "source": [
    "import re\n",
    "\n",
    "def count(s):\n",
    "    zeros = len(re.findall(\"0\", s))\n",
    "    length = len(s)\n",
    "    if zeros < -(-length//2):\n",
    "        return zeros\n",
    "    else:\n",
    "        return length - zeros\n",
    "\n",
    "if __name__ == \"__main__\":\n",
    "    print(count(\"01101\")) # 2\n",
    "    print(count(\"1111\")) # 0\n",
    "    print(count(\"101111\")) # 1\n",
    "    print(count(\"00001111\")) # 4    "
   ]
  },
  {
   "cell_type": "markdown",
   "metadata": {},
   "source": [
    "### Attempt 3"
   ]
  },
  {
   "cell_type": "code",
   "execution_count": 5,
   "metadata": {},
   "outputs": [
    {
     "name": "stdout",
     "output_type": "stream",
     "text": [
      "2\n",
      "0\n",
      "1\n",
      "4\n"
     ]
    }
   ],
   "source": [
    "def count(s):\n",
    "    zeros = 0\n",
    "    ones = 0\n",
    "    for i in s:\n",
    "        if i == \"0\":\n",
    "            zeros += 1\n",
    "        else:\n",
    "            ones += 1\n",
    "    return min(zeros, ones)\n",
    "\n",
    "if __name__ == \"__main__\":\n",
    "    print(count(\"01101\")) # 2\n",
    "    print(count(\"1111\")) # 0\n",
    "    print(count(\"101111\")) # 1\n",
    "    print(count(\"00001111\")) # 4  "
   ]
  },
  {
   "cell_type": "markdown",
   "metadata": {},
   "source": [
    "### Attempt 4"
   ]
  },
  {
   "cell_type": "code",
   "execution_count": 6,
   "metadata": {},
   "outputs": [
    {
     "name": "stdout",
     "output_type": "stream",
     "text": [
      "2\n",
      "0\n",
      "1\n",
      "4\n"
     ]
    }
   ],
   "source": [
    "def count(s):\n",
    "    helper = int(\"1\" * len(s))\n",
    "    diff = str(helper - int(s))\n",
    "    return diff.count(\"1\")\n",
    "\n",
    "if __name__ == \"__main__\":\n",
    "    print(count(\"01101\")) # 2\n",
    "    print(count(\"1111\")) # 0\n",
    "    print(count(\"101111\")) # 1\n",
    "    print(count(\"00001111\")) # 4  "
   ]
  },
  {
   "cell_type": "markdown",
   "metadata": {},
   "source": [
    "### Attempt 5"
   ]
  },
  {
   "cell_type": "code",
   "execution_count": 24,
   "metadata": {},
   "outputs": [
    {
     "name": "stdout",
     "output_type": "stream",
     "text": [
      "2\n",
      "0\n",
      "1\n",
      "4\n"
     ]
    }
   ],
   "source": [
    "def count(s):\n",
    "    return min(s.count(\"0\"), s.count(\"1\"))\n",
    "\n",
    "if __name__ == \"__main__\":\n",
    "    print(count(\"01101\")) # 2\n",
    "    print(count(\"1111\")) # 0\n",
    "    print(count(\"101111\")) # 1\n",
    "    print(count(\"00001111\")) # 4  "
   ]
  },
  {
   "cell_type": "markdown",
   "metadata": {},
   "source": [
    "If there are fewer 0-bits than 1-bits, the optimal solution is to change all 0-bits into 1-bits. Similarly, if there are fewer 1-bits, you should change all 1-bits into 0-bits. If there equal number of 0-bits and 1-bits, both choices are equally good.\n",
    "\n",
    "The following function counts 0- and 1-bits using the string method `count`, and returns the smaller count."
   ]
  },
  {
   "cell_type": "markdown",
   "metadata": {},
   "source": [
    "## Tests"
   ]
  },
  {
   "cell_type": "code",
   "execution_count": 27,
   "metadata": {},
   "outputs": [
    {
     "ename": "ValueError",
     "evalue": "Exceeds the limit (4300 digits) for integer string conversion: value has 10000 digits; use sys.set_int_max_str_digits() to increase the limit",
     "output_type": "error",
     "traceback": [
      "\u001b[1;31m---------------------------------------------------------------------------\u001b[0m",
      "\u001b[1;31mValueError\u001b[0m                                Traceback (most recent call last)",
      "Cell \u001b[1;32mIn[27], line 15\u001b[0m\n\u001b[0;32m     12\u001b[0m     diff \u001b[38;5;241m=\u001b[39m \u001b[38;5;28mstr\u001b[39m(helper \u001b[38;5;241m-\u001b[39m \u001b[38;5;28mint\u001b[39m(s))\n\u001b[0;32m     13\u001b[0m     \u001b[38;5;28;01mreturn\u001b[39;00m diff\u001b[38;5;241m.\u001b[39mcount(\u001b[38;5;124m\"\u001b[39m\u001b[38;5;124m1\u001b[39m\u001b[38;5;124m\"\u001b[39m)\n\u001b[1;32m---> 15\u001b[0m result \u001b[38;5;241m=\u001b[39m \u001b[43mcount\u001b[49m\u001b[43m(\u001b[49m\u001b[43mtest\u001b[49m\u001b[43m)\u001b[49m\n\u001b[0;32m     16\u001b[0m \u001b[38;5;28mprint\u001b[39m(result)\n\u001b[0;32m     18\u001b[0m end \u001b[38;5;241m=\u001b[39m time()\n",
      "Cell \u001b[1;32mIn[27], line 11\u001b[0m, in \u001b[0;36mcount\u001b[1;34m(s)\u001b[0m\n\u001b[0;32m     10\u001b[0m \u001b[38;5;28;01mdef\u001b[39;00m \u001b[38;5;21mcount\u001b[39m(s):\n\u001b[1;32m---> 11\u001b[0m     helper \u001b[38;5;241m=\u001b[39m \u001b[38;5;28;43mint\u001b[39;49m\u001b[43m(\u001b[49m\u001b[38;5;124;43m\"\u001b[39;49m\u001b[38;5;124;43m1\u001b[39;49m\u001b[38;5;124;43m\"\u001b[39;49m\u001b[43m \u001b[49m\u001b[38;5;241;43m*\u001b[39;49m\u001b[43m \u001b[49m\u001b[38;5;28;43mlen\u001b[39;49m\u001b[43m(\u001b[49m\u001b[43ms\u001b[49m\u001b[43m)\u001b[49m\u001b[43m)\u001b[49m\n\u001b[0;32m     12\u001b[0m     diff \u001b[38;5;241m=\u001b[39m \u001b[38;5;28mstr\u001b[39m(helper \u001b[38;5;241m-\u001b[39m \u001b[38;5;28mint\u001b[39m(s))\n\u001b[0;32m     13\u001b[0m     \u001b[38;5;28;01mreturn\u001b[39;00m diff\u001b[38;5;241m.\u001b[39mcount(\u001b[38;5;124m\"\u001b[39m\u001b[38;5;124m1\u001b[39m\u001b[38;5;124m\"\u001b[39m)\n",
      "\u001b[1;31mValueError\u001b[0m: Exceeds the limit (4300 digits) for integer string conversion: value has 10000 digits; use sys.set_int_max_str_digits() to increase the limit"
     ]
    }
   ],
   "source": [
    "from random import randint, seed\n",
    "from time import time\n",
    "\n",
    "seed(387203)\n",
    "\n",
    "test = \"\".join(str(randint(0,1)) for _ in range(10_000))\n",
    "\n",
    "start = time()\n",
    "\n",
    "def count(s):\n",
    "    helper = int(\"1\" * len(s))\n",
    "    diff = str(helper - int(s))\n",
    "    return diff.count(\"1\")\n",
    "\n",
    "result = count(test)\n",
    "print(result)\n",
    "\n",
    "end = time()\n",
    "\n",
    "print(f\"{end - start: .2f} seconds\")"
   ]
  },
  {
   "cell_type": "code",
   "execution_count": 25,
   "metadata": {},
   "outputs": [
    {
     "name": "stdout",
     "output_type": "stream",
     "text": [
      "4943\n",
      " 0.00 seconds\n"
     ]
    }
   ],
   "source": [
    "from random import randint, seed\n",
    "from time import time\n",
    "\n",
    "seed(387203)\n",
    "\n",
    "test = \"\".join(str(randint(0,1)) for _ in range(10_000))\n",
    "\n",
    "start = time()\n",
    "\n",
    "def count(s):\n",
    "    zeros = 0\n",
    "    ones = 0\n",
    "    for i in s:\n",
    "        if i == \"0\":\n",
    "            zeros += 1\n",
    "        else:\n",
    "            ones += 1\n",
    "    return min(zeros, ones)\n",
    "\n",
    "result = count(test)\n",
    "print(result)\n",
    "\n",
    "end = time()\n",
    "\n",
    "print(f\"{end - start: .2f} seconds\")"
   ]
  },
  {
   "cell_type": "code",
   "execution_count": 26,
   "metadata": {},
   "outputs": [
    {
     "name": "stdout",
     "output_type": "stream",
     "text": [
      "4943\n",
      " 0.00 seconds\n"
     ]
    }
   ],
   "source": [
    "from random import randint, seed\n",
    "from time import time\n",
    "\n",
    "seed(387203)\n",
    "\n",
    "test = \"\".join(str(randint(0,1)) for _ in range(10_000))\n",
    "\n",
    "start = time()\n",
    "\n",
    "def count(s):\n",
    "    zeros = s.count(\"0\")\n",
    "    length = len(s)\n",
    "    if zeros < -(-length//2):\n",
    "        return zeros\n",
    "    else:\n",
    "        return length - zeros\n",
    "\n",
    "result = count(test)\n",
    "print(result)\n",
    "\n",
    "end = time()\n",
    "\n",
    "print(f\"{end - start: .2f} seconds\")"
   ]
  }
 ],
 "metadata": {
  "kernelspec": {
   "display_name": "Python 3",
   "language": "python",
   "name": "python3"
  },
  "language_info": {
   "codemirror_mode": {
    "name": "ipython",
    "version": 3
   },
   "file_extension": ".py",
   "mimetype": "text/x-python",
   "name": "python",
   "nbconvert_exporter": "python",
   "pygments_lexer": "ipython3",
   "version": "3.12.3"
  }
 },
 "nbformat": 4,
 "nbformat_minor": 2
}
