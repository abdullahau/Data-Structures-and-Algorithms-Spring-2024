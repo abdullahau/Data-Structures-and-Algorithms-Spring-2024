{
 "cells": [
  {
   "cell_type": "markdown",
   "metadata": {},
   "source": [
    "# Sequence of numbers"
   ]
  },
  {
   "cell_type": "markdown",
   "metadata": {},
   "source": [
    "Each element in a sequence of numbers is the smallest positive integer that does not occur earlier in the sequence and that has the same digit in the beginning and in the end.\n",
    "The sequence begins as follows:\n",
    "\n",
    "$1, 2, 3, 4, 5, 6, 7, 8, 9, 11, 22, 33, 44, 55, 66, 77, 88, 99, 101, 111, \\dots$\n",
    "\n",
    "\n",
    "Your task is to compute the number at the position $n$ in the sequence. You may assume that $n$ is at most $1000$.\n",
    "\n",
    "In a file `sequence.py`, implement a function `generate` that returns the number at the given position."
   ]
  },
  {
   "cell_type": "code",
   "execution_count": null,
   "metadata": {},
   "outputs": [],
   "source": [
    "def generate(n):\n",
    "    # TODO\n",
    "\n",
    "if __name__ == \"__main__\":\n",
    "    print(generate(1)) # 1\n",
    "    print(generate(2)) # 2\n",
    "    print(generate(3)) # 3\n",
    "    print(generate(10)) # 11\n",
    "    print(generate(123)) # 1141"
   ]
  },
  {
   "cell_type": "markdown",
   "metadata": {},
   "source": [
    "### Attempt 1"
   ]
  },
  {
   "cell_type": "code",
   "execution_count": 30,
   "metadata": {},
   "outputs": [
    {
     "name": "stdout",
     "output_type": "stream",
     "text": [
      "1\n",
      "2\n",
      "3\n",
      "11\n",
      "22\n",
      "66\n",
      "88\n",
      "99\n",
      "101\n",
      "1141\n",
      "202\n",
      "272\n",
      "363\n",
      "424\n",
      "404\n",
      "333\n",
      "9919\n"
     ]
    }
   ],
   "source": [
    "def generate(n):\n",
    "    if n // 10 == 0:\n",
    "        return n\n",
    "    elif n < 19:\n",
    "        start = 0\n",
    "        for i in range(10, n+1):\n",
    "            start += 11\n",
    "        return start\n",
    "    else:\n",
    "        start = 91\n",
    "        for i in range(19, n+1):\n",
    "            start += 10\n",
    "        if str(start)[0] == str(start)[-1]:\n",
    "            return start\n",
    "        else:\n",
    "            str_start = str(start)\n",
    "            return int(str_start[:-1] + str_start[0])\n",
    "\n",
    "print(generate(1)) # 1\n",
    "print(generate(2)) # 2\n",
    "print(generate(3)) # 3\n",
    "print(generate(10)) # 11\n",
    "print(generate(11)) # 22\n",
    "print(generate(15)) # 66\n",
    "print(generate(17)) # 88\n",
    "print(generate(18)) # 99\n",
    "print(generate(19)) # 101\n",
    "print(generate(123)) # 1141\n",
    "print(generate(29)) # 202\n",
    "print(generate(36)) # 272\n",
    "print(generate(45)) # 363\n",
    "print(generate(51)) # 424\n",
    "print(generate(49)) # 404\n",
    "print(generate(42)) # 333\n",
    "print(generate(1000)) # 9919"
   ]
  },
  {
   "cell_type": "markdown",
   "metadata": {},
   "source": [
    "### Attempt 2"
   ]
  },
  {
   "cell_type": "code",
   "execution_count": 29,
   "metadata": {},
   "outputs": [
    {
     "name": "stdout",
     "output_type": "stream",
     "text": [
      "1\n",
      "2\n",
      "3\n",
      "11\n",
      "22\n",
      "66\n",
      "88\n",
      "99\n",
      "101\n",
      "1141\n",
      "202\n",
      "272\n",
      "363\n",
      "424\n",
      "404\n",
      "333\n",
      "9919\n"
     ]
    }
   ],
   "source": [
    "def generate(n):\n",
    "    if n // 10 == 0:\n",
    "        return n\n",
    "    else:\n",
    "        num = 0\n",
    "        for i in range(10, n+1):\n",
    "            num += 10\n",
    "        if str(num)[0] == str(num)[-1]:\n",
    "            return num\n",
    "        else:\n",
    "            str_num = str(num)\n",
    "            return int(str_num[:-1] + str_num[0])\n",
    "\n",
    "print(generate(1)) # 1\n",
    "print(generate(2)) # 2\n",
    "print(generate(3)) # 3\n",
    "print(generate(10)) # 11\n",
    "print(generate(11)) # 22\n",
    "print(generate(15)) # 66\n",
    "print(generate(17)) # 88\n",
    "print(generate(18)) # 99\n",
    "print(generate(19)) # 101\n",
    "print(generate(123)) # 1141\n",
    "print(generate(29)) # 202\n",
    "print(generate(36)) # 272\n",
    "print(generate(45)) # 363\n",
    "print(generate(51)) # 424\n",
    "print(generate(49)) # 404\n",
    "print(generate(42)) # 333\n",
    "print(generate(1000)) # 9919"
   ]
  },
  {
   "cell_type": "markdown",
   "metadata": {},
   "source": [
    "### Attempt 3"
   ]
  },
  {
   "cell_type": "code",
   "execution_count": 31,
   "metadata": {},
   "outputs": [
    {
     "name": "stdout",
     "output_type": "stream",
     "text": [
      "1\n",
      "2\n",
      "3\n",
      "11\n",
      "22\n",
      "66\n",
      "88\n",
      "99\n",
      "101\n",
      "1141\n",
      "202\n",
      "272\n",
      "363\n",
      "424\n",
      "404\n",
      "333\n",
      "9919\n"
     ]
    }
   ],
   "source": [
    "def generate(n):\n",
    "    if n // 10 == 0:\n",
    "        return n\n",
    "    else:\n",
    "        num = 0\n",
    "        for i in range(10, n+1):\n",
    "            num += 10\n",
    "        str_num = str(num)\n",
    "        return int(str_num[:-1] + str_num[0])\n",
    "\n",
    "print(generate(1)) # 1\n",
    "print(generate(2)) # 2\n",
    "print(generate(3)) # 3\n",
    "print(generate(10)) # 11\n",
    "print(generate(11)) # 22\n",
    "print(generate(15)) # 66\n",
    "print(generate(17)) # 88\n",
    "print(generate(18)) # 99\n",
    "print(generate(19)) # 101\n",
    "print(generate(123)) # 1141\n",
    "print(generate(29)) # 202\n",
    "print(generate(36)) # 272\n",
    "print(generate(45)) # 363\n",
    "print(generate(51)) # 424\n",
    "print(generate(49)) # 404\n",
    "print(generate(42)) # 333\n",
    "print(generate(1000)) # 9919"
   ]
  },
  {
   "cell_type": "markdown",
   "metadata": {},
   "source": [
    "### Attempt 4"
   ]
  },
  {
   "cell_type": "code",
   "execution_count": 36,
   "metadata": {},
   "outputs": [
    {
     "name": "stdout",
     "output_type": "stream",
     "text": [
      "1\n",
      "2\n",
      "3\n",
      "11\n",
      "22\n",
      "66\n",
      "88\n",
      "99\n",
      "101\n",
      "1141\n",
      "202\n",
      "272\n",
      "363\n",
      "424\n",
      "404\n",
      "333\n",
      "9919\n"
     ]
    }
   ],
   "source": [
    "def generate(n):\n",
    "    if n // 10 == 0:\n",
    "        return n\n",
    "    else:\n",
    "        n = (n - 9) * 10\n",
    "        str_n = str(n)\n",
    "        return int(str_n[:-1] + str_n[0])\n",
    "\n",
    "print(generate(1)) # 1\n",
    "print(generate(2)) # 2\n",
    "print(generate(3)) # 3\n",
    "print(generate(10)) # 11\n",
    "print(generate(11)) # 22\n",
    "print(generate(15)) # 66\n",
    "print(generate(17)) # 88\n",
    "print(generate(18)) # 99\n",
    "print(generate(19)) # 101\n",
    "print(generate(123)) # 1141\n",
    "print(generate(29)) # 202\n",
    "print(generate(36)) # 272\n",
    "print(generate(45)) # 363\n",
    "print(generate(51)) # 424\n",
    "print(generate(49)) # 404\n",
    "print(generate(42)) # 333\n",
    "print(generate(1000)) # 9919"
   ]
  },
  {
   "cell_type": "markdown",
   "metadata": {},
   "source": [
    "### Attempt 5"
   ]
  },
  {
   "cell_type": "code",
   "execution_count": 34,
   "metadata": {},
   "outputs": [
    {
     "name": "stdout",
     "output_type": "stream",
     "text": [
      "1\n",
      "2\n",
      "3\n",
      "11\n",
      "22\n",
      "66\n",
      "88\n",
      "99\n",
      "101\n",
      "1141\n",
      "202\n",
      "272\n",
      "363\n",
      "424\n",
      "404\n",
      "333\n",
      "9919\n"
     ]
    }
   ],
   "source": [
    "def generate(n):\n",
    "    count = 0\n",
    "    value = 0\n",
    "    while count < n:\n",
    "        value += 1\n",
    "        if str(value)[0] == str(value)[-1]:\n",
    "            count += 1\n",
    "    return value\n",
    "\n",
    "print(generate(1)) # 1\n",
    "print(generate(2)) # 2\n",
    "print(generate(3)) # 3\n",
    "print(generate(10)) # 11\n",
    "print(generate(11)) # 22\n",
    "print(generate(15)) # 66\n",
    "print(generate(17)) # 88\n",
    "print(generate(18)) # 99\n",
    "print(generate(19)) # 101\n",
    "print(generate(123)) # 1141\n",
    "print(generate(29)) # 202\n",
    "print(generate(36)) # 272\n",
    "print(generate(45)) # 363\n",
    "print(generate(51)) # 424\n",
    "print(generate(49)) # 404\n",
    "print(generate(42)) # 333\n",
    "print(generate(1000)) # 9919"
   ]
  },
  {
   "cell_type": "markdown",
   "metadata": {},
   "source": [
    "The solution goes through positive integers in order and checks if the first and the last digit are the same. This continues until the desired position is reached."
   ]
  }
 ],
 "metadata": {
  "kernelspec": {
   "display_name": "Python 3",
   "language": "python",
   "name": "python3"
  },
  "language_info": {
   "codemirror_mode": {
    "name": "ipython",
    "version": 3
   },
   "file_extension": ".py",
   "mimetype": "text/x-python",
   "name": "python",
   "nbconvert_exporter": "python",
   "pygments_lexer": "ipython3",
   "version": "3.12.3"
  }
 },
 "nbformat": 4,
 "nbformat_minor": 2
}
