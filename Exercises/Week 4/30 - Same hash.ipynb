{
 "cells": [
  {
   "cell_type": "markdown",
   "metadata": {},
   "source": [
    "# Same hash"
   ]
  },
  {
   "cell_type": "markdown",
   "metadata": {},
   "source": [
    "You are given a hash table size $N$. Your task is to find two strings that are assigned to the same location in the hash table using the Python hash function.\n",
    "\n",
    "In other words, find two strings `x` and `y` such that `hash(x) % N == hash(y) % N`.\n",
    "\n",
    "You may assume that $N$ is at most $100$. Your solution should be efficient for this case.\n",
    "\n",
    "In a file `samehash.py`, implement a function `find` that returns the two strings as a pair."
   ]
  },
  {
   "cell_type": "code",
   "execution_count": null,
   "metadata": {},
   "outputs": [],
   "source": [
    "def find(N):\n",
    "    # TODO\n",
    "\n",
    "if __name__ == \"__main__\":\n",
    "    print(find(42)) # esim. ('abc', 'aybabtu')"
   ]
  },
  {
   "cell_type": "markdown",
   "metadata": {},
   "source": [
    "Notice that the function hash changes each time the Python interpreter is started. This means that the function must return different strings at different executions."
   ]
  }
 ],
 "metadata": {
  "kernelspec": {
   "display_name": "Python 3",
   "language": "python",
   "name": "python3"
  },
  "language_info": {
   "name": "python",
   "version": "3.12.3"
  }
 },
 "nbformat": 4,
 "nbformat_minor": 2
}
