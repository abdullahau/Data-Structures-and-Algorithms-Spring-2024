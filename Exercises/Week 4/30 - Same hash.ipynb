{
 "cells": [
  {
   "cell_type": "markdown",
   "metadata": {},
   "source": [
    "# Same hash"
   ]
  },
  {
   "cell_type": "markdown",
   "metadata": {},
   "source": [
    "You are given a hash table size $N$. Your task is to find two strings that are assigned to the same location in the hash table using the Python hash function.\n",
    "\n",
    "In other words, find two strings `x` and `y` such that `hash(x) % N == hash(y) % N`.\n",
    "\n",
    "You may assume that $N$ is at most $100$. Your solution should be efficient for this case.\n",
    "\n",
    "In a file `samehash.py`, implement a function `find` that returns the two strings as a pair."
   ]
  },
  {
   "cell_type": "code",
   "execution_count": null,
   "metadata": {},
   "outputs": [],
   "source": [
    "def find(N):\n",
    "    # TODO\n",
    "\n",
    "if __name__ == \"__main__\":\n",
    "    print(find(42)) # e.g. ('abc', 'aybabtu')"
   ]
  },
  {
   "cell_type": "markdown",
   "metadata": {},
   "source": [
    "Notice that the function hash changes each time the Python interpreter is started. This means that the function must return different strings at different executions."
   ]
  },
  {
   "cell_type": "markdown",
   "metadata": {},
   "source": [
    "## Attempt 1"
   ]
  },
  {
   "cell_type": "code",
   "execution_count": 16,
   "metadata": {},
   "outputs": [
    {
     "name": "stdout",
     "output_type": "stream",
     "text": [
      "('jbwkr', 'vrtko')\n"
     ]
    }
   ],
   "source": [
    "import random\n",
    "import string\n",
    "\n",
    "def find(N):\n",
    "    # This dictionary will store the hash values as keys and the strings as values\n",
    "    hashes = {}\n",
    "    \n",
    "    # We'll try random strings until we find a collision\n",
    "    while True:\n",
    "        # Generate a random string\n",
    "        x = ''.join(random.choices(string.ascii_lowercase, k=5))\n",
    "        # Calculate its hash modulo N\n",
    "        hash_value = hash(x) % N\n",
    "        \n",
    "        # If the hash is already in the dictionary, we have a collision\n",
    "        if hash_value in hashes:\n",
    "            return (hashes[hash_value], x)\n",
    "        # Otherwise, store this string in the dictionary\n",
    "        hashes[hash_value] = x\n",
    "\n",
    "if __name__ == \"__main__\":\n",
    "    print(find(100)) # e.g. ('abc', 'aybabtu')"
   ]
  },
  {
   "cell_type": "code",
   "execution_count": 24,
   "metadata": {},
   "outputs": [
    {
     "name": "stdout",
     "output_type": "stream",
     "text": [
      "('olhav', 'caunzjag')\n"
     ]
    }
   ],
   "source": [
    "from random import choices, randint\n",
    "from string import ascii_lowercase\n",
    "\n",
    "def find(N):\n",
    "    hashes = {}\n",
    "    \n",
    "    while True:\n",
    "        wordlen = randint(1,10)\n",
    "        x = ''.join(choices(ascii_lowercase, k=wordlen))\n",
    "        hash_value = hash(x) % N\n",
    "        \n",
    "        if hash_value in hashes:\n",
    "            return (hashes[hash_value], x)\n",
    "\n",
    "        hashes[hash_value] = x\n",
    "\n",
    "if __name__ == \"__main__\":\n",
    "    print(find(100))"
   ]
  },
  {
   "cell_type": "markdown",
   "metadata": {},
   "source": [
    "## Attempt 2"
   ]
  },
  {
   "cell_type": "code",
   "execution_count": 27,
   "metadata": {},
   "outputs": [
    {
     "name": "stdout",
     "output_type": "stream",
     "text": [
      "('aah', 'aahing')\n"
     ]
    }
   ],
   "source": [
    "def find(N):\n",
    "    hashes = {}\n",
    "    \n",
    "    with open('words.txt') as f:\n",
    "        for line in f:\n",
    "            word = line.strip()\n",
    "            hash_value = hash(word) % N\n",
    "            if hash_value in hashes:\n",
    "                return (hashes[hash_value], word)\n",
    "        \n",
    "            hashes[hash_value] = word\n",
    "\n",
    "        \n",
    "if __name__ == \"__main__\":\n",
    "    print(find(20))"
   ]
  },
  {
   "cell_type": "markdown",
   "metadata": {},
   "source": [
    "## Attempt 3"
   ]
  },
  {
   "cell_type": "code",
   "execution_count": 19,
   "metadata": {},
   "outputs": [
    {
     "name": "stdout",
     "output_type": "stream",
     "text": [
      "('0', '11')\n"
     ]
    }
   ],
   "source": [
    "def find(N):\n",
    "    # This dictionary will store the hash values as keys and the strings as values\n",
    "    hashes = {}\n",
    "    \n",
    "    # Generate strings systematically\n",
    "    for i in range(N):\n",
    "        # Convert the integer to a string\n",
    "        x = str(i)\n",
    "        # Calculate its hash modulo N\n",
    "        hash_value = hash(x) % N\n",
    "        \n",
    "        # If the hash is already in the dictionary, we have a collision\n",
    "        if hash_value in hashes:\n",
    "            return (hashes[hash_value], x)\n",
    "        # Otherwise, store this string in the dictionary\n",
    "        hashes[hash_value] = x\n",
    "\n",
    "if __name__ == \"__main__\":\n",
    "    print(find(100)) # esim. ('abc', 'aybabtu')"
   ]
  },
  {
   "cell_type": "markdown",
   "metadata": {},
   "source": [
    "## Solution"
   ]
  },
  {
   "cell_type": "markdown",
   "metadata": {},
   "source": [
    "The following solution goes through strings that contain only `a`s. This is sufficient because at most $N+1$ strings is needed to guarantee that two strings get the same location."
   ]
  },
  {
   "cell_type": "code",
   "execution_count": 28,
   "metadata": {},
   "outputs": [
    {
     "name": "stdout",
     "output_type": "stream",
     "text": [
      "('aaaaaaaaaaaaaaaa', 'aaaaaaa')\n"
     ]
    }
   ],
   "source": [
    "def find(N):\n",
    "    string = \"\"\n",
    "    strings = {}\n",
    "\n",
    "    while True:\n",
    "        string += \"a\"\n",
    "        place = hash(string) % N\n",
    "\n",
    "        if place in strings:\n",
    "            return (string, strings[place])\n",
    "\n",
    "        strings[place] = string\n",
    "\n",
    "if __name__ == \"__main__\":\n",
    "    print(find(100)) # esim. ('abc', 'aybabtu')"
   ]
  }
 ],
 "metadata": {
  "kernelspec": {
   "display_name": "Python 3",
   "language": "python",
   "name": "python3"
  },
  "language_info": {
   "codemirror_mode": {
    "name": "ipython",
    "version": 3
   },
   "file_extension": ".py",
   "mimetype": "text/x-python",
   "name": "python",
   "nbconvert_exporter": "python",
   "pygments_lexer": "ipython3",
   "version": "3.12.3"
  }
 },
 "nbformat": 4,
 "nbformat_minor": 2
}
