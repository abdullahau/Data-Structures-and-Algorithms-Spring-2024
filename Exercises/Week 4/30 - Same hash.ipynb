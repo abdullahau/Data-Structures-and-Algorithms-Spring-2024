{
 "cells": [
  {
   "cell_type": "markdown",
   "metadata": {},
   "source": [
    "# Same hash"
   ]
  },
  {
   "cell_type": "markdown",
   "metadata": {},
   "source": [
    "You are given a hash table size $N$. Your task is to find two strings that are assigned to the same location in the hash table using the Python hash function.\n",
    "\n",
    "In other words, find two strings `x` and `y` such that `hash(x) % N == hash(y) % N`.\n",
    "\n",
    "You may assume that $N$ is at most $100$. Your solution should be efficient for this case.\n",
    "\n",
    "In a file `samehash.py`, implement a function `find` that returns the two strings as a pair."
   ]
  },
  {
   "cell_type": "code",
   "execution_count": null,
   "metadata": {},
   "outputs": [],
   "source": [
    "def find(N):\n",
    "    # TODO\n",
    "\n",
    "if __name__ == \"__main__\":\n",
    "    print(find(42)) # e.g. ('abc', 'aybabtu')"
   ]
  },
  {
   "cell_type": "markdown",
   "metadata": {},
   "source": [
    "Notice that the function hash changes each time the Python interpreter is started. This means that the function must return different strings at different executions."
   ]
  },
  {
   "cell_type": "markdown",
   "metadata": {},
   "source": [
    "## Attempt 1"
   ]
  },
  {
   "cell_type": "code",
   "execution_count": 9,
   "metadata": {},
   "outputs": [
    {
     "name": "stdout",
     "output_type": "stream",
     "text": [
      "False\n"
     ]
    }
   ],
   "source": [
    "def find(N):\n",
    "    x = 'abc'\n",
    "    y = 'aybabtu'\n",
    "    a = hash(x) % N\n",
    "    b = hash(y) % N\n",
    "    return a == b\n",
    "    \n",
    "\n",
    "if __name__ == \"__main__\":\n",
    "    print(find(42)) # e.g. ('abc', 'aybabtu')"
   ]
  },
  {
   "cell_type": "code",
   "execution_count": null,
   "metadata": {},
   "outputs": [],
   "source": []
  }
 ],
 "metadata": {
  "kernelspec": {
   "display_name": "Python 3",
   "language": "python",
   "name": "python3"
  },
  "language_info": {
   "codemirror_mode": {
    "name": "ipython",
    "version": 3
   },
   "file_extension": ".py",
   "mimetype": "text/x-python",
   "name": "python",
   "nbconvert_exporter": "python",
   "pygments_lexer": "ipython3",
   "version": "3.12.3"
  }
 },
 "nbformat": 4,
 "nbformat_minor": 2
}
