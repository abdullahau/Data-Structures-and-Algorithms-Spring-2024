{
 "cells": [
  {
   "cell_type": "markdown",
   "metadata": {},
   "source": [
    "# Big win"
   ]
  },
  {
   "cell_type": "markdown",
   "metadata": {},
   "source": [
    "You are given the price of a stock for $n$ days. Your friend tells you the they bought the stock on one day and sold the stock at a double the price on another day. How many ways this could have happened?\n",
    "\n",
    "The time complexity of the algorithm should be $O(n)$.\n",
    "\n",
    "In a file `bigwin.py`, implement a function `count` that returns the number of ways."
   ]
  },
  {
   "cell_type": "code",
   "execution_count": null,
   "metadata": {},
   "outputs": [],
   "source": [
    "def count(t):\n",
    "    # TODO\n",
    "\n",
    "if __name__ == \"__main__\":\n",
    "    print(count([1,2,3,4])) # 2\n",
    "    print(count([1,1,1,1])) # 0\n",
    "    print(count([1,2,1,2,1,2])) # 6\n",
    "    print(count([5,1,3,4,1,6])) # 1"
   ]
  },
  {
   "cell_type": "markdown",
   "metadata": {},
   "source": [
    "# Attempt 1"
   ]
  },
  {
   "cell_type": "code",
   "execution_count": 89,
   "metadata": {},
   "outputs": [
    {
     "name": "stdout",
     "output_type": "stream",
     "text": [
      "2\n",
      "2\n",
      "0\n",
      "6\n",
      "7\n",
      "1\n",
      "2\n"
     ]
    }
   ],
   "source": [
    "# Time Complexity of O(n^2)\n",
    "\n",
    "def count(t):\n",
    "    counter = 0\n",
    "    n = len(t)\n",
    "    for i in range(n-1):\n",
    "        for j in range(i, n):\n",
    "            if t[j] - t[i] == t[i]:\n",
    "                counter += 1\n",
    "    return counter\n",
    "\n",
    "if __name__ == \"__main__\":\n",
    "    print(count([1,2,3,4])) # 2\n",
    "    print(count([1,2,6,3,4])) # 2\n",
    "    print(count([1,1,1,1])) # 0\n",
    "    print(count([1,2,1,2,1,2])) # 6\n",
    "    print(count([1,1,2,2,1,2])) # 7\n",
    "    print(count([5,1,3,4,1,6])) # 1\n",
    "    print(count([5, 3, 5, 5, 2, 3, 4, 3, 3, 4])) # 2"
   ]
  },
  {
   "cell_type": "code",
   "execution_count": 88,
   "metadata": {},
   "outputs": [
    {
     "name": "stdout",
     "output_type": "stream",
     "text": [
      "2\n",
      "2\n",
      "0\n",
      "6\n",
      "7\n",
      "2\n"
     ]
    }
   ],
   "source": [
    "# Worse Case Scenario - O(n^2)\n",
    "def count(t):\n",
    "    d = {}\n",
    "    \n",
    "    counter = 0\n",
    "    for i, v in enumerate(t):\n",
    "        if v not in d:\n",
    "            d[v] = []\n",
    "        d[v].append(i)\n",
    "    \n",
    "    for k, v in d.items():\n",
    "        if k*2 in d:\n",
    "            for i in v:\n",
    "                for j in d[k*2]:\n",
    "                    if j > i:\n",
    "                        counter += 1\n",
    "        \n",
    "    return counter\n",
    "    \n",
    "\n",
    "if __name__ == \"__main__\":\n",
    "    print(count([1,2,3,4])) # 2\n",
    "    print(count([1,2,6,3,4])) # 2\n",
    "    print(count([1,1,1,1])) # 0\n",
    "    print(count([1,2,1,2,1,2])) # 6\n",
    "    print(count([1,1,2,2,1,2])) # 7\n",
    "    print(count([5, 3, 5, 5, 2, 3, 4, 3, 3, 4])) # 2"
   ]
  },
  {
   "cell_type": "markdown",
   "metadata": {},
   "source": [
    "## Attempt 2"
   ]
  },
  {
   "cell_type": "code",
   "execution_count": 100,
   "metadata": {},
   "outputs": [
    {
     "name": "stdout",
     "output_type": "stream",
     "text": [
      "2\n",
      "2\n",
      "0\n",
      "6\n",
      "1\n"
     ]
    }
   ],
   "source": [
    "def count(t):\n",
    "    d = {}\n",
    "    \n",
    "    for i in t:\n",
    "        if i not in d:\n",
    "            d[i] = 0\n",
    "\n",
    "        if i//2 in d and i % 2 == 0:\n",
    "            d[i//2] += 1\n",
    "    \n",
    "    counter = 0\n",
    "    for v in d.values():\n",
    "        counter += (v**2 + v)//2\n",
    "    \n",
    "    return counter\n",
    "    \n",
    "\n",
    "if __name__ == \"__main__\":\n",
    "    print(count([1,2,3,4])) # 2\n",
    "    print(count([1,2,6,3,4])) # 2\n",
    "    print(count([1,1,1,1])) # 0\n",
    "    print(count([1,2,1,2,1,2])) # 6\n",
    "    print(count([5,1,3,4,1,6])) # 1"
   ]
  }
 ],
 "metadata": {
  "kernelspec": {
   "display_name": "Python 3",
   "language": "python",
   "name": "python3"
  },
  "language_info": {
   "codemirror_mode": {
    "name": "ipython",
    "version": 3
   },
   "file_extension": ".py",
   "mimetype": "text/x-python",
   "name": "python",
   "nbconvert_exporter": "python",
   "pygments_lexer": "ipython3",
   "version": "3.12.3"
  }
 },
 "nbformat": 4,
 "nbformat_minor": 2
}
