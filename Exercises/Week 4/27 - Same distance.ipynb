{
 "cells": [
  {
   "cell_type": "markdown",
   "metadata": {},
   "source": [
    "# Same distance"
   ]
  },
  {
   "cell_type": "markdown",
   "metadata": {},
   "source": [
    "You are given a list containing $n$ integers. Your task is to find the longest distance between two occurrences of the same number. A distance means the difference of the indices.\n",
    "\n",
    "The time complexity of the algorithm should be $O(n)$.\n",
    "\n",
    "In a file `samedist.py` implement a function `find` that returns the longest distance."
   ]
  },
  {
   "cell_type": "code",
   "execution_count": null,
   "metadata": {},
   "outputs": [],
   "source": [
    "def find(t):\n",
    "    # TODO\n",
    "\n",
    "if __name__ == \"__main__\":\n",
    "    print(find([1,2,1,1,2])) # 3\n",
    "    print(find([1,2,3,4])) # 0\n",
    "    print(find([1,1,1,1,1])) # 4\n",
    "    print(find([1,1,2,3,4])) # 1\n",
    "    print(find([1,5,1,5,1])) # 4"
   ]
  },
  {
   "cell_type": "markdown",
   "metadata": {},
   "source": [
    "## Attempt 1"
   ]
  },
  {
   "cell_type": "code",
   "execution_count": 10,
   "metadata": {},
   "outputs": [
    {
     "name": "stdout",
     "output_type": "stream",
     "text": [
      "3\n",
      "0\n",
      "4\n",
      "1\n",
      "4\n"
     ]
    }
   ],
   "source": [
    "def find(t):\n",
    "    last_index = {}\n",
    "    d = 0\n",
    "    for i, v in enumerate(t):\n",
    "        if v not in last_index:\n",
    "            last_index[v] = i\n",
    "        else:\n",
    "            d = max(d, i - last_index[v]) \n",
    "    return d\n",
    "\n",
    "if __name__ == \"__main__\":\n",
    "    print(find([1,2,1,1,2])) # 3\n",
    "    print(find([1,2,3,4])) # 0\n",
    "    print(find([1,1,1,1,1])) # 4\n",
    "    print(find([1,1,2,3,4])) # 1\n",
    "    print(find([1,5,1,5,1])) # 4"
   ]
  },
  {
   "cell_type": "markdown",
   "metadata": {},
   "source": [
    "## Solution"
   ]
  },
  {
   "cell_type": "markdown",
   "metadata": {},
   "source": [
    "The following solution uses a dictionary `first_pos` to store the index of the first occurrence of each number. Then the distance to that occurrence can be computed when later occurrences are encountered."
   ]
  },
  {
   "cell_type": "code",
   "execution_count": null,
   "metadata": {},
   "outputs": [],
   "source": [
    "def find(t):\n",
    "    first_pos = {}\n",
    "    max_dist = 0\n",
    " \n",
    "    for i, x in enumerate(t):\n",
    "        if x not in first_pos:\n",
    "            first_pos[x] = i\n",
    "        max_dist = max(max_dist, i - first_pos[x])\n",
    " \n",
    "    return max_dist"
   ]
  }
 ],
 "metadata": {
  "kernelspec": {
   "display_name": "Python 3",
   "language": "python",
   "name": "python3"
  },
  "language_info": {
   "codemirror_mode": {
    "name": "ipython",
    "version": 3
   },
   "file_extension": ".py",
   "mimetype": "text/x-python",
   "name": "python",
   "nbconvert_exporter": "python",
   "pygments_lexer": "ipython3",
   "version": "3.12.3"
  }
 },
 "nbformat": 4,
 "nbformat_minor": 2
}
