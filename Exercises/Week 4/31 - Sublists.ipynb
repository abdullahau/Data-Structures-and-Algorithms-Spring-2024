{
 "cells": [
  {
   "cell_type": "markdown",
   "metadata": {},
   "source": [
    "# Sublists"
   ]
  },
  {
   "cell_type": "markdown",
   "metadata": {},
   "source": [
    "You are given a list containing $n$ integers. Your task is to count how many sublists have the sum $0$ and additionally have the same first and last number.\n",
    "\n",
    "The time complexity of the algorithm should be $O(n)$.\n",
    "\n",
    "In a file `sublists.py`, implement a function `count` that returns the number of sublists."
   ]
  },
  {
   "cell_type": "code",
   "execution_count": null,
   "metadata": {},
   "outputs": [],
   "source": [
    "def count(t):\n",
    "    # TODO\n",
    "\n",
    "if __name__ == \"__main__\":\n",
    "    print(count([2,3,-7,2])) # 1\n",
    "    print(count([1,2,3,4,5])) # 0\n",
    "    print(count([0,0,0,0,0])) # 15\n",
    "    print(count([2,1,-2,1,-1,1,-1,1])) # 3"
   ]
  },
  {
   "cell_type": "markdown",
   "metadata": {},
   "source": [
    "*Explanation*: In the last test, the sublists are $[1,-2,1]$, $[1,-2,1,-1,1]$ and $[1,-2,1,-1,1,-1,1]$."
   ]
  },
  {
   "cell_type": "markdown",
   "metadata": {},
   "source": [
    "## All Sublist"
   ]
  },
  {
   "cell_type": "code",
   "execution_count": 15,
   "metadata": {},
   "outputs": [
    {
     "name": "stdout",
     "output_type": "stream",
     "text": [
      "[[2], [2, 1], [2, 1, -2], [2, 1, -2, 1], [2, 1, -2, 1, -1], [2, 1, -2, 1, -1, 1], [2, 1, -2, 1, -1, 1, -1], [2, 1, -2, 1, -1, 1, -1, 1], [1], [1, -2], [1, -2, 1], [1, -2, 1, -1], [1, -2, 1, -1, 1], [1, -2, 1, -1, 1, -1], [1, -2, 1, -1, 1, -1, 1], [-2], [-2, 1], [-2, 1, -1], [-2, 1, -1, 1], [-2, 1, -1, 1, -1], [-2, 1, -1, 1, -1, 1], [1], [1, -1], [1, -1, 1], [1, -1, 1, -1], [1, -1, 1, -1, 1], [-1], [-1, 1], [-1, 1, -1], [-1, 1, -1, 1], [1], [1, -1], [1, -1, 1], [-1], [-1, 1], [1]]\n"
     ]
    }
   ],
   "source": [
    "def sublists(lst):\n",
    "    n = len(lst)\n",
    "    sublists = []\n",
    "     \n",
    "    for start in range(n):\n",
    "        for end in range(start + 1, n + 1):\n",
    "            sublists.append(lst[start:end])\n",
    "     \n",
    "    return sublists\n",
    " \n",
    "original_list = [2,1,-2,1,-1,1,-1,1]\n",
    "sublists_nested = sublists(original_list)\n",
    "print(sublists_nested)"
   ]
  },
  {
   "cell_type": "code",
   "execution_count": 16,
   "metadata": {},
   "outputs": [
    {
     "name": "stdout",
     "output_type": "stream",
     "text": [
      "[[2], [2, 1], [2, 1, -2], [2, 1, -2, 1], [2, 1, -2, 1, -1], [2, 1, -2, 1, -1, 1], [2, 1, -2, 1, -1, 1, -1], [2, 1, -2, 1, -1, 1, -1, 1], [1], [1, -2], [1, -2, 1], [1, -2, 1, -1], [1, -2, 1, -1, 1], [1, -2, 1, -1, 1, -1], [1, -2, 1, -1, 1, -1, 1], [-2], [-2, 1], [-2, 1, -1], [-2, 1, -1, 1], [-2, 1, -1, 1, -1], [-2, 1, -1, 1, -1, 1], [1], [1, -1], [1, -1, 1], [1, -1, 1, -1], [1, -1, 1, -1, 1], [-1], [-1, 1], [-1, 1, -1], [-1, 1, -1, 1], [1], [1, -1], [1, -1, 1], [-1], [-1, 1], [1]]\n"
     ]
    }
   ],
   "source": [
    "def sublists(lst):\n",
    "    n = len(lst)\n",
    "    return [lst[start:end] for start in range(n) for end in range(start + 1, n + 1)]\n",
    " \n",
    "original_list = [2,1,-2,1,-1,1,-1,1]\n",
    "sublists_nested = sublists(original_list)\n",
    "print(sublists_nested)"
   ]
  },
  {
   "cell_type": "markdown",
   "metadata": {},
   "source": [
    "## Attempt 1"
   ]
  },
  {
   "cell_type": "code",
   "execution_count": 14,
   "metadata": {},
   "outputs": [
    {
     "name": "stdout",
     "output_type": "stream",
     "text": [
      "1\n",
      "0\n",
      "15\n",
      "3\n",
      "1\n"
     ]
    }
   ],
   "source": [
    "# Time complexity of O(n^2)\n",
    "\n",
    "def count(t):\n",
    "  n = len(t)\n",
    "  counter = 0\n",
    "  \n",
    "  for i in range(n):\n",
    "    prefix_sum = 0\n",
    "    for j in range(i, n):\n",
    "      prefix_sum += t[j]\n",
    "      if t[i] == t[j] and prefix_sum == 0:\n",
    "        counter += 1\n",
    "        \n",
    "  return counter \n",
    "\n",
    "if __name__ == \"__main__\":\n",
    "    print(count([2,3,-7,2])) # 1\n",
    "    print(count([1,2,3,4,5])) # 0\n",
    "    print(count([0,0,0,0,0])) # 15\n",
    "    print(count([2,1,-2,1,-1,1,-1,1])) # 3\n",
    "    print(count([50, 40, 10, -4, -6, -8, -2, 10])) # 1"
   ]
  },
  {
   "cell_type": "code",
   "execution_count": 55,
   "metadata": {},
   "outputs": [
    {
     "name": "stdout",
     "output_type": "stream",
     "text": [
      "(1, [[2, 3, -7, 2]])\n",
      "(0, [])\n",
      "(15, [0, [0, 0], [0, 0, 0], [0, 0, 0, 0], [0, 0, 0, 0, 0], 0, [0, 0], [0, 0, 0], [0, 0, 0, 0], 0, [0, 0], [0, 0, 0], 0, [0, 0], 0])\n",
      "(3, [[1, -2, 1], [1, -2, 1, -1, 1], [1, -2, 1, -1, 1, -1, 1]])\n",
      "(1, [[10, -4, -6, -8, -2, 10]])\n"
     ]
    }
   ],
   "source": [
    "# Time complexity of O(n^2)\n",
    "\n",
    "def count(t):\n",
    "    counter = 0\n",
    "    n = len(t)\n",
    "    l = []\n",
    "    for i in range(n):\n",
    "        total = t[i]\n",
    "        if t[i] == 0:\n",
    "            counter += 1\n",
    "            l.append(t[i])\n",
    "        for j in range(i+1, n):\n",
    "            total += t[j]\n",
    "            if t[j] == t[i] and total == 0:\n",
    "                counter += 1\n",
    "                l.append(t[i:j+1])\n",
    "                \n",
    "\n",
    "    return counter, l\n",
    "\n",
    "if __name__ == \"__main__\":\n",
    "    print(count([2,3,-7,2])) # 1\n",
    "    print(count([1,2,3,4,5])) # 0\n",
    "    print(count([0,0,0,0,0])) # 15\n",
    "    print(count([2,1,-2,1,-1,1,-1,1])) # 3\n",
    "    print(count([50, 40, 10, -4, -6, -8, -2, 10])) # 1"
   ]
  },
  {
   "cell_type": "code",
   "execution_count": 8,
   "metadata": {},
   "outputs": [
    {
     "name": "stdout",
     "output_type": "stream",
     "text": [
      "1\n",
      "0\n",
      "15\n",
      "9\n"
     ]
    }
   ],
   "source": [
    "def count(numbers):\n",
    "    count = {0: 1}\n",
    "    prefix_sum = 0\n",
    "    result = 0\n",
    "    \n",
    "    for i in range(len(numbers)):\n",
    "        prefix_sum += numbers[i]\n",
    "        if prefix_sum in count:\n",
    "            result += count[prefix_sum]\n",
    "        \n",
    "        if prefix_sum not in count:\n",
    "            count[prefix_sum] = 0\n",
    "        count[prefix_sum] += 1\n",
    "  \n",
    "    return result \n",
    "\n",
    "if __name__ == \"__main__\":\n",
    "    print(count([2,3,-7,2])) # 1\n",
    "    print(count([1,2,3,4,5])) # 0\n",
    "    print(count([0,0,0,0,0])) # 15\n",
    "    print(count([2,1,-2,1,-1,1,-1,1])) # 3"
   ]
  },
  {
   "cell_type": "code",
   "execution_count": 13,
   "metadata": {},
   "outputs": [
    {
     "name": "stdout",
     "output_type": "stream",
     "text": [
      "1\n",
      "0\n",
      "15\n",
      "9\n",
      "3\n"
     ]
    }
   ],
   "source": [
    "def count(numbers):\n",
    "    count = {0: 1}\n",
    "    index = {0}\n",
    "    prefix_sum = 0\n",
    "    result = 0\n",
    "    \n",
    "    for i in range(len(numbers)):\n",
    "        prefix_sum += numbers[i]\n",
    "        if prefix_sum in count:\n",
    "            result += count[prefix_sum]\n",
    "        \n",
    "        if prefix_sum not in count:\n",
    "            count[prefix_sum] = 0\n",
    "        count[prefix_sum] += 1\n",
    "  \n",
    "    return result \n",
    "\n",
    "if __name__ == \"__main__\":\n",
    "    print(count([2,3,-7,2])) # 1\n",
    "    print(count([1,2,3,4,5])) # 0\n",
    "    print(count([0,0,0,0,0])) # 15\n",
    "    print(count([2,1,-2,1,-1,1,-1,1])) # 3\n",
    "    print(count([50, 40, 10, -4, -6, -8, -2, 10])) # 1"
   ]
  },
  {
   "cell_type": "markdown",
   "metadata": {},
   "source": [
    "## Attempt 2"
   ]
  },
  {
   "cell_type": "code",
   "execution_count": 1,
   "metadata": {},
   "outputs": [
    {
     "name": "stdout",
     "output_type": "stream",
     "text": [
      "1\n",
      "0\n",
      "15\n",
      "3\n",
      "1\n"
     ]
    }
   ],
   "source": [
    "def count(t):\n",
    "    n = len(t)\n",
    "    prefix_sum = 0\n",
    "    prefix_sum_map = {0: [-1]}\n",
    "    counter = 0\n",
    "\n",
    "    for i in range(n):\n",
    "        prefix_sum += t[i]\n",
    "        \n",
    "        if prefix_sum in prefix_sum_map:\n",
    "            for j in prefix_sum_map[prefix_sum]:\n",
    "                if t[j + 1] == t[i]:\n",
    "                    counter += 1\n",
    "            prefix_sum_map[prefix_sum].append(i)\n",
    "        else:\n",
    "            prefix_sum_map[prefix_sum] = [i]\n",
    "\n",
    "    return counter\n",
    "\n",
    "if __name__ == \"__main__\":\n",
    "    print(count([2,3,-7,2])) # 1\n",
    "    print(count([1,2,3,4,5])) # 0\n",
    "    print(count([0,0,0,0,0])) # 15\n",
    "    print(count([2,1,-2,1,-1,1,-1,1])) # 3\n",
    "    print(count([50, 40, 10, -4, -6, -8, -2, 10])) # 1\n"
   ]
  },
  {
   "cell_type": "code",
   "execution_count": 42,
   "metadata": {},
   "outputs": [
    {
     "name": "stdout",
     "output_type": "stream",
     "text": [
      "1\n",
      "0\n",
      "15\n",
      "6\n",
      "1\n"
     ]
    }
   ],
   "source": [
    "def count(t):\n",
    "    n = len(t)\n",
    "    prefix_sum = 0\n",
    "    count = {0: 1}\n",
    "    nums = {0}\n",
    "    counter = 0\n",
    "\n",
    "    for i in range(n):\n",
    "        prefix_sum += t[i]\n",
    "        \n",
    "        if prefix_sum in count and t[i] in nums:\n",
    "            counter += count[prefix_sum]\n",
    "            count[prefix_sum] += 1\n",
    "        \n",
    "        if prefix_sum not in count:\n",
    "            count[prefix_sum] = 1\n",
    "            nums.add(t[i])\n",
    "            \n",
    "    return counter\n",
    "\n",
    "if __name__ == \"__main__\":\n",
    "    print(count([2,3,-7,2])) # 1\n",
    "    print(count([1,2,3,4,5])) # 0\n",
    "    print(count([0,0,0,0,0])) # 15\n",
    "    print(count([2,1,-2,1,-1,1,-1,1])) # 3\n",
    "    print(count([50, 40, 10, -4, -6, -8, -2, 10])) # 1"
   ]
  },
  {
   "cell_type": "code",
   "execution_count": 50,
   "metadata": {},
   "outputs": [
    {
     "name": "stdout",
     "output_type": "stream",
     "text": [
      "4\n",
      "5\n",
      "15\n",
      "14\n",
      "9\n"
     ]
    }
   ],
   "source": [
    "def count(t):\n",
    "    n = len(t)\n",
    "    prefix_sum = 0\n",
    "    prefix_sum_map = {0: 1}  # Initialize with a single occurrence of prefix sum 0\n",
    "    counter = 0\n",
    "\n",
    "    for i in range(n):\n",
    "        prefix_sum += t[i]\n",
    "        \n",
    "        if prefix_sum - t[i] in prefix_sum_map:\n",
    "            counter += prefix_sum_map[prefix_sum - t[i]]\n",
    "        \n",
    "        if prefix_sum in prefix_sum_map:\n",
    "            prefix_sum_map[prefix_sum] += 1\n",
    "        else:\n",
    "            prefix_sum_map[prefix_sum] = 1\n",
    "            \n",
    "    return counter\n",
    "\n",
    "if __name__ == \"__main__\":\n",
    "    print(count([2,3,-7,2]))  # Output: 1\n",
    "    print(count([1,2,3,4,5]))  # Output: 0\n",
    "    print(count([0,0,0,0,0]))  # Output: 15\n",
    "    print(count([2,1,-2,1,-1,1,-1,1]))  # Output: 3\n",
    "    print(count([50, 40, 10, -4, -6, -8, -2, 10]))  # Output: 1"
   ]
  }
 ],
 "metadata": {
  "kernelspec": {
   "display_name": "Python 3",
   "language": "python",
   "name": "python3"
  },
  "language_info": {
   "codemirror_mode": {
    "name": "ipython",
    "version": 3
   },
   "file_extension": ".py",
   "mimetype": "text/x-python",
   "name": "python",
   "nbconvert_exporter": "python",
   "pygments_lexer": "ipython3",
   "version": "3.12.3"
  }
 },
 "nbformat": 4,
 "nbformat_minor": 2
}
