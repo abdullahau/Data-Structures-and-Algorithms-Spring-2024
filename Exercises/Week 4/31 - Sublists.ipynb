{
 "cells": [
  {
   "cell_type": "markdown",
   "metadata": {},
   "source": [
    "# Sublists"
   ]
  },
  {
   "cell_type": "markdown",
   "metadata": {},
   "source": [
    "You are given a list containing $n$ integers. Your task is to count how many sublists have the sum $0$ and additionally have the same first and last number.\n",
    "\n",
    "The time complexity of the algorithm should be $O(n)$.\n",
    "\n",
    "In a file `sublists.py`, implement a function `count` that returns the number of sublists."
   ]
  },
  {
   "cell_type": "code",
   "execution_count": null,
   "metadata": {},
   "outputs": [],
   "source": [
    "def count(t):\n",
    "    # TODO\n",
    "\n",
    "if __name__ == \"__main__\":\n",
    "    print(count([2,3,-7,2])) # 1\n",
    "    print(count([1,2,3,4,5])) # 0\n",
    "    print(count([0,0,0,0,0])) # 15\n",
    "    print(count([2,1,-2,1,-1,1,-1,1])) # 3"
   ]
  },
  {
   "cell_type": "markdown",
   "metadata": {},
   "source": [
    "*Explanation*: In the last test, the sublists are $[1,-2,1]$, $[1,-2,1,-1,1]$ and $[1,-2,1,-1,1,-1,1]$."
   ]
  },
  {
   "cell_type": "markdown",
   "metadata": {},
   "source": [
    "## Attempt 1"
   ]
  },
  {
   "cell_type": "code",
   "execution_count": 36,
   "metadata": {},
   "outputs": [
    {
     "name": "stdout",
     "output_type": "stream",
     "text": [
      "1\n",
      "0\n",
      "15\n",
      "3\n"
     ]
    }
   ],
   "source": [
    "# Time complexity of O(n^2)\n",
    "\n",
    "def count(t):\n",
    "    counter = 0\n",
    "    n = len(t)\n",
    "    for i in range(n):\n",
    "        total = t[i]\n",
    "        if t[i] == 0:\n",
    "            counter += 1\n",
    "        for j in range(i+1, n):\n",
    "            total += t[j]\n",
    "            if t[j] == t[i] and total == 0:\n",
    "                counter += 1\n",
    "\n",
    "    return counter\n",
    "\n",
    "if __name__ == \"__main__\":\n",
    "    print(count([2,3,-7,2])) # 1\n",
    "    print(count([1,2,3,4,5])) # 0\n",
    "    print(count([0,0,0,0,0])) # 15\n",
    "    print(count([2,1,-2,1,-1,1,-1,1])) # 3"
   ]
  },
  {
   "cell_type": "code",
   "execution_count": 55,
   "metadata": {},
   "outputs": [
    {
     "name": "stdout",
     "output_type": "stream",
     "text": [
      "(1, [[2, 3, -7, 2]])\n",
      "(0, [])\n",
      "(15, [0, [0, 0], [0, 0, 0], [0, 0, 0, 0], [0, 0, 0, 0, 0], 0, [0, 0], [0, 0, 0], [0, 0, 0, 0], 0, [0, 0], [0, 0, 0], 0, [0, 0], 0])\n",
      "(3, [[1, -2, 1], [1, -2, 1, -1, 1], [1, -2, 1, -1, 1, -1, 1]])\n",
      "(1, [[10, -4, -6, -8, -2, 10]])\n"
     ]
    }
   ],
   "source": [
    "# Time complexity of O(n^2)\n",
    "\n",
    "def count(t):\n",
    "    counter = 0\n",
    "    n = len(t)\n",
    "    l = []\n",
    "    for i in range(n):\n",
    "        total = t[i]\n",
    "        if t[i] == 0:\n",
    "            counter += 1\n",
    "            l.append(t[i])\n",
    "        for j in range(i+1, n):\n",
    "            total += t[j]\n",
    "            if t[j] == t[i] and total == 0:\n",
    "                counter += 1\n",
    "                l.append(t[i:j+1])\n",
    "                \n",
    "\n",
    "    return counter, l\n",
    "\n",
    "if __name__ == \"__main__\":\n",
    "    print(count([2,3,-7,2])) # 1\n",
    "    print(count([1,2,3,4,5])) # 0\n",
    "    print(count([0,0,0,0,0])) # 15\n",
    "    print(count([2,1,-2,1,-1,1,-1,1])) # 3\n",
    "    print(count([50, 40, 10, -4, -6, -8, -2, 10])) # 1"
   ]
  },
  {
   "cell_type": "markdown",
   "metadata": {},
   "source": [
    "## Attempt 2"
   ]
  },
  {
   "cell_type": "code",
   "execution_count": 66,
   "metadata": {},
   "outputs": [
    {
     "name": "stdout",
     "output_type": "stream",
     "text": [
      "1\n",
      "0\n",
      "15\n",
      "3\n",
      "1\n"
     ]
    }
   ],
   "source": [
    "def count(t):\n",
    "    n = len(t)\n",
    "    prefix_sum = 0\n",
    "    prefix_sum_map = {0: [-1]}\n",
    "    counter = 0\n",
    "\n",
    "    for i in range(n):\n",
    "        prefix_sum += t[i]\n",
    "        \n",
    "        if prefix_sum in prefix_sum_map:\n",
    "            for j in prefix_sum_map[prefix_sum]:\n",
    "                if t[j + 1] == t[i]:\n",
    "                    counter += 1\n",
    "            prefix_sum_map[prefix_sum].append(i)\n",
    "        else:\n",
    "            prefix_sum_map[prefix_sum] = [i]\n",
    "\n",
    "    return counter\n",
    "\n",
    "if __name__ == \"__main__\":\n",
    "    print(count([2,3,-7,2])) # 1\n",
    "    print(count([1,2,3,4,5])) # 0\n",
    "    print(count([0,0,0,0,0])) # 15\n",
    "    print(count([2,1,-2,1,-1,1,-1,1])) # 3\n",
    "    print(count([50, 40, 10, -4, -6, -8, -2, 10])) # 1\n"
   ]
  }
 ],
 "metadata": {
  "kernelspec": {
   "display_name": "Python 3",
   "language": "python",
   "name": "python3"
  },
  "language_info": {
   "codemirror_mode": {
    "name": "ipython",
    "version": 3
   },
   "file_extension": ".py",
   "mimetype": "text/x-python",
   "name": "python",
   "nbconvert_exporter": "python",
   "pygments_lexer": "ipython3",
   "version": "3.12.3"
  }
 },
 "nbformat": 4,
 "nbformat_minor": 2
}
