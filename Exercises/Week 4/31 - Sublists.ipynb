{
 "cells": [
  {
   "cell_type": "markdown",
   "metadata": {},
   "source": [
    "# Sublists"
   ]
  },
  {
   "cell_type": "markdown",
   "metadata": {},
   "source": [
    "You are given a list containing $n$ integers. Your task is to count how many sublists have the sum $0$ and additionally have the same first and last number.\n",
    "\n",
    "The time complexity of the algorithm should be $O(n)$.\n",
    "\n",
    "In a file `sublists.py`, implement a function `count` that returns the number of sublists."
   ]
  },
  {
   "cell_type": "code",
   "execution_count": null,
   "metadata": {},
   "outputs": [],
   "source": [
    "def count(t):\n",
    "    # TODO\n",
    "\n",
    "if __name__ == \"__main__\":\n",
    "    print(count([2,3,-7,2])) # 1\n",
    "    print(count([1,2,3,4,5])) # 0\n",
    "    print(count([0,0,0,0,0])) # 15\n",
    "    print(count([2,1,-2,1,-1,1,-1,1])) # 3"
   ]
  },
  {
   "cell_type": "markdown",
   "metadata": {},
   "source": [
    "*Explanation*: In the last test, the sublists are $[1,-2,1]$, $[1,-2,1,-1,1]$ and $[1,-2,1,-1,1,-1,1]$."
   ]
  },
  {
   "cell_type": "markdown",
   "metadata": {},
   "source": [
    "## Attempt 1"
   ]
  },
  {
   "cell_type": "code",
   "execution_count": null,
   "metadata": {},
   "outputs": [],
   "source": [
    "def count(t):\n",
    "    # TODO\n",
    "\n",
    "if __name__ == \"__main__\":\n",
    "    print(count([2,3,-7,2])) # 1\n",
    "    print(count([1,2,3,4,5])) # 0\n",
    "    print(count([0,0,0,0,0])) # 15\n",
    "    print(count([2,1,-2,1,-1,1,-1,1])) # 3"
   ]
  }
 ],
 "metadata": {
  "language_info": {
   "name": "python"
  }
 },
 "nbformat": 4,
 "nbformat_minor": 2
}
