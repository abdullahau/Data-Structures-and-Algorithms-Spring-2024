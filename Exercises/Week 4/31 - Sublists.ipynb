{
 "cells": [
  {
   "cell_type": "markdown",
   "metadata": {},
   "source": [
    "# Sublists"
   ]
  },
  {
   "cell_type": "markdown",
   "metadata": {},
   "source": [
    "You are given a list containing $n$ integers. Your task is to count how many sublists have the sum $0$ and additionally have the same first and last number.\n",
    "\n",
    "The time complexity of the algorithm should be $O(n)$.\n",
    "\n",
    "In a file `sublists.py`, implement a function `count` that returns the number of sublists."
   ]
  },
  {
   "cell_type": "code",
   "execution_count": null,
   "metadata": {},
   "outputs": [],
   "source": [
    "def count(t):\n",
    "    # TODO\n",
    "\n",
    "if __name__ == \"__main__\":\n",
    "    print(count([2,3,-7,2])) # 1\n",
    "    print(count([1,2,3,4,5])) # 0\n",
    "    print(count([0,0,0,0,0])) # 15\n",
    "    print(count([2,1,-2,1,-1,1,-1,1])) # 3"
   ]
  },
  {
   "cell_type": "markdown",
   "metadata": {},
   "source": [
    "*Explanation*: In the last test, the sublists are $[1,-2,1]$, $[1,-2,1,-1,1]$ and $[1,-2,1,-1,1,-1,1]$."
   ]
  },
  {
   "cell_type": "markdown",
   "metadata": {},
   "source": [
    "## Attempt 1"
   ]
  },
  {
   "cell_type": "code",
   "execution_count": 19,
   "metadata": {},
   "outputs": [
    {
     "name": "stdout",
     "output_type": "stream",
     "text": [
      "1\n",
      "0\n",
      "15\n",
      "3\n"
     ]
    }
   ],
   "source": [
    "# Time complexity of O(n^2)\n",
    "\n",
    "def count(t):\n",
    "    counter = 0\n",
    "    n = len(t)\n",
    "    for i in range(n):\n",
    "        total = t[i]\n",
    "        for j in range(i, n):\n",
    "            total += t[j]\n",
    "            if total == 0:\n",
    "                counter += 1\n",
    "    \n",
    "    return counter\n",
    "\n",
    "if __name__ == \"__main__\":\n",
    "    print(count([2,3,-7,2])) # 1\n",
    "    print(count([1,2,3,4,5])) # 0\n",
    "    print(count([0,0,0,0,0])) # 15\n",
    "    print(count([2,1,-2,1,-1,1,-1,1])) # 3"
   ]
  },
  {
   "cell_type": "markdown",
   "metadata": {},
   "source": [
    "## Attempt 2"
   ]
  },
  {
   "cell_type": "code",
   "execution_count": 38,
   "metadata": {},
   "outputs": [
    {
     "name": "stdout",
     "output_type": "stream",
     "text": [
      "{0: 2, 2: 1, 5: 1, -2: 1}\n",
      "1\n",
      "{0: 1, 1: 1, 3: 1, 6: 1, 10: 1, 15: 1}\n",
      "0\n",
      "{0: 6}\n",
      "15\n",
      "{0: 1, 2: 4, 3: 1, 1: 3}\n",
      "9\n"
     ]
    }
   ],
   "source": [
    "# Time complexity of O(n)\n",
    "\n",
    "def count(numbers):\n",
    "    count = {0: 1}\n",
    "    prefix_sum = 0\n",
    "    result = 0\n",
    "    n = len(numbers)\n",
    "    \n",
    "    for i in range(n):\n",
    "        prefix_sum += numbers[i]\n",
    "        if prefix_sum in count:\n",
    "            result += count[prefix_sum]\n",
    "        \n",
    "        if prefix_sum not in count:\n",
    "            count[prefix_sum] = 0\n",
    "        count[prefix_sum] += 1\n",
    "    \n",
    "    print(count)\n",
    "    return result \n",
    "\n",
    "if __name__ == \"__main__\":\n",
    "    print(count([2,3,-7,2])) # 1\n",
    "    print(count([1,2,3,4,5])) # 0\n",
    "    print(count([0,0,0,0,0])) # 15\n",
    "    print(count([2,1,-2,1,-1,1,-1,1])) # 3"
   ]
  },
  {
   "cell_type": "code",
   "execution_count": 45,
   "metadata": {},
   "outputs": [
    {
     "name": "stdout",
     "output_type": "stream",
     "text": [
      "{0: 2, 2: 1, 5: 1, -2: 1}\n",
      "1\n",
      "{0: 1, 1: 1, 3: 1, 6: 1, 10: 1, 15: 1}\n",
      "0\n",
      "{0: 6}\n",
      "15\n",
      "{0: 1, 2: 4, 3: 1, 1: 3}\n",
      "9\n"
     ]
    }
   ],
   "source": [
    "# Time complexity of O(n)\n",
    "\n",
    "def count(numbers):\n",
    "    count = {0:1}\n",
    "    prefix_sum = 0\n",
    "    result = 0\n",
    "    n = len(numbers)\n",
    "    \n",
    "    for i in range(n):\n",
    "        prefix_sum += numbers[i]\n",
    "        if prefix_sum in count:\n",
    "            result += count[prefix_sum]\n",
    "        \n",
    "        if prefix_sum not in count:\n",
    "            count[prefix_sum] = 0\n",
    "        count[prefix_sum] += 1\n",
    "    \n",
    "    print(count)\n",
    "    return result \n",
    "\n",
    "if __name__ == \"__main__\":\n",
    "    print(count([2,3,-7,2])) # 1\n",
    "    print(count([1,2,3,4,5])) # 0\n",
    "    print(count([0,0,0,0,0])) # 15\n",
    "    print(count([2,1,-2,1,-1,1,-1,1])) # 3"
   ]
  },
  {
   "cell_type": "code",
   "execution_count": 37,
   "metadata": {},
   "outputs": [
    {
     "name": "stdout",
     "output_type": "stream",
     "text": [
      "{2: 1, 5: 1, -2: 1, 0: 1}\n",
      "0\n",
      "{1: 1, 3: 1, 6: 1, 10: 1, 15: 1}\n",
      "0\n",
      "{0: 5}\n",
      "10\n",
      "{2: 4, 3: 1, 1: 3}\n",
      "9\n"
     ]
    }
   ],
   "source": [
    "# Time complexity of O(n)\n",
    "\n",
    "def count(t):\n",
    "    count = {t[0]: 1}\n",
    "    prefix_sum = t[0]\n",
    "    result = 0\n",
    "    n = len(t)\n",
    "    \n",
    "    for i in range(1, n):\n",
    "        prefix_sum += t[i]\n",
    "        if prefix_sum in count:\n",
    "            result += count[prefix_sum]\n",
    "        \n",
    "        if prefix_sum not in count:\n",
    "            count[prefix_sum] = 0\n",
    "        count[prefix_sum] += 1\n",
    "    \n",
    "    print(count)\n",
    "    return result \n",
    "\n",
    "if __name__ == \"__main__\":\n",
    "    print(count([2,3,-7,2])) # 1\n",
    "    print(count([1,2,3,4,5])) # 0\n",
    "    print(count([0,0,0,0,0])) # 15\n",
    "    print(count([2,1,-2,1,-1,1,-1,1])) # 3"
   ]
  }
 ],
 "metadata": {
  "kernelspec": {
   "display_name": "Python 3",
   "language": "python",
   "name": "python3"
  },
  "language_info": {
   "codemirror_mode": {
    "name": "ipython",
    "version": 3
   },
   "file_extension": ".py",
   "mimetype": "text/x-python",
   "name": "python",
   "nbconvert_exporter": "python",
   "pygments_lexer": "ipython3",
   "version": "3.12.3"
  }
 },
 "nbformat": 4,
 "nbformat_minor": 2
}
