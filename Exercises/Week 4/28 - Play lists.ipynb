{
 "cells": [
  {
   "cell_type": "markdown",
   "metadata": {},
   "source": [
    "# Play lists"
   ]
  },
  {
   "cell_type": "markdown",
   "metadata": {},
   "source": [
    "You are given a play list, where each song is represented by an integer. Your task to find out how many sublists of the play list contain no song twice.\n",
    "\n",
    "The time complexity of the algorithm should be $O(n)$.\n",
    "\n",
    "In a file `playlists.py`, implement a function `count` that returns the number of sublists."
   ]
  },
  {
   "cell_type": "code",
   "execution_count": null,
   "metadata": {},
   "outputs": [],
   "source": [
    "def count(t):\n",
    "    # TODO\n",
    "\n",
    "if __name__ == \"__main__\":\n",
    "    print(count([1,2,3,4])) # 10\n",
    "    print(count([1,1,1,1])) # 4\n",
    "    print(count([5])) # 1\n",
    "    print(count([1,3,2,3,4,2,4,1,2,1])) # 24"
   ]
  },
  {
   "cell_type": "markdown",
   "metadata": {},
   "source": [
    "## Attempt 1"
   ]
  },
  {
   "cell_type": "markdown",
   "metadata": {},
   "source": [
    "This code is designed to iterate through the list and count the number of sublists by keeping track of the most recent index of each element and the starting point of the current subarray. Whenever a duplicate element is found, the `anchor` is updated to one position right of the last occurrence of that element. This ensures that all subarrays considered from that point on will have distinct elements. The `result` is incremented by the number of new subarrays that can be formed ending with the current element, which is `i - anchor + 1`.\n",
    "\n",
    "Let's break down the last test case list `[9, 6, 10, 10, 3, 6, 7, 6, 5, 7]`:\n",
    "\n",
    "1. Distinct Subarrays Starting with 9:  \n",
    "- `[9]`  \n",
    "- `[9, 6]`  \n",
    "- `[9, 6, 10]`  \n",
    "- Total: 3 subarrays\n",
    "\n",
    "2. Distinct Subarrays Starting with 6:  \n",
    "- `[6]`  \n",
    "- `[6, 10]`  \n",
    "- `[6, 10, 10]`  \n",
    "- `[6, 10, 10, 3]`  \n",
    "- `[6, 10, 10, 3, 6]`  \n",
    "- `[6, 10, 10, 3, 6, 7]`  \n",
    "- Total: 6 subarrays\n",
    "\n",
    "3. Distinct Subarrays Starting with 10:  \n",
    "- `[10]`  \n",
    "- `[10, 3]`  \n",
    "- `[10, 3, 6]`  \n",
    "- `[10, 3, 6, 7]`  \n",
    "- Total: 4 subarrays\n",
    "\n",
    "4. Distinct Subarrays Starting with 3:  \n",
    "- `[3]`  \n",
    "- Total: 1 subarray\n",
    "\n",
    "5. Distinct Subarrays Starting with 7:  \n",
    "- `[7]`  \n",
    "- `[7, 6]`  \n",
    "- `[7, 6, 5]`  \n",
    "- Total: 3 subarrays\n",
    "\n",
    "6. Distinct Subarrays Starting with 5:  \n",
    "- `[5]`  \n",
    "- Total: 1 subarray\n",
    "\n",
    "Adding up all the subarrays from each starting point:  \n",
    "[3 + 6 + 4 + 1 + 3 + 1 = 18]\n",
    "\n",
    "However, we also need to consider the individual elements themselves:  \n",
    "- `[9]`  \n",
    "- `[6]`  \n",
    "- `[10]`  \n",
    "- `[3]`  \n",
    "- `[7]`  \n",
    "- `[5]`\n",
    "\n",
    "Adding these individual elements:  \n",
    "[18 + 6 = 24]"
   ]
  },
  {
   "cell_type": "code",
   "execution_count": 127,
   "metadata": {},
   "outputs": [
    {
     "name": "stdout",
     "output_type": "stream",
     "text": [
      "10\n",
      "4\n",
      "1\n",
      "24\n",
      "11\n",
      "24\n"
     ]
    }
   ],
   "source": [
    "def count(t):\n",
    "    index = {}\n",
    "    result = 0\n",
    "    anchor = 0\n",
    "    for i, v in enumerate(t):\n",
    "        # If we've seen the element before and it's within the current subarray\n",
    "        if v in index and index[v] >= anchor:\n",
    "            # Move the anchor to the right of the previous occurrence\n",
    "            anchor = index[v] + 1\n",
    "            \n",
    "        # Update the most recent index of the element\n",
    "        index[v] = i\n",
    "        # Add the number of valid subarrays ending at the current element\n",
    "        result += i - anchor + 1\n",
    "        \n",
    "    return result\n",
    "\n",
    "if __name__ == \"__main__\":\n",
    "    print(count([1,2,3,4])) # 10\n",
    "    print(count([1,1,1,1])) # 4\n",
    "    print(count([5])) # 1\n",
    "    print(count([1,3,2,3,4,2,4,1,2,1])) # 24\n",
    "    print(count([2,4,3,4,2])) # 11\n",
    "    print(count([9,6,10,10,3,6,7,6,5,7])) # 24"
   ]
  },
  {
   "cell_type": "code",
   "execution_count": 130,
   "metadata": {},
   "outputs": [
    {
     "name": "stdout",
     "output_type": "stream",
     "text": [
      "10\n",
      "4\n",
      "1\n",
      "24\n",
      "11\n",
      "24\n"
     ]
    }
   ],
   "source": [
    "def count(t):\n",
    "    index = {}\n",
    "    result = 0\n",
    "    anchor = 0\n",
    "    for i, v in enumerate(t):\n",
    "        if v in index and index[v] >= anchor:\n",
    "            anchor = index[v] + 1\n",
    "\n",
    "        index[v] = i\n",
    "        \n",
    "        result += i - anchor + 1\n",
    "        \n",
    "    return result\n",
    "\n",
    "if __name__ == \"__main__\":\n",
    "    print(count([1,2,3,4])) # 10\n",
    "    print(count([1,1,1,1])) # 4\n",
    "    print(count([5])) # 1\n",
    "    print(count([1,3,2,3,4,2,4,1,2,1])) # 24\n",
    "    print(count([2,4,3,4,2])) # 11\n",
    "    print(count([9,6,10,10,3,6,7,6,5,7])) # 24"
   ]
  },
  {
   "cell_type": "markdown",
   "metadata": {},
   "source": [
    "## Solution"
   ]
  },
  {
   "cell_type": "markdown",
   "metadata": {},
   "source": [
    "This is a variant of the code in the course material that finds the length of the longest sublist with no repeat. The difference is that now we add up the lengths at each position instead of taking their maximum."
   ]
  },
  {
   "cell_type": "code",
   "execution_count": null,
   "metadata": {},
   "outputs": [],
   "source": [
    "def count(t):\n",
    "    n = len(t)\n",
    "\n",
    "    pos = {}\n",
    "    start = 0\n",
    "    result = 0\n",
    "\n",
    "    for i, x in enumerate(t):\n",
    "        if x in pos:\n",
    "            start = max(start, pos[x] + 1)\n",
    "        result += i - start + 1\n",
    "        pos[x] = i\n",
    "\n",
    "    return result"
   ]
  }
 ],
 "metadata": {
  "kernelspec": {
   "display_name": "Python 3",
   "language": "python",
   "name": "python3"
  },
  "language_info": {
   "codemirror_mode": {
    "name": "ipython",
    "version": 3
   },
   "file_extension": ".py",
   "mimetype": "text/x-python",
   "name": "python",
   "nbconvert_exporter": "python",
   "pygments_lexer": "ipython3",
   "version": "3.12.3"
  }
 },
 "nbformat": 4,
 "nbformat_minor": 2
}
