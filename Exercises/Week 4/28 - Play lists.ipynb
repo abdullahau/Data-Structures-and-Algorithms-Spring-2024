{
 "cells": [
  {
   "cell_type": "markdown",
   "metadata": {},
   "source": [
    "# Play lists"
   ]
  },
  {
   "cell_type": "markdown",
   "metadata": {},
   "source": [
    "You are given a play list, where each song is represented by an integer. Your task to find out how many sublists of the play list contain no song twice.\n",
    "\n",
    "The time complexity of the algorithm should be $O(n)$.\n",
    "\n",
    "In a file `playlists.py`, implement a function `count` that returns the number of sublists."
   ]
  },
  {
   "cell_type": "code",
   "execution_count": null,
   "metadata": {},
   "outputs": [],
   "source": [
    "def count(t):\n",
    "    # TODO\n",
    "\n",
    "if __name__ == \"__main__\":\n",
    "    print(count([1,2,3,4])) # 10\n",
    "    print(count([1,1,1,1])) # 4\n",
    "    print(count([5])) # 1\n",
    "    print(count([1,3,2,3,4,2,4,1,2,1])) # 24"
   ]
  },
  {
   "cell_type": "markdown",
   "metadata": {},
   "source": [
    "## Attempt 1"
   ]
  },
  {
   "cell_type": "code",
   "execution_count": 123,
   "metadata": {},
   "outputs": [
    {
     "name": "stdout",
     "output_type": "stream",
     "text": [
      "10\n",
      "4\n",
      "1\n",
      "24\n",
      "9\n",
      "16\n"
     ]
    }
   ],
   "source": [
    "def count(t):\n",
    "    index = {}\n",
    "    counter = 0\n",
    "    result = 0\n",
    "    anchor = 0\n",
    "    for i, v in enumerate(t):\n",
    "        \n",
    "        if v not in index:\n",
    "            index[v] = i\n",
    "            counter += 1 \n",
    "            anchor = i\n",
    "            \n",
    "        else:   \n",
    "            if index[v] >= anchor:\n",
    "                anchor = index[v]\n",
    "                index[v] = i\n",
    "                \n",
    "            counter = i - anchor\n",
    "            \n",
    "        result += counter\n",
    "        \n",
    "    return result\n",
    "\n",
    "if __name__ == \"__main__\":\n",
    "    print(count([1,2,3,4])) # 10\n",
    "    print(count([1,1,1,1])) # 4\n",
    "    print(count([5])) # 1\n",
    "    print(count([1,3,2,3,4,2,4,1,2,1])) # 24\n",
    "    print(count([2, 4, 3, 4, 2])) # 9\n",
    "    print(count([9, 6, 10, 10, 3, 6, 7, 6, 5, 7])) # 24"
   ]
  },
  {
   "cell_type": "code",
   "execution_count": 86,
   "metadata": {},
   "outputs": [
    {
     "name": "stdout",
     "output_type": "stream",
     "text": [
      "10\n",
      "4\n",
      "1\n",
      "29\n",
      "11\n",
      "31\n"
     ]
    }
   ],
   "source": [
    "def count(t):\n",
    "    index = {}\n",
    "    counter = 0\n",
    "    result = 0\n",
    "    anchor = 0\n",
    "    for i, v in enumerate(t):\n",
    "        \n",
    "        if v not in index:\n",
    "            index[v] = i\n",
    "            counter += 1 \n",
    "            \n",
    "        else:   \n",
    "            if index[v] >= anchor:\n",
    "                anchor = index[v]\n",
    "                index[v] = i\n",
    "                counter = (i - anchor - 1) * (i - anchor) // 2\n",
    "                \n",
    "            counter += 1 \n",
    "            \n",
    "        result += counter\n",
    "        \n",
    "    return result\n",
    "\n",
    "if __name__ == \"__main__\":\n",
    "    print(count([1,2,3,4])) # 10\n",
    "    print(count([1,1,1,1])) # 4\n",
    "    print(count([5])) # 1\n",
    "    print(count([1,3,2,3,4,2,4,1,2,1])) # 24\n",
    "    print(count([2, 4, 3, 4, 2])) # 12\n",
    "    print(count([9, 6, 10, 10, 3, 6, 7, 6, 5, 7])) # 24"
   ]
  },
  {
   "cell_type": "code",
   "execution_count": 92,
   "metadata": {},
   "outputs": [
    {
     "name": "stdout",
     "output_type": "stream",
     "text": [
      "10\n",
      "3\n",
      "1\n",
      "15\n",
      "10\n",
      "10\n"
     ]
    }
   ],
   "source": [
    "def count(t):\n",
    "    index = {}\n",
    "    counter = 0\n",
    "    anchor = 0\n",
    "    size = 0\n",
    "    for i, v in enumerate(t):\n",
    "        if v not in index:\n",
    "            index[v] = i\n",
    "            size += 1\n",
    "        else:\n",
    "            result += (size**2 + size)//2\n",
    "            if index[v] >= anchor:\n",
    "                anchor = index[v]\n",
    "                index[v] = i\n",
    "            \n",
    "            size =\n",
    "            \n",
    "            \n",
    "\n",
    "if __name__ == \"__main__\":\n",
    "    print(count([1,2,3,4])) # 10\n",
    "    print(count([1,1,1,1])) # 4\n",
    "    print(count([5])) # 1\n",
    "    print(count([1,3,2,3,4,2,4,1,2,1])) # 24\n",
    "    print(count([2, 4, 3, 4, 2])) # 12\n",
    "    print(count([9, 6, 10, 10, 3, 6, 7, 6, 5, 7])) # 24"
   ]
  },
  {
   "cell_type": "code",
   "execution_count": 114,
   "metadata": {},
   "outputs": [
    {
     "data": {
      "text/plain": [
       "24"
      ]
     },
     "execution_count": 114,
     "metadata": {},
     "output_type": "execute_result"
    }
   ],
   "source": [
    "# [1,3,2,3,4,2,4,1,2,1]\n",
    "# [1,3,2] - 6\n",
    "# [2,3,4] - 6\n",
    "# [3,4,2] - 6 \n",
    "# [4,1,2] - 6 \n",
    "# [2,1] - 3 - No?\n",
    "6*4"
   ]
  },
  {
   "cell_type": "code",
   "execution_count": 124,
   "metadata": {},
   "outputs": [
    {
     "data": {
      "text/plain": [
       "{1, 2, 3, 4}"
      ]
     },
     "execution_count": 124,
     "metadata": {},
     "output_type": "execute_result"
    }
   ],
   "source": [
    "# [1,3,2,3,4,2,4,1,2,1]\n",
    "# [1,3,2] - 6 -> [1], [3], [2], [1, 3], [3, 2], [1, 3, 2]\n",
    "# [2,3,4] - 6 - 2 = 4 -> [4], [2, 3], [3, 4], [2, 3, 4]\n",
    "# [3,4,2] - 6 - 4 = 2 -> [4, 2], [3, 4, 2]\n",
    "# [4,1,2] - 6 - 3 = 3 -> [4, 1], [1, 2], [4, 1, 2]\n",
    "# [2, 1] - 3 - 2 = 1 -> [2, 1]\n",
    "6 + 4 + 2 + 3 + 1\n",
    "set([1,3,2,3,4,2,4,1,2,1])"
   ]
  },
  {
   "cell_type": "code",
   "execution_count": 121,
   "metadata": {},
   "outputs": [
    {
     "data": {
      "text/plain": [
       "24"
      ]
     },
     "execution_count": 121,
     "metadata": {},
     "output_type": "execute_result"
    }
   ],
   "source": [
    "# [9, 6, 10, 10, 3, 6, 7, 6, 5, 7]\n",
    "# [9, 6, 10] - 6\n",
    "# [10, 3, 6, 7] - 10\n",
    "# [7, 6, 5] - 6\n",
    "# [6, 5, 7] - 6 - No\n",
    "6*2 + 10 + (6-3-1)"
   ]
  },
  {
   "cell_type": "code",
   "execution_count": null,
   "metadata": {},
   "outputs": [],
   "source": []
  }
 ],
 "metadata": {
  "kernelspec": {
   "display_name": "Python 3",
   "language": "python",
   "name": "python3"
  },
  "language_info": {
   "codemirror_mode": {
    "name": "ipython",
    "version": 3
   },
   "file_extension": ".py",
   "mimetype": "text/x-python",
   "name": "python",
   "nbconvert_exporter": "python",
   "pygments_lexer": "ipython3",
   "version": "3.12.3"
  }
 },
 "nbformat": 4,
 "nbformat_minor": 2
}
