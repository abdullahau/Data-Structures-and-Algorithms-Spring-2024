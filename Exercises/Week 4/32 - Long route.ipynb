{
 "cells": [
  {
   "cell_type": "markdown",
   "metadata": {},
   "source": [
    "# Long route"
   ]
  },
  {
   "cell_type": "markdown",
   "metadata": {},
   "source": [
    "The robot moves as in the earlier exercise this week, but now it repeats the same move sequence $k$ times. How many different squares does the robot visit?\n",
    "\n",
    "You may assume that the move sequence has at most $100$ moves, and that $k$ is in the range $1 \\dots 10^9$. The algorithm should be efficient within these limits.\n",
    "\n",
    "In a file `longroute.py`, implement a function `count` that returns the square count given the move sequence and the repeat count."
   ]
  },
  {
   "cell_type": "code",
   "execution_count": null,
   "metadata": {},
   "outputs": [],
   "source": [
    "def count(s,k):\n",
    "    # TODO\n",
    "\n",
    "if __name__ == \"__main__\":\n",
    "    print(count(\"UR\", 100)) # 201\n",
    "    print(count(\"UD\", 100)) # 2\n",
    "    print(count(\"UURRDDL\", 500)) # 1506\n",
    "    print(count(\"L\", 10**9)) # 1000000001\n",
    "    print(count(\"DLUR\", 10**9)) # 4"
   ]
  },
  {
   "cell_type": "markdown",
   "metadata": {},
   "source": [
    "## Attempt 1"
   ]
  },
  {
   "cell_type": "code",
   "execution_count": 146,
   "metadata": {},
   "outputs": [
    {
     "name": "stdout",
     "output_type": "stream",
     "text": [
      "201\n",
      "2\n",
      "1506\n",
      "1000000001\n",
      "4\n",
      "327558266\n",
      "3000000144\n"
     ]
    }
   ],
   "source": [
    "def count(s, k):\n",
    "    visited = set()\n",
    "    visited.add((0,0))\n",
    "    y = x = 0\n",
    "    n = max(len(s) // 2 + 1, 5)\n",
    "    \n",
    "    diffs = []\n",
    "    \n",
    "    for i in range(n):\n",
    "        for c in s:\n",
    "            if c == \"U\": y -= 1\n",
    "            if c == \"D\": y += 1\n",
    "            if c == \"L\": x -= 1\n",
    "            if c == \"R\": x += 1\n",
    "            visited.add((y,x))\n",
    "        diffs.append(len(visited))\n",
    "    \n",
    "    increments = []\n",
    "\n",
    "    for i in range(1, len(diffs)):\n",
    "        increments.append(diffs[i]-diffs[i-1])\n",
    "    \n",
    "    return (diffs[n-1] - increments[-1]) + (increments[-1]) *(k-(n-1))    \n",
    "    \n",
    "\n",
    "if __name__ == \"__main__\":\n",
    "    print(count(\"UR\", 100)) # 201\n",
    "    print(count(\"UD\", 100)) # 2\n",
    "    print(count(\"UURRDDL\", 500)) # 1506\n",
    "    print(count(\"L\", 10**9)) # 1000000001\n",
    "    print(count(\"DLUR\", 10**9)) # 4\n",
    "    print(count(\"RRRLDDRDRDLRDDDLLLRLULUDUDUUULURRLLRRDURDLURLURLUU\", 27296520)) # 327558266\n",
    "    print(count(\"UURRRRRRRRRRRRRRRRRRRRRRRRRRRRRRRRRRRRRRRRRRRRRRRRDDLLLLLLLLLLLLLLLLLLLLLLLLLLLLLLLLLLLLLLLLLLLLLLL\", 1000000000)) # 3000000144"
   ]
  },
  {
   "cell_type": "code",
   "execution_count": 7,
   "metadata": {},
   "outputs": [
    {
     "name": "stdout",
     "output_type": "stream",
     "text": [
      "201\n",
      "2\n",
      "1506\n",
      "1000000001\n",
      "4\n",
      "327558266\n",
      "3000000144\n"
     ]
    }
   ],
   "source": [
    "def count(s, k):\n",
    "    directions = {'U': (0, 1), 'D': (0, -1), 'R': (1,0), 'L': (-1, 0)}\n",
    "    position = {(0,0)}\n",
    "    pos = (0, 0)\n",
    "    r = max(len(s) // 2 + 1, 5)\n",
    "    \n",
    "    for _ in range(r):\n",
    "        old = len(position)\n",
    "        for c in s:\n",
    "            pos = pos[0] + directions[c][0], pos[1] + directions[c][1]\n",
    "            position.add(pos)\n",
    "            \n",
    "        new = len(position)\n",
    "        \n",
    "    return new + (new - old)*(k - r) \n",
    "        \n",
    "if __name__ == \"__main__\":\n",
    "    print(count(\"UR\", 100)) # 201\n",
    "    print(count(\"UD\", 100)) # 2\n",
    "    print(count(\"UURRDDL\", 500)) # 1506\n",
    "    print(count(\"L\", 10**9)) # 1000000001\n",
    "    print(count(\"DLUR\", 10**9)) # 4\n",
    "    print(count(\"RRRLDDRDRDLRDDDLLLRLULUDUDUUULURRLLRRDURDLURLURLUU\", 27296520)) # 327558266\n",
    "    print(count(\"UURRRRRRRRRRRRRRRRRRRRRRRRRRRRRRRRRRRRRRRRRRRRRRRRDDLLLLLLLLLLLLLLLLLLLLLLLLLLLLLLLLLLLLLLLLLLLLLLL\", 1000000000)) # 3000000144"
   ]
  },
  {
   "cell_type": "markdown",
   "metadata": {},
   "source": [
    "## Solution"
   ]
  },
  {
   "cell_type": "markdown",
   "metadata": {},
   "source": [
    "Since the robot can make up to $10^11$ moves, it would be too slow to make the moves step by step.\n",
    "\n",
    "An efficient solution is possible, however, because soon after the beginning the robot starts to repeat a pattern so that each round through the move sequence adds the same number of new squares. The idea of the solution is to do the first few rounds step by step until we can figure out the pattern.\n",
    "\n",
    "We still need to figure out how many rounds is needed before the pattern starts to repeat. The robot either gets stuck visiting the same squares in each round or it gradually drifts away from the initial square. In the former case, the pattern repeats after just one round. In the latter case, the pattern starts to repeat at the latest when the robot can no more visit any squares that it visited in the first round.\n",
    "\n",
    "The following code simulates step by step at most the first $2n$ rounds, where $n$ is the length of the move sequence, and then utilizes the repeating pattern for the remaining rounds. The round $2n$ starts at least $2n-1$ steps way from the initial position and thus there can be no overlap with with the first round."
   ]
  },
  {
   "cell_type": "code",
   "execution_count": 3,
   "metadata": {},
   "outputs": [
    {
     "name": "stdout",
     "output_type": "stream",
     "text": [
      "201\n",
      "2\n",
      "1506\n",
      "1000000001\n",
      "4\n",
      "327558266\n",
      "3000000144\n"
     ]
    }
   ],
   "source": [
    "def count(s,k):\n",
    "    visited = set([(0,0)])\n",
    "    y = x = 0\n",
    "    r = min(len(s)*2,k)\n",
    "    for _ in range(r):\n",
    "        old_size = len(visited)\n",
    "        for c in s:\n",
    "            if c == \"U\": y -= 1\n",
    "            if c == \"D\": y += 1\n",
    "            if c == \"L\": x -= 1\n",
    "            if c == \"R\": x += 1\n",
    "            visited.add((y,x))\n",
    "        new_size = len(visited)\n",
    "    return new_size + (new_size-old_size) * (k-r)\n",
    "\n",
    "if __name__ == \"__main__\":\n",
    "    print(count(\"UR\", 100)) # 201\n",
    "    print(count(\"UD\", 100)) # 2\n",
    "    print(count(\"UURRDDL\", 500)) # 1506\n",
    "    print(count(\"L\", 10**9)) # 1000000001\n",
    "    print(count(\"DLUR\", 10**9)) # 4\n",
    "    print(count(\"RRRLDDRDRDLRDDDLLLRLULUDUDUUULURRLLRRDURDLURLURLUU\", 27296520)) # 327558266\n",
    "    print(count(\"UURRRRRRRRRRRRRRRRRRRRRRRRRRRRRRRRRRRRRRRRRRRRRRRRDDLLLLLLLLLLLLLLLLLLLLLLLLLLLLLLLLLLLLLLLLLLLLLLL\", 1000000000)) # 3000000144"
   ]
  }
 ],
 "metadata": {
  "kernelspec": {
   "display_name": "Python 3",
   "language": "python",
   "name": "python3"
  },
  "language_info": {
   "codemirror_mode": {
    "name": "ipython",
    "version": 3
   },
   "file_extension": ".py",
   "mimetype": "text/x-python",
   "name": "python",
   "nbconvert_exporter": "python",
   "pygments_lexer": "ipython3",
   "version": "3.12.3"
  }
 },
 "nbformat": 4,
 "nbformat_minor": 2
}
