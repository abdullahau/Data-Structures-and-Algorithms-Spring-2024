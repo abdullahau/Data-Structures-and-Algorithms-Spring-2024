{
 "cells": [
  {
   "cell_type": "markdown",
   "metadata": {},
   "source": [
    "# Same depth"
   ]
  },
  {
   "cell_type": "markdown",
   "metadata": {},
   "source": [
    "Your task is to check if every leaf in a given tree has the same depth.\n",
    "\n",
    "In a file `samedepth.py`, implement a function `check` that reports if all leaves have the same depth."
   ]
  },
  {
   "cell_type": "code",
   "execution_count": null,
   "metadata": {},
   "outputs": [],
   "source": [
    "class Node:\n",
    "    def __init__(self, value, children=[]):\n",
    "        self.value = value\n",
    "        self.children = children\n",
    "\n",
    "def check(node):\n",
    "    # TODO\n",
    "\n",
    "if __name__ == \"__main__\":\n",
    "    tree1 = Node(1, [\n",
    "                Node(2),\n",
    "                Node(3, [Node(4, [Node(5), Node(6)])]),\n",
    "                Node(7, [Node(8), Node(9)])\n",
    "            ])\n",
    "\n",
    "    tree2 = Node(1, [Node(2, [Node(3)]), Node(4, [Node(5), Node(6)])])\n",
    "\n",
    "    print(check(tree1)) # False\n",
    "    print(check(tree2)) # True"
   ]
  },
  {
   "cell_type": "markdown",
   "metadata": {},
   "source": [
    "## Attempt 1"
   ]
  },
  {
   "cell_type": "code",
   "execution_count": 6,
   "metadata": {},
   "outputs": [
    {
     "name": "stdout",
     "output_type": "stream",
     "text": [
      "node 1 depth 0\n",
      "node 2 depth 1\n",
      "node 3 depth 1\n",
      "node 4 depth 2\n",
      "node 5 depth 3\n",
      "node 6 depth 3\n",
      "node 7 depth 1\n",
      "node 8 depth 2\n",
      "node 9 depth 2\n",
      " node = 1\n",
      "     node = 2\n",
      "     node = 3\n",
      "         node = 4\n",
      "             node = 5\n",
      "             node = 6\n",
      "     node = 7\n",
      "         node = 8\n",
      "         node = 9\n",
      "\n",
      "node 1 depth 0\n",
      "node 2 depth 1\n",
      "node 3 depth 2\n",
      "node 4 depth 1\n",
      "node 5 depth 2\n",
      "node 6 depth 2\n",
      " node = 1\n",
      "     node = 2\n",
      "         node = 3\n",
      "     node = 4\n",
      "         node = 5\n",
      "         node = 6\n"
     ]
    }
   ],
   "source": [
    "class Node:\n",
    "    def __init__(self, value, children=[]):\n",
    "        self.value = value\n",
    "        self.children = children\n",
    "\n",
    "    def __repr__(self):\n",
    "        return str(self.value)\n",
    "    \n",
    "\n",
    "def traverse(node, depth):\n",
    "    print(\"node\", node, \"depth\", depth)\n",
    "    for child in node.children:\n",
    "        traverse(child, depth + 1)\n",
    "        \n",
    "def list_tree(node, level=0):\n",
    "    print(\" \"*(level*4),\"node =\" ,node)\n",
    "    for subordinate in node.children:\n",
    "        list_tree(subordinate, level + 1)\n",
    "\n",
    "if __name__ == \"__main__\":\n",
    "    tree1 = Node(1, [\n",
    "                Node(2),\n",
    "                Node(3, [Node(4, [Node(5), Node(6)])]),\n",
    "                Node(7, [Node(8), Node(9)])\n",
    "            ])\n",
    "\n",
    "    tree2 = Node(1, [Node(2, [Node(3)]), Node(4, [Node(5), Node(6)])])\n",
    "    \n",
    "    traverse(tree1, 0)\n",
    "    list_tree(tree1)\n",
    "    print()\n",
    "    traverse(tree2, 0)\n",
    "    list_tree(tree2)\n",
    "    "
   ]
  },
  {
   "cell_type": "code",
   "execution_count": 8,
   "metadata": {},
   "outputs": [
    {
     "name": "stdout",
     "output_type": "stream",
     "text": [
      "[1, 3, 3, 2, 2]\n",
      "[2, 2, 2]\n"
     ]
    }
   ],
   "source": [
    "class Node:\n",
    "    def __init__(self, value, children=[]):\n",
    "        self.value = value\n",
    "        self.children = children\n",
    "\n",
    "def check(node):\n",
    "    leaf_depth_list = []\n",
    "    helper(node, 0, leaf_depth_list)\n",
    "    return leaf_depth_list\n",
    "\n",
    "def helper(node, depth, leaf_depth_list):\n",
    "    if len(node.children) == 0:\n",
    "        leaf_depth_list.append(depth)\n",
    "    else:\n",
    "        for child in node.children:\n",
    "            helper(child, depth + 1, leaf_depth_list)\n",
    "\n",
    "if __name__ == \"__main__\":\n",
    "    tree1 = Node(1, [\n",
    "                Node(2),\n",
    "                Node(3, [Node(4, [Node(5), Node(6)])]),\n",
    "                Node(7, [Node(8), Node(9)])\n",
    "            ])\n",
    "\n",
    "    tree2 = Node(1, [Node(2, [Node(3)]), Node(4, [Node(5), Node(6)])])\n",
    "\n",
    "    print(check(tree1)) # False\n",
    "    print(check(tree2)) # True"
   ]
  },
  {
   "cell_type": "code",
   "execution_count": 14,
   "metadata": {},
   "outputs": [
    {
     "name": "stdout",
     "output_type": "stream",
     "text": [
      "False\n",
      "True\n"
     ]
    }
   ],
   "source": [
    "class Node:\n",
    "    def __init__(self, value, children=[]):\n",
    "        self.value = value\n",
    "        self.children = children\n",
    "\n",
    "def check(node):\n",
    "    leaf_depth = set()\n",
    "    helper(node, 0, leaf_depth)\n",
    "    return len(leaf_depth) <= 1\n",
    "\n",
    "def helper(node, depth, leaf_depth):\n",
    "    if len(node.children) == 0:\n",
    "        leaf_depth.add(depth)\n",
    "    else:\n",
    "        for child in node.children:\n",
    "            helper(child, depth + 1, leaf_depth)\n",
    "\n",
    "if __name__ == \"__main__\":\n",
    "    tree1 = Node(1, [\n",
    "                Node(2),\n",
    "                Node(3, [Node(4, [Node(5), Node(6)])]),\n",
    "                Node(7, [Node(8), Node(9)])\n",
    "            ])\n",
    "\n",
    "    tree2 = Node(1, [Node(2, [Node(3)]), Node(4, [Node(5), Node(6)])])\n",
    "\n",
    "    print(check(tree1)) # False\n",
    "    print(check(tree2)) # True"
   ]
  },
  {
   "cell_type": "markdown",
   "metadata": {},
   "source": [
    "## Solution"
   ]
  },
  {
   "cell_type": "markdown",
   "metadata": {},
   "source": [
    "The helper function `check_depths` adds the depths of all leaves into the set `depths`. At the end, the function `check` checks is the set contains only one depth value."
   ]
  },
  {
   "cell_type": "code",
   "execution_count": null,
   "metadata": {},
   "outputs": [],
   "source": [
    "def check(node):\n",
    "    depths = set()\n",
    "    check_depths(node, 0, depths)\n",
    "    return len(depths) == 1\n",
    "\n",
    "def check_depths(node, depth, depths):\n",
    "    if node.children == []:\n",
    "        depths.add(depth)\n",
    "    for child in node.children:\n",
    "        check_depths(child, depth + 1, depths)"
   ]
  }
 ],
 "metadata": {
  "kernelspec": {
   "display_name": "Python 3",
   "language": "python",
   "name": "python3"
  },
  "language_info": {
   "codemirror_mode": {
    "name": "ipython",
    "version": 3
   },
   "file_extension": ".py",
   "mimetype": "text/x-python",
   "name": "python",
   "nbconvert_exporter": "python",
   "pygments_lexer": "ipython3",
   "version": "3.12.3"
  }
 },
 "nbformat": 4,
 "nbformat_minor": 2
}
