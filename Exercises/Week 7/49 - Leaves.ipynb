{
 "cells": [
  {
   "cell_type": "markdown",
   "metadata": {},
   "source": [
    "# Leaves"
   ]
  },
  {
   "cell_type": "markdown",
   "metadata": {},
   "source": [
    "Your task is to count the number of leaves in a given tree. A node is a leaf if it has no children.\n",
    "\n",
    "In a file `leaves.py`, implement a function `count` that returns the number of leaves."
   ]
  },
  {
   "cell_type": "code",
   "execution_count": null,
   "metadata": {},
   "outputs": [],
   "source": [
    "class Node:\n",
    "    def __init__(self, value, children=[]):\n",
    "        self.value = value\n",
    "        self.children = children\n",
    "\n",
    "def count(node):\n",
    "    # TODO\n",
    "\n",
    "if __name__ == \"__main__\":\n",
    "    tree = Node(1, [\n",
    "               Node(2),\n",
    "               Node(3, [Node(4, [Node(5), Node(6)])]),\n",
    "               Node(7, [Node(8), Node(9)])\n",
    "           ])\n",
    "\n",
    "    print(count(tree)) # 5"
   ]
  },
  {
   "cell_type": "markdown",
   "metadata": {},
   "source": [
    "## Attempt 1"
   ]
  },
  {
   "cell_type": "code",
   "execution_count": 10,
   "metadata": {},
   "outputs": [
    {
     "name": "stdout",
     "output_type": "stream",
     "text": [
      "5\n"
     ]
    }
   ],
   "source": [
    "class Node:\n",
    "    def __init__(self, value, children=[]):\n",
    "        self.value = value\n",
    "        self.children = children\n",
    "\n",
    "def count(node):\n",
    "    result = 0\n",
    "    if len(node.children) == 0:\n",
    "        return result + 1\n",
    "    for child in node.children:\n",
    "        result += count(child)\n",
    "    return result\n",
    "\n",
    "if __name__ == \"__main__\":\n",
    "    tree = Node(1, [\n",
    "               Node(2),\n",
    "               Node(3, [Node(4, [Node(5), Node(6)])]),\n",
    "               Node(7, [Node(8), Node(9)])\n",
    "           ])\n",
    "\n",
    "    print(count(tree)) # 5"
   ]
  },
  {
   "cell_type": "markdown",
   "metadata": {},
   "source": [
    "## Solution"
   ]
  },
  {
   "cell_type": "markdown",
   "metadata": {},
   "source": [
    "If a node has no children, the function returns 1. Otherwise, the leaf counts in the child subtrees are added together."
   ]
  },
  {
   "cell_type": "code",
   "execution_count": null,
   "metadata": {},
   "outputs": [],
   "source": [
    "def count(node):\n",
    "    if node.children == []:\n",
    "        return 1\n",
    "    else:\n",
    "        result = 0\n",
    "        for child in node.children:\n",
    "            result += count(child)\n",
    "        return result"
   ]
  }
 ],
 "metadata": {
  "kernelspec": {
   "display_name": "Python 3",
   "language": "python",
   "name": "python3"
  },
  "language_info": {
   "codemirror_mode": {
    "name": "ipython",
    "version": 3
   },
   "file_extension": ".py",
   "mimetype": "text/x-python",
   "name": "python",
   "nbconvert_exporter": "python",
   "pygments_lexer": "ipython3",
   "version": "3.12.3"
  }
 },
 "nbformat": 4,
 "nbformat_minor": 2
}
