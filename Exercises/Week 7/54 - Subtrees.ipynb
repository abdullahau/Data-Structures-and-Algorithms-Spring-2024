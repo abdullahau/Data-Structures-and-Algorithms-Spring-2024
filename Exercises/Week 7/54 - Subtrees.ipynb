{
 "cells": [
  {
   "cell_type": "markdown",
   "metadata": {},
   "source": [
    "# Subtrees"
   ]
  },
  {
   "cell_type": "markdown",
   "metadata": {},
   "source": [
    "Your task is to count the nodes that have the same number of nodes in each child subtree.\n",
    "\n",
    "In a file `subtrees.py`, implement a function `count` that returns the desired count."
   ]
  },
  {
   "cell_type": "code",
   "execution_count": null,
   "metadata": {},
   "outputs": [],
   "source": [
    "class Node:\n",
    "    def __init__(self, value, children=[]):\n",
    "        self.value = value\n",
    "        self.children = children\n",
    "\n",
    "def count(node):\n",
    "    # TODO\n",
    "\n",
    "if __name__ == \"__main__\":\n",
    "    tree = Node(1, [\n",
    "               Node(2),\n",
    "               Node(3, [Node(4, [Node(5), Node(6)])]),\n",
    "               Node(7, [Node(8), Node(9)])\n",
    "           ])\n",
    "\n",
    "    print(count(tree)) # 8"
   ]
  },
  {
   "cell_type": "markdown",
   "metadata": {},
   "source": [
    "## Attempt 1"
   ]
  },
  {
   "cell_type": "code",
   "execution_count": null,
   "metadata": {},
   "outputs": [],
   "source": []
  }
 ],
 "metadata": {
  "language_info": {
   "name": "python"
  }
 },
 "nbformat": 4,
 "nbformat_minor": 2
}
