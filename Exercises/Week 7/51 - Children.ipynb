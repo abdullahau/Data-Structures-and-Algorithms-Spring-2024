{
 "cells": [
  {
   "cell_type": "markdown",
   "metadata": {},
   "source": [
    "# Children"
   ]
  },
  {
   "cell_type": "markdown",
   "metadata": {},
   "source": [
    "Your task is to find out what is the maximum number children of any node in a given tree.\n",
    "\n",
    "In a file `maxchild.py`, implement a function `count` that returns the maximum child count."
   ]
  },
  {
   "cell_type": "code",
   "execution_count": null,
   "metadata": {},
   "outputs": [],
   "source": [
    "class Node:\n",
    "    def __init__(self, value, children=[]):\n",
    "        self.value = value\n",
    "        self.children = children\n",
    "\n",
    "def count(node):\n",
    "    # TODO\n",
    "\n",
    "if __name__ == \"__main__\":\n",
    "    tree1 = Node(1, [\n",
    "                Node(2),\n",
    "                Node(3, [Node(4, [Node(5), Node(6)])]),\n",
    "                Node(7, [Node(8), Node(9)])\n",
    "            ])\n",
    "\n",
    "    tree2 = Node(1, [Node(2, [Node(3), Node(4)])])\n",
    "\n",
    "    print(count(tree1)) # 3\n",
    "    print(count(tree2)) # 2"
   ]
  },
  {
   "cell_type": "markdown",
   "metadata": {},
   "source": [
    "## Attempt 1"
   ]
  },
  {
   "cell_type": "code",
   "execution_count": 7,
   "metadata": {},
   "outputs": [
    {
     "name": "stdout",
     "output_type": "stream",
     "text": [
      "3\n",
      "2\n"
     ]
    }
   ],
   "source": [
    "class Node:\n",
    "    def __init__(self, value, children=[]):\n",
    "        self.value = value\n",
    "        self.children = children\n",
    "\n",
    "def count(node):\n",
    "    result = len(node.children)\n",
    "    for child in node.children:\n",
    "        result = max(result, count(child))\n",
    "    return result\n",
    "\n",
    "if __name__ == \"__main__\":\n",
    "    tree1 = Node(1, [\n",
    "                Node(2),\n",
    "                Node(3, [Node(4, [Node(5), Node(6)])]),\n",
    "                Node(7, [Node(8), Node(9)])\n",
    "            ])\n",
    "\n",
    "    tree2 = Node(1, [Node(2, [Node(3), Node(4)])])\n",
    "\n",
    "    print(count(tree1)) # 3\n",
    "    print(count(tree2)) # 2"
   ]
  },
  {
   "cell_type": "markdown",
   "metadata": {},
   "source": [
    "## Solution"
   ]
  },
  {
   "cell_type": "markdown",
   "metadata": {},
   "source": [
    "The function takes the maximum of the child count in the current node and the maximal child counts in the child subtrees."
   ]
  },
  {
   "cell_type": "code",
   "execution_count": null,
   "metadata": {},
   "outputs": [],
   "source": [
    "def count(node):\n",
    "    result = len(node.children)\n",
    "    for child in node.children:\n",
    "        result = max(result, count(child))\n",
    "    return result"
   ]
  }
 ],
 "metadata": {
  "kernelspec": {
   "display_name": "Python 3",
   "language": "python",
   "name": "python3"
  },
  "language_info": {
   "codemirror_mode": {
    "name": "ipython",
    "version": 3
   },
   "file_extension": ".py",
   "mimetype": "text/x-python",
   "name": "python",
   "nbconvert_exporter": "python",
   "pygments_lexer": "ipython3",
   "version": "3.12.3"
  }
 },
 "nbformat": 4,
 "nbformat_minor": 2
}
