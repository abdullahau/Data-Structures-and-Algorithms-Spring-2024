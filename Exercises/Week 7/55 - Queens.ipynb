{
 "cells": [
  {
   "cell_type": "markdown",
   "metadata": {},
   "source": [
    "# Queens"
   ]
  },
  {
   "cell_type": "markdown",
   "metadata": {},
   "source": [
    "Your task is to count how many ways can you place $k$ queens on an $n \\times n$ chess board so that no two queens attack each other?\n",
    "\n",
    "You may assume that $1 \\le n \\le 8$ and that $1 \\le k \\le 3$. Your solution should be efficient in all of these cases.\n",
    "\n",
    "In a file `queens.py`, implement a function `count` that returns the desired count."
   ]
  },
  {
   "cell_type": "code",
   "execution_count": null,
   "metadata": {},
   "outputs": [],
   "source": [
    "def count(n, k):\n",
    "    # TODO\n",
    "\n",
    "if __name__ == \"__main__\":\n",
    "    print(count(2, 1)) # 4\n",
    "    print(count(2, 2)) # 0\n",
    "    print(count(5, 3)) # 204\n",
    "    print(count(7, 1)) # 49\n",
    "    print(count(7, 2)) # 700\n",
    "    print(count(7, 3)) # 3628"
   ]
  },
  {
   "cell_type": "markdown",
   "metadata": {},
   "source": [
    "## Attempt 1"
   ]
  },
  {
   "cell_type": "code",
   "execution_count": 1,
   "metadata": {},
   "outputs": [
    {
     "name": "stdout",
     "output_type": "stream",
     "text": [
      "4\n",
      "0\n",
      "204\n",
      "49\n",
      "700\n",
      "3628\n"
     ]
    }
   ],
   "source": [
    "from itertools import combinations\n",
    "from math import comb\n",
    "\n",
    "def count(n, k):\n",
    "    possibility = comb(n**2, k)\n",
    "    coords = [(row, col) for row in range(n) for col in range(n)]\n",
    "    combs = combinations(coords, k)\n",
    "    return possibility - check_combs(combs)\n",
    "\n",
    "def check_combs(combs):\n",
    "    failed = 0\n",
    "    for i in combs:\n",
    "        fail = 0\n",
    "        for queen1 in range(len(i)-1):\n",
    "            for queen2 in range(queen1+1, len(i)):\n",
    "                fail += attack(i[queen1], i[queen2])\n",
    "        if fail > 0: failed += 1\n",
    "    return failed\n",
    "\n",
    "def attack(queen1, queen2):\n",
    "    if queen1[0] == queen2[0] or queen1[1] == queen2[1]:\n",
    "        return 1\n",
    "    if abs(queen1[0] - queen2[0]) == abs(queen1[1] - queen2[1]):\n",
    "        return 1\n",
    "    return 0\n",
    "\n",
    "if __name__ == \"__main__\":\n",
    "    print(count(2, 1)) # 4\n",
    "    print(count(2, 2)) # 0\n",
    "    print(count(5, 3)) # 204\n",
    "    print(count(7, 1)) # 49\n",
    "    print(count(7, 2)) # 700\n",
    "    print(count(7, 3)) # 3628"
   ]
  },
  {
   "cell_type": "markdown",
   "metadata": {},
   "source": [
    "## Solution"
   ]
  },
  {
   "cell_type": "markdown",
   "metadata": {},
   "source": [
    "The solution below is a modified version of the algorithm on the lecture material with two differences. First, we keep track of the number queens that still needs to be placed in the parameter `left`, and second, now all squares of the board are considered as possible placements for each queen. The latter change means that the same solution is counted $k!$ times with different order of placing the queens. Thus the final count is divided by $k!$."
   ]
  },
  {
   "cell_type": "code",
   "execution_count": null,
   "metadata": {},
   "outputs": [],
   "source": [
    "import math\n",
    "\n",
    "def count(n, k):\n",
    "    return count_helper(n, [], k) // math.factorial(k)\n",
    "\n",
    "def count_helper(n, queens, left):\n",
    "    if left == 0:\n",
    "        return 1\n",
    "\n",
    "    result = 0\n",
    "    for row in range(n):\n",
    "        for col in range(n):\n",
    "            attacks = [attack(queen, (row, col)) for queen in queens]\n",
    "            if not any(attacks):\n",
    "                result += count_helper(n, queens + [(row, col)], left - 1)\n",
    "\n",
    "    return result\n",
    "\n",
    "def attack(queen1, queen2):\n",
    "    if queen1[0] == queen2[0] or queen1[1] == queen2[1]:\n",
    "        return True\n",
    "    if abs(queen1[0] - queen2[0]) == abs(queen1[1] - queen2[1]):\n",
    "        return True\n",
    "    return False"
   ]
  }
 ],
 "metadata": {
  "kernelspec": {
   "display_name": "Python 3",
   "language": "python",
   "name": "python3"
  },
  "language_info": {
   "codemirror_mode": {
    "name": "ipython",
    "version": 3
   },
   "file_extension": ".py",
   "mimetype": "text/x-python",
   "name": "python",
   "nbconvert_exporter": "python",
   "pygments_lexer": "ipython3",
   "version": "3.12.3"
  }
 },
 "nbformat": 4,
 "nbformat_minor": 2
}
