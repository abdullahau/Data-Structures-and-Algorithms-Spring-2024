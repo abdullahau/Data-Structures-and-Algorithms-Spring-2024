{
 "cells": [
  {
   "cell_type": "markdown",
   "metadata": {},
   "source": [
    "# No branch"
   ]
  },
  {
   "cell_type": "markdown",
   "metadata": {},
   "source": [
    "Your task is to find out if a given tree is branchless, i.e., if every node has at most one child.\n",
    "\n",
    "In a file `nobranch.py`, implement a function `check` that reports whether the tree is branchless or not."
   ]
  },
  {
   "cell_type": "code",
   "execution_count": null,
   "metadata": {},
   "outputs": [],
   "source": [
    "class Node:\n",
    "    def __init__(self, value, children=[]):\n",
    "        self.value = value\n",
    "        self.children = children\n",
    "\n",
    "def check(node):\n",
    "    # TODO\n",
    "\n",
    "if __name__ == \"__main__\":\n",
    "    tree1 = Node(1, [\n",
    "                Node(2),\n",
    "                Node(3, [Node(4, [Node(5), Node(6)])]),\n",
    "                Node(7, [Node(8), Node(9)])\n",
    "            ])\n",
    "\n",
    "    tree2 = Node(1, [Node(2, [Node(3, [Node(4)])])])\n",
    "\n",
    "    print(check(tree1)) # False\n",
    "    print(check(tree2)) # True"
   ]
  },
  {
   "cell_type": "markdown",
   "metadata": {},
   "source": [
    "## Attempt 1"
   ]
  },
  {
   "cell_type": "code",
   "execution_count": 23,
   "metadata": {},
   "outputs": [
    {
     "name": "stdout",
     "output_type": "stream",
     "text": [
      "False\n",
      "True\n",
      "True\n",
      "True\n",
      "False\n"
     ]
    }
   ],
   "source": [
    "class Node:\n",
    "    def __init__(self, value, children=None):\n",
    "        self.value = value\n",
    "        self.children = children if children else []\n",
    "\n",
    "def check(node):\n",
    "    result = []\n",
    "    check_helper(node, (len(node.children) <= 1), result)\n",
    "    return all(result)\n",
    "\n",
    "def check_helper(node, length, result):\n",
    "    result.append(length)\n",
    "    for child in node.children:\n",
    "        check_helper(child, (len(child.children) <= 1), result)\n",
    "\n",
    "if __name__ == \"__main__\":\n",
    "    tree1 = Node(1, [\n",
    "                Node(2),\n",
    "                Node(3, [Node(4, [Node(5), Node(6)])]),\n",
    "                Node(7, [Node(8), Node(9)])\n",
    "            ])\n",
    "\n",
    "    tree2 = Node(1, [Node(2, [Node(3, [Node(4)])])])\n",
    "    \n",
    "    tree3 = Node(3, [Node(2, [Node(1)])])\n",
    "    \n",
    "    tree4 = Node(1)\n",
    "    \n",
    "    tree5 = Node(4, [Node(3, [Node(1), Node(2)])])\n",
    "\n",
    "    print(check(tree1)) # False\n",
    "    print(check(tree2)) # True\n",
    "    print(check(tree3)) # True\n",
    "    print(check(tree4)) # True\n",
    "    print(check(tree5)) # False"
   ]
  },
  {
   "cell_type": "markdown",
   "metadata": {},
   "source": [
    "## Solution"
   ]
  },
  {
   "cell_type": "markdown",
   "metadata": {},
   "source": [
    "The function distinguishes between three cases:\n",
    "\n",
    "-   If the node has no children, the subtree is branchless.\n",
    "-   If the node has more than one child, the subtree is not branchless\n",
    "-   If the node has exactly one child, the subtree is branchless if the child subtree is branchless."
   ]
  },
  {
   "cell_type": "code",
   "execution_count": 24,
   "metadata": {},
   "outputs": [
    {
     "name": "stdout",
     "output_type": "stream",
     "text": [
      "False\n",
      "True\n",
      "True\n",
      "True\n",
      "False\n"
     ]
    }
   ],
   "source": [
    "class Node:\n",
    "    def __init__(self, value, children=None):\n",
    "        self.value = value\n",
    "        self.children = children if children else []\n",
    "\n",
    "def check(node):\n",
    "    if node.children == []:\n",
    "        return True\n",
    "    if len(node.children) > 1:\n",
    "        return False\n",
    "    return check(node.children[0])\n",
    "\n",
    "if __name__ == \"__main__\":\n",
    "    tree1 = Node(1, [\n",
    "                Node(2),\n",
    "                Node(3, [Node(4, [Node(5), Node(6)])]),\n",
    "                Node(7, [Node(8), Node(9)])\n",
    "            ])\n",
    "\n",
    "    tree2 = Node(1, [Node(2, [Node(3, [Node(4)])])])\n",
    "    \n",
    "    tree3 = Node(3, [Node(2, [Node(1)])])\n",
    "    \n",
    "    tree4 = Node(1)\n",
    "    \n",
    "    tree5 = Node(4, [Node(3, [Node(1), Node(2)])])\n",
    "\n",
    "    print(check(tree1)) # False\n",
    "    print(check(tree2)) # True\n",
    "    print(check(tree3)) # True\n",
    "    print(check(tree4)) # True\n",
    "    print(check(tree5)) # False"
   ]
  }
 ],
 "metadata": {
  "kernelspec": {
   "display_name": "Python 3",
   "language": "python",
   "name": "python3"
  },
  "language_info": {
   "codemirror_mode": {
    "name": "ipython",
    "version": 3
   },
   "file_extension": ".py",
   "mimetype": "text/x-python",
   "name": "python",
   "nbconvert_exporter": "python",
   "pygments_lexer": "ipython3",
   "version": "3.12.3"
  }
 },
 "nbformat": 4,
 "nbformat_minor": 2
}
