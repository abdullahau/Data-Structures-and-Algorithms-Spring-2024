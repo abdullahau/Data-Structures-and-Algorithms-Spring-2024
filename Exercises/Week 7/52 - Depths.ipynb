{
 "cells": [
  {
   "cell_type": "markdown",
   "metadata": {},
   "source": [
    "# Depths"
   ]
  },
  {
   "cell_type": "markdown",
   "metadata": {},
   "source": [
    "Your task is to compute the sum of the depths of all nodes in a given tree.\n",
    "\n",
    "In a file `depths.py`, implement a function `count` that returns the sum of depths."
   ]
  },
  {
   "cell_type": "code",
   "execution_count": null,
   "metadata": {},
   "outputs": [],
   "source": [
    "class Node:\n",
    "    def __init__(self, value, children=[]):\n",
    "        self.value = value\n",
    "        self.children = children\n",
    "\n",
    "def count(node):\n",
    "    # TODO\n",
    "\n",
    "if __name__ == \"__main__\":\n",
    "    tree = Node(1, [\n",
    "               Node(2),\n",
    "               Node(3, [Node(4, [Node(5), Node(6)])]),\n",
    "               Node(7, [Node(8), Node(9)])\n",
    "           ])\n",
    "\n",
    "    print(count(tree)) # 15"
   ]
  },
  {
   "cell_type": "markdown",
   "metadata": {},
   "source": [
    "## Attempt 1"
   ]
  },
  {
   "cell_type": "markdown",
   "metadata": {},
   "source": [
    "```bash\n",
    "Node 1 -> 0\n",
    "Node 2 -> 1\n",
    "Node 3 -> 1\n",
    "    Node 4 -> 2\n",
    "        Node 5 -> 3\n",
    "        Node 6 -> 3\n",
    "Node 7 -> 1\n",
    "    Node 8 -> 2\n",
    "    Node 9 -> 2\n",
    "Total = 1 + 1 + 2 + 3 + 3 + 1 + 2 + 2 = 15\n",
    "```"
   ]
  },
  {
   "cell_type": "code",
   "execution_count": 33,
   "metadata": {},
   "outputs": [
    {
     "name": "stdout",
     "output_type": "stream",
     "text": [
      "0\n",
      "1\n",
      "1\n",
      "2\n",
      "3\n",
      "3\n",
      "1\n",
      "2\n",
      "2\n",
      "None\n"
     ]
    }
   ],
   "source": [
    "class Node:\n",
    "    def __init__(self, value, children=[]):\n",
    "        self.value = value\n",
    "        self.children = children\n",
    "\n",
    "def count(node):\n",
    "    return helper(node, 0, 0)\n",
    "\n",
    "def helper(node, depth, depths):\n",
    "    depths += depth\n",
    "    print(depth)\n",
    "    for child in node.children:\n",
    "        helper(child, depth + 1, depths)\n",
    "\n",
    "if __name__ == \"__main__\":\n",
    "    tree = Node(1, [\n",
    "               Node(2),\n",
    "               Node(3, [Node(4, [Node(5), Node(6)])]),\n",
    "               Node(7, [Node(8), Node(9)])\n",
    "           ])\n",
    "\n",
    "    print(count(tree)) # 15"
   ]
  },
  {
   "cell_type": "code",
   "execution_count": 42,
   "metadata": {},
   "outputs": [
    {
     "name": "stdout",
     "output_type": "stream",
     "text": [
      "15\n"
     ]
    }
   ],
   "source": [
    "class Node:\n",
    "    def __init__(self, value, children=[]):\n",
    "        self.value = value\n",
    "        self.children = children\n",
    "\n",
    "def count(node):\n",
    "    depths = []\n",
    "    helper(node, 0, depths)\n",
    "    return sum(depths)\n",
    "\n",
    "def helper(node, depth, depths):\n",
    "    depths.append(depth)\n",
    "    for child in node.children:\n",
    "        helper(child, depth + 1, depths)\n",
    "\n",
    "if __name__ == \"__main__\":\n",
    "    tree = Node(1, [\n",
    "               Node(2),\n",
    "               Node(3, [Node(4, [Node(5), Node(6)])]),\n",
    "               Node(7, [Node(8), Node(9)])\n",
    "           ])\n",
    "\n",
    "    print(count(tree)) # 15"
   ]
  },
  {
   "cell_type": "markdown",
   "metadata": {},
   "source": [
    "## Solution"
   ]
  },
  {
   "cell_type": "markdown",
   "metadata": {},
   "source": [
    "The helper function `count_depths` keeps track of the depth of the current node in the parameter `depth`. Then the result is obtained by summing up the child subtree sums and the current node depth."
   ]
  },
  {
   "cell_type": "code",
   "execution_count": 50,
   "metadata": {},
   "outputs": [
    {
     "name": "stdout",
     "output_type": "stream",
     "text": [
      "15\n"
     ]
    }
   ],
   "source": [
    "class Node:\n",
    "    def __init__(self, value, children=[]):\n",
    "        self.value = value\n",
    "        self.children = children\n",
    "\n",
    "def count(node):\n",
    "    return count_depths(node, 0)\n",
    "\n",
    "def count_depths(node, depth):\n",
    "    result = 0\n",
    "    for child in node.children:\n",
    "        result += count_depths(child, depth + 1)\n",
    "    return result + depth\n",
    "\n",
    "if __name__ == \"__main__\":\n",
    "    tree = Node(1, [\n",
    "               Node(2),\n",
    "               Node(3, [Node(4, [Node(5), Node(6)])]),\n",
    "               Node(7, [Node(8), Node(9)])\n",
    "           ])\n",
    "\n",
    "    print(count(tree)) # 15"
   ]
  }
 ],
 "metadata": {
  "kernelspec": {
   "display_name": "Python 3",
   "language": "python",
   "name": "python3"
  },
  "language_info": {
   "codemirror_mode": {
    "name": "ipython",
    "version": 3
   },
   "file_extension": ".py",
   "mimetype": "text/x-python",
   "name": "python",
   "nbconvert_exporter": "python",
   "pygments_lexer": "ipython3",
   "version": "3.12.3"
  }
 },
 "nbformat": 4,
 "nbformat_minor": 2
}
