{
 "cells": [
  {
   "cell_type": "markdown",
   "metadata": {},
   "source": [
    "# All Trees"
   ]
  },
  {
   "attachments": {
    "image.png": {
     "image/png": "[encoded data removed]"
    }
   },
   "cell_type": "markdown",
   "metadata": {},
   "source": [
    "Count how many trees have $n$ nodes and $k$ leaves.\n",
    "\n",
    "For example, when $n=4$ and $k=2$, the trees are:\n",
    "\n",
    "![image.png](attachment:image.png)\n",
    "\n",
    "Two trees are similar if the roots have the same number of children and each subtree is similar when we go through the children from left to right.\n",
    "\n",
    "You may assume that $1 \\le n \\le 10$. Your solution should be efficient in all of these cases.\n",
    "\n",
    "In a file `alltree.py`, implement a function `count` that returns the desired count."
   ]
  },
  {
   "cell_type": "code",
   "execution_count": null,
   "metadata": {},
   "outputs": [],
   "source": [
    "def count(n, k):\n",
    "    # TODO\n",
    "\n",
    "if __name__ == \"__main__\":\n",
    "    print(count(4, 1)) # 1\n",
    "    print(count(4, 2)) # 3\n",
    "    print(count(4, 3)) # 1\n",
    "    print(count(4, 4)) # 0\n",
    "    print(count(10, 4)) # 1176"
   ]
  },
  {
   "cell_type": "markdown",
   "metadata": {},
   "source": [
    "## Attempt 1"
   ]
  },
  {
   "cell_type": "code",
   "execution_count": null,
   "metadata": {},
   "outputs": [],
   "source": [
    "def count(n, k):\n",
    "    # TODO\n",
    "\n",
    "if __name__ == \"__main__\":\n",
    "    print(count(4, 1)) # 1\n",
    "    print(count(4, 2)) # 3\n",
    "    print(count(4, 3)) # 1\n",
    "    print(count(4, 4)) # 0\n",
    "    print(count(10, 4)) # 1176"
   ]
  }
 ],
 "metadata": {
  "kernelspec": {
   "display_name": "Python 3",
   "language": "python",
   "name": "python3"
  },
  "language_info": {
   "codemirror_mode": {
    "name": "ipython",
    "version": 3
   },
   "file_extension": ".py",
   "mimetype": "text/x-python",
   "name": "python",
   "nbconvert_exporter": "python",
   "pygments_lexer": "ipython3",
   "version": "3.12.3"
  }
 },
 "nbformat": 4,
 "nbformat_minor": 2
}
