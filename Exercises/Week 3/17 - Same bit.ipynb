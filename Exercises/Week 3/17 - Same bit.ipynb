{
 "cells": [
  {
   "cell_type": "markdown",
   "metadata": {},
   "source": [
    "# Same bit"
   ]
  },
  {
   "cell_type": "markdown",
   "metadata": {},
   "source": [
    "You are given a bit string that consists of the characters 0 and 1. How many ways can you choose two positions in the bit string so that each position has the same bit?\n",
    "\n",
    "The time complexity of the algorithm should be $O(n)$.\n",
    "\n",
    "In a file `samebit.py`, implement a function `count` that returns the desired count."
   ]
  },
  {
   "cell_type": "code",
   "execution_count": null,
   "metadata": {},
   "outputs": [],
   "source": [
    "def count(s):\n",
    "    # TODO\n",
    "\n",
    "if __name__ == \"__main__\":\n",
    "    print(count(\"0101\")) # 2\n",
    "    print(count(\"000000\")) # 15\n",
    "    print(count(\"000111\")) # 6\n",
    "    print(count(\"00100001101100\")) # 46"
   ]
  },
  {
   "cell_type": "markdown",
   "metadata": {},
   "source": [
    "### Brute Force Attempt"
   ]
  },
  {
   "cell_type": "code",
   "execution_count": 14,
   "metadata": {},
   "outputs": [
    {
     "name": "stdout",
     "output_type": "stream",
     "text": [
      "2\n",
      "15\n",
      "6\n",
      "46\n"
     ]
    }
   ],
   "source": [
    "def count(s):\n",
    "    counter = 0\n",
    "    n = len(s)\n",
    "    for i in range(n-1):\n",
    "        for j in range(i+1, n):\n",
    "            if s[i] == s[j]:\n",
    "                counter += 1\n",
    "    return counter\n",
    "\n",
    "if __name__ == \"__main__\":\n",
    "    print(count(\"0101\")) # 2\n",
    "    print(count(\"000000\")) # 15\n",
    "    print(count(\"000111\")) # 6\n",
    "    print(count(\"00100001101100\")) # 46"
   ]
  },
  {
   "cell_type": "markdown",
   "metadata": {},
   "source": [
    "### Attempt 1"
   ]
  },
  {
   "cell_type": "code",
   "execution_count": 15,
   "metadata": {},
   "outputs": [
    {
     "name": "stdout",
     "output_type": "stream",
     "text": [
      "2\n",
      "15\n",
      "6\n",
      "46\n"
     ]
    }
   ],
   "source": [
    "def count(s):\n",
    "    bit_map = {'0': 0, '1': 0}\n",
    "    for bit in s:\n",
    "        bit_map[bit] += 1\n",
    "    \n",
    "    # Triangular Progression - https://en.wikipedia.org/wiki/Triangular_number\n",
    "    zeros = (bit_map['0'] - 1) * (bit_map['0']) // 2\n",
    "    ones = (bit_map['1'] - 1) * (bit_map['1']) // 2\n",
    "    return zeros + ones \n",
    "\n",
    "if __name__ == \"__main__\":\n",
    "    print(count(\"0101\")) # 2\n",
    "    print(count(\"000000\")) # 15\n",
    "    print(count(\"000111\")) # 6\n",
    "    print(count(\"00100001101100\")) # 46"
   ]
  },
  {
   "cell_type": "code",
   "execution_count": 17,
   "metadata": {},
   "outputs": [
    {
     "name": "stdout",
     "output_type": "stream",
     "text": [
      "2\n",
      "15\n",
      "6\n",
      "46\n"
     ]
    }
   ],
   "source": [
    "def count(s):\n",
    "    zeros = 0\n",
    "    ones = 0\n",
    "    for bit in s:\n",
    "        if bit == '0':\n",
    "            zeros += 1\n",
    "        else:\n",
    "            ones += 1\n",
    "    \n",
    "    # Triangular Progression - https://en.wikipedia.org/wiki/Triangular_number\n",
    "    zeros = (zeros - 1) * zeros // 2\n",
    "    ones = (ones - 1) * ones // 2\n",
    "    return zeros + ones \n",
    "\n",
    "if __name__ == \"__main__\":\n",
    "    print(count(\"0101\")) # 2\n",
    "    print(count(\"000000\")) # 15\n",
    "    print(count(\"000111\")) # 6\n",
    "    print(count(\"00100001101100\")) # 46"
   ]
  },
  {
   "cell_type": "markdown",
   "metadata": {},
   "source": [
    "### Solution"
   ]
  },
  {
   "cell_type": "markdown",
   "metadata": {},
   "source": [
    "The idea of the following solution is to go through the bit string, and at each position, count how many times that position is the right position of a desired pair. This can be done efficiently by maintaining the count of zero and one bits seen so far."
   ]
  },
  {
   "cell_type": "code",
   "execution_count": 18,
   "metadata": {},
   "outputs": [
    {
     "name": "stdout",
     "output_type": "stream",
     "text": [
      "2\n",
      "15\n",
      "6\n",
      "46\n"
     ]
    }
   ],
   "source": [
    "def count(s):\n",
    "    zeros = 0\n",
    "    ones = 0\n",
    "    result = 0\n",
    "    for bit in s:\n",
    "        if bit == '0':\n",
    "            result += zeros\n",
    "            zeros += 1\n",
    "        if bit == '1':\n",
    "            result += ones\n",
    "            ones += 1\n",
    "    return result\n",
    "\n",
    "if __name__ == \"__main__\":\n",
    "    print(count(\"0101\")) # 2\n",
    "    print(count(\"000000\")) # 15\n",
    "    print(count(\"000111\")) # 6\n",
    "    print(count(\"00100001101100\")) # 46"
   ]
  },
  {
   "cell_type": "markdown",
   "metadata": {},
   "source": [
    "The following shorter solution is based on the observation that the result does not depend on the location of zeros and ones but only their total counts. When a given bit occurs $k$ times, there is $k(k-1)/2$ ways of choosing two such bits."
   ]
  },
  {
   "cell_type": "code",
   "execution_count": null,
   "metadata": {},
   "outputs": [],
   "source": [
    "def count(s):\n",
    "    zeros = s.count(\"0\")\n",
    "    ones = s.count(\"1\")\n",
    "    return zeros*(zeros-1)//2 + ones*(ones-1)//2\n",
    "\n",
    "if __name__ == \"__main__\":\n",
    "    print(count(\"0101\")) # 2\n",
    "    print(count(\"000000\")) # 15\n",
    "    print(count(\"000111\")) # 6\n",
    "    print(count(\"00100001101100\")) # 46"
   ]
  }
 ],
 "metadata": {
  "kernelspec": {
   "display_name": "Python 3",
   "language": "python",
   "name": "python3"
  },
  "language_info": {
   "codemirror_mode": {
    "name": "ipython",
    "version": 3
   },
   "file_extension": ".py",
   "mimetype": "text/x-python",
   "name": "python",
   "nbconvert_exporter": "python",
   "pygments_lexer": "ipython3",
   "version": "3.12.3"
  }
 },
 "nbformat": 4,
 "nbformat_minor": 2
}
