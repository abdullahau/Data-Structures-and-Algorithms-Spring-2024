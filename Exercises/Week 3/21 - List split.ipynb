{
 "cells": [
  {
   "cell_type": "markdown",
   "metadata": {},
   "source": [
    "# List split"
   ]
  },
  {
   "cell_type": "markdown",
   "metadata": {},
   "source": [
    "You are given a list containing $n$ integers. Your task is to count, how many ways you can split the list into two parts so that both parts have the same smallest element.\n",
    "\n",
    "The time complexity of the algorithm should be $O(n)$.\n",
    "\n",
    "In a file `listsplit.py`, implement a function `count` that returns the desired count."
   ]
  },
  {
   "cell_type": "code",
   "execution_count": null,
   "metadata": {},
   "outputs": [],
   "source": [
    "def count(t):\n",
    "    # TODO\n",
    "\n",
    "if __name__ == \"__main__\":\n",
    "    print(count([2,1,1,3])) # 1\n",
    "    print(count([1,1,1,1])) # 3\n",
    "    print(count([1,2,3,1,2,3])) # 3\n",
    "    print(count([1,2,3,4,3,2,1])) # 6\n",
    "    print(count([4,3,2,1,2,3,4])) # 0"
   ]
  },
  {
   "cell_type": "markdown",
   "metadata": {},
   "source": [
    "### Attempt 1"
   ]
  },
  {
   "cell_type": "code",
   "execution_count": 10,
   "metadata": {},
   "outputs": [
    {
     "name": "stdout",
     "output_type": "stream",
     "text": [
      "1\n",
      "3\n",
      "3\n",
      "6\n",
      "0\n"
     ]
    }
   ],
   "source": [
    "def count(t):\n",
    "    l = min(t)\n",
    "    l_index = []\n",
    "    n = len(t)\n",
    "    for i in range(n):\n",
    "        if t[i] == l:\n",
    "            l_index.append(i)\n",
    "    n = len(l_index)\n",
    "    if n == 0:\n",
    "        return 0\n",
    "    counter = 0\n",
    "    for i in range(n-1, 0, -1):\n",
    "        diff = l_index[i] - l_index[i-1]\n",
    "        counter += diff\n",
    "    return counter\n",
    "\n",
    "if __name__ == \"__main__\":\n",
    "    print(count([2,1,1,3])) # 1\n",
    "    print(count([1,1,1,1])) # 3\n",
    "    print(count([1,2,3,1,2,3])) # 3\n",
    "    print(count([1,2,3,4,3,2,1])) # 6\n",
    "    print(count([4,3,2,1,2,3,4])) # 0"
   ]
  },
  {
   "cell_type": "code",
   "execution_count": 32,
   "metadata": {},
   "outputs": [
    {
     "name": "stdout",
     "output_type": "stream",
     "text": [
      "1\n",
      "3\n",
      "3\n",
      "6\n",
      "0\n"
     ]
    }
   ],
   "source": [
    "def count(t):\n",
    "    l = t[0]\n",
    "    a = []\n",
    "    for i, v in enumerate(t):\n",
    "        if v < l:\n",
    "            l = v\n",
    "            a = [i]\n",
    "        elif v == l:\n",
    "            a.append(i)\n",
    "    n = len(a)\n",
    "    counter = 0\n",
    "    for i in range(n-1, 0, -1):\n",
    "        counter += a[i] - a[i-1]\n",
    "    return counter\n",
    "\n",
    "if __name__ == \"__main__\":\n",
    "    print(count([2,1,1,3])) # 1\n",
    "    print(count([1,1,1,1])) # 3\n",
    "    print(count([1,2,3,1,2,3])) # 3\n",
    "    print(count([1,2,3,4,3,2,1])) # 6\n",
    "    print(count([4,3,2,1,2,3,4])) # 0"
   ]
  },
  {
   "cell_type": "markdown",
   "metadata": {},
   "source": [
    "### Attempt 2"
   ]
  },
  {
   "cell_type": "code",
   "execution_count": 33,
   "metadata": {},
   "outputs": [
    {
     "name": "stdout",
     "output_type": "stream",
     "text": [
      "1\n",
      "3\n",
      "3\n",
      "6\n",
      "0\n"
     ]
    }
   ],
   "source": [
    "def count(t):\n",
    "    l = t[0]\n",
    "    a = []\n",
    "    for i, v in enumerate(t):\n",
    "        if v < l:\n",
    "            l = v\n",
    "            a = [i]\n",
    "        elif v == l:\n",
    "            a.append(i)\n",
    "    result = a[-1] - a[0] \n",
    "    return result\n",
    "\n",
    "if __name__ == \"__main__\":\n",
    "    print(count([2,1,1,3])) # 1\n",
    "    print(count([1,1,1,1])) # 3\n",
    "    print(count([1,2,3,1,2,3])) # 3\n",
    "    print(count([1,2,3,4,3,2,1])) # 6\n",
    "    print(count([4,3,2,1,2,3,4])) # 0"
   ]
  },
  {
   "cell_type": "markdown",
   "metadata": {},
   "source": [
    "### Solution"
   ]
  },
  {
   "cell_type": "markdown",
   "metadata": {},
   "source": [
    "We can solve the problem by finding the smallest element, and the first and the last occurrence of that smallest element. Any split where the left part contains the first occurrence and the right part contains the last occurrence is a valid split.\n",
    "\n",
    "The first occurrence can be found with the method `index`. The last occurrence is found using `index` on a list that has been reversed with the operation [::-1]."
   ]
  },
  {
   "cell_type": "code",
   "execution_count": 31,
   "metadata": {},
   "outputs": [],
   "source": [
    "def count(t):\n",
    "    smallest = min(t)\n",
    "    first_pos = t.index(smallest)\n",
    "    last_pos = len(t) - t[::-1].index(smallest) - 1\n",
    "    return last_pos - first_pos"
   ]
  }
 ],
 "metadata": {
  "kernelspec": {
   "display_name": "Python 3",
   "language": "python",
   "name": "python3"
  },
  "language_info": {
   "codemirror_mode": {
    "name": "ipython",
    "version": 3
   },
   "file_extension": ".py",
   "mimetype": "text/x-python",
   "name": "python",
   "nbconvert_exporter": "python",
   "pygments_lexer": "ipython3",
   "version": "3.12.3"
  }
 },
 "nbformat": 4,
 "nbformat_minor": 2
}
