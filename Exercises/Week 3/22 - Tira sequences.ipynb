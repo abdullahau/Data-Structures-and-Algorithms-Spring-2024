{
 "cells": [
  {
   "cell_type": "markdown",
   "metadata": {},
   "source": [
    "# Tira sequences"
   ]
  },
  {
   "cell_type": "markdown",
   "metadata": {},
   "source": [
    "Your task is to count how many substrings of a string contain the characters `t`, `i`, `r` and `a` in some order.\n",
    "\n",
    "The time complexity of the algorithm should be $O(n)$.\n",
    "\n",
    "In a file `sequences.py`, implement a function `count` that returns the desired count."
   ]
  },
  {
   "cell_type": "code",
   "execution_count": null,
   "metadata": {},
   "outputs": [],
   "source": [
    "def count(s):\n",
    "    # TODO\n",
    "\n",
    "if __name__ == \"__main__\":\n",
    "    print(count(\"aybabtu\")) # 0\n",
    "    print(count(\"tira\")) # 1\n",
    "    print(count(\"ritari\")) # 6\n",
    "    print(count(\"tiratiratira\")) # 45\n",
    "    print(count(\"xaxrxixtx\")) # 4"
   ]
  },
  {
   "cell_type": "markdown",
   "metadata": {},
   "source": [
    "*Explanation*: For example, the string `ritari` has six desired substrings: `itar`, `itari`, `rita`, `ritar`, `ritari` and `tari`."
   ]
  },
  {
   "cell_type": "markdown",
   "metadata": {},
   "source": [
    "### Attempt 1"
   ]
  },
  {
   "cell_type": "code",
   "execution_count": 6,
   "metadata": {},
   "outputs": [
    {
     "name": "stdout",
     "output_type": "stream",
     "text": [
      "aat\n",
      "tira\n",
      "ritari\n",
      "tiratiratira\n",
      "arit\n"
     ]
    }
   ],
   "source": [
    "def count(s):\n",
    "    tira = 'tira'\n",
    "    short = \"\"\n",
    "    for i in s:\n",
    "        if i in tira:\n",
    "            short += i\n",
    "    return short\n",
    "\n",
    "if __name__ == \"__main__\":\n",
    "    print(count(\"aybabtu\")) # 0\n",
    "    print(count(\"tira\")) # 1\n",
    "    print(count(\"ritari\")) # 6\n",
    "    print(count(\"tiratiratira\")) # 45\n",
    "    print(count(\"xaxrxixtx\")) # 4"
   ]
  },
  {
   "cell_type": "code",
   "execution_count": 18,
   "metadata": {},
   "outputs": [
    {
     "name": "stdout",
     "output_type": "stream",
     "text": [
      "0\n",
      "24\n",
      "360\n",
      "11880\n",
      "24\n"
     ]
    }
   ],
   "source": [
    "def count(s):\n",
    "    tira = 'tira'\n",
    "    short = \"\"\n",
    "    for i in s:\n",
    "        if i in tira:\n",
    "            short += i\n",
    "    result = list(permutations(short, 4))    \n",
    "    return len(result)\n",
    "\n",
    "if __name__ == \"__main__\":\n",
    "    print(count(\"aybabtu\")) # 0\n",
    "    print(count(\"tira\")) # 1\n",
    "    print(count(\"ritari\")) # 6\n",
    "    print(count(\"tiratiratira\")) # 45\n",
    "    print(count(\"xaxrxixtx\")) # 4"
   ]
  },
  {
   "cell_type": "code",
   "execution_count": null,
   "metadata": {},
   "outputs": [],
   "source": []
  }
 ],
 "metadata": {
  "kernelspec": {
   "display_name": "Python 3",
   "language": "python",
   "name": "python3"
  },
  "language_info": {
   "codemirror_mode": {
    "name": "ipython",
    "version": 3
   },
   "file_extension": ".py",
   "mimetype": "text/x-python",
   "name": "python",
   "nbconvert_exporter": "python",
   "pygments_lexer": "ipython3",
   "version": "3.12.3"
  }
 },
 "nbformat": 4,
 "nbformat_minor": 2
}
