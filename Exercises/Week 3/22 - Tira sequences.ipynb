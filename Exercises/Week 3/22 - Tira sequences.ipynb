{
 "cells": [
  {
   "cell_type": "markdown",
   "metadata": {},
   "source": [
    "# Tira sequences"
   ]
  },
  {
   "cell_type": "markdown",
   "metadata": {},
   "source": [
    "Your task is to count how many substrings of a string contain the characters `t`, `i`, `r` and `a` in some order.\n",
    "\n",
    "The time complexity of the algorithm should be $O(n)$.\n",
    "\n",
    "In a file `sequences.py`, implement a function `count` that returns the desired count."
   ]
  },
  {
   "cell_type": "code",
   "execution_count": null,
   "metadata": {},
   "outputs": [],
   "source": [
    "def count(s):\n",
    "    # TODO\n",
    "\n",
    "if __name__ == \"__main__\":\n",
    "    print(count(\"aybabtu\")) # 0\n",
    "    print(count(\"tira\")) # 1\n",
    "    print(count(\"ritari\")) # 6\n",
    "    print(count(\"tiratiratira\")) # 45\n",
    "    print(count(\"xaxrxixtx\")) # 4"
   ]
  },
  {
   "cell_type": "markdown",
   "metadata": {},
   "source": [
    "*Explanation*: For example, the string `ritari` has six desired substrings: `itar`, `itari`, `rita`, `ritar`, `ritari` and `tari`."
   ]
  },
  {
   "cell_type": "markdown",
   "metadata": {},
   "source": [
    "### Approach 1"
   ]
  },
  {
   "cell_type": "code",
   "execution_count": 89,
   "metadata": {},
   "outputs": [
    {
     "name": "stdout",
     "output_type": "stream",
     "text": [
      "0\n",
      "1\n",
      "6\n",
      "45\n",
      "4\n",
      "1\n"
     ]
    }
   ],
   "source": [
    "import re\n",
    "\n",
    "def count(s):\n",
    "    # This pattern will match any substring that contains 't', 'i', 'r', and 'a' at least once\n",
    "    pattern = re.compile(r'(?=.*(t))(?=.*(i))(?=.*(r))(?=.*(a))')\n",
    "    \n",
    "    n = len(s)\n",
    "    result = 0\n",
    "    \n",
    "    # Check all substrings starting from each character in the string\n",
    "    for i in range(n):\n",
    "        for j in range(i+4, n+1):  # Substrings must be at least 4 characters long\n",
    "            substring = s[i:j]\n",
    "            if pattern.search(substring):\n",
    "                result += 1\n",
    "    \n",
    "    return result\n",
    "\n",
    "if __name__ == \"__main__\":\n",
    "    print(count(\"aybabtu\")) # 0\n",
    "    print(count(\"tira\")) # 1\n",
    "    print(count(\"ritari\")) # 6\n",
    "    print(count(\"tiratiratira\")) # 45\n",
    "    print(count(\"xaxrxixtx\")) # 4\n",
    "    print(count(\"iamtr\")) # 1\n"
   ]
  },
  {
   "cell_type": "markdown",
   "metadata": {},
   "source": [
    "This code uses a nested loop to check every possible substring of the input string. For each substring, it uses a regular expression with positive lookaheads to ensure that `t`, `i`, `r`, and `a` are all present at least once. If the substring matches, it increments the result counter.\n",
    "\n",
    "The time complexity of the provided code is $O(n^3)$. This is because the code uses two nested loops to generate all possible substrings of the input string, and for each substring, it performs a regular expression match.\n",
    "\n",
    "Here’s a breakdown of the time complexity:\n",
    "- The outer loop runs $(n)$ times.\n",
    "- The inner loop runs in the order of $(n)$ times for each iteration of the outer loop, since it checks every possible ending index for a substring starting at index `i`.\n",
    "- The regular expression match inside the inner loop is applied to each substring. The worst-case time complexity for a regular expression match is $O(m)$, where $(m)$ is the length of the substring being matched. In this case, $(m)$ can be considered $O(n)$ in the worst case, when the substring is nearly as long as the entire string.\n",
    " \n",
    "Multiplying these together, we get a time complexity of $O(n \\times n \\times n) = O(n^3)$."
   ]
  },
  {
   "cell_type": "markdown",
   "metadata": {},
   "source": [
    "### Approach 3"
   ]
  },
  {
   "cell_type": "code",
   "execution_count": 100,
   "metadata": {},
   "outputs": [
    {
     "name": "stdout",
     "output_type": "stream",
     "text": [
      "0\n",
      "1\n",
      "6\n",
      "45\n",
      "4\n",
      "1\n"
     ]
    }
   ],
   "source": [
    "def count(s):\n",
    "    # Initialize the last seen indices for 't', 'i', 'r', and 'a'\n",
    "    last_seen = {'t': -1, 'i': -1, 'r': -1, 'a': -1}\n",
    "    result = 0\n",
    "    n = len(s)\n",
    "    \n",
    "    # Iterate through the string\n",
    "    for i in range(n):\n",
    "        if s[i] in last_seen:\n",
    "            # Update the last seen index for the character\n",
    "            last_seen[s[i]] = i\n",
    "        \n",
    "        # Find the earliest last seen index among 't', 'i', 'r', 'a'\n",
    "        min_last_seen = min(last_seen.values())\n",
    "        \n",
    "        # If all characters have been seen at least once, add the number of valid substrings\n",
    "        if min_last_seen != -1:\n",
    "            result += min_last_seen + 1\n",
    "    \n",
    "    return result\n",
    "\n",
    "if __name__ == \"__main__\":\n",
    "    print(count(\"aybabtu\")) # 0\n",
    "    print(count(\"tira\")) # 1\n",
    "    print(count(\"ritari\")) # 6\n",
    "    print(count(\"tiratiratira\")) # 45\n",
    "    print(count(\"xaxrxixtx\")) # 4\n",
    "    print(count(\"iamtr\")) # 1\n"
   ]
  },
  {
   "cell_type": "markdown",
   "metadata": {},
   "source": [
    "We can use a **single pass approach** to keep track of the indices of the last occurrence of each character `t`, `i`, `r`, and `a`. As we iterate through the string, we update these indices and calculate the number of valid substrings ending at the current position. \n",
    "\n",
    "This function works by updating the `last_seen` dictionary with the index of the last occurrence of each character as we iterate through the string. For each character in the string, we calculate the number of new valid substrings that can be formed by considering the earliest index among the last seen indices of ‘`t`, `i`, `r`, and `a`. If all characters have been seen at least once `min_last_seen != -1`, we add the count of valid substrings ending at the current character."
   ]
  },
  {
   "cell_type": "code",
   "execution_count": 102,
   "metadata": {},
   "outputs": [
    {
     "name": "stdout",
     "output_type": "stream",
     "text": [
      "0\n",
      "1\n",
      "6\n",
      "45\n",
      "4\n",
      "1\n"
     ]
    }
   ],
   "source": [
    "def count(s):\n",
    "    last = {'t': -1, 'i': -1, 'r': -1, 'a': -1}\n",
    "    result = 0\n",
    "    n = len(s)\n",
    "    \n",
    "    for i in range(n):\n",
    "        if s[i] in last:\n",
    "            last[s[i]] = i\n",
    "        \n",
    "        minimum = min(last.values())\n",
    "        \n",
    "        if minimum != -1:\n",
    "            result += minimum + 1\n",
    "    \n",
    "    return result\n",
    "\n",
    "if __name__ == \"__main__\":\n",
    "    print(count(\"aybabtu\")) # 0\n",
    "    print(count(\"tira\")) # 1\n",
    "    print(count(\"ritari\")) # 6\n",
    "    print(count(\"tiratiratira\")) # 45\n",
    "    print(count(\"xaxrxixtx\")) # 4\n",
    "    print(count(\"iamtr\")) # 1\n"
   ]
  },
  {
   "cell_type": "markdown",
   "metadata": {},
   "source": [
    "### Solution"
   ]
  },
  {
   "cell_type": "markdown",
   "metadata": {},
   "source": [
    "The idea of the solution is to scan through the string from left to right while keeping track of the most recent occurrence of each of the characters `t`, `i`, `r` and `a`.\n",
    "\n",
    "Any valid substring ending at the current position must start at or before the smallest of the tracked positions. Thus their count is the smallest position plus one. The four positions are initialized with $-1$, which ensures that the count remains zero until all four characters have occurred at least once.\n",
    "\n",
    "The time complexity of the resulting algorithm is $O(n)$."
   ]
  },
  {
   "cell_type": "code",
   "execution_count": 103,
   "metadata": {},
   "outputs": [
    {
     "name": "stdout",
     "output_type": "stream",
     "text": [
      "0\n",
      "1\n",
      "6\n",
      "45\n",
      "4\n",
      "1\n"
     ]
    }
   ],
   "source": [
    "def count(s):\n",
    "    result = 0\n",
    "    pos_t = pos_i = pos_r = pos_a = -1\n",
    "\n",
    "    for i in range(len(s)):\n",
    "        if s[i] == \"t\": pos_t = i\n",
    "        if s[i] == \"i\": pos_i = i\n",
    "        if s[i] == \"r\": pos_r = i\n",
    "        if s[i] == \"a\": pos_a = i\n",
    "\n",
    "        result += min(pos_t, pos_i, pos_r, pos_a) + 1\n",
    "\n",
    "    return result\n",
    "\n",
    "print(count(\"aybabtu\")) # 0\n",
    "print(count(\"tira\")) # 1\n",
    "print(count(\"ritari\")) # 6\n",
    "print(count(\"tiratiratira\")) # 45\n",
    "print(count(\"xaxrxixtx\")) # 4\n",
    "print(count(\"iamtr\")) # 1"
   ]
  }
 ],
 "metadata": {
  "kernelspec": {
   "display_name": "Python 3",
   "language": "python",
   "name": "python3"
  },
  "language_info": {
   "codemirror_mode": {
    "name": "ipython",
    "version": 3
   },
   "file_extension": ".py",
   "mimetype": "text/x-python",
   "name": "python",
   "nbconvert_exporter": "python",
   "pygments_lexer": "ipython3",
   "version": "3.12.3"
  }
 },
 "nbformat": 4,
 "nbformat_minor": 2
}
