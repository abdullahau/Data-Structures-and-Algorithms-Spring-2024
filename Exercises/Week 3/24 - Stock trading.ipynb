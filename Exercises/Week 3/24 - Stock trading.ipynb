{
 "cells": [
  {
   "cell_type": "markdown",
   "metadata": {},
   "source": [
    "# Stock trading"
   ]
  },
  {
   "cell_type": "markdown",
   "metadata": {},
   "source": [
    "You are given the price of a stock for $n$ days. Your task is to figure out the highest profit you could have made, if you could have bought and sold the stock at most twice.\n",
    "\n",
    "At any time, you may hold at most one share of the stock. If you buy again after selling, there must be at least one day of no shares held in between the sale and the following buy.\n",
    "\n",
    "The time complexity of the algorithm should be $O(n)$.\n",
    "\n",
    "In a file `trading.py`, implement a function `find` that returns the desired result."
   ]
  },
  {
   "cell_type": "code",
   "execution_count": null,
   "metadata": {},
   "outputs": [],
   "source": [
    "def find(t):\n",
    "    # TODO\n",
    "\n",
    "if __name__ == \"__main__\":\n",
    "    print(find([1,5,2,1,5])) # 8\n",
    "    print(find([1,5,1,5])) # 4\n",
    "    print(find([1,2,3,4,5])) # 4\n",
    "    print(find([5,4,3,2,1])) # 0\n",
    "    print(find([4,2,5,8,7,6,1,2,5,1])) # 10"
   ]
  },
  {
   "cell_type": "markdown",
   "metadata": {},
   "source": [
    "*Explanation*: When the prices are $[1,5,2,1,5]$, the profit $8$ is earned by twice buying at the price $1$ and selling at the price $5$. When the prices are $[1,5,1,5]$, this is no more possible because there must be one day between the first sell and the second buy. Thus you can get the profit $4$ only once."
   ]
  },
  {
   "cell_type": "markdown",
   "metadata": {},
   "source": [
    "### Attempt 1"
   ]
  },
  {
   "cell_type": "code",
   "execution_count": 2,
   "metadata": {},
   "outputs": [
    {
     "name": "stdout",
     "output_type": "stream",
     "text": [
      "4\n",
      "4\n",
      "4\n",
      "0\n",
      "6\n"
     ]
    }
   ],
   "source": [
    "def find(t):\n",
    "    n = len(t)\n",
    "    best = 0\n",
    "    min_price = t[0]\n",
    "    for i in range(n):\n",
    "        min_price = min(min_price, t[i])\n",
    "        best = max(best, t[i] - min_price)\n",
    "    return best\n",
    "\n",
    "if __name__ == \"__main__\":\n",
    "    print(find([1,5,2,1,5])) # 8\n",
    "    print(find([1,5,1,5])) # 4\n",
    "    print(find([1,2,3,4,5])) # 4\n",
    "    print(find([5,4,3,2,1])) # 0\n",
    "    print(find([4,2,5,8,7,6,1,2,5,1])) # 10"
   ]
  },
  {
   "cell_type": "code",
   "execution_count": 8,
   "metadata": {},
   "outputs": [
    {
     "name": "stdout",
     "output_type": "stream",
     "text": [
      "(0, 1)\n",
      "(0, 1)\n",
      "(0, 4)\n",
      "(4, 0)\n",
      "(6, 3)\n"
     ]
    }
   ],
   "source": [
    "def find(t):\n",
    "    pass\n",
    "\n",
    "if __name__ == \"__main__\":\n",
    "    print(find([1,5,2,1,5])) # 8\n",
    "    print(find([1,5,1,5])) # 4\n",
    "    print(find([1,2,3,4,5])) # 4\n",
    "    print(find([5,4,3,2,1])) # 0\n",
    "    print(find([4,2,5,8,7,6,1,2,5,1])) # 10"
   ]
  },
  {
   "cell_type": "code",
   "execution_count": null,
   "metadata": {},
   "outputs": [],
   "source": []
  }
 ],
 "metadata": {
  "kernelspec": {
   "display_name": "Python 3",
   "language": "python",
   "name": "python3"
  },
  "language_info": {
   "codemirror_mode": {
    "name": "ipython",
    "version": 3
   },
   "file_extension": ".py",
   "mimetype": "text/x-python",
   "name": "python",
   "nbconvert_exporter": "python",
   "pygments_lexer": "ipython3",
   "version": "3.12.3"
  }
 },
 "nbformat": 4,
 "nbformat_minor": 2
}
