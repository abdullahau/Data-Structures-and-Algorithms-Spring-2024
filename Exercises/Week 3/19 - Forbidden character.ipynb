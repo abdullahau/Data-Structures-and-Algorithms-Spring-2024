{
 "cells": [
  {
   "cell_type": "markdown",
   "metadata": {},
   "source": [
    "# Forbidden character"
   ]
  },
  {
   "cell_type": "markdown",
   "metadata": {},
   "source": [
    "Your task is to count how many substrings of a string do not contain the character `a`.\n",
    "\n",
    "The time complexity of the algorithm should be $O(n)$.\n",
    "\n",
    "In a file `forbidden.py`, implement a function `count` that returns the desired count."
   ]
  },
  {
   "cell_type": "code",
   "execution_count": null,
   "metadata": {},
   "outputs": [],
   "source": [
    "def count(s):\n",
    "    # TODO\n",
    "\n",
    "if __name__ == \"__main__\":\n",
    "    print(count(\"aaa\")) # 0\n",
    "    print(count(\"saippuakauppias\")) # 23\n",
    "    print(count(\"x\")) # 1\n",
    "    print(count(\"aybabtu\")) # 9"
   ]
  },
  {
   "cell_type": "markdown",
   "metadata": {},
   "source": [
    "### Attempt 1"
   ]
  },
  {
   "cell_type": "code",
   "execution_count": 70,
   "metadata": {},
   "outputs": [
    {
     "name": "stdout",
     "output_type": "stream",
     "text": [
      "0\n",
      "23\n",
      "1\n",
      "9\n"
     ]
    }
   ],
   "source": [
    "def count(s):\n",
    "    a = -1\n",
    "    result = 0\n",
    "    n = len(s)\n",
    "    \n",
    "    for i in range(n):\n",
    "        if s[i] == \"a\":\n",
    "            a = i\n",
    "            \n",
    "        result += i - a\n",
    "    \n",
    "    return result\n",
    "            \n",
    "\n",
    "if __name__ == \"__main__\":\n",
    "    print(count(\"aaa\")) # 0\n",
    "    print(count(\"saippuakauppias\")) # 23\n",
    "    print(count(\"x\")) # 1\n",
    "    print(count(\"aybabtu\")) # 9"
   ]
  },
  {
   "cell_type": "code",
   "execution_count": 71,
   "metadata": {},
   "outputs": [
    {
     "name": "stdout",
     "output_type": "stream",
     "text": [
      "0\n",
      "23\n",
      "1\n",
      "9\n"
     ]
    }
   ],
   "source": [
    "def count(s):\n",
    "    # Initialize the last position of 'a' and the result counter\n",
    "    a = -1\n",
    "    result = 0\n",
    "    n = len(s)\n",
    "    \n",
    "    # Iterate over the string\n",
    "    for i in range(n):\n",
    "        if s[i] == \"a\":\n",
    "            # Update the last seen position of 'a'\n",
    "            a = i\n",
    "        # Add the number of substrings ending at position i    \n",
    "        result += i - a\n",
    "    \n",
    "    return result\n",
    "            \n",
    "\n",
    "if __name__ == \"__main__\":\n",
    "    print(count(\"aaa\")) # 0\n",
    "    print(count(\"saippuakauppias\")) # 23\n",
    "    print(count(\"x\")) # 1\n",
    "    print(count(\"aybabtu\")) # 9"
   ]
  },
  {
   "cell_type": "markdown",
   "metadata": {},
   "source": [
    "In this code, `a` keeps track of the position of the last “a” encountered. For each character in the string, we add to the result the number of substrings that end at the current character and do not contain “a”. This is calculated by subtracting the position of the last “a” from the current position `i`. If no “a” has been found yet, `a` remains `-1`, which correctly counts the substrings from the start of the string."
   ]
  },
  {
   "cell_type": "markdown",
   "metadata": {},
   "source": [
    "### Solution"
   ]
  },
  {
   "cell_type": "markdown",
   "metadata": {},
   "source": [
    "The following solution goes through the string and maintains a counter that is reset whenever the character `a` is encountered. The value of the counter at a given position is the count of the desired substrings ending at that position."
   ]
  },
  {
   "cell_type": "code",
   "execution_count": 72,
   "metadata": {},
   "outputs": [],
   "source": [
    "def count(s):\n",
    "    result = 0\n",
    "    counter = 0\n",
    "    for x in s:\n",
    "        if x == \"a\":\n",
    "            counter = 0\n",
    "        else:\n",
    "            counter += 1\n",
    "        result += counter\n",
    "    return result"
   ]
  }
 ],
 "metadata": {
  "kernelspec": {
   "display_name": "Python 3",
   "language": "python",
   "name": "python3"
  },
  "language_info": {
   "codemirror_mode": {
    "name": "ipython",
    "version": 3
   },
   "file_extension": ".py",
   "mimetype": "text/x-python",
   "name": "python",
   "nbconvert_exporter": "python",
   "pygments_lexer": "ipython3",
   "version": "3.12.3"
  }
 },
 "nbformat": 4,
 "nbformat_minor": 2
}
