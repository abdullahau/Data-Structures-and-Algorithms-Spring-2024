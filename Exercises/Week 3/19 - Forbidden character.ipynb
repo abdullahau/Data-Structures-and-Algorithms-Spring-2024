{
 "cells": [
  {
   "cell_type": "markdown",
   "metadata": {},
   "source": [
    "# Forbidden character"
   ]
  },
  {
   "cell_type": "markdown",
   "metadata": {},
   "source": [
    "Your task is to count how many substrings of a string do not contain the character `a`.\n",
    "\n",
    "The time complexity of the algorithm should be $O(n)$.\n",
    "\n",
    "In a file `forbidden.py`, implement a function `count` that returns the desired count."
   ]
  },
  {
   "cell_type": "code",
   "execution_count": null,
   "metadata": {},
   "outputs": [],
   "source": [
    "def count(s):\n",
    "    # TODO\n",
    "\n",
    "if __name__ == \"__main__\":\n",
    "    print(count(\"aaa\")) # 0\n",
    "    print(count(\"saippuakauppias\")) # 23\n",
    "    print(count(\"x\")) # 1\n",
    "    print(count(\"aybabtu\")) # 9"
   ]
  },
  {
   "cell_type": "markdown",
   "metadata": {},
   "source": [
    "### Attempt 1"
   ]
  },
  {
   "cell_type": "code",
   "execution_count": 46,
   "metadata": {},
   "outputs": [
    {
     "name": "stdout",
     "output_type": "stream",
     "text": [
      "0\n",
      "43\n",
      "1\n",
      "14\n"
     ]
    }
   ],
   "source": [
    "def count(s):\n",
    "    a_pos = -1\n",
    "    x = 0\n",
    "    result = 0\n",
    "    n = len(s)\n",
    "    \n",
    "    for i in range(n):\n",
    "        if s[i] == \"a\":\n",
    "            a_pos = i\n",
    "            x = a_pos\n",
    "            result += (x - a_pos) * (x - a_pos + 1) // 2\n",
    "        else:\n",
    "            x = i\n",
    "            result += ((x - a_pos) * (x - a_pos + 1) // 2)\n",
    "    \n",
    "    return result\n",
    "            \n",
    "\n",
    "if __name__ == \"__main__\":\n",
    "    print(count(\"aaa\")) # 0\n",
    "    print(count(\"saippuakauppias\")) # 23\n",
    "    print(count(\"x\")) # 1\n",
    "    print(count(\"aybabtu\")) # 9"
   ]
  },
  {
   "cell_type": "code",
   "execution_count": 66,
   "metadata": {},
   "outputs": [
    {
     "name": "stdout",
     "output_type": "stream",
     "text": [
      "0\n",
      "42\n",
      "0\n",
      "14\n"
     ]
    }
   ],
   "source": [
    "def count(s):\n",
    "    n = len(s)\n",
    "    a_pos = x = 0 \n",
    "    result = 0\n",
    "    \n",
    "    for i in range(n):\n",
    "        if s[i] == \"a\":\n",
    "            a_pos = i\n",
    "            x = a_pos\n",
    "            \n",
    "        else:\n",
    "            x = i\n",
    "            \n",
    "        result += ((x - a_pos) * (x - a_pos + 1) // 2)\n",
    "    \n",
    "    return result\n",
    "            \n",
    "\n",
    "if __name__ == \"__main__\":\n",
    "    print(count(\"aaa\")) # 0\n",
    "    print(count(\"saippuakauppias\")) # 23\n",
    "    print(count(\"x\")) # 1\n",
    "    print(count(\"aybabtu\")) # 9"
   ]
  },
  {
   "cell_type": "code",
   "execution_count": null,
   "metadata": {},
   "outputs": [],
   "source": []
  }
 ],
 "metadata": {
  "kernelspec": {
   "display_name": "Python 3",
   "language": "python",
   "name": "python3"
  },
  "language_info": {
   "codemirror_mode": {
    "name": "ipython",
    "version": 3
   },
   "file_extension": ".py",
   "mimetype": "text/x-python",
   "name": "python",
   "nbconvert_exporter": "python",
   "pygments_lexer": "ipython3",
   "version": "3.12.3"
  }
 },
 "nbformat": 4,
 "nbformat_minor": 2
}
