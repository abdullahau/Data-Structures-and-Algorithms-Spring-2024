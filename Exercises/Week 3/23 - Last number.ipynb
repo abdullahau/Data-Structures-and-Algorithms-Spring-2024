{
 "cells": [
  {
   "cell_type": "markdown",
   "metadata": {},
   "source": [
    "# Last number"
   ]
  },
  {
   "cell_type": "markdown",
   "metadata": {},
   "source": [
    "You are given a list that contains $n$ integers.\n",
    "\n",
    "Consider a process, where at each step you find the two smallest integers on the list, remove both from the list, and add the sum of the two numbers minus one to the end of the list. This continues until the list contains only a single number. What is this number?\n",
    "\n",
    "Your task is to create an efficient algorithm that determines that last number for a given list. The time complexity of the algorithm should be $O(n)$.\n",
    "\n",
    "In a file `lastnumber.py`, implement a function `find` that returns the desired number."
   ]
  },
  {
   "cell_type": "code",
   "execution_count": null,
   "metadata": {},
   "outputs": [],
   "source": [
    "def find(t):\n",
    "    # TODO\n",
    "\n",
    "if __name__ == \"__main__\":\n",
    "    print(find([1,2,3,4])) # 7\n",
    "    print(find([1,1,1])) # 1\n",
    "    print(find([5,1,1,7,9,1,2])) # 20"
   ]
  },
  {
   "cell_type": "markdown",
   "metadata": {},
   "source": [
    "*Explanation*: Given the list $[1,2,3,4]$, you first remove the numbers $1$ and $2$ and add the number $2$. Now the list is $[3,4,2]$. Then you remove the numbers $3$ and $2$ and add the number $4$, obtaining the list $[4,4]$. Finally, you remove the numbers $4$ and $4$ and add the number $7$, obtaining the list $[7]$."
   ]
  },
  {
   "cell_type": "markdown",
   "metadata": {},
   "source": [
    "### Attempt 1"
   ]
  },
  {
   "cell_type": "code",
   "execution_count": 4,
   "metadata": {},
   "outputs": [
    {
     "name": "stdout",
     "output_type": "stream",
     "text": [
      "7\n",
      "1\n",
      "20\n"
     ]
    }
   ],
   "source": [
    "def find(t):\n",
    "    sum = 0\n",
    "    for i in t:\n",
    "        sum += i\n",
    "    return sum - len(t) + 1\n",
    "\n",
    "if __name__ == \"__main__\":\n",
    "    print(find([1,2,3,4])) # 7\n",
    "    print(find([1,1,1])) # 1\n",
    "    print(find([5,1,1,7,9,1,2])) # 20"
   ]
  },
  {
   "cell_type": "code",
   "execution_count": 5,
   "metadata": {},
   "outputs": [
    {
     "name": "stdout",
     "output_type": "stream",
     "text": [
      "7\n",
      "1\n",
      "20\n"
     ]
    }
   ],
   "source": [
    "from functools import reduce\n",
    "\n",
    "def find(t):\n",
    "    return reduce(lambda x, y: x + y, t) - len(t) + 1\n",
    "\n",
    "if __name__ == \"__main__\":\n",
    "    print(find([1,2,3,4])) # 7\n",
    "    print(find([1,1,1])) # 1\n",
    "    print(find([5,1,1,7,9,1,2])) # 20"
   ]
  },
  {
   "cell_type": "markdown",
   "metadata": {},
   "source": [
    "### Solution"
   ]
  },
  {
   "cell_type": "markdown",
   "metadata": {},
   "source": [
    "A useful observation is that every step of the process reduces the total sum of the list by one.\n",
    "\n",
    "For example, if the list is $[1,2,3,4]$, the first step removes the numbers $1$ and $2$ and adds the number $2$, resulting in the list $[3,4,2]$. The sum of the list $[1,2,3,4]$ is $10$ and the sum of the list $[3,4,2]$ is $9$.\n",
    "\n",
    "Since the whole process has $n-1$ steps, we get the result by subtracting $n-1$ from the sum of the initial list."
   ]
  },
  {
   "cell_type": "code",
   "execution_count": null,
   "metadata": {},
   "outputs": [],
   "source": [
    "def find(t):\n",
    "    return sum(t) - len(t) + 1"
   ]
  }
 ],
 "metadata": {
  "kernelspec": {
   "display_name": "Python 3",
   "language": "python",
   "name": "python3"
  },
  "language_info": {
   "codemirror_mode": {
    "name": "ipython",
    "version": 3
   },
   "file_extension": ".py",
   "mimetype": "text/x-python",
   "name": "python",
   "nbconvert_exporter": "python",
   "pygments_lexer": "ipython3",
   "version": "3.12.3"
  }
 },
 "nbformat": 4,
 "nbformat_minor": 2
}
