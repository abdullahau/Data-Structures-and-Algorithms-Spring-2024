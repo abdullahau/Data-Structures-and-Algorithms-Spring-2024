{
 "cells": [
  {
   "cell_type": "markdown",
   "metadata": {},
   "source": [
    "# Same character"
   ]
  },
  {
   "cell_type": "markdown",
   "metadata": {},
   "source": [
    "A substring is a contiguous string inside a string. For example, the substrings of the string `abc` are `a`, `b`, `c`, `ab`, `bc` and `abc`. Your task is to count how many substrings have the same character at all positions.\n",
    "\n",
    "The time complexity of the algorithm should be $O(n)$.\n",
    "\n",
    "In a file `samechar.py`, implement a function `count` that returns the desired count."
   ]
  },
  {
   "cell_type": "code",
   "execution_count": null,
   "metadata": {},
   "outputs": [],
   "source": [
    "def count(s):\n",
    "    # TODO\n",
    "\n",
    "if __name__ == \"__main__\":\n",
    "    print(count(\"aaa\")) # 6\n",
    "    print(count(\"abbbcaa\")) # 11\n",
    "    print(count(\"abcde\")) # 5"
   ]
  },
  {
   "cell_type": "markdown",
   "metadata": {},
   "source": [
    "### Attempt 1"
   ]
  },
  {
   "cell_type": "markdown",
   "metadata": {},
   "source": [
    "To count the number of substrings with the same character at all positions, we can iterate through the string and keep track of the current sequence of identical characters. When a different character is encountered, we calculate the number of substrings that can be formed from the sequence and add it to the count. "
   ]
  },
  {
   "cell_type": "markdown",
   "metadata": {},
   "source": [
    "The number of substrings with identical characters is calculated using the formula:\n",
    "$$\\dfrac{n(n+1)}{2}$$\n",
    "where ($n$) is the length of the sequence of identical characters. This accounts for all possible substrings within that sequence. For example, for “aaa”, the sequence length ($n$) is 3, and the number of substrings is:\n",
    "$$\\dfrac{3(3+1)}{2}=6$$"
   ]
  },
  {
   "cell_type": "code",
   "execution_count": 4,
   "metadata": {},
   "outputs": [
    {
     "name": "stdout",
     "output_type": "stream",
     "text": [
      "6\n",
      "11\n",
      "5\n"
     ]
    }
   ],
   "source": [
    "def count(s):\n",
    "    # Initialize count and the length of the current sequence\n",
    "    total_count = 0\n",
    "    sequence_length = 1\n",
    "\n",
    "    # Iterate through the string, starting from the second character\n",
    "    for i in range(1, len(s)):\n",
    "        # If the current character is the same as the previous one\n",
    "        if s[i] == s[i - 1]:\n",
    "            # Increment the length of the current sequence\n",
    "            sequence_length += 1\n",
    "        else:\n",
    "            # Add the number of substrings for the current sequence to the total count\n",
    "            total_count += (sequence_length * (sequence_length + 1)) // 2\n",
    "            # Reset the sequence length for the new character\n",
    "            sequence_length = 1\n",
    "\n",
    "    # Add the number of substrings for the last sequence to the total count\n",
    "    total_count += (sequence_length * (sequence_length + 1)) // 2\n",
    "\n",
    "    return total_count\n",
    "\n",
    "# Test cases\n",
    "if __name__ == \"__main__\":\n",
    "    print(count(\"aaa\")) # 6\n",
    "    print(count(\"abbbcaa\")) # 11\n",
    "    print(count(\"abcde\")) # 5"
   ]
  },
  {
   "cell_type": "code",
   "execution_count": 6,
   "metadata": {},
   "outputs": [
    {
     "name": "stdout",
     "output_type": "stream",
     "text": [
      "6\n",
      "11\n",
      "5\n"
     ]
    }
   ],
   "source": [
    "def count(s):\n",
    "    total = 0\n",
    "    n = 1\n",
    "    \n",
    "    for i in range(1, len(s)):\n",
    "        if s[i] == s[i - 1]:\n",
    "            n += 1\n",
    "        else:\n",
    "            total += (n * (n + 1)) // 2\n",
    "            n = 1\n",
    "\n",
    "    total += (n * (n + 1)) // 2\n",
    "\n",
    "    return total\n",
    "\n",
    "if __name__ == \"__main__\":\n",
    "    print(count(\"aaa\")) # 6\n",
    "    print(count(\"abbbcaa\")) # 11\n",
    "    print(count(\"abcde\")) # 5"
   ]
  },
  {
   "cell_type": "markdown",
   "metadata": {},
   "source": [
    "### Solution"
   ]
  },
  {
   "cell_type": "markdown",
   "metadata": {},
   "source": [
    "The idea of the solution is to go through the string from left to right, and at each position, count how many of the desired substrings end at that position.\n",
    "\n",
    "To do this efficiently, we keep a count of how many consecutive same characters we have seen. The count is reset whenever two consecutive characters are the same.\n",
    "\n",
    "The resulting algorithm runs in $O(n)$ time."
   ]
  },
  {
   "cell_type": "code",
   "execution_count": null,
   "metadata": {},
   "outputs": [],
   "source": [
    "def count(s):\n",
    "    result = 0\n",
    "    counter = 0\n",
    "    for i in range(len(s)):\n",
    "        if i > 0 and s[i-1] != s[i]:\n",
    "            counter = 0\n",
    "        counter += 1\n",
    "        result += counter\n",
    "    return result"
   ]
  }
 ],
 "metadata": {
  "kernelspec": {
   "display_name": "Python 3",
   "language": "python",
   "name": "python3"
  },
  "language_info": {
   "codemirror_mode": {
    "name": "ipython",
    "version": 3
   },
   "file_extension": ".py",
   "mimetype": "text/x-python",
   "name": "python",
   "nbconvert_exporter": "python",
   "pygments_lexer": "ipython3",
   "version": "3.12.3"
  }
 },
 "nbformat": 4,
 "nbformat_minor": 2
}
