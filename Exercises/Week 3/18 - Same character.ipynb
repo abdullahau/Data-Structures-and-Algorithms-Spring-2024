{
 "cells": [
  {
   "cell_type": "markdown",
   "metadata": {},
   "source": [
    "# Same character"
   ]
  },
  {
   "cell_type": "markdown",
   "metadata": {},
   "source": [
    "A substring is a contiguous string inside a string. For example, the substrings of the string `abc` are `a`, `b`, `c`, `ab`, `bc` and `abc`. Your task is to count how many substrings have the same character at all positions.\n",
    "\n",
    "The time complexity of the algorithm should be $O(n)$.\n",
    "\n",
    "In a file `samechar.py`, implement a function `count` that returns the desired count."
   ]
  },
  {
   "cell_type": "code",
   "execution_count": null,
   "metadata": {},
   "outputs": [],
   "source": [
    "def count(s):\n",
    "    # TODO\n",
    "\n",
    "if __name__ == \"__main__\":\n",
    "    print(count(\"aaa\")) # 6\n",
    "    print(count(\"abbbcaa\")) # 11\n",
    "    print(count(\"abcde\")) # 5"
   ]
  },
  {
   "cell_type": "markdown",
   "metadata": {},
   "source": [
    "### Attempt 1"
   ]
  },
  {
   "cell_type": "code",
   "execution_count": 1,
   "metadata": {},
   "outputs": [
    {
     "name": "stdout",
     "output_type": "stream",
     "text": [
      "['aa', 'aa', 'aa', 'aa']\n",
      "None\n",
      "['ab', 'ab', 'ab', 'ac', 'aa', 'aa', 'bb', 'bb', 'bb', 'bc', 'ba', 'ba', 'bb', 'bb', 'bb', 'bc', 'ba', 'ba', 'bb', 'bb', 'bb', 'bc', 'ba', 'ba', 'cb', 'cb', 'cb', 'cc', 'ca', 'ca', 'ab', 'ab', 'ab', 'ac', 'aa', 'aa']\n",
      "None\n",
      "['ab', 'ac', 'ad', 'ae', 'bb', 'bc', 'bd', 'be', 'cb', 'cc', 'cd', 'ce', 'db', 'dc', 'dd', 'de']\n",
      "None\n"
     ]
    }
   ],
   "source": [
    "def count(s):\n",
    "    subs = []\n",
    "    for i in s[:-1]:\n",
    "        for j in s[1:]:\n",
    "            subs.append(i+j)\n",
    "    print(subs)\n",
    "\n",
    "if __name__ == \"__main__\":\n",
    "    print(count(\"aaa\")) # 6\n",
    "    print(count(\"abbbcaa\")) # 11\n",
    "    print(count(\"abcde\")) # 5"
   ]
  },
  {
   "cell_type": "code",
   "execution_count": null,
   "metadata": {},
   "outputs": [],
   "source": []
  }
 ],
 "metadata": {
  "kernelspec": {
   "display_name": "Python 3",
   "language": "python",
   "name": "python3"
  },
  "language_info": {
   "codemirror_mode": {
    "name": "ipython",
    "version": 3
   },
   "file_extension": ".py",
   "mimetype": "text/x-python",
   "name": "python",
   "nbconvert_exporter": "python",
   "pygments_lexer": "ipython3",
   "version": "3.12.3"
  }
 },
 "nbformat": 4,
 "nbformat_minor": 2
}
