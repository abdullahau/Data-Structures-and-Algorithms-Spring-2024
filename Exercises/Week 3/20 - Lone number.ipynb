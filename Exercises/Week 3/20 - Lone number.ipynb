{
 "cells": [
  {
   "cell_type": "markdown",
   "metadata": {},
   "source": [
    "# Lone number"
   ]
  },
  {
   "cell_type": "markdown",
   "metadata": {},
   "source": [
    "You are given a list consisting of $n$ integers. $n-1$ of the integers are equal and one has a different value. Your task is to determine what the different integer is.\n",
    "\n",
    "The time complexity of the algorithm should be $O(n)$. You may assume that $n>2$.\n",
    "\n",
    "In a file `onlyone.py`, implement a function `find` that returns the desired integer."
   ]
  },
  {
   "cell_type": "code",
   "execution_count": null,
   "metadata": {},
   "outputs": [],
   "source": [
    "def find(t):\n",
    "    # TODO\n",
    "\n",
    "if __name__ == \"__main__\":\n",
    "    print(find([1,1,2,1])) # 2\n",
    "    print(find([4,5,5])) # 4\n",
    "    print(find([1,1,1,1,2])) # 2\n",
    "    print(find([8,8,5,8,8])) # 5"
   ]
  },
  {
   "cell_type": "markdown",
   "metadata": {},
   "source": [
    "### Attempt 1"
   ]
  },
  {
   "cell_type": "code",
   "execution_count": 9,
   "metadata": {},
   "outputs": [
    {
     "name": "stdout",
     "output_type": "stream",
     "text": [
      "2\n",
      "4\n",
      "2\n",
      "5\n"
     ]
    }
   ],
   "source": [
    "def find(t):\n",
    "    t_map = {}\n",
    "    for i in t:\n",
    "        if i not in t_map:\n",
    "            t_map[i] = 1\n",
    "        else:\n",
    "            t_map[i] += 1\n",
    "    for value, count in t_map.items():\n",
    "        if count == 1:\n",
    "            return value\n",
    "\n",
    "if __name__ == \"__main__\":\n",
    "    print(find([1,1,2,1])) # 2\n",
    "    print(find([4,5,5])) # 4\n",
    "    print(find([1,1,1,1,2])) # 2\n",
    "    print(find([8,8,5,8,8])) # 5"
   ]
  },
  {
   "cell_type": "code",
   "execution_count": 23,
   "metadata": {},
   "outputs": [
    {
     "name": "stdout",
     "output_type": "stream",
     "text": [
      "2\n",
      "4\n",
      "2\n",
      "5\n"
     ]
    }
   ],
   "source": [
    "def find(t):\n",
    "    return list((value for value in t if t.count(value) == 1))[0]\n",
    "\n",
    "if __name__ == \"__main__\":\n",
    "    print(find([1,1,2,1])) # 2\n",
    "    print(find([4,5,5])) # 4\n",
    "    print(find([1,1,1,1,2])) # 2\n",
    "    print(find([8,8,5,8,8])) # 5"
   ]
  },
  {
   "cell_type": "markdown",
   "metadata": {},
   "source": [
    "### Attempt 2"
   ]
  },
  {
   "cell_type": "code",
   "execution_count": 21,
   "metadata": {},
   "outputs": [
    {
     "name": "stdout",
     "output_type": "stream",
     "text": [
      "2\n",
      "4\n",
      "2\n",
      "5\n"
     ]
    }
   ],
   "source": [
    "def find(t):\n",
    "    sub = [t[0]]\n",
    "    n = len(t)\n",
    "    for i in range (1, n):\n",
    "        if t[i] not in sub:\n",
    "            sub.append(t[i])\n",
    "        else:\n",
    "            rep = t[i]\n",
    "    return sub[sub.index(rep) - 1]\n",
    "\n",
    "if __name__ == \"__main__\":\n",
    "    print(find([1,1,2,1])) # 2\n",
    "    print(find([4,5,5])) # 4\n",
    "    print(find([1,1,1,1,2])) # 2\n",
    "    print(find([8,8,5,8,8])) # 5"
   ]
  },
  {
   "cell_type": "code",
   "execution_count": 1,
   "metadata": {},
   "outputs": [
    {
     "name": "stdout",
     "output_type": "stream",
     "text": [
      "2\n",
      "4\n",
      "2\n",
      "5\n"
     ]
    }
   ],
   "source": [
    "def find(t):\n",
    "    sub = []\n",
    "    for i in t:\n",
    "        if i not in sub:\n",
    "            sub.append(i)\n",
    "        else:\n",
    "            rep = i\n",
    "    return sub[sub.index(rep) - 1]\n",
    "\n",
    "if __name__ == \"__main__\":\n",
    "    print(find([1,1,2,1])) # 2\n",
    "    print(find([4,5,5])) # 4\n",
    "    print(find([1,1,1,1,2])) # 2\n",
    "    print(find([8,8,5,8,8])) # 5"
   ]
  },
  {
   "cell_type": "markdown",
   "metadata": {},
   "source": [
    "### Solution"
   ]
  },
  {
   "cell_type": "markdown",
   "metadata": {},
   "source": [
    "The following solution finds the minimum and the maximum values on the list, which must be two different numbers. Then it checks, which of the two numbers occurs only once."
   ]
  },
  {
   "cell_type": "code",
   "execution_count": null,
   "metadata": {},
   "outputs": [],
   "source": [
    "def find(t):\n",
    "    number1 = min(t)\n",
    "    number2 = max(t)\n",
    "    if t.count(number1) == 1:\n",
    "        return number1\n",
    "    else:\n",
    "        return number2"
   ]
  },
  {
   "cell_type": "markdown",
   "metadata": {},
   "source": [
    "Below is another solution that goes through the list and returns a number that occurs only once. By keeping track of the last number in a variable `other`, the algorithm ensures that the method `count` is called at most twice."
   ]
  },
  {
   "cell_type": "code",
   "execution_count": null,
   "metadata": {},
   "outputs": [],
   "source": [
    "def find(t):\n",
    "    other = None\n",
    "    for x in t:\n",
    "        if x == other:\n",
    "            continue\n",
    "        if t.count(x) == 1:\n",
    "            return x\n",
    "        other = x"
   ]
  }
 ],
 "metadata": {
  "kernelspec": {
   "display_name": "Python 3",
   "language": "python",
   "name": "python3"
  },
  "language_info": {
   "codemirror_mode": {
    "name": "ipython",
    "version": 3
   },
   "file_extension": ".py",
   "mimetype": "text/x-python",
   "name": "python",
   "nbconvert_exporter": "python",
   "pygments_lexer": "ipython3",
   "version": "3.12.3"
  }
 },
 "nbformat": 4,
 "nbformat_minor": 2
}
