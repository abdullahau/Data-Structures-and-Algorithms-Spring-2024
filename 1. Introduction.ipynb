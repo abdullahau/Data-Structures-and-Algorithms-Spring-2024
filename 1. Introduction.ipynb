{
 "cells": [
  {
   "cell_type": "markdown",
   "metadata": {},
   "source": [
    "# Introduction"
   ]
  },
  {
   "cell_type": "markdown",
   "metadata": {},
   "source": [
    "The aim of the course *Data Structures and Algorithms* is to advance your programming skills and teach you techniques and ways of thinking that help you in implementing programs that are correct and efficient in all circumstances.\n",
    "\n",
    "The course uses the Python language but the techniques taught on the course are applicable to other programming languages too. The course involves a lot of programming but some theoretical ideas and concepts are covered too."
   ]
  },
  {
   "cell_type": "markdown",
   "metadata": {},
   "source": [
    "## What is an algorithm?"
   ]
  },
  {
   "cell_type": "markdown",
   "metadata": {},
   "source": [
    "An *algorithm* is a method for solving some computational problem. An algorithm implemented in some programming language can be executed on a computer.\n",
    "\n",
    "The *input* of an algorithm is the initial data provided to the algorithm. The *output* of an algorithm is the answer produced by the algorithm by the end of its execution. In Python an algorithm can be implemented as a *function*, and then typically the input is given as the function *parameters* and the output is the *return value*.\n",
    "\n",
    "Let us consider an example, where the algorithm is given a list of numbers and the task is to count how many of the numbers are even. For example if the list is `[5, 4, 1, 7, 9, 6]`, the desired answer is `2`, because `4` and `6` are the even numbers.\n",
    "\n",
    "This task can be solved with an algorithm that goes through the numbers on the list and maintains a variable that stores the count of even numbers seen so far. The algorithm can be implemented as a Python function `count_even`:"
   ]
  },
  {
   "cell_type": "code",
   "execution_count": 1,
   "metadata": {},
   "outputs": [],
   "source": [
    "# Implementation from Course:\n",
    "def count_even(numbers):\n",
    "    result = 0\n",
    "    for x in numbers:\n",
    "        if x % 2 == 0:\n",
    "            result += 1\n",
    "    return result"
   ]
  },
  {
   "cell_type": "markdown",
   "metadata": {},
   "source": [
    "The function can be tested with the following main program:"
   ]
  },
  {
   "cell_type": "code",
   "execution_count": 3,
   "metadata": {},
   "outputs": [
    {
     "name": "stdout",
     "output_type": "stream",
     "text": [
      "1\n",
      "5\n",
      "2\n"
     ]
    }
   ],
   "source": [
    "print(count_even([1, 2, 3])) # 1\n",
    "print(count_even([2, 2, 2, 2, 2])) # 5\n",
    "print(count_even([5, 4, 1, 7, 9, 6])) # 2"
   ]
  },
  {
   "cell_type": "markdown",
   "metadata": {},
   "source": [
    "Here the function is tested with three different lists. For each test, the desired answer is given as a comment at the end of the line. When the program is executed, it prints out:\n",
    "\n",
    "```\n",
    "1\n",
    "5\n",
    "2\n",
    "```\n",
    "\n",
    "Thus the function produces the desired output, at least for these three lists, and it seems we have created a correctly working algorithm for the task."
   ]
  },
  {
   "cell_type": "markdown",
   "metadata": {},
   "source": [
    "## What is a data structure?"
   ]
  },
  {
   "cell_type": "markdown",
   "metadata": {},
   "source": [
    "A *data structure* is a way of storing data within a program. The basic data structure in Python is the list, but there are many other standard data structures too. The choice of data structures is an important part of designing an algorithm, because the data structures have a big effect on the efficiency of the algorithm.\n",
    "\n",
    "On this course, we learn about many data structures and their uses in designing algorithms. We cover many standard Python data structures, and learn to implement data structures not provided by Python or other programming languages."
   ]
  },
  {
   "cell_type": "markdown",
   "metadata": {},
   "source": [
    "## Implementing an algorithm"
   ]
  },
  {
   "cell_type": "markdown",
   "metadata": {},
   "source": [
    "Any algorithm can be implemented with a few basic programming constructs. In Python, these basic constructs are:\n",
    "\n",
    "- variables\n",
    "- operators (`+`, `=` etc.)\n",
    "- conditionals (`if`)\n",
    "- loops (`for`, `while`)\n",
    "- lists\n",
    "- functions\n",
    "- classes\n",
    "\n",
    "In addition to these, programming languages have many other features that can help shorten the code, but do not affect the fundamental operating logic of the code. They can be used in implementing algorithms but are not necessary.\n",
    "\n",
    "Let us return to the earlier example function `count_even` that was implemented with the basic constructs:"
   ]
  },
  {
   "cell_type": "code",
   "execution_count": 4,
   "metadata": {},
   "outputs": [],
   "source": [
    "def count_even(numbers):\n",
    "    result = 0\n",
    "    for x in numbers:\n",
    "        if x % 2 == 0:\n",
    "            result += 1\n",
    "    return result"
   ]
  },
  {
   "cell_type": "markdown",
   "metadata": {},
   "source": [
    "This can be implemented more compactly with a special Python construct, the generator expression:"
   ]
  },
  {
   "cell_type": "code",
   "execution_count": 5,
   "metadata": {},
   "outputs": [],
   "source": [
    "def count_even(numbers):\n",
    "    return sum(x % 2 == 0 for x in numbers)"
   ]
  },
  {
   "cell_type": "markdown",
   "metadata": {},
   "source": [
    "Here the `sum` function encloses a generator expression that computes the value of the expression `x % 2 == 0` for each element `x` of the list. The possible values are `True` and `False`, but when they are summed up, each `True` is counted as the number `1` and each `False` as the number `0`. Thus the result of the summation is the count of even numbers.\n",
    "\n",
    "The **latter function is much shorter** but its **fundamental operation is the same as the former one’s**. Both functions go through the numbers on the list and add up the times when an even number is encountered. The operating logic is essentially the same in both cases.\n",
    "\n",
    "The advantage of the first function is that it is easier to explain to a person who is not familiar with Python special constructs. The function could be easily translated into other programming languages, for example JavaScript:"
   ]
  },
  {
   "cell_type": "code",
   "execution_count": null,
   "metadata": {
    "vscode": {
     "languageId": "javascript"
    }
   },
   "outputs": [],
   "source": [
    "function countEven(numbers) {\n",
    "    let result = 0;\n",
    "    for (let x of numbers) {\n",
    "        if (x % 2 == 0) result++;\n",
    "    }\n",
    "    return result;\n",
    "}"
   ]
  },
  {
   "cell_type": "markdown",
   "metadata": {},
   "source": [
    "The advantage of the second function is that is more concise and perhaps more in the style of Python language. Even though the basic constructs are sufficient, it can be interesting to learn more special constructs too."
   ]
  },
  {
   "cell_type": "markdown",
   "metadata": {},
   "source": [
    "## Efficiency of algorithms"
   ]
  },
  {
   "cell_type": "markdown",
   "metadata": {},
   "source": [
    "The same task can be solved by different algorithms, and there can be big differences in their efficiencies. Often the goal is to find an efficient algorithm that solves the task quickly.\n",
    "\n",
    "Let us consider a task, where we are given a list of numbers, and the goal is to find the largest difference between any two numbers. For example, when the list is `[3, 2, 6, 5, 8, 5]`, the desired answer is `6`, because the largest difference is between the numbers `2` and `8`.\n",
    "\n",
    "Three algorithms for solving the task are given below:"
   ]
  },
  {
   "cell_type": "markdown",
   "metadata": {},
   "source": [
    "#### *Algorithm 1*"
   ]
  },
  {
   "cell_type": "code",
   "execution_count": 7,
   "metadata": {},
   "outputs": [],
   "source": [
    "def max_diff(numbers):\n",
    "    result = 0\n",
    "    for x in numbers:\n",
    "        for y in numbers:\n",
    "            result = max(result, abs(x - y))\n",
    "    return result"
   ]
  },
  {
   "cell_type": "markdown",
   "metadata": {},
   "source": [
    "The first algorithm has two nested `for` loops that go through all ways of choosing two numbers from the list. The algorithm computes the difference using the `abs` (absolute value) function and remembers the largest difference it has encounter so far."
   ]
  },
  {
   "cell_type": "markdown",
   "metadata": {},
   "source": [
    "#### *Algorithm 2*"
   ]
  },
  {
   "cell_type": "code",
   "execution_count": 8,
   "metadata": {},
   "outputs": [],
   "source": [
    "def max_diff(numbers):\n",
    "    numbers = sorted(numbers)\n",
    "    return numbers[-1] - numbers[0]"
   ]
  },
  {
   "cell_type": "markdown",
   "metadata": {},
   "source": [
    "The idea of the second algorithm is that the biggest difference must be between the smallest number and the largest number on the list.\n",
    "\n",
    "The algorithm first sorts the list using the `sorted` function. Then the smallest number is in the beginning (index `0`) and the largest is at the end (index `-1`) of the list"
   ]
  },
  {
   "cell_type": "markdown",
   "metadata": {},
   "source": [
    "#### *Algorithm 3*"
   ]
  },
  {
   "cell_type": "code",
   "execution_count": 9,
   "metadata": {},
   "outputs": [],
   "source": [
    "def max_diff(numbers):\n",
    "    return max(numbers) - min(numbers)"
   ]
  },
  {
   "cell_type": "markdown",
   "metadata": {},
   "source": [
    "The third algorithm is based on finding the smallest and largest numbers too, but instead of sorting, it uses the functions `min` and `max`."
   ]
  },
  {
   "cell_type": "markdown",
   "metadata": {},
   "source": [
    "### Measuring efficiency"
   ]
  },
  {
   "cell_type": "markdown",
   "metadata": {},
   "source": [
    "The efficiency of an algorithm can be studied with a test program that runs the algorithm for a given input and measures the execution time. It is often a good idea to write the test program so that it generates a random input of a given size. Then it is easy to test the algorithm with inputs of different sizes.\n",
    "\n",
    "Below is a program that tests the efficiency of the `max_diff` function:"
   ]
  },
  {
   "cell_type": "code",
   "execution_count": 11,
   "metadata": {},
   "outputs": [
    {
     "name": "stdout",
     "output_type": "stream",
     "text": [
      "n: 1000\n",
      "result: None\n",
      "time: 0.0 s\n"
     ]
    }
   ],
   "source": [
    "import random\n",
    "import time\n",
    "\n",
    "def max_diff(numbers):\n",
    "    ...\n",
    "\n",
    "n = 1000\n",
    "print(\"n:\", n)\n",
    "random.seed(1337)\n",
    "numbers = [random.randint(1, 10**6) for _ in range(n)]\n",
    "\n",
    "start_time = time.time()\n",
    "result = max_diff(numbers)\n",
    "end_time = time.time()\n",
    "\n",
    "print(\"result:\", result)\n",
    "print(\"time:\", round(end_time - start_time, 2), \"s\")"
   ]
  },
  {
   "cell_type": "code",
   "execution_count": 24,
   "metadata": {},
   "outputs": [
    {
     "name": "stdout",
     "output_type": "stream",
     "text": [
      "[80, 69, 91, 47]\n"
     ]
    }
   ],
   "source": [
    "# Setting the seed using `random.seed` ensure that the same set of random numbers are generated\n",
    "import random\n",
    "random.seed(1337)\n",
    "numbers = [random.randint(1, 10**2) for _ in range(4)]\n",
    "print(numbers)"
   ]
  },
  {
   "cell_type": "markdown",
   "metadata": {},
   "source": [
    "The value of the variable `n` is the length of the list used in the test. The function `random.seed` sets the seed number (here `1337`) of the random number generator so that it will always *generate the same random numbers*. This makes comparisons between test runs easier and more reliable. A list of `n` random numbers between $1...10^{6}$ is created with the function `random.randint` and a generator expression.\n",
    "\n",
    "The program measures the execution time using the `time.time` function. The function returns the time elapsed since the beginning of the year 1970 in seconds. The difference between the time before and the time after the execution of the algorithm tells how many seconds did the execution take. The time is rounded to two decimals with the function `round`.\n",
    "\n",
    "The execution of the test program outputs something like this:\n",
    "```\n",
    "n: 1000\n",
    "result: 999266\n",
    "time: 0.09 s\n",
    "```\n",
    "\n",
    "This means that the input to the algorithm was a list of length `1000`, the output of the algorithm was `999266`, and the execution of the algorithm took `0.09` seconds."
   ]
  },
  {
   "cell_type": "markdown",
   "metadata": {},
   "source": [
    "The following table shows the execution times of the above three algorithms for inputs of different sizes on the test computer:\n",
    "\n",
    "| List length `n` | Algorithm 1 | Algorithm 2 | Algorithm 3 |\n",
    "| --------------- | ----------- | ----------- | ----------- |\n",
    "| 1000            | 0.17 s      | 0.00 s      | 0.00 s      |\n",
    "| 10000           | 15.93 s     | 0.00 s      | 0.00 s      |\n",
    "| 100000          | –           | 0.01 s      | 0.00 s      |\n",
    "| 1000000         | –           | 0.27 s      | 0.02 s      |"
   ]
  },
  {
   "cell_type": "markdown",
   "metadata": {},
   "source": [
    "The table reveals big differences in the efficiencies of the algorithms. Algorithm 1 is slow on large inputs, and the tests with the two largest inputs were aborted because the execution took too much time. Algorithms 2 and 3, on the other hand, are efficient on large inputs too. The largest input exposes a difference between Algorithms 2 and 3 too, although the difference is not as big as compared to Algorithm 1."
   ]
  },
  {
   "cell_type": "markdown",
   "metadata": {},
   "source": [
    "#### *Test Runs*"
   ]
  },
  {
   "cell_type": "code",
   "execution_count": 28,
   "metadata": {},
   "outputs": [
    {
     "name": "stdout",
     "output_type": "stream",
     "text": [
      "n: 10000\n",
      "result: 999914\n",
      "time: 33.17 s\n"
     ]
    }
   ],
   "source": [
    "# Algorithm 1\n",
    "import random\n",
    "import time\n",
    "\n",
    "def max_diff(numbers):\n",
    "    result = 0\n",
    "    for x in numbers:\n",
    "        for y in numbers:\n",
    "            result = max(result, abs(x - y))\n",
    "    return result\n",
    "\n",
    "n = 10_000\n",
    "print(\"n:\", n)\n",
    "random.seed(1337)\n",
    "numbers = [random.randint(1, 10**6) for _ in range(n)]\n",
    "\n",
    "start_time = time.time()\n",
    "result = max_diff(numbers)\n",
    "end_time = time.time()\n",
    "\n",
    "print(\"result:\", result)\n",
    "print(\"time:\", round(end_time - start_time, 2), \"s\")"
   ]
  },
  {
   "cell_type": "code",
   "execution_count": 31,
   "metadata": {},
   "outputs": [
    {
     "name": "stdout",
     "output_type": "stream",
     "text": [
      "n: 1000000\n",
      "result: 999998\n",
      "time: 0.38 s\n"
     ]
    }
   ],
   "source": [
    "# Algorithm 2\n",
    "import random\n",
    "import time\n",
    "\n",
    "def max_diff(numbers):\n",
    "    numbers = sorted(numbers)\n",
    "    return numbers[-1] - numbers[0]\n",
    "\n",
    "n = 1_000_000\n",
    "print(\"n:\", n)\n",
    "random.seed(1337)\n",
    "numbers = [random.randint(1, 10**6) for _ in range(n)]\n",
    "\n",
    "start_time = time.time()\n",
    "result = max_diff(numbers)\n",
    "end_time = time.time()\n",
    "\n",
    "print(\"result:\", result)\n",
    "print(\"time:\", round(end_time - start_time, 2), \"s\")"
   ]
  },
  {
   "cell_type": "code",
   "execution_count": 32,
   "metadata": {},
   "outputs": [
    {
     "name": "stdout",
     "output_type": "stream",
     "text": [
      "n: 1000000\n",
      "result: 999998\n",
      "time: 0.05 s\n"
     ]
    }
   ],
   "source": [
    "# Algorithm 3\n",
    "\n",
    "import random\n",
    "import time\n",
    "\n",
    "def max_diff(numbers):\n",
    "    return max(numbers) - min(numbers)\n",
    "\n",
    "n = 1_000_000\n",
    "print(\"n:\", n)\n",
    "random.seed(1337)\n",
    "numbers = [random.randint(1, 10**6) for _ in range(n)]\n",
    "\n",
    "start_time = time.time()\n",
    "result = max_diff(numbers)\n",
    "end_time = time.time()\n",
    "\n",
    "print(\"result:\", result)\n",
    "print(\"time:\", round(end_time - start_time, 2), \"s\")"
   ]
  },
  {
   "cell_type": "markdown",
   "metadata": {},
   "source": [
    "## Analysis of algorithms"
   ]
  },
  {
   "cell_type": "markdown",
   "metadata": {},
   "source": [
    "The efficiency of an algorithm can be estimated by counting how many steps the algorithm executes for an input of a given size. Often we can think of a step as corresponding to a line of code.\n",
    "\n",
    "Let us consider the example algorithm that counts the number of even numbers on a list:"
   ]
  },
  {
   "cell_type": "code",
   "execution_count": 33,
   "metadata": {},
   "outputs": [],
   "source": [
    "def count_even(numbers):\n",
    "    result = 0\n",
    "    for x in numbers:\n",
    "        if x % 2 == 0:\n",
    "            result += 1\n",
    "    return result"
   ]
  },
  {
   "cell_type": "markdown",
   "metadata": {},
   "source": [
    "Let $n$ denote the length of the list. Since the algorithm goes through all elements of the list, the number of steps depends on $n$.\n",
    "\n",
    "- The lines 2 and 6 are executed once, because they are outside the loop.\n",
    "- The lines 3 and 4 are executed $n$ times, because they are executed once for each element of the list.\n",
    "- The line 5 is executed at least $0$ times and at most $n$ times, depending on the count of even numbers on the list.\n",
    "\n",
    "Thus the algorithm executes at least $2n+2$ steps and at most $3n+2$ steps. The exact number of steps depends on the contents of the list."
   ]
  },
  {
   "cell_type": "markdown",
   "metadata": {},
   "source": [
    "### Time complexity"
   ]
  },
  {
   "cell_type": "markdown",
   "metadata": {},
   "source": [
    "Often we do not need to determine the exact number of steps, but it is enough to know the *time complexity*, which gives the magnitude of the number of steps on a given input size.\n",
    "\n",
    "A time complexity is usually shown in the form $O(⋯)$, where the three dots are replaced by an arithmetic expression representing an *upper bound* on the **number of steps**. The expression involves a variable $n$ that represents the **size of the input**. For example, if the input is a list, $n$ is the length of the list, and if the input is a string, $n$ is the length of the string.\n",
    "\n",
    "The time complexity expression is typically a simplified form of the expression for the exact number of steps, obtained by retaining only the fastest growing term of the expression and removing all constants. For example, the time complexity of the preceding algorithm is $O(n)$ because the exact number of steps is at most $3n+2$.\n",
    "\n",
    "Formally, the time complexity of an algorithm is $O(f(n))$ if we can choose two constants $c$ and $n_{0}$ so that the algorithm executes at most $cf(n)$ steps when $n \\ge n_{0}$. For example, the preceding algorithm has time complexity $O(n)$ because we can choose $c=5$ and $n_{0}=1$. These are valid choices because $3n+2 \\le 5n$ when $n\\ge 1$. \n"
   ]
  },
  {
   "cell_type": "markdown",
   "metadata": {},
   "source": [
    "Common time complexities include:\n",
    "\n",
    "| Time complexity   | Name of complexity class |\n",
    "| ----------------- | ------------------------ |\n",
    "| $O(1)$            | Constant                 |\n",
    "| $O(\\log n)$         | Logarithmic              |\n",
    "| $O(n)$            | Linear                   |\n",
    "| $O(n \\log n)$        | –                        |\n",
    "| $O(n^{2})$        | Quadratic                |\n",
    "| $O(n^{3})$        | Cubic                    |"
   ]
  },
  {
   "cell_type": "markdown",
   "metadata": {},
   "source": [
    "### Time complexity of loops"
   ]
  },
  {
   "cell_type": "markdown",
   "metadata": {},
   "source": [
    "In practice, the time complexity is often determined by the loops in the code."
   ]
  },
  {
   "cell_type": "markdown",
   "metadata": {},
   "source": [
    "#### Constant time"
   ]
  },
  {
   "cell_type": "markdown",
   "metadata": {},
   "source": [
    "If an algorithm has no loops and it executes the same steps independent of the input, its time complexity is $O(1)$.\n",
    "\n",
    "For example, the time complexity of the following algorithms is $O(1)$:"
   ]
  },
  {
   "cell_type": "code",
   "execution_count": 34,
   "metadata": {},
   "outputs": [],
   "source": [
    "def middle(numbers):\n",
    "    n = len(numbers)\n",
    "    return numbers[n // 2]"
   ]
  },
  {
   "cell_type": "markdown",
   "metadata": {},
   "source": [
    "#### Single loop"
   ]
  },
  {
   "cell_type": "markdown",
   "metadata": {},
   "source": [
    "If the algorithm contains a single loop that goes through all elements of the input, its time complexity is $O(n)$.\n",
    "\n",
    "For example, the time complexity of the following algorithms is $O(n)$:"
   ]
  },
  {
   "cell_type": "code",
   "execution_count": 35,
   "metadata": {},
   "outputs": [],
   "source": [
    "def calc_sum(numbers):\n",
    "    result = 0\n",
    "    for x in numbers:\n",
    "        result += x\n",
    "    return result"
   ]
  },
  {
   "cell_type": "markdown",
   "metadata": {},
   "source": [
    "The time complexity is $O(n)$ because it the algorithm has a single loop that goes through the elements of the list."
   ]
  },
  {
   "cell_type": "markdown",
   "metadata": {},
   "source": [
    "#### Nested loops"
   ]
  },
  {
   "cell_type": "markdown",
   "metadata": {},
   "source": [
    "If an algorithm contains a loop inside a loop, each of which goes through all elements of the input, its time complexity $O(n^{2})$.\n",
    "\n",
    "For example, the following algorithm has time complexity $O(n^{2})$:"
   ]
  },
  {
   "cell_type": "code",
   "execution_count": 36,
   "metadata": {},
   "outputs": [],
   "source": [
    "def has_sum(numbers, x):\n",
    "    for a in numbers:\n",
    "        for b in numbers:\n",
    "            if a + b == x:\n",
    "                return True\n",
    "    return False"
   ]
  },
  {
   "cell_type": "markdown",
   "metadata": {},
   "source": [
    "More generally, if an algorithm has $k$ nested loops each of which goes through all elements of the input, its time complexity is $O(n^{k})$."
   ]
  },
  {
   "cell_type": "markdown",
   "metadata": {},
   "source": [
    "#### Sequential code segments"
   ]
  },
  {
   "cell_type": "markdown",
   "metadata": {},
   "source": [
    "If the algorithm consists of multiple code segments in sequence, the whole time complexity is the maximum of the segment time complexities.\n",
    "\n",
    "For example, the time complexity of the following algorithm is $O(n)$:"
   ]
  },
  {
   "cell_type": "code",
   "execution_count": 37,
   "metadata": {},
   "outputs": [],
   "source": [
    "def count_min(numbers):\n",
    "    # stage 1\n",
    "    min_value = numbers[0]\n",
    "    for x in numbers:\n",
    "        if x < min_value:\n",
    "            min_value = x\n",
    "\n",
    "    # stage 2\n",
    "    result = 0\n",
    "    for x in numbers:\n",
    "        if x == min_value:\n",
    "            result += 1\n",
    "\n",
    "    return result"
   ]
  },
  {
   "cell_type": "markdown",
   "metadata": {},
   "source": [
    "In stage 1, the algorithm finds the minimum element on the list by going through all elements. The time complexity of stage 1 is $O(n)$.\n",
    "\n",
    "In stage 2, the algorithm goes through the elements again to count the occurrences of the minimum element. The time complexity of stage 2 is $O(n)$.\n",
    "\n",
    "Since each stage has time complexity $O(n)$, the time complexity of the whole algorithm is $O(n)$."
   ]
  }
 ],
 "metadata": {
  "kernelspec": {
   "display_name": "Python 3",
   "language": "python",
   "name": "python3"
  },
  "language_info": {
   "codemirror_mode": {
    "name": "ipython",
    "version": 3
   },
   "file_extension": ".py",
   "mimetype": "text/x-python",
   "name": "python",
   "nbconvert_exporter": "python",
   "pygments_lexer": "ipython3",
   "version": "3.12.3"
  }
 },
 "nbformat": 4,
 "nbformat_minor": 2
}
