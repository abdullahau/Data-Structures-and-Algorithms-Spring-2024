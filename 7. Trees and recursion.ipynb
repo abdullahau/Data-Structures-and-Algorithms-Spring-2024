{
 "cells": [
  {
   "cell_type": "markdown",
   "metadata": {},
   "source": [
    "# Trees and recursion"
   ]
  },
  {
   "attachments": {
    "image.png": {
     "image/png": "[encoded data removed]"
    }
   },
   "cell_type": "markdown",
   "metadata": {},
   "source": [
    "A *tree* is a data structures that consists of *nodes* at different levels. A tree can represent a hierarchy through connections between nodes of different levels.\n",
    "\n",
    "Consider the following tree:\n",
    "\n",
    "![tree1.png](attachment:image.png)\n",
    "\n",
    "This tree has seven nodes at three levels.\n",
    "\n",
    "The top-most node is called the ***root***. A *child* of a node is a lower level node connected to it. A node is the ***parent*** of its **children**. If a node has no children, it is a ***leaf***.\n",
    "\n",
    "In the example, the root of the tree is the node 1. The children of the node 1 are the nodes 4, 5 and 2. The parent of the node 4 is the node 1. The leaves of the tree are the nodes, 3, 7, 5 and 6.\n",
    "\n",
    "Every node except the root has exactly one parent. This means that any node can be reached from the root by following the node connections downwards, and there is always exactly one such way from the root to the node. The root has no parent.\n",
    "\n",
    "The ***subtree*** of a node consists of all nodes that can be reached by following connections downwards from the node. In the example, the subtree of the node 1 contains all nodes of the tree, and the subtree of the node 4 contains the nodes 4, 3 and 7.\n",
    "\n",
    "The ***depth*** of a node tells how low the node is in the tree. The depth of the root is 0, and the depth of any other node is one bigger than the depth of its parent. In the example, the depth of the node 1 is 0, the depth of the node 4 is 1, and the depth of the node 3 is 2.\n",
    "\n",
    "The ***height*** of a tree is the maximum depth of any node in the tree. In the example, the height of the tree is 2, because 2 is the depth of the nodes 3, 7 and 6."
   ]
  },
  {
   "cell_type": "markdown",
   "metadata": {},
   "source": [
    "## Implementing a tree"
   ]
  },
  {
   "cell_type": "markdown",
   "metadata": {},
   "source": [
    "We can represent a tree in Python using the following class `Node`:"
   ]
  },
  {
   "cell_type": "code",
   "execution_count": 1,
   "metadata": {},
   "outputs": [],
   "source": [
    "class Node:\n",
    "    def __init__(self, value, children=[]):\n",
    "        self.value = value\n",
    "        self.children = children\n",
    "        \n",
    "    def __repr__(self):\n",
    "        return str(self.value)  "
   ]
  },
  {
   "cell_type": "markdown",
   "metadata": {},
   "source": [
    "The construction of a node takes two parameters: the value stored in the node and a list of the children of the node. If no list is given, it is empty by default. For example, the following code creates three nodes so that the nodes 2 and 3 are children of the node 1."
   ]
  },
  {
   "cell_type": "code",
   "execution_count": 2,
   "metadata": {},
   "outputs": [],
   "source": [
    "node2 = Node(2)\n",
    "node3 = Node(3)\n",
    "node1 = Node(1, [node2, node3])"
   ]
  },
  {
   "cell_type": "markdown",
   "metadata": {},
   "source": [
    "The string representation of a node is the value in the node:"
   ]
  },
  {
   "cell_type": "code",
   "execution_count": 3,
   "metadata": {},
   "outputs": [
    {
     "name": "stdout",
     "output_type": "stream",
     "text": [
      "1\n"
     ]
    }
   ],
   "source": [
    "node = Node(1)\n",
    "print(node) # 1"
   ]
  },
  {
   "cell_type": "markdown",
   "metadata": {},
   "source": [
    "With this class, we can define a tree by building the root node of the tree. For example, the following code creates the example tree at the beginning of the chapter:"
   ]
  },
  {
   "cell_type": "code",
   "execution_count": 4,
   "metadata": {},
   "outputs": [],
   "source": [
    "tree = Node(1, [Node(4, [Node(3), Node(7)]),\n",
    "                Node(5),\n",
    "                Node(2, [Node(6)])])"
   ]
  },
  {
   "cell_type": "markdown",
   "metadata": {},
   "source": [
    "### Traversing a tree"
   ]
  },
  {
   "cell_type": "markdown",
   "metadata": {},
   "source": [
    "A natural way to process a tree is using recursion. For example the following function `traverse` goes through all the nodes that are in the subtree of the node `node`:"
   ]
  },
  {
   "cell_type": "code",
   "execution_count": 5,
   "metadata": {},
   "outputs": [],
   "source": [
    "def traverse(node):\n",
    "    print(node)\n",
    "    for child in node.children:\n",
    "        traverse(child)"
   ]
  },
  {
   "cell_type": "markdown",
   "metadata": {},
   "source": [
    "When the function is given a reference to the root of a tree, it traverses all the nodes in the tree:"
   ]
  },
  {
   "cell_type": "code",
   "execution_count": 6,
   "metadata": {},
   "outputs": [
    {
     "name": "stdout",
     "output_type": "stream",
     "text": [
      "1\n",
      "4\n",
      "3\n",
      "7\n",
      "5\n",
      "2\n",
      "6\n"
     ]
    }
   ],
   "source": [
    "traverse(tree)"
   ]
  },
  {
   "cell_type": "markdown",
   "metadata": {},
   "source": [
    "Given the example tree, the function prints:\n",
    "```bash\n",
    "1\n",
    "4\n",
    "3\n",
    "7\n",
    "5\n",
    "2\n",
    "6\n",
    "```"
   ]
  },
  {
   "cell_type": "markdown",
   "metadata": {},
   "source": [
    "The function `traverse` starts by printing the value (`node.value`) of the given node. Then the function iterates through the children of the node (`node.children`) and calls itself recursively for each child.\n",
    "\n",
    "We can further illustrate the operation of the function with the following modification:"
   ]
  },
  {
   "cell_type": "code",
   "execution_count": 7,
   "metadata": {},
   "outputs": [],
   "source": [
    "def traverse(node):\n",
    "    print(\"enter\", node.value)\n",
    "    for child in node.children:\n",
    "        traverse(child)\n",
    "    print(\"leave\", node.value)"
   ]
  },
  {
   "cell_type": "markdown",
   "metadata": {},
   "source": [
    "Now the function prints ”enter $x$”, when the processing of a node $x$ starts, and ”leave $x$”, when the processing of the node $x$ ends. For the example tree, the modified function prints:\n",
    "\n",
    "```bash\n",
    "enter 1\n",
    "enter 4\n",
    "enter 3\n",
    "leave 3\n",
    "enter 7\n",
    "leave 7\n",
    "leave 4\n",
    "enter 5\n",
    "leave 5\n",
    "enter 2\n",
    "enter 6\n",
    "leave 6\n",
    "leave 2\n",
    "leave 1\n",
    "```"
   ]
  },
  {
   "cell_type": "markdown",
   "metadata": {},
   "source": [
    "## Computing information from a tree"
   ]
  },
  {
   "cell_type": "markdown",
   "metadata": {},
   "source": [
    "Trees are often processed using recursive functions that compute some value related to the tree. As an example, let us consider a function `count_nodes` that counts how many nodes are in the subtree of the node `node`:"
   ]
  },
  {
   "cell_type": "code",
   "execution_count": 8,
   "metadata": {},
   "outputs": [],
   "source": [
    "def count_nodes(node):\n",
    "    result = 1\n",
    "    for child in node.children:\n",
    "        result += count_nodes(child)\n",
    "    return result"
   ]
  },
  {
   "cell_type": "markdown",
   "metadata": {},
   "source": [
    "The function can be used as follows:"
   ]
  },
  {
   "cell_type": "code",
   "execution_count": 9,
   "metadata": {},
   "outputs": [
    {
     "name": "stdout",
     "output_type": "stream",
     "text": [
      "7\n"
     ]
    }
   ],
   "source": [
    "tree = Node(1, [Node(4, [Node(3), Node(7)]),\n",
    "                Node(5),\n",
    "                Node(2, [Node(6)])])\n",
    "\n",
    "print(count_nodes(tree)) # 7"
   ]
  },
  {
   "attachments": {
    "image.png": {
     "image/png": "[encoded data removed]"
    }
   },
   "cell_type": "markdown",
   "metadata": {},
   "source": [
    "The function computes the node count into the variable `result`. The initial value of the variable is 1, because it includes the node `node` itself. Then the function goes through the children of the node and recursively counts the nodes in the subtrees of the children.\n",
    "\n",
    "Let us see how the function counts the nodes in the example:\n",
    "\n",
    "![tree2.png](attachment:image.png)\n",
    "\n",
    "When the function is given the node 1, the variable `result` is initialized with 1, and then the node counts of the children are added to it. The children of the node 1 are the nodes 4, 5 and 2. The subtree of the node 4 has 3 nodes, the subtree of the node 5 has 1 node, and the subtree of the node 2 has 2 nodes. Thus 3, 1 and 2 are added to the variable `result` and the final node count is 1 + 3 + 1 + 2 = 7.\n",
    "\n",
    "We can further illustrate the operation of the function by adding a print command:"
   ]
  },
  {
   "cell_type": "code",
   "execution_count": 10,
   "metadata": {},
   "outputs": [],
   "source": [
    "def count_nodes(node):\n",
    "    result = 1\n",
    "    for child in node.children:\n",
    "        result += count_nodes(child)\n",
    "    print(\"subtree of node\", node, \"has\", result, \"nodes\")\n",
    "    return result"
   ]
  },
  {
   "cell_type": "markdown",
   "metadata": {},
   "source": [
    "Now the function prints out the subtree node count for all nodes:\n",
    "\n",
    "```bash\n",
    "subtree of node 3 has 1 nodes\n",
    "subtree of node 7 has 1 nodes\n",
    "subtree of node 4 has 3 nodes\n",
    "subtree of node 5 has 1 nodes\n",
    "subtree of node 6 has 1 nodes\n",
    "subtree of node 2 has 2 nodes\n",
    "subtree of node 1 has 7 nodes\n",
    "```"
   ]
  },
  {
   "cell_type": "markdown",
   "metadata": {},
   "source": [
    "Many values related to trees can be computed using the same approach: define some variables, iterate through the children recursively, and update the variables appropriately. For example, the following function computes the height of the tree, i.e., the maximum depth of any node in the tree:"
   ]
  },
  {
   "cell_type": "code",
   "execution_count": 11,
   "metadata": {},
   "outputs": [],
   "source": [
    "def count_height(node):\n",
    "    result = 0\n",
    "    for child in node.children:\n",
    "        result = max(result, count_height(child) + 1)\n",
    "    return result"
   ]
  },
  {
   "cell_type": "markdown",
   "metadata": {},
   "source": [
    "In this case, the loop goes through the children and chooses the biggest subtree height incremented by one using the function `max`. In the example tree, the subtree heights of the children of the node 1 are 1, 0 and 1. The biggest height is 1, and with the addition of 1, the resulting subtree height of the node 1 is 2."
   ]
  },
  {
   "cell_type": "markdown",
   "metadata": {},
   "source": [
    "## Computing depths"
   ]
  },
  {
   "cell_type": "markdown",
   "metadata": {},
   "source": [
    "Sometimes it is useful to add a parameter to the recursive function to keep track of the depth of a node. For example, the following function prints out the depth of every node:"
   ]
  },
  {
   "cell_type": "code",
   "execution_count": null,
   "metadata": {},
   "outputs": [],
   "source": [
    "def traverse(node, depth):\n",
    "    print(\"node\", node, \"depth\", depth)\n",
    "    for child in node.children:\n",
    "        traverse(child, depth + 1)"
   ]
  },
  {
   "cell_type": "markdown",
   "metadata": {},
   "source": [
    "The initial call of the function is given the root of the tree and the depth 0, and each step deeper in the tree increments the depth by one. The function can be used as follows:"
   ]
  },
  {
   "cell_type": "code",
   "execution_count": null,
   "metadata": {},
   "outputs": [],
   "source": [
    "tree = Node(1, [Node(4, [Node(3), Node(7)]),\n",
    "                Node(5),\n",
    "                Node(2, [Node(6)])])\n",
    "\n",
    "traverse(tree, 0)"
   ]
  },
  {
   "cell_type": "markdown",
   "metadata": {},
   "source": [
    "In this case, the output is:\n",
    "\n",
    "```bash\n",
    "node 1 depth 0\n",
    "node 4 depth 1\n",
    "node 3 depth 2\n",
    "node 7 depth 2\n",
    "node 5 depth 1\n",
    "node 2 depth 1\n",
    "node 6 depth 2\n",
    "```"
   ]
  },
  {
   "cell_type": "markdown",
   "metadata": {},
   "source": [
    "Let us next design a more complicated function `get_depths` that returns the node depths as a list ordered from the smallest to the biggest depth. With the example tree, the function should return the list `[0, 1, 1, 1, 2, 2, 2]`. A good way to implement a function like this is to define a helper function that has more parameters:"
   ]
  },
  {
   "cell_type": "code",
   "execution_count": 12,
   "metadata": {},
   "outputs": [],
   "source": [
    "def get_depths(node):\n",
    "    depths = []\n",
    "    get_depths_helper(node, 0, depths)\n",
    "    return sorted(depths)\n",
    "    \n",
    "def get_depths_helper(node, depth, depths):\n",
    "    depths.append(depth)\n",
    "    for child in node.children:\n",
    "        get_depths_helper(child, depth + 1, depths)"
   ]
  },
  {
   "cell_type": "markdown",
   "metadata": {},
   "source": [
    "The function operates as follows:"
   ]
  },
  {
   "cell_type": "code",
   "execution_count": 13,
   "metadata": {},
   "outputs": [
    {
     "name": "stdout",
     "output_type": "stream",
     "text": [
      "[0, 1, 1, 1, 2, 2, 2]\n"
     ]
    }
   ],
   "source": [
    "tree = Node(1, [Node(4, [Node(3), Node(7)]),\n",
    "                Node(5),\n",
    "                Node(2, [Node(6)])])\n",
    "\n",
    "print(get_depths(tree)) # [0, 1, 1, 1, 2, 2, 2]"
   ]
  },
  {
   "cell_type": "markdown",
   "metadata": {},
   "source": [
    "The function `get_depths` first creates a list `depths` for storing the depths. Then the function calls the helper function `get_depth_helper` that adds all the depths to the list. Finally the function `get_depths` sorts and returns the list.\n",
    "\n",
    "The function `get_depths_helper` has two additional paramaters: the parameter `depth`, which keeps track of the depth of the current node, and the parameter `depths`, which is a reference to the list of depths. Notice that, since Python passes lists by reference, all the depths are added to the same list defined in the function `get_depth`. This way we can collect data from different function calls to the same list.\n",
    "\n",
    "Below is another way to implement the two functions. This time the function `get_depths_helper` does not get the list as a parameter but returns the list:"
   ]
  },
  {
   "cell_type": "code",
   "execution_count": null,
   "metadata": {},
   "outputs": [],
   "source": [
    "def get_depths(node):\n",
    "    return sorted(get_depths_helper(node, 0))\n",
    "\n",
    "def get_depths_helper(node, depth):\n",
    "    depths = [depth]\n",
    "    for child in node.children:\n",
    "        depths += get_depths_helper(child, depth + 1)\n",
    "    return depths"
   ]
  },
  {
   "cell_type": "markdown",
   "metadata": {},
   "source": [
    "Now the function `get_depths_helper` creates a list initially containing the depth of the current node. Then the function computes the lists for the child subtrees recursively and adds those lists into its own list. The function `get_depths` gets the list of depths from the helper function and returns it in sorted order."
   ]
  },
  {
   "cell_type": "markdown",
   "metadata": {},
   "source": [
    "## Improving the class"
   ]
  },
  {
   "cell_type": "markdown",
   "metadata": {},
   "source": [
    "Let us return to the definition of the class `Node`:"
   ]
  },
  {
   "cell_type": "code",
   "execution_count": null,
   "metadata": {},
   "outputs": [],
   "source": [
    "class Node:\n",
    "    def __init__(self, value, children=[]):\n",
    "        self.value = value\n",
    "        self.children = children\n",
    "        \n",
    "    def __repr__(self):\n",
    "        return str(self.value)  "
   ]
  },
  {
   "cell_type": "markdown",
   "metadata": {},
   "source": [
    "As we have seen, the class works well in many cases, but there is feature of Python that can cause problems in some cases. The following code illustrates this:"
   ]
  },
  {
   "cell_type": "code",
   "execution_count": null,
   "metadata": {},
   "outputs": [],
   "source": [
    "node1 = Node(1)\n",
    "node2 = Node(2)\n",
    "\n",
    "node1.children.append(node2)\n",
    "\n",
    "print(node1.children) # [2]\n",
    "print(node2.children) # [2]"
   ]
  },
  {
   "cell_type": "markdown",
   "metadata": {},
   "source": [
    "Here we create two nodes without children and then add the node 2 as a child of the node 1. Surprisingly, this has the effect of adding the node 2 as its own child too.\n",
    "\n",
    "This effect is caused by the default parameter `[]`, which is created only once and *shared* between all calls of the method. Thus both nodes refer to the same empty list and any additions to the list are seen by both nodes.\n",
    "\n",
    "We can fix the issue by modifying the constructor as follows:"
   ]
  },
  {
   "cell_type": "code",
   "execution_count": null,
   "metadata": {},
   "outputs": [],
   "source": [
    "class Node:\n",
    "    def __init__(self, value, children=None):\n",
    "        self.value = value\n",
    "        self.children = children if children else []\n",
    "        \n",
    "    def __repr__(self):\n",
    "        return str(self.value)   "
   ]
  },
  {
   "cell_type": "markdown",
   "metadata": {},
   "source": [
    "Now the default value of the parameter `children` is `None`. If no parameter is supplied, the method creates an empty list. After this modification, each node gets its own empty list and the code works as expected:"
   ]
  },
  {
   "cell_type": "code",
   "execution_count": null,
   "metadata": {},
   "outputs": [],
   "source": [
    "node1 = Node(1)\n",
    "node2 = Node(2)\n",
    "\n",
    "node1.children.append(node2)\n",
    "\n",
    "print(node1.children) # [2]\n",
    "print(node2.children) # []"
   ]
  },
  {
   "cell_type": "markdown",
   "metadata": {},
   "source": [
    "A second issue with the class is that printing a node prints only the node value and no information about its children:"
   ]
  },
  {
   "cell_type": "code",
   "execution_count": null,
   "metadata": {},
   "outputs": [],
   "source": [
    "tree = Node(1, [Node(2, [Node(3), Node(4)]), Node(5)])\n",
    "print(tree) # 1"
   ]
  },
  {
   "cell_type": "markdown",
   "metadata": {},
   "source": [
    "As a principle in Python, the method `__repr__` should return a string that can be used for constructing the object. This is not the case with the above method `__repr__`.\n",
    "\n",
    "We can fix this as follows:"
   ]
  },
  {
   "cell_type": "code",
   "execution_count": 14,
   "metadata": {},
   "outputs": [],
   "source": [
    "class Node:\n",
    "    def __init__(self, value, children=None):\n",
    "        self.value = value\n",
    "        self.children = children if children else []\n",
    "        \n",
    "    def __repr__(self):\n",
    "        if self.children == []:\n",
    "            return f\"Node({self.value})\"\n",
    "        else:\n",
    "            return f\"Node({self.value}, {self.children})\""
   ]
  },
  {
   "cell_type": "markdown",
   "metadata": {},
   "source": [
    "Now printing a node outputs a string that includes all the nodes in the child subtrees too and that could be used for creating the object:"
   ]
  },
  {
   "cell_type": "code",
   "execution_count": 15,
   "metadata": {},
   "outputs": [
    {
     "name": "stdout",
     "output_type": "stream",
     "text": [
      "Node(1, [Node(2, [Node(3), Node(4)]), Node(5)])\n"
     ]
    }
   ],
   "source": [
    "tree = Node(1, [Node(2, [Node(3), Node(4)]), Node(5)])\n",
    "print(tree) # Node(1, [Node(2, [Node(3), Node(4)]), Node(5)])"
   ]
  },
  {
   "cell_type": "markdown",
   "metadata": {},
   "source": [
    "## Example: Employees"
   ]
  },
  {
   "cell_type": "markdown",
   "metadata": {},
   "source": [
    "Trees can be used for representing hierarchical structures. For example, the personel structure of an organization could be represented as a tree, where each employee is a node, and the children of the node are the subordinates of the employee.\n",
    "\n",
    "The following class can be used for storing the name of an employee and a list of the employee’s subordinates:"
   ]
  },
  {
   "cell_type": "code",
   "execution_count": 16,
   "metadata": {},
   "outputs": [],
   "source": [
    "class Employee:\n",
    "    def __init__(self, name, subordinates=[]):\n",
    "        self.name = name\n",
    "        self.subordinates = subordinates\n",
    "        \n",
    "    def __repr__(self):\n",
    "        return self.name"
   ]
  },
  {
   "cell_type": "markdown",
   "metadata": {},
   "source": [
    "The class can be used as follows:"
   ]
  },
  {
   "cell_type": "code",
   "execution_count": 17,
   "metadata": {},
   "outputs": [
    {
     "name": "stdout",
     "output_type": "stream",
     "text": [
      " Emilia\n",
      "     Antti\n",
      "     Leena\n",
      "         Jussi\n",
      "     Matti\n",
      "         Sasu\n"
     ]
    }
   ],
   "source": [
    "def list_employees(employee, level=0):\n",
    "    print(\" \"*(level*4), employee)\n",
    "    for subordinate in employee.subordinates:\n",
    "        list_employees(subordinate, level + 1)\n",
    "\n",
    "staff = Employee(\"Emilia\",\n",
    "                 [\n",
    "                    Employee(\"Antti\"),\n",
    "                    Employee(\"Leena\", [Employee(\"Jussi\")]),\n",
    "                    Employee(\"Matti\", [Employee(\"Sasu\")])\n",
    "                 ])\n",
    "\n",
    "list_employees(staff)"
   ]
  },
  {
   "cell_type": "markdown",
   "metadata": {},
   "source": [
    "The output of the code is as follows:\n",
    "\n",
    "```bash\n",
    "Emilia\n",
    "    Antti\n",
    "    Leena\n",
    "        Jussi\n",
    "    Matti\n",
    "        Sasu\n",
    "```"
   ]
  },
  {
   "cell_type": "markdown",
   "metadata": {},
   "source": [
    "## Example: Queens"
   ]
  },
  {
   "cell_type": "markdown",
   "metadata": {},
   "source": [
    "A systematic iteration of possible solutions to a problem can often be seen as a traversal of a tree. This technique of solving a problem is knowns as *backtracking*. Let us consider the following problem as an example:"
   ]
  },
  {
   "attachments": {
    "image.png": {
     "image/png": "[encoded data removed]"
    }
   },
   "cell_type": "markdown",
   "metadata": {},
   "source": [
    "**Task**\n",
    "\n",
    "How many ways can you place $n$ queens on an $n \\times n$ chess board so that no two queens attack each other? Two queens attack each other if they are on the same row, column or diagonal.\n",
    "\n",
    "For example, when $n=4$, there are $2$ solutions:\n",
    "\n",
    "![Queen.png](attachment:image.png)"
   ]
  },
  {
   "attachments": {
    "image.png": {
     "image/png": "[encoded data removed]"
    }
   },
   "cell_type": "markdown",
   "metadata": {},
   "source": [
    "We can solve the task by traversing a tree, where the root represents an empty board. Each non-root node represents a board obtained by modifiying the board of its parent by adding one more queen to an empty row. The following image shows a part of the tree corresponding to the case $n=4$:\n",
    "\n",
    "![Queen-Solution.png](attachment:image.png)\n",
    "\n",
    "By traversing the tree, we will encounter all the valid solutions with $n$ queens that do not attack each other, and we can count them. We will also encounter invalid solutions, where two queens attack each other, and partial solutions with less than $n$ queens. The invalid solutions are discarded and the partial solutions are extended by adding more queens. Notice that the tree is never stored explicitly in memory but is build during the traversal.\n",
    "\n",
    "The following code implements the traversal:"
   ]
  },
  {
   "cell_type": "code",
   "execution_count": 1,
   "metadata": {},
   "outputs": [
    {
     "name": "stdout",
     "output_type": "stream",
     "text": [
      "0\n",
      "2\n",
      "92\n"
     ]
    }
   ],
   "source": [
    "def count_queens(n):\n",
    "    return count(n, 0, [])\n",
    "\n",
    "def count(n, row, queens):\n",
    "    if row == n:\n",
    "        return 1\n",
    "    result = 0\n",
    "    for col in range(n):\n",
    "        attacks = [attack(queen, (row, col)) for queen in queens]\n",
    "        if not any(attacks):\n",
    "            result += count(n, row + 1, queens + [(row, col)])\n",
    "    return result\n",
    "\n",
    "def attack(queen1, queen2):\n",
    "    if queen1[0] == queen2[0] or queen1[1] == queen2[1]:\n",
    "        return True\n",
    "    if abs(queen1[0] - queen2[0]) == abs(queen1[1] - queen2[1]):\n",
    "        return True\n",
    "    return False\n",
    "\n",
    "print(count_queens(2)) # 0\n",
    "print(count_queens(4)) # 2\n",
    "print(count_queens(8)) # 92"
   ]
  },
  {
   "cell_type": "markdown",
   "metadata": {},
   "source": [
    "The function `count` is given three parameters: the size of the board, the next empty row and the list of queens already placed on the board. The rows and columns are numbered $0 \\dots n-1$ and the queens are represented as pairs $(y,x)$, where $y$ is the row and $x$ is the column of the queen’s location. The function goes through all the columns, checks if a new queen can be placed at the column without attacking any other queens, and if it can, processes that placement recursively.\n",
    "\n",
    "The function `attack` handles the attack checks. The condition on the first line checks if the two queens are on the same row or the same column. The second condition checks if the queens attack each other diagonally: they do if their horizontal and vertical coordinates differ by the same amount.\n",
    "\n",
    "The function `any` in the code returns `True` if the given list contains `True` at least once. Thus `not any(attacks)` means that the list `attacks` contains only `False` values, i.e., that the new queen attacks none of the previously placed queens."
   ]
  }
 ],
 "metadata": {
  "kernelspec": {
   "display_name": "Python 3",
   "language": "python",
   "name": "python3"
  },
  "language_info": {
   "codemirror_mode": {
    "name": "ipython",
    "version": 3
   },
   "file_extension": ".py",
   "mimetype": "text/x-python",
   "name": "python",
   "nbconvert_exporter": "python",
   "pygments_lexer": "ipython3",
   "version": "3.12.3"
  }
 },
 "nbformat": 4,
 "nbformat_minor": 2
}
