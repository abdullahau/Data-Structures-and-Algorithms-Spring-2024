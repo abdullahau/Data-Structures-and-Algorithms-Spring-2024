{
 "cells": [
  {
   "cell_type": "markdown",
   "metadata": {},
   "source": [
    "# Sorting"
   ]
  },
  {
   "cell_type": "markdown",
   "metadata": {},
   "source": [
    "*Sorting* is a classical algorithmic problem where the goal is to reorder the elements according to their value. There are efficient algorithms for sorting in $O(n \\log n)$ time.\n",
    "\n",
    "In this chapter, we will see how to do sorting in Python and how sorting can be utilized in implementing efficient algorithms. We will also take a look at a bit of the theory of sorting and some common sorting algorithms."
   ]
  },
  {
   "cell_type": "markdown",
   "metadata": {},
   "source": [
    "## Sorting in Python"
   ]
  },
  {
   "cell_type": "markdown",
   "metadata": {},
   "source": [
    "A Python list can be sorted with the method `sort`:"
   ]
  },
  {
   "cell_type": "code",
   "execution_count": null,
   "metadata": {},
   "outputs": [],
   "source": [
    "numbers = [4, 2, 1, 2]\n",
    "numbers.sort()\n",
    "print(numbers) # [1, 2, 2, 4]"
   ]
  },
  {
   "cell_type": "markdown",
   "metadata": {},
   "source": [
    "In addition, Python has the function `sorted` that returns a sorted list:"
   ]
  },
  {
   "cell_type": "code",
   "execution_count": null,
   "metadata": {},
   "outputs": [],
   "source": [
    "numbers = [4, 2, 1, 2]\n",
    "print(sorted(numbers)) # [1, 2, 2, 4]"
   ]
  },
  {
   "cell_type": "markdown",
   "metadata": {},
   "source": [
    "The difference between the two ways of sorting a list is that the method `sort` modifies the list while the function `sorted` creates a new list and leaves the original list unmodified.\n",
    "\n",
    "The time complexity of both the method `sort` and the function `sorted` is $O(n \\log n)$ allowing their use within efficient algorithms."
   ]
  },
  {
   "cell_type": "markdown",
   "metadata": {},
   "source": [
    "## Example: Smallest difference"
   ]
  },
  {
   "cell_type": "markdown",
   "metadata": {},
   "source": [
    "**Task**\n",
    "\n",
    "You are given a list of numbers. What is the smallest difference between two elements?\n",
    "\n",
    "For example, whe the list is $[4,1,7,3,9]$, the desired answer is $1$, because the smallest difference is between the numbers $3$ and $4$."
   ]
  },
  {
   "cell_type": "markdown",
   "metadata": {},
   "source": [
    "In a sorted list, the smallest difference is always between two adjacent elements. Thus we can solve the problem efficiently by sorting the list and going through all pairs of adjacent elements. For example, sorting the list $[4,1,7,3,9]$ produces the list $[1,3,4,7,9]$, where the elements $3$ and $4$ with the smallest difference are adjacent.\n",
    "\n",
    "The following function `min_diff` implements the algorithm:"
   ]
  },
  {
   "cell_type": "code",
   "execution_count": null,
   "metadata": {},
   "outputs": [],
   "source": [
    "def min_diff(numbers):\n",
    "    numbers = sorted(numbers)\n",
    "\n",
    "    result = numbers[1] - numbers[0]\n",
    "    for i in range(2, len(numbers)):\n",
    "        result = min(result, numbers[i] - numbers[i - 1])\n",
    "    \n",
    "    return result"
   ]
  },
  {
   "cell_type": "markdown",
   "metadata": {},
   "source": [
    "The algorithm first sorts the list using the function `sorted` and then computes the smallest difference of adjacent elements into the the variable `result`.\n",
    "\n",
    "The sorting takes $O(n \\log n)$ time and going through the list takes $O(n)$ time, which gives $O(n \\log n)$ as the total time complexity of the algorithm."
   ]
  },
  {
   "cell_type": "markdown",
   "metadata": {},
   "source": [
    "## Avoiding side effects"
   ]
  },
  {
   "cell_type": "markdown",
   "metadata": {},
   "source": [
    "Notice that we could have used the method `sort` instead of the function `sorted`:"
   ]
  },
  {
   "cell_type": "code",
   "execution_count": null,
   "metadata": {},
   "outputs": [],
   "source": [
    "def min_diff(numbers):\n",
    "    numbers.sort()\n",
    "    ..."
   ]
  },
  {
   "cell_type": "markdown",
   "metadata": {},
   "source": [
    "The trouble with this, however, is the side effect of modifying the list, which affects the list outside the function `min_diff` too. The following code segments illustrate why this is undesirable:\n",
    "\n",
    "Using `sort`"
   ]
  },
  {
   "cell_type": "code",
   "execution_count": null,
   "metadata": {},
   "outputs": [],
   "source": [
    "numbers = [4, 1, 7, 3,9]\n",
    "print(min_diff(numbers)) # 1\n",
    "print(numbers) # [1, 3, 4, 7, 9]"
   ]
  },
  {
   "cell_type": "markdown",
   "metadata": {},
   "source": [
    "Using `sorted`"
   ]
  },
  {
   "cell_type": "code",
   "execution_count": null,
   "metadata": {},
   "outputs": [],
   "source": [
    "numbers = [4, 1, 7, 3,9]\n",
    "print(min_diff(numbers)) # 1\n",
    "print(numbers) # [4, 1, 7, 3,9]"
   ]
  },
  {
   "cell_type": "markdown",
   "metadata": {},
   "source": [
    "When using the method `sort`, the ordering of the list changes, which may come as a surprise for someone who knows what the function `min_diff` does (returns the smallest difference) but not how it does it. It is better to avoid this side effect by using the function `sorted`."
   ]
  },
  {
   "cell_type": "markdown",
   "metadata": {},
   "source": [
    "## Hashing vs. sorting"
   ]
  },
  {
   "cell_type": "markdown",
   "metadata": {},
   "source": [
    "Many tasks have two possibilities for an efficient solution: hashing and sorting. Let us consider an example that we solved with hashing earlier:"
   ]
  },
  {
   "cell_type": "markdown",
   "metadata": {},
   "source": [
    "**Task**\n",
    "\n",
    "You are given a list of numbers. How many distinct numbers does it contain?\n",
    "\n",
    "For example, when the list is $[3,1,2,1,5,2,2,3]$, the desired answer is $4$, because the distinct numbers are $1$, $2$, $3$ and $5$."
   ]
  },
  {
   "cell_type": "markdown",
   "metadata": {},
   "source": [
    "Below is the earlier solution using hashing:\n",
    "\n",
    "**Algorithm 1**"
   ]
  },
  {
   "cell_type": "code",
   "execution_count": null,
   "metadata": {},
   "outputs": [],
   "source": [
    "def count_distinct(numbers):\n",
    "    seen = set()\n",
    "\n",
    "    for x in numbers:\n",
    "        seen.add(x)\n",
    "\n",
    "    return len(seen)"
   ]
  },
  {
   "cell_type": "markdown",
   "metadata": {},
   "source": [
    "An alternative solution uses sorting. Since equal numbers are contiguous in a sorted list, we can go through the sorted list and increment a counter whenever the number changes.\n",
    "\n",
    "Below is the algorithm that uses sorting:\n",
    "\n",
    "**Algorithm 2**"
   ]
  },
  {
   "cell_type": "code",
   "execution_count": null,
   "metadata": {},
   "outputs": [],
   "source": [
    "def count_distinct(numbers):\n",
    "    numbers = sorted(numbers)\n",
    "   \n",
    "    result = 1\n",
    "    for i in range(1, len(numbers)):\n",
    "        if numbers[i] != numbers[i - 1]:\n",
    "            result += 1\n",
    "\n",
    "    return result"
   ]
  },
  {
   "cell_type": "markdown",
   "metadata": {},
   "source": [
    "The time complexity is $O(n)$ when using hashing and $O(n \\log n)$ when using sorting, but how fast are they in practice?\n",
    "\n",
    "Let us do a comparison test. Since both algorithms are efficient, we can use large test inputs ($n=10^7$). The input list contains random numbers in the range $1 \\dots k$ for some integer $k$. By varying the value of $k$, we can control how many of the numbers are equal, which might affect the running time.\n",
    "\n",
    "Here are the test results for the test computer:\n",
    "\n",
    "| Upper bound $k$ | Algorithm 1 (hashing) | Algorithm 2 (sorting) |\n",
    "| --- | --- | --- |\n",
    "| $10^3$ | 0.46 s | 3.18 s |\n",
    "| $10^4$ | 0.56 s | 4.50 s |\n",
    "| $10^5$ | 1.16 s | 5.74 s |\n",
    "| $10^6$ | 2.56 s | 6.38 s |\n",
    "| $10^7$ | 2.56 s | 6.48 s |\n",
    "\n",
    "In this case, the algorithm using hashing appears to be more efficient. It is also slightly shorter and simpler."
   ]
  },
  {
   "cell_type": "markdown",
   "metadata": {},
   "source": [
    "## More about sorting"
   ]
  },
  {
   "cell_type": "markdown",
   "metadata": {},
   "source": [
    "### Sorting into reverse order"
   ]
  },
  {
   "cell_type": "markdown",
   "metadata": {},
   "source": [
    "The parameter `reverse` changes the ordering from ascending to descending:"
   ]
  },
  {
   "cell_type": "code",
   "execution_count": null,
   "metadata": {},
   "outputs": [],
   "source": [
    "numbers = [2, 4, 3, 5, 6, 1, 8, 7]\n",
    "numbers.sort(reverse=True)\n",
    "print(numbers) # [8, 7, 6, 5, 4, 3, 2, 1]"
   ]
  },
  {
   "cell_type": "markdown",
   "metadata": {},
   "source": [
    "### Multipart elements"
   ]
  },
  {
   "cell_type": "markdown",
   "metadata": {},
   "source": [
    "If the elements to be sorted are tuples or lists, the first element of the tuple or list is the primary sorting key, the second element is the secondary key, etc..\n",
    "\n",
    "For example, a list of pairs gets sorted as follows:"
   ]
  },
  {
   "cell_type": "code",
   "execution_count": null,
   "metadata": {},
   "outputs": [],
   "source": [
    "pairs = [(3, 5), (1, 3), (1, 2), (2, 4)]\n",
    "pairs.sort()\n",
    "print(pairs) # [(1, 2), (1, 3), (2, 4), (3, 5)]"
   ]
  },
  {
   "cell_type": "markdown",
   "metadata": {},
   "source": [
    "### Element comparisons"
   ]
  },
  {
   "cell_type": "markdown",
   "metadata": {},
   "source": [
    "The parameter `key` can be used for defining a function that is applied to each element before any comparison. Below is an example of using the parameter:"
   ]
  },
  {
   "cell_type": "code",
   "execution_count": null,
   "metadata": {},
   "outputs": [],
   "source": [
    "numbers = [4, -1, 6, 2, -7, 8, 3, -5]\n",
    "numbers.sort(key=abs)\n",
    "print(numbers) # [-1, 2, 3, 4, -5, 6, -7, 8]"
   ]
  },
  {
   "cell_type": "markdown",
   "metadata": {},
   "source": [
    "Here the key function is `abs` (absolute value), which causes the sorting to ignore the minus signs."
   ]
  },
  {
   "cell_type": "markdown",
   "metadata": {},
   "source": [
    "### Own class"
   ]
  },
  {
   "cell_type": "markdown",
   "metadata": {},
   "source": [
    "In Python, objects of a class can be sorted if the class defines sufficient methods for comparing objects. For example, it is enough to define the methods `__eq__` and `__lt__`, which are called when the objects are compared with the operators `==` and `<`. The following code illustrates this:"
   ]
  },
  {
   "cell_type": "code",
   "execution_count": null,
   "metadata": {},
   "outputs": [],
   "source": [
    "class Location:\n",
    "    def __init__(self, x, y):\n",
    "        self.x = x\n",
    "        self.y = y\n",
    "\n",
    "    def __eq__(self, other):\n",
    "        return (self.x, self.y) == (other.x, other.y)\n",
    "\n",
    "    def __lt__(self, other):\n",
    "        return (self.x, self.y) < (other.x, other.y)\n",
    "\n",
    "    def __repr__(self):\n",
    "        return str((self.x, self.y))\n",
    "\n",
    "locations = []\n",
    "locations.append(Location(1, 4))\n",
    "locations.append(Location(4, 5))\n",
    "locations.append(Location(2, 2))\n",
    "locations.append(Location(1, 2))\n",
    "\n",
    "locations.sort()\n",
    "\n",
    "print(locations) # [(1, 2), (1, 4), (2, 2), (4, 5)]"
   ]
  },
  {
   "cell_type": "markdown",
   "metadata": {},
   "source": [
    "## Example: Restaurant"
   ]
  },
  {
   "cell_type": "markdown",
   "metadata": {},
   "source": [
    "**Task**\n",
    "\n",
    "A restaurant is visited by $n$ customers during a given day, and you know the arrival and departure time of each customer. If a customer departs at the same moment as another arrives, they are both considered to be in the restaurant at that moment. Your task is to find out the highest number of customers that are in the restaurant at the same time.\n",
    "\n",
    "Consider the following example case:\n",
    "\n",
    "| Customer | Arrival time | Departure time |\n",
    "| --- | --- | --- |\n",
    "| #1 | 6 | 8 |\n",
    "| #2 | 3 | 7 |\n",
    "| #3 | 6 | 9 |\n",
    "| #4 | 1 | 5 |\n",
    "| #5 | 2 | 8 |\n",
    "\n",
    "Here the highest number of customers is 4: The customers #1, #2, #3 and #5 are all in the restaurant during the time period 6–7."
   ]
  },
  {
   "cell_type": "code",
   "execution_count": 20,
   "metadata": {},
   "outputs": [
    {
     "name": "stdout",
     "output_type": "stream",
     "text": [
      "1 2 3 4 5 6 7 8 9\n",
      "          * * * \n",
      "    * * * * * \n",
      "          * * * * \n",
      "* * * * * \n",
      "  * * * * * * * \n"
     ]
    }
   ],
   "source": [
    "# Test\n",
    "\n",
    "customer_dict = {1: (6,8), 2: (3,7), 3: (6,9), 4: (1,5), 5: (2,8)}\n",
    "\n",
    "customer_list = [(6,8),(3,7),(6,9),(1,5),(2,8)]\n",
    "\n",
    "print(*range(1,10))\n",
    "for i in customer_list:\n",
    "    print((i[0] - 1) * \"  \" + (i[1] - i[0] + 1) * \"* \")"
   ]
  },
  {
   "cell_type": "code",
   "execution_count": 23,
   "metadata": {},
   "outputs": [
    {
     "name": "stdout",
     "output_type": "stream",
     "text": [
      "{1: 1, 2: 2, 3: 3, 4: 3, 5: 3, 6: 4, 7: 4, 8: 3, 9: 1}\n"
     ]
    }
   ],
   "source": [
    "# Test\n",
    "customer_list = [(6,8),(3,7),(6,9),(1,5),(2,8)]\n",
    "\n",
    "dic = {value: 0 for value in range(1,10)}\n",
    "for i in customer_list:\n",
    "    keys = range(i[0], i[1] + 1)\n",
    "    for k in keys:\n",
    "        dic[k] += 1\n",
    "        \n",
    "print(dic)"
   ]
  },
  {
   "cell_type": "markdown",
   "metadata": {},
   "source": [
    "A useful approach in this kind of a task is to process events in order of time. There are two types of events: customer arrivals and customer departures. With each event the number of customers increases or decreases by one.\n",
    "\n",
    "In our example case, the events are:\n",
    "\n",
    "| Time | Event | Customer count |\n",
    "| --- | --- | --- |\n",
    "| 1 | Customer #4 arrives | 1 |\n",
    "| 2 | Customer #5 arrives | 2 |\n",
    "| 3 | Customer #2 arrives | 3 |\n",
    "| 5 | Customer #4 departs | 2 |\n",
    "| 6 | Customer #1 arrives | 3 |\n",
    "| 6 | Customer #3 arrives | 4 |\n",
    "| 7 | Customer #2 departs | 3 |\n",
    "| 8 | Customer #1 departs | 2 |\n",
    "| 8 | Customer #5 departs | 1 |\n",
    "| 9 | Customer #3 departs | 0 |\n",
    "\n",
    "We can solve the task by creating a list of the customer events and sorting it by time. Then we can go through the list while maintaining a counter of customers.\n",
    "\n",
    "In the following function, the lists `arrivals` and `departures` contain the customer arrival and departure times. In our example case, `arrivals` is `[6, 3, 6, 1, 2]` and `departures` is `[8, 7, 9, 5, 8]`."
   ]
  },
  {
   "cell_type": "code",
   "execution_count": 24,
   "metadata": {},
   "outputs": [
    {
     "data": {
      "text/plain": [
       "4"
      ]
     },
     "execution_count": 24,
     "metadata": {},
     "output_type": "execute_result"
    }
   ],
   "source": [
    "def max_customers(arrivals, departures):\n",
    "    events = []\n",
    "    for time in arrivals:\n",
    "        events.append((time, 1))\n",
    "    for time in departures:\n",
    "        events.append((time, 2))\n",
    "        \n",
    "    events.sort()\n",
    "    \n",
    "    counter = 0\n",
    "    result = 0\n",
    "    for event in events:\n",
    "        if event[1] == 1:\n",
    "            counter += 1\n",
    "        if event[1] == 2:\n",
    "            counter -= 1\n",
    "        result = max(result, counter)\n",
    "        \n",
    "    return result\n",
    "\n",
    "arrivals = [6, 3, 6, 1, 2]\n",
    "departures = [8, 7, 9, 5, 8]\n",
    "\n",
    "max_customers(arrivals, departures)"
   ]
  },
  {
   "cell_type": "markdown",
   "metadata": {},
   "source": [
    "The function creates the list `events` and adds the customer arrival and departure events to the list as pairs. An arrival is represented as a pair `(time, 1)` and a departure as a pair `(time, 2)`. Then the list of events is sorted using the time as the primary key.\n",
    "\n",
    "Next the function goes through the list of events while keeping track of the customer count in the variable `counter`. The variable `result` stores the highest customer count encountered so far.\n",
    "\n",
    "The resulting algorithm consists of three parts. Creating the event list takes $O(n)$ time, since there are two events for each customer. Sorting the events list takes $O(n \\log n)$ time, and finally, iterating through the events takes $O(n)$ time. Thus the total time complexity of the algorithm is $O(n \\log n)$."
   ]
  },
  {
   "cell_type": "markdown",
   "metadata": {},
   "source": [
    "## How is sorting done?"
   ]
  },
  {
   "cell_type": "markdown",
   "metadata": {},
   "source": [
    "A sorting algorithm is given a list of elements and the goal is to reorder them by their value. A typical algorithm can compare elements to each other and move elements to a different position in the list.\n",
    "\n",
    "Simple sorting algorithms compare adjacent elements and swap them when needed. Their time complexity is $O(n^2)$. One such algorithm is [insertion sort](5a.%20Insertion%20sort.ipynb) that processes the elements from left to right and moves each element to its correct position among the already processed elements.\n",
    "\n",
    "There are also efficient algorithms with time complexity $O(n \\log n)$. One such algorithm is [merge sort](5b.%20Merge%20sort.ipynb) that starts by sorting the first half and the second half of the list separately using recursion, and then merges the two halfs into a single sorted list.\n",
    "\n",
    "The Python sorting algorithm, called *Timsort*, is a variant of merge sort but utilizes insertion sort too. Its time complexity is $O(n \\log n)$, and it is designed to operate particularly fast in certain situations that are common in real life data.\n",
    "\n",
    "There can be no general purpose sorting algorithm with a time complexity better than $O(n \\log n)$. This can be shown by [proving a lower bound](https://tira.mooc.fi/spring-2024/sorting-lowerbound) for how many comparisons is needed for sorting in the worst case."
   ]
  },
  {
   "cell_type": "markdown",
   "metadata": {},
   "source": [
    "### What happens during sorting?"
   ]
  },
  {
   "cell_type": "markdown",
   "metadata": {},
   "source": [
    "The following code can be used for finding out what happens when Python sorts a list:"
   ]
  },
  {
   "cell_type": "code",
   "execution_count": null,
   "metadata": {},
   "outputs": [],
   "source": [
    "import functools\n",
    "\n",
    "def cmp(a, b):\n",
    "    print(\"compare\", a, b)\n",
    "    return a - b\n",
    "\n",
    "numbers = [4, 1, 3, 2]\n",
    "numbers.sort(key=functools.cmp_to_key(cmp))\n",
    "print(numbers)"
   ]
  },
  {
   "cell_type": "markdown",
   "metadata": {},
   "source": [
    "When the method `sort` is called as above, it compares the elements on the list by calling the function `cmp`. The function `cmp` takes the elements `a` and `b` as parameters and must return\n",
    "\n",
    "-   a negative value if `a` is smaller than `b`,\n",
    "-   a positive value if `a` is bigger than `b`, and\n",
    "-   zero if `a` and `b` are equal.\n",
    "\n",
    "Here `cmp` has been implemented so that it returns the value of the expression `a - b`.\n",
    "\n",
    "The method `sort` changes the ordering of the elements based on the calls to the function `cmp`. Here the function `cmp` prints out all the comparisons it makes, which provides us with information on comparisons made by the sorting algorithm. The output of the code is as follows:\n",
    "\n",
    "```\n",
    "compare 1 4\n",
    "compare 3 1\n",
    "compare 3 4\n",
    "compare 3 1\n",
    "compare 2 3\n",
    "compare 2 1\n",
    "[1, 2, 3, 4]\n",
    "```\n",
    "\n",
    "This means that the method `sort` first compares the numbers 1 and 4, then the numbers 3 and 1, and so on. The method needs six comparisons to complete the sorting."
   ]
  },
  {
   "cell_type": "markdown",
   "metadata": {},
   "source": [
    "## Sorting in other languages"
   ]
  },
  {
   "cell_type": "markdown",
   "metadata": {},
   "source": [
    "Different programming languages have different ways of doing sorting. The sorting can be based on different algorithms, but typically built-in implementations use efficient algorithms and are well tuned for fast performance.\n",
    "\n",
    "C++ has the function `std::sort` that is given an iterator to the beginning and to the end of the interval to be sorted. The function is used as follows:"
   ]
  },
  {
   "cell_type": "markdown",
   "metadata": {},
   "source": [
    "```c++\n",
    "std::vector<int> numbers;\n",
    "...\n",
    "std::sort(numbers.begin(), numbers.end());\n",
    "```"
   ]
  },
  {
   "cell_type": "markdown",
   "metadata": {},
   "source": [
    "Java has the method `sort` of the `Collections` class:"
   ]
  },
  {
   "cell_type": "markdown",
   "metadata": {},
   "source": [
    "```java\n",
    "ArrayList<Integer> numbers = new ArrayList<>();\n",
    "...\n",
    "Collections.sort(numbers);\n",
    "```"
   ]
  },
  {
   "cell_type": "markdown",
   "metadata": {},
   "source": [
    "In JavaScript, an array is sorted using the method `sort`. Using the method can produce a surprise:"
   ]
  },
  {
   "cell_type": "markdown",
   "metadata": {},
   "source": [
    "```javascript\n",
    "numbers = [2, 11, 1, 3];\n",
    "numbers.sort();\n",
    "console.log(numbers); // [1, 11, 2, 3]\n",
    "```"
   ]
  },
  {
   "cell_type": "markdown",
   "metadata": {},
   "source": [
    "Here a list of integers gets sorted so that the number 11 is before the number 2. This is because the method `sort` treats the elements as strings by default, and the string `11` is smaller than the string `2`. The method can be given an integer comparison function as a parameter as follows:"
   ]
  },
  {
   "cell_type": "markdown",
   "metadata": {},
   "source": [
    "```javascript\n",
    "numbers = [2, 11, 1, 3];\n",
    "numbers.sort((a, b) => a - b);\n",
    "console.log(numbers); // [1, 2, 3, 11]\n",
    "```"
   ]
  }
 ],
 "metadata": {
  "kernelspec": {
   "display_name": "Python 3",
   "language": "python",
   "name": "python3"
  },
  "language_info": {
   "codemirror_mode": {
    "name": "ipython",
    "version": 3
   },
   "file_extension": ".py",
   "mimetype": "text/x-python",
   "name": "python",
   "nbconvert_exporter": "python",
   "pygments_lexer": "ipython3",
   "version": "3.12.3"
  }
 },
 "nbformat": 4,
 "nbformat_minor": 2
}
