{
 "cells": [
  {
   "cell_type": "markdown",
   "metadata": {},
   "source": [
    "# Hashing"
   ]
  },
  {
   "cell_type": "markdown",
   "metadata": {},
   "source": [
    "*Hashing* is a technique that is frequently used in implementing efficient algorithms. In Python, the data structures `set` and `dict` (dictionary) are based on hashing.\n",
    "\n",
    "In this chapter, we take a look at data structures based on hashing and their use in algorithm design. We will also cover some theory underlying the data structures."
   ]
  },
  {
   "cell_type": "markdown",
   "metadata": {},
   "source": [
    "## Set"
   ]
  },
  {
   "cell_type": "markdown",
   "metadata": {},
   "source": [
    "The Python data structure `set`, based on hashing, maintains a set of elements. The operations on the data structure include:\n",
    "\n",
    "- the method `add` adds an element to the set\n",
    "- the operator `in` finds if a given element is in the set\n",
    "- the method `remove` removes an element from the set\n",
    "  \n",
    "The data structure is implemented so that all of the above operations take $O(1)$ time."
   ]
  },
  {
   "cell_type": "markdown",
   "metadata": {},
   "source": [
    "### Example"
   ]
  },
  {
   "cell_type": "markdown",
   "metadata": {},
   "source": [
    "The following code creates a set `numbers` and adds elements to the set:"
   ]
  },
  {
   "cell_type": "code",
   "execution_count": 1,
   "metadata": {},
   "outputs": [
    {
     "name": "stdout",
     "output_type": "stream",
     "text": [
      "{1, 2, 3}\n"
     ]
    }
   ],
   "source": [
    "numbers = set()\n",
    "\n",
    "numbers.add(1)\n",
    "numbers.add(2)\n",
    "numbers.add(3)\n",
    "\n",
    "print(numbers) # {1, 2, 3}"
   ]
  },
  {
   "cell_type": "markdown",
   "metadata": {},
   "source": [
    "We can also create a set directly from a list:"
   ]
  },
  {
   "cell_type": "code",
   "execution_count": 2,
   "metadata": {},
   "outputs": [
    {
     "name": "stdout",
     "output_type": "stream",
     "text": [
      "{1, 2, 3}\n"
     ]
    }
   ],
   "source": [
    "numbers = set([1, 2, 3])\n",
    "\n",
    "print(numbers) # {1, 2, 3}"
   ]
  },
  {
   "cell_type": "markdown",
   "metadata": {},
   "source": [
    "The operator `in` tests if an element is in the set:"
   ]
  },
  {
   "cell_type": "code",
   "execution_count": 3,
   "metadata": {},
   "outputs": [
    {
     "name": "stdout",
     "output_type": "stream",
     "text": [
      "True\n",
      "False\n"
     ]
    }
   ],
   "source": [
    "print(3 in numbers) # True\n",
    "print(4 in numbers) # False"
   ]
  },
  {
   "cell_type": "markdown",
   "metadata": {},
   "source": [
    "And we can remove an element from the set with the method `remove`:"
   ]
  },
  {
   "cell_type": "code",
   "execution_count": 4,
   "metadata": {},
   "outputs": [
    {
     "name": "stdout",
     "output_type": "stream",
     "text": [
      "{1, 2, 3}\n",
      "{1, 3}\n"
     ]
    }
   ],
   "source": [
    "print(numbers) # {1, 2, 3}\n",
    "numbers.remove(2)\n",
    "print(numbers) # {1, 3}"
   ]
  },
  {
   "cell_type": "markdown",
   "metadata": {},
   "source": [
    "### List vs. set"
   ]
  },
  {
   "cell_type": "markdown",
   "metadata": {},
   "source": [
    "A list and a set are similar data structures in that both maintain a collection of elements and support additions and removals. However, there are significant differences in their efficiency and other properties."
   ]
  },
  {
   "cell_type": "markdown",
   "metadata": {},
   "source": [
    "#### Efficiency"
   ]
  },
  {
   "cell_type": "markdown",
   "metadata": {},
   "source": [
    "Adding an element to a list is efficient, but finding an element and removing it can be slow.\n",
    "\n",
    "With a set, adding elements, finding elements and removing elements are all efficient operations.\n",
    "\n",
    "| Operation               | List   | Set    |\n",
    "| ----------------------- | ------ | ------ |\n",
    "| Adding (`append`/`add`) | $O(1)$ | $O(1)$ |\n",
    "| Finding (`in`)          | $O(n)$ | $O(1)$ |\n",
    "| Removing (`remove`)     | $O(n)$ | $O(1)$ |"
   ]
  },
  {
   "cell_type": "markdown",
   "metadata": {},
   "source": [
    "#### Indexing"
   ]
  },
  {
   "cell_type": "markdown",
   "metadata": {},
   "source": [
    "In a list, elements can be accessed using an index:"
   ]
  },
  {
   "cell_type": "code",
   "execution_count": 5,
   "metadata": {},
   "outputs": [
    {
     "name": "stdout",
     "output_type": "stream",
     "text": [
      "2\n"
     ]
    }
   ],
   "source": [
    "numbers = [1, 2, 3]\n",
    "print(numbers[1]) # 2"
   ]
  },
  {
   "cell_type": "markdown",
   "metadata": {},
   "source": [
    "A set does not support indexing:"
   ]
  },
  {
   "cell_type": "code",
   "execution_count": 6,
   "metadata": {},
   "outputs": [
    {
     "ename": "TypeError",
     "evalue": "'set' object is not subscriptable",
     "output_type": "error",
     "traceback": [
      "\u001b[1;31m---------------------------------------------------------------------------\u001b[0m",
      "\u001b[1;31mTypeError\u001b[0m                                 Traceback (most recent call last)",
      "Cell \u001b[1;32mIn[6], line 2\u001b[0m\n\u001b[0;32m      1\u001b[0m numbers \u001b[38;5;241m=\u001b[39m \u001b[38;5;28mset\u001b[39m([\u001b[38;5;241m1\u001b[39m, \u001b[38;5;241m2\u001b[39m, \u001b[38;5;241m3\u001b[39m])\n\u001b[1;32m----> 2\u001b[0m \u001b[38;5;28mprint\u001b[39m(\u001b[43mnumbers\u001b[49m\u001b[43m[\u001b[49m\u001b[38;5;241;43m1\u001b[39;49m\u001b[43m]\u001b[49m) \u001b[38;5;66;03m# TypeError: 'set' object is not subscriptable\u001b[39;00m\n",
      "\u001b[1;31mTypeError\u001b[0m: 'set' object is not subscriptable"
     ]
    }
   ],
   "source": [
    "numbers = set([1, 2, 3])\n",
    "print(numbers[1]) # TypeError: 'set' object is not subscriptable"
   ]
  },
  {
   "cell_type": "markdown",
   "metadata": {},
   "source": [
    "#### Repeated elements"
   ]
  },
  {
   "cell_type": "markdown",
   "metadata": {},
   "source": [
    "In a list, an element can occur multiple times:"
   ]
  },
  {
   "cell_type": "code",
   "execution_count": 8,
   "metadata": {},
   "outputs": [
    {
     "name": "stdout",
     "output_type": "stream",
     "text": [
      "[5, 5, 5]\n"
     ]
    }
   ],
   "source": [
    "numbers = []\n",
    "\n",
    "numbers.append(5)\n",
    "numbers.append(5)\n",
    "numbers.append(5)\n",
    "\n",
    "print(numbers) # [5, 5, 5]"
   ]
  },
  {
   "cell_type": "markdown",
   "metadata": {},
   "source": [
    "A set contains an element at most once. Adding an element that is already in the set has no effect:"
   ]
  },
  {
   "cell_type": "code",
   "execution_count": 7,
   "metadata": {},
   "outputs": [
    {
     "name": "stdout",
     "output_type": "stream",
     "text": [
      "{5}\n"
     ]
    }
   ],
   "source": [
    "numbers = set()\n",
    "\n",
    "numbers.add(5)\n",
    "numbers.add(5)\n",
    "numbers.add(5)\n",
    "\n",
    "print(numbers) # {5}"
   ]
  },
  {
   "cell_type": "markdown",
   "metadata": {},
   "source": [
    "## Example: How many numbers?"
   ]
  },
  {
   "cell_type": "markdown",
   "metadata": {},
   "source": [
    "**Task**\n",
    "\n",
    "You are given a list of numbers. How many distinct numbers does it contain?\n",
    "\n",
    "For example, when the list is $[3,1,2,1,5,2,2,3]$, the desired answer is $4$, because the distinct numbers are $1$, $2$, $3$ and $5$."
   ]
  },
  {
   "cell_type": "markdown",
   "metadata": {},
   "source": [
    "#### Slow solution (list)"
   ]
  },
  {
   "cell_type": "markdown",
   "metadata": {},
   "source": [
    "We could solve the task using a list as follows:"
   ]
  },
  {
   "cell_type": "code",
   "execution_count": 9,
   "metadata": {},
   "outputs": [],
   "source": [
    "def count_distinct(numbers):\n",
    "    seen = []\n",
    "    for x in numbers:\n",
    "        if x not in seen:\n",
    "            seen.append(x)\n",
    "    return len(seen)"
   ]
  },
  {
   "cell_type": "markdown",
   "metadata": {},
   "source": [
    "The algorithm goes through the numbers and adds a number to a list `seen` if it is not there already. At the end, the length of the list `seen` is the desired answer.\n",
    "\n",
    "This algorithm is correct but not efficient, because every round of the loop calls the operator `in`, which can take $O(n)$ time. Thus the time complexity of the algorithm is $O(n^2)$. However, a simple improvement is to use a set instead of a list."
   ]
  },
  {
   "cell_type": "markdown",
   "metadata": {},
   "source": [
    "#### Efficient solution (set)"
   ]
  },
  {
   "cell_type": "markdown",
   "metadata": {},
   "source": [
    "We can solve the task efficiently using a set as follows:"
   ]
  },
  {
   "cell_type": "code",
   "execution_count": 10,
   "metadata": {},
   "outputs": [],
   "source": [
    "def count_distinct(numbers):\n",
    "    seen = set()\n",
    "    for x in numbers:\n",
    "        if x not in seen:\n",
    "            seen.add(x)\n",
    "    return len(seen)"
   ]
  },
  {
   "cell_type": "markdown",
   "metadata": {},
   "source": [
    "This function almost identical to the preceding one; the only differences are defining `seen` as a set instead of a list and using the method `add` instead of `append`. This change has a big effect on the efficiency of the algorithm. After the change, the operator `in` takes only $O(1)$ time and thus the time complexity of the algorithm is $O(n)$.\n",
    "\n",
    "We can simplify the code further by using the fact that a set contains no duplicates. Thus we can remove the check if an element is already in the set:"
   ]
  },
  {
   "cell_type": "code",
   "execution_count": 11,
   "metadata": {},
   "outputs": [],
   "source": [
    "def count_distinct(numbers):\n",
    "    seen = set()\n",
    "    for x in numbers:\n",
    "        seen.add(x)\n",
    "    return len(seen)"
   ]
  },
  {
   "cell_type": "markdown",
   "metadata": {},
   "source": [
    "We can shorten the code further by creating the set directly from the list. Only one line is needed:"
   ]
  },
  {
   "cell_type": "code",
   "execution_count": 12,
   "metadata": {},
   "outputs": [],
   "source": [
    "def count_distinct(numbers):\n",
    "    return len(set(numbers))"
   ]
  },
  {
   "cell_type": "markdown",
   "metadata": {},
   "source": [
    "## Dictionary"
   ]
  },
  {
   "cell_type": "markdown",
   "metadata": {},
   "source": [
    "The Python data structure `dict` or dictionary is based on hashing and stores key-value pairs. The idea is that we can use the key to retrieve the associated value.\n",
    "\n",
    "A dictionary can be seen as a generalization of a list: In a list, keys are the indices $0…n$, while in a dictionary, keys can be arbitrary objects.\n",
    "\n",
    "Adding, accessing and removing data using a key takes $O(1)$ time."
   ]
  },
  {
   "cell_type": "markdown",
   "metadata": {},
   "source": [
    "### Example"
   ]
  },
  {
   "cell_type": "markdown",
   "metadata": {},
   "source": [
    "The following code creates a dictionary `weights` where the keys are strings and the values are numbers."
   ]
  },
  {
   "cell_type": "code",
   "execution_count": 17,
   "metadata": {},
   "outputs": [],
   "source": [
    "weights = {}\n",
    "\n",
    "weights[\"monkey\"] = 100\n",
    "weights[\"banana\"] = 1\n",
    "weights[\"harpsichord\"] = 500"
   ]
  },
  {
   "cell_type": "markdown",
   "metadata": {},
   "source": [
    "The same dictionary can also be created as follows:"
   ]
  },
  {
   "cell_type": "code",
   "execution_count": 18,
   "metadata": {},
   "outputs": [],
   "source": [
    "weights = {\"monkey\": 100, \"banana\": 1, \"harpsichord\": 500}"
   ]
  },
  {
   "cell_type": "markdown",
   "metadata": {},
   "source": [
    "The values in a dictionary can be used in the same way as the elements of a list:"
   ]
  },
  {
   "cell_type": "code",
   "execution_count": 19,
   "metadata": {},
   "outputs": [
    {
     "name": "stdout",
     "output_type": "stream",
     "text": [
      "100\n",
      "150\n"
     ]
    }
   ],
   "source": [
    "print(weights[\"monkey\"]) # 100\n",
    "weights[\"monkey\"] = 150\n",
    "print(weights[\"monkey\"]) # 150"
   ]
  },
  {
   "cell_type": "markdown",
   "metadata": {},
   "source": [
    "The operator `in` checks if a given key is in the dictionary:"
   ]
  },
  {
   "cell_type": "code",
   "execution_count": 21,
   "metadata": {},
   "outputs": [
    {
     "name": "stdout",
     "output_type": "stream",
     "text": [
      "True\n",
      "False\n"
     ]
    }
   ],
   "source": [
    "print(\"monkey\" in weights) # True\n",
    "print(\"ananas\" in weights) # False"
   ]
  },
  {
   "cell_type": "markdown",
   "metadata": {},
   "source": [
    "The command `del` removes a key and the associated value from a dictionary:"
   ]
  },
  {
   "cell_type": "code",
   "execution_count": 23,
   "metadata": {},
   "outputs": [
    {
     "name": "stdout",
     "output_type": "stream",
     "text": [
      "{'monkey': 150, 'banana': 1, 'harpsichord': 500}\n",
      "{'monkey': 150, 'harpsichord': 500}\n"
     ]
    }
   ],
   "source": [
    "print(weights) # {\"monkey\": 100, \"banana\": 1, \"harpsichord\": 500}\n",
    "del weights[\"banana\"]\n",
    "print(weights) # {\"monkey\": 100, \"harpsichord\": 500}"
   ]
  },
  {
   "cell_type": "markdown",
   "metadata": {},
   "source": [
    "### Using a dictionary"
   ]
  },
  {
   "cell_type": "markdown",
   "metadata": {},
   "source": [
    "We will next take a look at three common ways to use a dictionary in algorithm design."
   ]
  },
  {
   "cell_type": "markdown",
   "metadata": {},
   "source": [
    "#### Has an element occurred"
   ]
  },
  {
   "cell_type": "markdown",
   "metadata": {},
   "source": [
    "A dictionary can be used similarly to a set to keep track of elements that have been seen:"
   ]
  },
  {
   "cell_type": "code",
   "execution_count": null,
   "metadata": {},
   "outputs": [],
   "source": [
    "seen = {}\n",
    "for x in items:\n",
    "    seen[x] = True"
   ]
  },
  {
   "cell_type": "markdown",
   "metadata": {},
   "source": [
    "This code has approximately the same functionality as the following code:"
   ]
  },
  {
   "cell_type": "code",
   "execution_count": null,
   "metadata": {},
   "outputs": [],
   "source": [
    "seen = set()\n",
    "for x in items:\n",
    "    seen.add(x)"
   ]
  },
  {
   "cell_type": "markdown",
   "metadata": {},
   "source": [
    "Indeed, a set can be seen as a special case of a dictionary, where each key is associated with the value `True` (or any fixed value)."
   ]
  },
  {
   "cell_type": "markdown",
   "metadata": {},
   "source": [
    "#### Counting occurrences"
   ]
  },
  {
   "cell_type": "markdown",
   "metadata": {},
   "source": [
    "A common use of dictionaries is counting element occurrences:"
   ]
  },
  {
   "cell_type": "code",
   "execution_count": null,
   "metadata": {},
   "outputs": [],
   "source": [
    "count = {}\n",
    "for x in items:\n",
    "    if x not in count:\n",
    "        count[x] = 0\n",
    "    count[x] += 1"
   ]
  },
  {
   "cell_type": "markdown",
   "metadata": {},
   "source": [
    "This code counts the number of occurrences of each element using the dictionary `count`. If the element is not yet in the dictionary, the code adds the element as a key with the initial count of zero as the associated value. Then the count is incremented by one for every occurrence of the element."
   ]
  },
  {
   "cell_type": "markdown",
   "metadata": {},
   "source": [
    "#### Position of occurrence"
   ]
  },
  {
   "cell_type": "markdown",
   "metadata": {},
   "source": [
    "In some algorithms, it is useful to keep track of where each element has occurred."
   ]
  },
  {
   "cell_type": "code",
   "execution_count": null,
   "metadata": {},
   "outputs": [],
   "source": [
    "pos = {}\n",
    "for i, x in enumerate(items):\n",
    "    pos[x] = i"
   ]
  },
  {
   "cell_type": "markdown",
   "metadata": {},
   "source": [
    "Here the dictionary `pos` stores the index of the most recent occurrence of each element. Using the function `enumerate`, the code iterates through the list `items` so that in each round `i` is the index of an element and `x` is the element itself."
   ]
  },
  {
   "cell_type": "markdown",
   "metadata": {},
   "source": [
    "## Example: Mode"
   ]
  },
  {
   "cell_type": "markdown",
   "metadata": {},
   "source": [
    "**Task**\n",
    "\n",
    "You are given a list of numbers, and your task is to compute the mode, which is the most frequent number on the list. If the mode is not unique, you can choose any of the possible choices for the most frequent number.\n",
    "\n",
    "For example, when the list is $[1,2,3,2,2,3,2,2]$, the desired answer is $2$."
   ]
  },
  {
   "cell_type": "code",
   "execution_count": 33,
   "metadata": {},
   "outputs": [
    {
     "name": "stdout",
     "output_type": "stream",
     "text": [
      "2\n"
     ]
    }
   ],
   "source": [
    "# Using Dictionary - Attempt 1\n",
    "def mode(l):\n",
    "    count = {}\n",
    "    for i in l:\n",
    "        if i not in count:\n",
    "            count[i] = 0\n",
    "        count[i] += 1\n",
    "    max_count = l[0]\n",
    "    for i in count:\n",
    "        if count[max_count] < count[i]:\n",
    "            max_count = i   \n",
    "    return  max_count\n",
    "\n",
    "print(mode([1,2,3,2,2,3,2,2]))"
   ]
  },
  {
   "cell_type": "code",
   "execution_count": 41,
   "metadata": {},
   "outputs": [
    {
     "name": "stdout",
     "output_type": "stream",
     "text": [
      "2\n"
     ]
    }
   ],
   "source": [
    "# Using Dictionary - Attempt 2\n",
    "def mode(l):\n",
    "    count = {i: 0 for i in l}\n",
    "    for i in l:\n",
    "        count[i] += 1\n",
    "    max_count = l[0]\n",
    "    for i in count:\n",
    "        max_count = i if count[max_count] < count[i] else max_count\n",
    "    return max_count\n",
    "\n",
    "print(mode([1,2,3,2,2,3,2,2]))"
   ]
  },
  {
   "cell_type": "code",
   "execution_count": 44,
   "metadata": {},
   "outputs": [
    {
     "name": "stdout",
     "output_type": "stream",
     "text": [
      "2\n"
     ]
    }
   ],
   "source": [
    "# Using Dictionary - Attempt 3\n",
    "def mode(l):\n",
    "    count = {i: 0 for i in set(l)}\n",
    "    for i in l:\n",
    "        count[i] += 1\n",
    "    max_count = l[0]\n",
    "    for i, x in count.items():\n",
    "        if count[max_count] < x:\n",
    "            max_count = i\n",
    "    return max_count\n",
    "\n",
    "print(mode([1,2,3,2,2,3,2,2]))"
   ]
  },
  {
   "cell_type": "markdown",
   "metadata": {},
   "source": [
    "We can solve the task efficiently by using a dictionary to count the number of occurrences:"
   ]
  },
  {
   "cell_type": "code",
   "execution_count": null,
   "metadata": {},
   "outputs": [],
   "source": [
    "def find_mode(numbers):\n",
    "    count = {}\n",
    "    mode = numbers[0]\n",
    "\n",
    "    for x in numbers:\n",
    "        if x not in count:\n",
    "            count[x] = 0\n",
    "        count[x] += 1\n",
    "        \n",
    "        if count[x] > count[mode]:\n",
    "            mode = x\n",
    " \n",
    "    return mode"
   ]
  },
  {
   "cell_type": "markdown",
   "metadata": {},
   "source": [
    "Here `count` is a dictionary that stores the occurrence count for each element, and the variable `mode` stores the mode among the elements seen so far. Initially, `mode` is the first number on the list, and it is updated whenever the just updated count of an element exceeds the count of the current mode. Since the dictionary operations take $O(1)$ time, the time complexity of the algorithm is $O(n)$.\n",
    "\n",
    "Here is another way to implement the algorithm:"
   ]
  },
  {
   "cell_type": "code",
   "execution_count": 45,
   "metadata": {},
   "outputs": [],
   "source": [
    "def find_mode(numbers):\n",
    "    count = {}\n",
    "    mode = (0, 0)\n",
    "\n",
    "    for x in numbers:\n",
    "        if x not in count:\n",
    "            count[x] = 0\n",
    "        count[x] += 1\n",
    "\n",
    "        mode = max(mode, (count[x], x))\n",
    "\n",
    "    return mode[1]"
   ]
  },
  {
   "cell_type": "markdown",
   "metadata": {},
   "source": [
    "Now the variable `mode` is a pair, where the first element is the occurrence count of the mode and the second element is the mode itself. For example, the value `(5, 2)` means that the number `2` has occurred `5` times.\n",
    "\n",
    "The advantage of this implementation is that we can use the function `max` to update the mode. Here `max` uses the first element of the pair as the primary comparison key and the second element as a secondary comparison key. Since the first element is the occurrence count, the pair with the larger count gets chosen by `max`.\n",
    "\n",
    "Notice that the two functions may operate differently when there are multiple choices for the mode. The first function chooses the mode that reaches the final count first. The second function chooses the mode with the largest value, since the value of the mode is used as a secondary comparison key."
   ]
  },
  {
   "cell_type": "markdown",
   "metadata": {},
   "source": [
    "## Example: Rounds"
   ]
  },
  {
   "cell_type": "markdown",
   "metadata": {},
   "source": [
    "**Task**\n",
    "\n",
    "You are given a list that contains the numbers $1,2,…,n$ in some order. Your task is to collect all the numbers in order from smallest to largest so that in each round you go through the list from left to right. How many rounds do you need?\n",
    "\n",
    "For example, the list $[3,6,1,7,5,2,4,8]$ requires $4$ rounds. The first round collects the numbers $1$ and $2$, the second round the numbers $3$ and $4$, the third round the number $5$, and the fourth round the numbers $6$, $7$ and $8$."
   ]
  },
  {
   "cell_type": "code",
   "execution_count": 19,
   "metadata": {},
   "outputs": [
    {
     "name": "stdout",
     "output_type": "stream",
     "text": [
      "{1: 4, 2: 8, 3: 2, 4: 5}\n",
      "4\n"
     ]
    }
   ],
   "source": [
    "# Naive Nested Approach\n",
    "\n",
    "def round(t):\n",
    "    r = {}\n",
    "    n = len(t)\n",
    "    x = 1\n",
    "    for i in range(n):\n",
    "        if t[i] - 1 not in r.values():\n",
    "            r[x] = t[i]\n",
    "            x += 1\n",
    "        else:\n",
    "            index = [j for j in r if r[j]==t[i]-1]\n",
    "            r[index[0]] = t[i]\n",
    "    print(r)\n",
    "    return len(r)\n",
    "\n",
    "print(round([3,6,1,7,5,2,4,8])) # 4"
   ]
  },
  {
   "cell_type": "code",
   "execution_count": 26,
   "metadata": {},
   "outputs": [
    {
     "name": "stdout",
     "output_type": "stream",
     "text": [
      "{0: 4, 1: 8, 2: 2, 3: 5}\n",
      "4\n"
     ]
    }
   ],
   "source": [
    "# Naive Nested Approach\n",
    "\n",
    "def round(t):\n",
    "    r = {}\n",
    "    n = len(t)\n",
    "    x = 0\n",
    "    for i in range(n):\n",
    "        keys = list(r.keys())\n",
    "        vals = list(r.values())\n",
    "        if t[i] - 1 not in vals:\n",
    "            r[x] = t[i]\n",
    "            x += 1\n",
    "        else:\n",
    "            r[keys[vals.index(t[i]-1)]] = t[i]\n",
    "    print(r)\n",
    "    return len(r)\n",
    "\n",
    "print(round([3,6,1,7,5,2,4,8])) # 4"
   ]
  },
  {
   "cell_type": "markdown",
   "metadata": {},
   "source": [
    "A useful observation is that a new round starts whenever the number to be collected next is to the left of the most recently collected number. In the example list above, the number $3$ starts a new round because it is to the left of the number $2$."
   ]
  },
  {
   "cell_type": "markdown",
   "metadata": {},
   "source": [
    "### Slow solution (list)"
   ]
  },
  {
   "cell_type": "markdown",
   "metadata": {},
   "source": [
    "The following algorithm solves the task using just the input list:"
   ]
  },
  {
   "cell_type": "code",
   "execution_count": 30,
   "metadata": {},
   "outputs": [
    {
     "name": "stdout",
     "output_type": "stream",
     "text": [
      "4\n"
     ]
    }
   ],
   "source": [
    "def count_rounds(numbers):\n",
    "    n = len(numbers)\n",
    "    \n",
    "    rounds = 1\n",
    "    for i in range(1, n):\n",
    "        if numbers.index(i + 1) < numbers.index(i):\n",
    "            rounds += 1\n",
    "            \n",
    "    return rounds\n",
    "\n",
    "print(count_rounds([3,6,1,7,5,2,4,8])) # 4"
   ]
  },
  {
   "cell_type": "markdown",
   "metadata": {},
   "source": [
    "Here the number of `rounds` is computed into the variable rounds, which is initially set to 1. Then the loop goes through the numbers $1…n−1$ and increments `rounds` whenever the number $i+1$ occurs to the left of the number $i$.\n",
    "\n",
    "The implementation uses the method index to locate the occurrence of a number. This makes the algorithm slow, because the method index needs $O(n)$ time and thus the total time complexity of the algorithm is $O(n^2)$."
   ]
  },
  {
   "cell_type": "markdown",
   "metadata": {},
   "source": [
    "### Efficient solution (dictionary)"
   ]
  },
  {
   "cell_type": "markdown",
   "metadata": {},
   "source": [
    "We can implement the same idea efficiently by using a dictionary to locate each number:"
   ]
  },
  {
   "cell_type": "code",
   "execution_count": null,
   "metadata": {},
   "outputs": [],
   "source": [
    "def count_rounds(numbers):\n",
    "    n = len(numbers)\n",
    "    \n",
    "    pos = {}\n",
    "    for i, x in enumerate(numbers):\n",
    "        pos[x] = i\n",
    "        \n",
    "    rounds = 1\n",
    "    for i in range(1, n):\n",
    "        if pos[i + 1] < pos[i]:\n",
    "            rounds += 1\n",
    "\n",
    "    return rounds"
   ]
  },
  {
   "cell_type": "markdown",
   "metadata": {},
   "source": [
    "Now locating a number needs only $O(1)$ time. Since the algorithm has two separate loops, each of which needs $O(n)$ time, the total time complexity of the algorithm is $O(n)$."
   ]
  },
  {
   "cell_type": "markdown",
   "metadata": {},
   "source": [
    "## Example: Play list"
   ]
  },
  {
   "cell_type": "markdown",
   "metadata": {},
   "source": [
    "**Task**\n",
    "\n",
    "You are given a play list, where each song is represented by an integer. Your task to find out how long is the longest part of the play list that contains no song twice.\n",
    "\n",
    "For example, when the play list is $[1,2,1,3,5,4,3,1]$, the desired answer is $5$, which is the length of the play list part $[2,1,3,5,4]$."
   ]
  },
  {
   "cell_type": "markdown",
   "metadata": {},
   "source": [
    "A good approach to this task is to compute, for each position in the play list, how long is the longest non-repeating part ending at that position. The maximum of those lengths is the final answer. With the above example play list, these lengths are:\n",
    "\n",
    "| Song   | 1 | 2 | 1 | 3 | 5 | 4 | 3 | 1 |\n",
    "| ------ | - | - | - | - | - | - | - | - |\n",
    "| Length | 1 | 2 | 2 | 3 | 4 | 5 | 3 | 4 |\n",
    "\n",
    "When we are at a given position in the play list and encounter a song that has occurred earlier, this may reduce the length of the non-repeating part, since any earlier occurrence of the song can not appear on the part. Thus the non-repeating part can start only after the nearest earlier occurrence. Using this principle, we can figure out the earliest possible start for the non-repeating part.\n",
    "\n",
    "The following efficient algorithm implements these ideas:"
   ]
  },
  {
   "cell_type": "code",
   "execution_count": 35,
   "metadata": {},
   "outputs": [
    {
     "name": "stdout",
     "output_type": "stream",
     "text": [
      "{1: 7, 2: 1, 3: 6, 5: 4, 4: 5}\n",
      "5\n"
     ]
    }
   ],
   "source": [
    "def max_length(songs):\n",
    "    \n",
    "    pos = {}\n",
    "    start = 0\n",
    "    length = 0\n",
    "    \n",
    "    for i, song in enumerate(songs):\n",
    "        if song in pos:\n",
    "            start = max(start, pos[song] + 1)\n",
    "        length = max(length, i - start + 1)\n",
    "        pos[song] = i\n",
    "     \n",
    "    print(pos)   \n",
    "    return length\n",
    "\n",
    "print(max_length([1,2,1,3,5,4,3,1])) # 5"
   ]
  },
  {
   "cell_type": "markdown",
   "metadata": {},
   "source": [
    "The dictionary `pos` stores the position of the last occurrence of each song. The variable `start` keeps track of the earliest possible starting position of a non-repeating part ending at the current position, and the variable `length` is the length of the longest non-repeating play list part we have found so far.\n",
    "\n",
    "The algorithm goes through the play list and updates `start` whenever it encounters a song that it has seen before. In such a case, the value of `start` can increase to avoid a repeat of the song.\n",
    "\n",
    "The time complexity of the algorithm is $O(n)$ thanks to the efficient dictionary operations based on hashing."
   ]
  },
  {
   "cell_type": "code",
   "execution_count": 32,
   "metadata": {},
   "outputs": [
    {
     "name": "stdout",
     "output_type": "stream",
     "text": [
      "5\n"
     ]
    }
   ],
   "source": [
    "## Attempt 1 \n",
    "\n",
    "def count(t):\n",
    "   return max(set(t))\n",
    "\n",
    "print(count([1,2,1,3,5,4,3,1])) # 5"
   ]
  },
  {
   "cell_type": "markdown",
   "metadata": {},
   "source": [
    "## Example: List sums"
   ]
  },
  {
   "cell_type": "markdown",
   "metadata": {},
   "source": [
    "**Task**\n",
    "\n",
    "You are given a list containing $n$ integers. Your task is to count, how many sublists of the list have $x$ as the sum of its elements.\n",
    "\n",
    "For example, when the list is $[2,3,5,−3,4,4,6,2]$ and $x=5$, the desired answer is $4$. The sublists with sum $x$ are $[2,3]$, $[5]$, $[3,5,−3]$ and $[−3,4,4]$."
   ]
  },
  {
   "cell_type": "markdown",
   "metadata": {},
   "source": [
    "A useful technique in this kind of a task is to consider the prefix sums of the list, i.e., to compute for each position the sum of the numbers from the beginning of the list to that position. In our example list, the prefix sums are as follows:\n",
    "\n",
    "| Index      | 0 | 1 | 2  | 3  | 4  | 5  | 6  | 7  |\n",
    "| ---------- | - | - | -- | -- | -- | -- | -- | -- |\n",
    "| Number     | 2 | 3 | 5  | –3 | 4  | 4  | 6  | 2  |\n",
    "| Prefix sum | 2 | 5 | 10 | 7  | 11 | 15 | 21 | 23 |\n",
    "\n",
    "For example, the prefix sum at the position $4$ is $11$, because the numbers from the position $0$ to the position 4 sum up to $2+3+5−3+4=11$.\n",
    "\n",
    "Given the prefix sums, any sublist sum can be computed efficiently as a difference of two prefix sums. If a sublist starts at the position $a$ and ends at the position $b$, the sublist sum is obtained by subtracting the prefix sum at the position $a−1$ from the prefix sum at the position $b$.\n",
    "\n",
    "In our example, the sublist that starts at the position $2$ and ends at the position $4$ has the sublist sum $5−3+4=6$. With the prefix sums, we can equivalently compute the sublist sum as the difference $11−5=6$."
   ]
  },
  {
   "cell_type": "code",
   "execution_count": 51,
   "metadata": {},
   "outputs": [
    {
     "name": "stdout",
     "output_type": "stream",
     "text": [
      "{0: 1, 2: 1, 5: 1, 10: 1, 7: 1, 11: 1, 15: 1, 21: 1, 23: 1}\n",
      "4\n"
     ]
    }
   ],
   "source": [
    "def count_sublists(numbers, x):\n",
    "    count = {0: 1}\n",
    "    prefix_sum = 0\n",
    "    result = 0\n",
    "    \n",
    "    for i in range(len(numbers)):\n",
    "        prefix_sum += numbers[i]\n",
    "        if prefix_sum - x in count:\n",
    "            result += count[prefix_sum - x]\n",
    "        \n",
    "        if prefix_sum not in count:\n",
    "            count[prefix_sum] = 0\n",
    "        count[prefix_sum] += 1\n",
    "    \n",
    "    print(count)\n",
    "    return result \n",
    "\n",
    "print(count_sublists([2,3,5,-3,4,4,6,2], 5))"
   ]
  },
  {
   "cell_type": "markdown",
   "metadata": {},
   "source": [
    "Here the dictionary `count` is used for storing how many times each prefix sum has occurred. With the dictionary, we can efficiently find out how many earlier prefix sums match the current prefix sum so that the difference is exactly $x$. The dictionary is initialized with the prefix sum $0$ corresponding to the empty prefix list to account for the sublists starting at the beginning of the list.\n",
    "\n",
    "The time complexity of the resulting algorithm is $O(n)$."
   ]
  },
  {
   "cell_type": "markdown",
   "metadata": {},
   "source": [
    "## How does hashing work?"
   ]
  },
  {
   "cell_type": "markdown",
   "metadata": {},
   "source": [
    "The Python data structures of this chapter, `set` and `dict`, are based on hashing and a data structure called the hash table. In python, a [hash table](4a.%20Hash%20Table.ipynb) is implemented using open hashing.\n",
    "\n",
    "Python has a built-in function `hash` that is used for computing a hash value for an object. Python calls this function to determine the location of the object in a hash table. The function can be tested as follows:"
   ]
  },
  {
   "cell_type": "code",
   "execution_count": null,
   "metadata": {
    "vscode": {
     "languageId": "powershell"
    }
   },
   "outputs": [],
   "source": [
    "> hash(42)\n",
    "42\n",
    "> hash(10**100)\n",
    "910685213754167845\n",
    "> hash(\"apina\")\n",
    "4992529190565255982"
   ]
  },
  {
   "cell_type": "markdown",
   "metadata": {},
   "source": [
    "As the above shows, in Python, the hash value of a small integer is the integer itself. Otherwise, the hash values are random looking numbers.\n",
    "\n",
    "The Python data structures based on hashing are usually efficient, and you can assume that an addition, access or removal takes $O(1)$ time. However, there is a possiblity that hashing is slow if the input chosen in a [specific way](4b.%20Slow%20hashing.ipynb)."
   ]
  },
  {
   "cell_type": "markdown",
   "metadata": {},
   "source": [
    "### Which objects can be hashed?"
   ]
  },
  {
   "cell_type": "markdown",
   "metadata": {},
   "source": [
    "The following code does not work in Python:"
   ]
  },
  {
   "cell_type": "code",
   "execution_count": null,
   "metadata": {
    "vscode": {
     "languageId": "powershell"
    }
   },
   "outputs": [],
   "source": [
    "lists = set()\n",
    "lists.add([1, 2, 3]) # TypeError: unhashable type: 'list'"
   ]
  },
  {
   "cell_type": "markdown",
   "metadata": {},
   "source": [
    "The problem is that it is not possible to compute a hash value for a list:"
   ]
  },
  {
   "cell_type": "code",
   "execution_count": null,
   "metadata": {},
   "outputs": [],
   "source": [
    "print(hash([1, 2, 3])) # TypeError: unhashable type: 'list'"
   ]
  },
  {
   "cell_type": "markdown",
   "metadata": {},
   "source": [
    "A basic principle in Python is that a hash value can be computed only for an _immutable_ object. A list is not immutable, because we can change the list with operations like `append`, and thus hashing a list is not possible.\n",
    "\n",
    "Immutable objects in Python include numbers, strings and tuples consisting of immutable objects. For example, the following code works, because a tuple of numbers is immutable:"
   ]
  },
  {
   "cell_type": "code",
   "execution_count": null,
   "metadata": {},
   "outputs": [],
   "source": [
    "lists = set()\n",
    "lists.add((1, 2, 3))"
   ]
  },
  {
   "cell_type": "markdown",
   "metadata": {},
   "source": [
    "Notice that in a dictionary the hash value is computed only for the key and the associated value does not need to be hashable. An example of this is the following code with a string as a key and a list as a value:"
   ]
  },
  {
   "cell_type": "code",
   "execution_count": null,
   "metadata": {},
   "outputs": [],
   "source": [
    "lists = {}\n",
    "lists[\"apina\"] = [1, 2, 3]"
   ]
  },
  {
   "cell_type": "markdown",
   "metadata": {},
   "source": [
    "### Hashing for your own class"
   ]
  },
  {
   "cell_type": "markdown",
   "metadata": {},
   "source": [
    "If you define your own class, you can apply hashing to it by defining the following methods:\n",
    "\n",
    "-   `__hash__`: returns the hash value of the object (the function `hash` calls this method)\n",
    "-   `__eq__`: compares if two objects have identical content (the operator `==` calls this method)\n",
    "\n",
    "The following shows an example of defining these methods. Here the method `__hash__` returns the hash value of a tuple representing the contents of the object."
   ]
  },
  {
   "cell_type": "code",
   "execution_count": null,
   "metadata": {},
   "outputs": [],
   "source": [
    "class Location:\n",
    "    def __init__(self, x, y):\n",
    "        self.x = x\n",
    "        self.y = y\n",
    "\n",
    "    def __hash__(self):\n",
    "        return hash((self.x, self.y))\n",
    "\n",
    "    def __eq__(self, other):\n",
    "        return (self.x, self.y) == (other.x, other.y)"
   ]
  },
  {
   "cell_type": "markdown",
   "metadata": {},
   "source": [
    "With these definitions, the following code works as expected:"
   ]
  },
  {
   "cell_type": "code",
   "execution_count": null,
   "metadata": {},
   "outputs": [],
   "source": [
    "locations = set()\n",
    "locations.add(Location(1, 2))\n",
    "locations.add(Location(3, -5))\n",
    "locations.add(Location(1, 4))"
   ]
  },
  {
   "cell_type": "markdown",
   "metadata": {},
   "source": [
    "## Hashing in other programming languages"
   ]
  },
  {
   "cell_type": "markdown",
   "metadata": {},
   "source": [
    "Data structures based on hashing are available in many programming languages. Often the data structure corresponding to a Python dictionary is called a _map_.\n",
    "\n",
    "In C++, the data structures `std::unordered_set` and `std::unordered_map` implement a set and a map using hashing.\n",
    "\n",
    "```c++\n",
    "std::unordered_set<int> numbers;\n",
    "\n",
    "numbers.add(1);\n",
    "numbers.add(2);\n",
    "numbers.add(3);\n",
    "```\n",
    "\n",
    "```c++\n",
    "std::unordered_map<std::string, int> weights;\n",
    "\n",
    "weights[\"apina\"] = 100;\n",
    "weights[\"banaani\"] = 1;\n",
    "weights[\"cembalo\"] = 500;\n",
    "```"
   ]
  },
  {
   "cell_type": "markdown",
   "metadata": {},
   "source": [
    "In Java, the corresponding data structures are `HashSet` and `HashMap`:\n",
    "\n",
    "```java\n",
    "HashSet<Integer> numbers = new HashSet<Integer>();\n",
    "\n",
    "numbers.add(1);\n",
    "numbers.add(2);\n",
    "numbers.add(3);\n",
    "```\n",
    "```java\n",
    "HashMap<String, Integer> weights = new HashMap<String, Integer>();\n",
    "\n",
    "weights.put(\"apina\", 100);\n",
    "weights.put(\"banaani\", 1);\n",
    "weights.put(\"cembalo\", 500);\n",
    "```"
   ]
  },
  {
   "cell_type": "markdown",
   "metadata": {},
   "source": [
    "And in JavaScript, the data structure `Set` implements a set:\n",
    "\n",
    "```javascript\n",
    "let numbers = new Set();\n",
    "\n",
    "numbers.add(1);\n",
    "numbers.add(2);\n",
    "numbers.add(3);\n",
    "```\n",
    "\n",
    "The traditional way to create a map in JavaScript is to define an object:\n",
    "\n",
    "```javascript\n",
    "let weights = {};\n",
    "\n",
    "weights[\"apina\"] = 100;\n",
    "weights[\"banaani\"] = 1;\n",
    "weights[\"cembalo\"] = 500;\n",
    "```\n",
    "\n",
    "A newer way is to use a separate data structure `Map`:\n",
    "\n",
    "```javascript\n",
    "let weights = new Map();\n",
    "\n",
    "weights.set(\"apina\", 100);\n",
    "weights.set(\"banaani\", 1);\n",
    "weights.set(\"cembalo\", 500);\n",
    "```"
   ]
  }
 ],
 "metadata": {
  "kernelspec": {
   "display_name": "Python 3",
   "language": "python",
   "name": "python3"
  },
  "language_info": {
   "codemirror_mode": {
    "name": "ipython",
    "version": 3
   },
   "file_extension": ".py",
   "mimetype": "text/x-python",
   "name": "python",
   "nbconvert_exporter": "python",
   "pygments_lexer": "ipython3",
   "version": "3.12.3"
  }
 },
 "nbformat": 4,
 "nbformat_minor": 2
}
